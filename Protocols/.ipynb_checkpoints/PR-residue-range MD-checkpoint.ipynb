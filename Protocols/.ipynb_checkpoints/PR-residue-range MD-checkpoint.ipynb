{
 "cells": [
  {
   "cell_type": "markdown",
   "metadata": {},
   "source": [
    "**FIRTS**: Generate position restrain files.\n",
    "\n",
    "Decide what residues to restrain"
   ]
  },
  {
   "cell_type": "markdown",
   "metadata": {},
   "source": [
    "From RMSF data per residue, restrain residues 20 to 32. These residues show the largest fluctuations."
   ]
  },
  {
   "cell_type": "markdown",
   "metadata": {},
   "source": [
    "Identify ranges of protein backbone atomic numbers to restrain.\n",
    "\n",
    "```\n",
    "cWza: 314 to 537\n",
    "cWza-K375C: 314 to 526\n",
    "cWza-S355C: 314 to 537\n",
    "cWza-Y373C: 314 to 527 \n",
    "\n",
    "```\n",
    "\n",
    "Note that atom numbers change as mutant residues vary in number of atoms."
   ]
  },
  {
   "cell_type": "markdown",
   "metadata": {},
   "source": [
    "Manual preparation fo restrain files:\n",
    "\n",
    "* Copy backbone restrain files to generate tempate posres file\n",
    "* Remove lines outside range (not corresponding to backbone atoms of residues to restrain)"
   ]
  },
  {
   "cell_type": "markdown",
   "metadata": {},
   "source": [
    "Output files: e.g., `cWza_posre_Protein_res20-32_chain_X.itp`. The same file be used as a template for the remaining `posres` files per chain, per conformation, per group."
   ]
  },
  {
   "cell_type": "markdown",
   "metadata": {},
   "source": [
    "**SECOND**: Modify chain topology files (e.g., `topol_Protein_chain_A.itp`) to include restrains for residue range.\n",
    "\n",
    "This is done by adding the following lines at the bottom of the file content:\n",
    "\n",
    "```bash\n",
    "; Position restraint BB only\n",
    "#ifdef POSRES_RES\n",
    "#include cWza_posre_Protein_res20-32_chain_A.itp\"\n",
    "#endif\n",
    "```\n",
    "\n",
    "\n"
   ]
  },
  {
   "cell_type": "markdown",
   "metadata": {},
   "source": [
    "**THIRD**: Modify `.mdp` files for URMD adding line defining restrains.\n",
    "\n",
    "```\n",
    "define              =  -DPOSRES_RES\n",
    "```"
   ]
  },
  {
   "cell_type": "markdown",
   "metadata": {},
   "source": [
    "Make script for automated 1) `posres` file generation, 2) modification of chain topology files, and generate `.tpr` files with modified `.mdp` file with defined residue-range restrains."
   ]
  },
  {
   "cell_type": "markdown",
   "metadata": {},
   "source": [
    "```bash\n",
    "#!/bin/bash\n",
    "\n",
    "#path='.'\n",
    "path=$1\n",
    "######################################################################\n",
    "for X in A B C D E F G H; do\n",
    "# Modify chain topology files\n",
    "head -n -5 ${path}/topol_Protein_chain_${X}.itp > ${path}/topol_Protein_chain_${X}.temp.itp;\n",
    "\n",
    "printf -- \"\n",
    "; Position restraint BB only\n",
    "#ifdef POSRES_BB\n",
    "#include \\\"posre_Protein_BB_chain_%s.itp\\\"\n",
    "#endif\\n\" $X >> ${path}/topol_Protein_chain_${X}.temp.itp;\n",
    "\n",
    "mv ${path}/topol_Protein_chain_${X}.itp  ${path}/topol_Protein_chain_${X}.itp.bak;\n",
    "mv ${path}/topol_Protein_chain_${X}.temp.itp  ${path}/topol_Protein_chain_${X}.itp;\n",
    "done\n",
    "```"
   ]
  },
  {
   "cell_type": "markdown",
   "metadata": {},
   "source": [
    "**Last residue constraint**"
   ]
  },
  {
   "cell_type": "markdown",
   "metadata": {},
   "source": [
    "*cWza*: 523 to 537\n",
    "\n",
    "*cWza-K375C*: 512 to 526\n",
    "\n",
    "*cWza-S355C*: 523 to 537\n",
    "\n",
    "*cWza-Y373C*: 513 to 527"
   ]
  },
  {
   "cell_type": "code",
   "execution_count": 57,
   "metadata": {
    "ExecuteTime": {
     "end_time": "2019-02-25T10:41:43.312839Z",
     "start_time": "2019-02-25T10:41:43.309340Z"
    },
    "collapsed": false
   },
   "outputs": [],
   "source": [
    "import string\n",
    "import subprocess"
   ]
  },
  {
   "cell_type": "code",
   "execution_count": 58,
   "metadata": {
    "ExecuteTime": {
     "end_time": "2019-02-25T10:41:43.787484Z",
     "start_time": "2019-02-25T10:41:43.785644Z"
    },
    "collapsed": true
   },
   "outputs": [],
   "source": [
    "workdir= \"/projects/s21/ba13026/Wza_Modeling/L-structures/rosetta/bg_test/md_relax/\""
   ]
  },
  {
   "cell_type": "code",
   "execution_count": 59,
   "metadata": {
    "ExecuteTime": {
     "end_time": "2019-02-25T10:41:44.259562Z",
     "start_time": "2019-02-25T10:41:44.257771Z"
    },
    "collapsed": true
   },
   "outputs": [],
   "source": [
    "model_path = \"cWza/conformation0/refined1_0001_INPUT_0736_ignorechain\""
   ]
  },
  {
   "cell_type": "code",
   "execution_count": 61,
   "metadata": {
    "ExecuteTime": {
     "end_time": "2019-02-25T10:41:50.749428Z",
     "start_time": "2019-02-25T10:41:50.564873Z"
    },
    "collapsed": false
   },
   "outputs": [],
   "source": [
    "mutant = model_path.split('/')[0]\n",
    "\n",
    "N_chains = 8\n",
    "Chains = string.ascii_uppercase[:N_chains]\n",
    "for X in Chains:\n",
    "    # Copy custom restrain files according to mutant identity\n",
    "    cmd1 = [\n",
    "            'cp',\n",
    "            workdir+'posres_files/'+mutant+'_posre_Protein_res32_chain_X.itp',\n",
    "            workdir+model_path+'/complex/'+mutant+'_posre_Protein_res32_chain_'+X+'.itp'\n",
    "            ]\n",
    "    proc1 = subprocess.Popen(cmd1)\n",
    "    proc1.wait()\n",
    "    \n",
    "    # Backup original chain topology files\n",
    "    cmd2 = [\n",
    "            'cp',\n",
    "            workdir+model_path+'/complex/'+'topol_Protein_chain_'+X+'.itp',\n",
    "            workdir+model_path+'/complex/'+'topol_Protein_chain_'+X+'.itp.bk'\n",
    "            ]\n",
    "    proc2 = subprocess.Popen(cmd2)\n",
    "    proc2.wait()\n",
    "    \n",
    "    # Modify chain topology files to include reference to posres file\n",
    "    posres_lines = (\n",
    "        \"; Position restraint Residue 32 only\"+\"\\n\"\n",
    "        \"#ifdef POSRES_R32\"+\"\\n\"\n",
    "        '#include '+'\"'+mutant+'_posre_Protein_res32_chain_'+X+'.itp'+'\"'+\"\\n\"\n",
    "        \"#endif\"+\"\\n\"\n",
    "        )\n",
    "    \n",
    "    top_file = workdir+model_path+'/complex/'+'topol_Protein_chain_'+X+'.itp'\n",
    "    with open(top_file,'a') as fp:\n",
    "        fp.write(posres_lines)\n",
    "    fp.close()"
   ]
  },
  {
   "cell_type": "code",
   "execution_count": 3,
   "metadata": {
    "ExecuteTime": {
     "end_time": "2019-03-01T14:11:29.994068Z",
     "start_time": "2019-03-01T14:11:29.991138Z"
    },
    "collapsed": true
   },
   "outputs": [],
   "source": [
    "workdir= \"/projects/s21/ba13026/Wza_Modeling/L-structures/rosetta/bg_test/md_relax/\""
   ]
  },
  {
   "cell_type": "code",
   "execution_count": 4,
   "metadata": {
    "ExecuteTime": {
     "end_time": "2019-03-01T14:11:31.702225Z",
     "start_time": "2019-03-01T14:11:31.678771Z"
    },
    "collapsed": false
   },
   "outputs": [],
   "source": [
    "import string\n",
    "import subprocess\n",
    "\n",
    "def generate_posres(model_path):\n",
    "    N_chains = 8\n",
    "    mutant = model_path.split('/')[0]\n",
    "    Chains = string.ascii_uppercase[:N_chains]\n",
    "    for X in Chains:\n",
    "        # Copy custom restrain files according to mutant identity\n",
    "        cmd1 = [\n",
    "                'cp',\n",
    "                workdir+'posres_files/'+mutant+'_posre_Protein_res20-32_chain_X.itp',\n",
    "                workdir+model_path+'/complex/'+mutant+'_posre_Protein_res20-32_chain_'+X+'.itp'\n",
    "                ]\n",
    "        proc1 = subprocess.Popen(cmd1)\n",
    "        proc1.wait()\n",
    "\n",
    "        # Backup original chain topology files\n",
    "        cmd2 = [\n",
    "                'cp',\n",
    "                workdir+model_path+'/complex/'+'topol_Protein_chain_'+X+'.itp',\n",
    "                workdir+model_path+'/complex/'+'topol_Protein_chain_'+X+'.itp.bk'\n",
    "                ]\n",
    "        proc2 = subprocess.Popen(cmd2)\n",
    "        proc2.wait()\n",
    "\n",
    "        # Modify chain topology files to include reference to posres file\n",
    "        posres_lines = (\n",
    "            \"; Position restraint Residue Range from 20 to 32 only\"+\"\\n\"\n",
    "            \"#ifdef POSRES_RR\"+\"\\n\"\n",
    "            '#include '+'\"'+mutant+'_posre_Protein_res20-32_chain_'+X+'.itp'+'\"'+\"\\n\"\n",
    "            \"#endif\"+\"\\n\"\n",
    "            )\n",
    "        \n",
    "        top_file = workdir+model_path+'/complex/'+'topol_Protein_chain_'+X+'.itp'\n",
    "        with open(top_file,'a') as fp:\n",
    "            fp.write(posres_lines)\n",
    "        fp.close()"
   ]
  },
  {
   "cell_type": "code",
   "execution_count": 5,
   "metadata": {
    "ExecuteTime": {
     "end_time": "2019-03-01T14:11:35.424691Z",
     "start_time": "2019-03-01T14:11:35.152385Z"
    },
    "collapsed": false
   },
   "outputs": [],
   "source": [
    "generate_posres('cWza/conformation0/refined1_0001_INPUT_0736_ignorechain')\n",
    "\n",
    "generate_posres('cWza-S355C/conformation0/refined1_0001_INPUT_0140_ignorechain')\n",
    "\n",
    "generate_posres('cWza-Y373C/conformation1/refined1_0001_INPUT_0320_ignorechain')"
   ]
  },
  {
   "cell_type": "raw",
   "metadata": {
    "ExecuteTime": {
     "end_time": "2019-03-01T15:04:18.809783Z",
     "start_time": "2019-03-01T15:04:18.783020Z"
    },
    "collapsed": true
   },
   "source": [
    "cWza/conformation0/refined1_0001_INPUT_0736_ignorechain\n",
    "cWza-S355C/conformation0/refined1_0001_INPUT_0140_ignorechain\n",
    "cWza-Y373C/conformation1/refined1_0001_INPUT_0320_ignorechain"
   ]
  },
  {
   "cell_type": "markdown",
   "metadata": {},
   "source": [
    "PRMD for residues 20-32\n",
    "```\n",
    "for model_dir in cWza/conformation0/refined1_0001_INPUT_0736_ignorechain cWza-S355C/conformation0/refined1_0001_INPUT_0140_ignorechain cWza-Y373C/conformation1/refined1_0001_INPUT_0320_ignorechain ; do\n",
    "gmx_mpi grompp -f /home/ba13026/mpmodeling/protocols/gmx_protocols/templates/prmd_res20-32_10ns.mdp -c ${model_dir}/complex/mdf/prmd.gro -p ${model_dir}/complex/topol.top -o ${model_dir}/complex/mdf/prmd_res20-32_10ns.tpr -maxwarn 3 ; done\n",
    "```"
   ]
  },
  {
   "cell_type": "markdown",
   "metadata": {},
   "source": [
    "PRMD for residues 20-32\n",
    "```\n",
    "for model_dir in cWza/conformation0/refined1_0001_INPUT_0736_ignorechain cWza-S355C/conformation0/refined1_0001_INPUT_0140_ignorechain cWza-Y373C/conformation1/refined1_0001_INPUT_0320_ignorechain ; do\n",
    "cp /home/ba13026/mpmodeling/protocols/gmx_protocols/templates/prmd_res20-32_10ns.bg.slurm  ${model_dir}/complex/jobf/ ; done\n",
    "```"
   ]
  },
  {
   "cell_type": "markdown",
   "metadata": {},
   "source": [
    "```\n",
    "for model_dir in cWza/conformation0/refined1_0001_INPUT_0736_ignorechain cWza-S355C/conformation0/refined1_0001_INPUT_0140_ignorechain cWza-Y373C/conformation1/refined1_0001_INPUT_0320_ignorechain ; do cd  ${model_dir} ; sbatch complex/jobf/prmd_res20-32_10ns.bg.slurm; cd - ; done\n",
    "```"
   ]
  },
  {
   "cell_type": "markdown",
   "metadata": {},
   "source": [
    "`echo Backbone | gmx_mpi rmsdist -f prmd_res32_10ns.xtc -s prmd_res32_10ns.tpr -o prmd_res32_10ns_rmsd_Backbone.xvg`"
   ]
  },
  {
   "cell_type": "markdown",
   "metadata": {},
   "source": [
    "**Generate PR for last residue**"
   ]
  },
  {
   "cell_type": "code",
   "execution_count": 9,
   "metadata": {
    "ExecuteTime": {
     "end_time": "2019-03-02T11:47:09.487514Z",
     "start_time": "2019-03-02T11:47:09.485412Z"
    },
    "collapsed": true
   },
   "outputs": [],
   "source": [
    "workdir= \"/projects/s21/ba13026/Wza_Modeling/L-structures/rosetta/bg_test/md_relax/\"\n",
    "\n",
    "import string\n",
    "import subprocess\n",
    "\n",
    "def generate_posres32(model_path):\n",
    "    N_chains = 8\n",
    "    mutant = model_path.split('/')[0]\n",
    "    Chains = string.ascii_uppercase[:N_chains]\n",
    "    for X in Chains:\n",
    "        # Copy custom restrain files according to mutant identity\n",
    "        cmd1 = [\n",
    "                'cp',\n",
    "                workdir+'posres_files/'+mutant+'_posre_Protein_res32_chain_X.itp',\n",
    "                workdir+model_path+'/complex/'+mutant+'_posre_Protein_res32_chain_'+X+'.itp'\n",
    "                ]\n",
    "        proc1 = subprocess.Popen(cmd1)\n",
    "        proc1.wait()\n",
    "\n",
    "        # Backup original chain topology files\n",
    "        cmd2 = [\n",
    "                'cp',\n",
    "                workdir+model_path+'/complex/'+'topol_Protein_chain_'+X+'.itp',\n",
    "                workdir+model_path+'/complex/'+'topol_Protein_chain_'+X+'.itp.bk'\n",
    "                ]\n",
    "        proc2 = subprocess.Popen(cmd2)\n",
    "        proc2.wait()\n",
    "\n",
    "        # Modify chain topology files to include reference to posres file\n",
    "        posres_lines = (\n",
    "            \"; Position restraint Residue 32 only\"+\"\\n\"\n",
    "            \"#ifdef POSRES_R32\"+\"\\n\"\n",
    "            '#include '+'\"'+mutant+'_posre_Protein_res32_chain_'+X+'.itp'+'\"'+\"\\n\"\n",
    "            \"#endif\"+\"\\n\"\n",
    "            )\n",
    "        \n",
    "        top_file = workdir+model_path+'/complex/'+'topol_Protein_chain_'+X+'.itp'\n",
    "        with open(top_file,'a') as fp:\n",
    "            fp.write(posres_lines)\n",
    "        fp.close()"
   ]
  },
  {
   "cell_type": "code",
   "execution_count": 11,
   "metadata": {
    "ExecuteTime": {
     "end_time": "2019-03-02T11:47:12.252449Z",
     "start_time": "2019-03-02T11:47:11.676789Z"
    },
    "collapsed": false
   },
   "outputs": [],
   "source": [
    "generate_posres32('cWza/conformation0/refined1_0001_INPUT_0736_ignorechain')\n",
    "generate_posres32('cWza-S355C/conformation0/refined1_0001_INPUT_0140_ignorechain')\n",
    "generate_posres32('cWza-Y373C/conformation1/refined1_0001_INPUT_0320_ignorechain')"
   ]
  },
  {
   "cell_type": "markdown",
   "metadata": {},
   "source": [
    "PRMD for residue 32\n",
    "```\n",
    "for model_dir in cWza/conformation0/refined1_0001_INPUT_0736_ignorechain cWza-S355C/conformation0/refined1_0001_INPUT_0140_ignorechain cWza-Y373C/conformation1/refined1_0001_INPUT_0320_ignorechain ; do\n",
    "gmx_mpi grompp -f /home/ba13026/mpmodeling/protocols/gmx_protocols/templates/prmd_res32_10ns.mdp -c ${model_dir}/complex/mdf/prmd.gro -p ${model_dir}/complex/topol.top -o ${model_dir}/complex/mdf/prmd_res20-32_10ns.tpr -maxwarn 3 ; done\n",
    "```"
   ]
  },
  {
   "cell_type": "markdown",
   "metadata": {},
   "source": [
    "```bash\n",
    "for model_dir in cWza/conformation0/refined1_0001_INPUT_0736_ignorechain cWza-S355C/conformation0/refined1_0001_INPUT_0140_ignorechain cWza-Y373C/conformation1/refined1_0001_INPUT_0320_ignorechain ; do cp /home/ba13026/mpmodeling/protocols/gmx_protocols/templates/prmd_res32_10ns.bg.slurm  ${model_dir}/complex/jobf/ ; done\n",
    "```"
   ]
  },
  {
   "cell_type": "markdown",
   "metadata": {},
   "source": [
    "```bash\n",
    "for model_dir in cWza/conformation0/refined1_0001_INPUT_0736_ignorechain cWza-S355C/conformation0/refined1_0001_INPUT_0140_ignorechain cWza-Y373C/conformation1/refined1_0001_INPUT_0320_ignorechain ; do cd  ${model_dir} ; sbatch complex/jobf/prmd_res32_10ns.bg.slurm; cd - ; done\n",
    "```"
   ]
  },
  {
   "cell_type": "markdown",
   "metadata": {},
   "source": [
    "# Add missing residues in parallel"
   ]
  },
  {
   "cell_type": "markdown",
   "metadata": {},
   "source": [
    "Master script"
   ]
  },
  {
   "cell_type": "markdown",
   "metadata": {},
   "source": [
    "`/projects/s21/ba13026/Wza_Modeling/L-structures/rosetta/bg_test`"
   ]
  },
  {
   "cell_type": "code",
   "execution_count": null,
   "metadata": {
    "collapsed": true
   },
   "outputs": [],
   "source": [
    "import sys\n",
    "import os\n",
    "import glob\n",
    "import json\n",
    "import subprocess\n",
    "import concurrent.futures\n",
    "\n",
    "\n"
   ]
  },
  {
   "cell_type": "markdown",
   "metadata": {},
   "source": [
    "Minimal information:\n",
    "1. Simulation name\n",
    "2. \n"
   ]
  },
  {
   "cell_type": "markdown",
   "metadata": {},
   "source": [
    "Position restrain all positively charged residues and last residue (THR, negatively charged?)\n",
    "\n",
    "* cWza: R-28 (437-460) and K-31 (501-522)\n",
    "* cWza-K375C: R-28 (437-460)\n",
    "* cWza-S355C: R-28 (437-460) and K-31 (501-522)\n",
    "* cWza-Y373C: R-28 (437-460) and K-31 (491-512)"
   ]
  },
  {
   "cell_type": "code",
   "execution_count": 12,
   "metadata": {
    "ExecuteTime": {
     "end_time": "2019-03-02T18:25:02.156919Z",
     "start_time": "2019-03-02T18:25:02.131213Z"
    },
    "collapsed": true
   },
   "outputs": [],
   "source": [
    "workdir= \"/projects/s21/ba13026/Wza_Modeling/L-structures/rosetta/bg_test/md_relax/\"\n",
    "\n",
    "import string\n",
    "import subprocess\n",
    "\n",
    "def generate_posres_charged(model_path):\n",
    "    N_chains = 8\n",
    "    mutant = model_path.split('/')[0]\n",
    "    Chains = string.ascii_uppercase[:N_chains]\n",
    "    for X in Chains:\n",
    "        # Copy custom restrain files according to mutant identity\n",
    "        cmd1 = [\n",
    "                'cp',\n",
    "                workdir+'posres_files/'+mutant+'_posre_Protein_C-ter_charged_chain_X.itp',\n",
    "                workdir+model_path+'/complex/'+mutant+'_posre_Protein_C-ter_charged_chain_'+X+'.itp'\n",
    "                ]\n",
    "        proc1 = subprocess.Popen(cmd1)\n",
    "        proc1.wait()\n",
    "\n",
    "        # Backup original chain topology files\n",
    "        cmd2 = [\n",
    "                'cp',\n",
    "                workdir+model_path+'/complex/'+'topol_Protein_chain_'+X+'.itp',\n",
    "                workdir+model_path+'/complex/'+'topol_Protein_chain_'+X+'.itp.bk'\n",
    "                ]\n",
    "        proc2 = subprocess.Popen(cmd2)\n",
    "        proc2.wait()\n",
    "\n",
    "        # Modify chain topology files to include reference to posres file\n",
    "        posres_lines = (\n",
    "            \"; Position restraint Charged residues near C term only\"+\"\\n\"\n",
    "            \"#ifdef POSRES_CH\"+\"\\n\"\n",
    "            '#include '+'\"'+mutant+'_posre_Protein_C-ter_charged_chain_'+X+'.itp'+'\"'+\"\\n\"\n",
    "            \"#endif\"+\"\\n\"\n",
    "            )\n",
    "        \n",
    "        top_file = workdir+model_path+'/complex/'+'topol_Protein_chain_'+X+'.itp'\n",
    "        with open(top_file,'a') as fp:\n",
    "            fp.write(posres_lines)\n",
    "        fp.close()"
   ]
  },
  {
   "cell_type": "code",
   "execution_count": 13,
   "metadata": {
    "ExecuteTime": {
     "end_time": "2019-03-02T18:29:06.187624Z",
     "start_time": "2019-03-02T18:29:05.368141Z"
    },
    "collapsed": false
   },
   "outputs": [],
   "source": [
    "generate_posres_charged('cWza/conformation0/refined1_0001_INPUT_0736_ignorechain')\n",
    "generate_posres_charged('cWza-S355C/conformation0/refined1_0001_INPUT_0140_ignorechain')\n",
    "generate_posres_charged('cWza-K375C/conformation0/refined1_0001_INPUT_0023_ignorechain')\n",
    "generate_posres_charged('cWza-Y373C/conformation1/refined1_0001_INPUT_0320_ignorechain')"
   ]
  },
  {
   "cell_type": "markdown",
   "metadata": {},
   "source": [
    "PRMD for charged residues\n",
    "```bash\n",
    "for model_dir in cWza/conformation0/refined1_0001_INPUT_0736_ignorechain cWza-S355C/conformation0/refined1_0001_INPUT_0140_ignorechain cWza-K375C/conformation0/refined1_0001_INPUT_0023_ignorechain cWza-Y373C/conformation1/refined1_0001_INPUT_0320_ignorechain ; do\n",
    "gmx_mpi grompp -f /home/ba13026/mpmodeling/protocols/gmx_protocols/templates/prmd_N-ter_C-ter_charged_10ns.mdp -c ${model_dir}/complex/mdf/prmd.gro -p ${model_dir}/complex/topol.top -o ${model_dir}/complex/mdf/prmd_N-ter_C-ter_charged_10ns.tpr -maxwarn 3 ; done\n",
    "```"
   ]
  },
  {
   "cell_type": "markdown",
   "metadata": {},
   "source": [
    "```bash\n",
    "for model_dir in cWza/conformation0/refined1_0001_INPUT_0736_ignorechain cWza-S355C/conformation0/refined1_0001_INPUT_0140_ignorechain cWza-K375C/conformation0/refined1_0001_INPUT_0023_ignorechain cWza-Y373C/conformation1/refined1_0001_INPUT_0320_ignorechain ; do cp /home/ba13026/mpmodeling/protocols/gmx_protocols/templates/prmd_N-ter_C-ter_charged_10ns.bg.slurm ${model_dir}/complex/jobf/ ; done\n",
    "```"
   ]
  },
  {
   "cell_type": "markdown",
   "metadata": {},
   "source": [
    "```bash\n",
    "for model_dir in cWza/conformation0/refined1_0001_INPUT_0736_ignorechain cWza-S355C/conformation0/refined1_0001_INPUT_0140_ignorechain cWza-K375C/conformation0/refined1_0001_INPUT_0023_ignorechain cWza-Y373C/conformation1/refined1_0001_INPUT_0320_ignorechain ; do cd  ${model_dir} ; sbatch complex/jobf/prmd_N-ter_C-ter_charged_10ns ;  cd - ; done\n",
    "```"
   ]
  },
  {
   "cell_type": "markdown",
   "metadata": {},
   "source": [
    "```\n",
    "for model_dir in cWza/conformation0/refined1_0001_INPUT_0736_ignorechain cWza-S355C/conformation0/refined1_0001_INPUT_0140_ignorechain cWza-K375C/conformation0/refined1_0001_INPUT_0023_ignorechain cWza-Y373C/conformation1/refined1_0001_INPUT_0320_ignorechain ; do python ~/mpmodeling/tools/rmsf_from_traj.py prmd_C-ter_charged_10ns Backbone $model_dir ; done```"
   ]
  },
  {
   "cell_type": "markdown",
   "metadata": {},
   "source": [
    "**Position restrain of Positively charged residues, N-ter and C-term**\n",
    "\n",
    "N-term side:\n",
    "\n",
    "R-5 : atoms 62-85\n",
    "\n",
    "R-8 :  atoms 124-147"
   ]
  },
  {
   "cell_type": "code",
   "execution_count": 14,
   "metadata": {
    "ExecuteTime": {
     "end_time": "2019-03-04T09:54:15.654959Z",
     "start_time": "2019-03-04T09:54:15.629685Z"
    },
    "collapsed": true
   },
   "outputs": [],
   "source": [
    "workdir= \"/projects/s21/ba13026/Wza_Modeling/L-structures/rosetta/bg_test/md_relax/\"\n",
    "\n",
    "import string\n",
    "import subprocess\n",
    "\n",
    "def generate_posres_NC_term_charged(model_path):\n",
    "    N_chains = 8\n",
    "    mutant = model_path.split('/')[0]\n",
    "    Chains = string.ascii_uppercase[:N_chains]\n",
    "    for X in Chains:\n",
    "        # Copy custom restrain files according to mutant identity\n",
    "        cmd1 = [\n",
    "                'cp',\n",
    "                workdir+'posres_files/'+mutant+'_posre_Protein_N-ter_C-ter_charged_chain_X.itp',\n",
    "                workdir+model_path+'/complex/'+mutant+'_posre_Protein_N-ter_C-ter_charged_chain_'+X+'.itp'\n",
    "                ]\n",
    "        proc1 = subprocess.Popen(cmd1)\n",
    "        proc1.wait()\n",
    "\n",
    "        # Backup original chain topology files\n",
    "        cmd2 = [\n",
    "                'cp',\n",
    "                workdir+model_path+'/complex/'+'topol_Protein_chain_'+X+'.itp',\n",
    "                workdir+model_path+'/complex/'+'topol_Protein_chain_'+X+'.itp.bk'\n",
    "                ]\n",
    "        proc2 = subprocess.Popen(cmd2)\n",
    "        proc2.wait()\n",
    "\n",
    "        # Modify chain topology files to include reference to posres file\n",
    "        posres_lines = (\n",
    "            \"; Position restraint Charged residues near N and C term only\"+\"\\n\"\n",
    "            \"#ifdef POSRES_CHARGED\"+\"\\n\"\n",
    "            '#include '+'\"'+mutant+'_posre_Protein_N-ter_C-ter_charged_chain_'+X+'.itp'+'\"'+\"\\n\"\n",
    "            \"#endif\"+\"\\n\"\n",
    "            )\n",
    "        \n",
    "        top_file = workdir+model_path+'/complex/'+'topol_Protein_chain_'+X+'.itp'\n",
    "        with open(top_file,'a') as fp:\n",
    "            fp.write(posres_lines)\n",
    "        fp.close()\n",
    "\n",
    "generate_posres_NC_term_charged('cWza/conformation0/refined1_0001_INPUT_0736_ignorechain')\n",
    "generate_posres_NC_term_charged('cWza-S355C/conformation0/refined1_0001_INPUT_0140_ignorechain')\n",
    "generate_posres_NC_term_charged('cWza-K375C/conformation0/refined1_0001_INPUT_0023_ignorechain')\n",
    "generate_posres_NC_term_charged('cWza-Y373C/conformation1/refined1_0001_INPUT_0320_ignorechain')"
   ]
  },
  {
   "cell_type": "code",
   "execution_count": 16,
   "metadata": {
    "ExecuteTime": {
     "end_time": "2019-03-04T14:05:49.842539Z",
     "start_time": "2019-03-04T14:05:49.839287Z"
    },
    "collapsed": true
   },
   "outputs": [],
   "source": [
    "wd = '/projects/s21/ba13026/Wza_Modeling/L-structures/rosetta/bg_test/md_relax/cWza/conformation0/refined1_0001_INPUT_0736_ignorechain/complex/mdf/prmd_N-ter_C-ter_charged_10ns'"
   ]
  },
  {
   "cell_type": "code",
   "execution_count": 18,
   "metadata": {
    "ExecuteTime": {
     "end_time": "2019-03-04T14:06:07.920914Z",
     "start_time": "2019-03-04T14:06:00.004663Z"
    },
    "collapsed": false
   },
   "outputs": [],
   "source": [
    "import isambard_dev"
   ]
  },
  {
   "cell_type": "code",
   "execution_count": 19,
   "metadata": {
    "ExecuteTime": {
     "end_time": "2019-03-04T14:08:39.615661Z",
     "start_time": "2019-03-04T14:08:39.562204Z"
    },
    "collapsed": true
   },
   "outputs": [],
   "source": [
    "p = isambard_dev.ampal.convert_pdb_to_ampal(wd+'/'+'Protein_6.pdb')"
   ]
  },
  {
   "cell_type": "code",
   "execution_count": 23,
   "metadata": {
    "ExecuteTime": {
     "end_time": "2019-03-04T14:20:49.519016Z",
     "start_time": "2019-03-04T14:20:49.515739Z"
    },
    "collapsed": false
   },
   "outputs": [],
   "source": [
    "import sys\n",
    "modules_path = \"/home/ba13026/mpmodeling/analysis/\"\n",
    "if modules_path not in sys.path:\n",
    "    sys.path.append(modules_path)"
   ]
  },
  {
   "cell_type": "code",
   "execution_count": 24,
   "metadata": {
    "ExecuteTime": {
     "end_time": "2019-03-04T14:21:14.302924Z",
     "start_time": "2019-03-04T14:21:14.300331Z"
    },
    "collapsed": true
   },
   "outputs": [],
   "source": [
    "from insert2db_geometry_interactions import get_OH_atoms, get_KIHs"
   ]
  },
  {
   "cell_type": "code",
   "execution_count": 30,
   "metadata": {
    "ExecuteTime": {
     "end_time": "2019-03-04T14:29:10.892212Z",
     "start_time": "2019-03-04T14:29:10.644894Z"
    },
    "collapsed": false
   },
   "outputs": [
    {
     "name": "stdout",
     "output_type": "stream",
     "text": [
      "['[\"18\", \"HG1\", \"22\", \"OD1\", \"EF\"]', '[\"29\", \"HH\", \"25\", \"OE2\", \"CC\"]', '[\"21\", \"HD1\", \"22\", \"OD1\", \"DD\"]', '[\"21\", \"HD1\", \"22\", \"OD2\", \"FG\"]', '[\"16\", \"HG1\", \"7\", \"OD1\", \"HG\"]', '[\"21\", \"HD1\", \"22\", \"OD1\", \"GG\"]', '[\"29\", \"HH\", \"25\", \"OE1\", \"BA\"]', '[\"21\", \"HD1\", \"22\", \"OD1\", \"EF\"]', '[\"21\", \"HD1\", \"22\", \"OD1\", \"AA\"]', '[\"21\", \"HD1\", \"22\", \"OD2\", \"CC\"]', '[\"6\", \"HE1\", \"16\", \"OG1\", \"BC\"]', '[\"29\", \"HH\", \"25\", \"OE1\", \"EE\"]', '[\"21\", \"HD1\", \"22\", \"OD1\", \"BB\"]', '[\"16\", \"HG1\", \"7\", \"ND2\", \"AH\"]', '[\"29\", \"HH\", \"25\", \"OE1\", \"HH\"]', '[\"29\", \"HH\", \"25\", \"OE1\", \"DC\"]']\n"
     ]
    }
   ],
   "source": [
    "print(get_OH_atoms(p))"
   ]
  },
  {
   "cell_type": "code",
   "execution_count": 29,
   "metadata": {
    "ExecuteTime": {
     "end_time": "2019-03-04T14:28:58.687230Z",
     "start_time": "2019-03-04T14:28:58.142418Z"
    },
    "collapsed": false
   },
   "outputs": [
    {
     "name": "stdout",
     "output_type": "stream",
     "text": [
      "['[\"3\", \"9\", \"12\", \"13\", \"16\", \"AB\"]', '[\"17\", \"19\", \"22\", \"23\", \"26\", \"AB\"]', '[\"21\", \"22\", \"25\", \"26\", \"29\", \"AB\"]', '[\"12\", \"1\", \"3\", \"4\", \"7\", \"AH\"]', '[\"16\", \"3\", \"6\", \"7\", \"10\", \"AH\"]', '[\"19\", \"10\", \"13\", \"14\", \"17\", \"AH\"]', '[\"22\", \"14\", \"17\", \"18\", \"21\", \"AH\"]', '[\"26\", \"17\", \"20\", \"21\", \"24\", \"AH\"]', '[\"29\", \"21\", \"24\", \"25\", \"28\", \"AH\"]', '[\"12\", \"1\", \"3\", \"4\", \"7\", \"BA\"]', '[\"19\", \"10\", \"13\", \"14\", \"17\", \"BA\"]', '[\"22\", \"14\", \"17\", \"18\", \"21\", \"BA\"]', '[\"26\", \"17\", \"20\", \"21\", \"24\", \"BA\"]', '[\"17\", \"19\", \"22\", \"23\", \"26\", \"BC\"]', '[\"21\", \"22\", \"25\", \"26\", \"29\", \"BC\"]', '[\"19\", \"10\", \"13\", \"14\", \"17\", \"CB\"]', '[\"22\", \"14\", \"17\", \"18\", \"21\", \"CB\"]', '[\"26\", \"17\", \"20\", \"21\", \"24\", \"CB\"]', '[\"3\", \"9\", \"12\", \"13\", \"16\", \"CD\"]', '[\"17\", \"19\", \"22\", \"23\", \"26\", \"CD\"]', '[\"21\", \"22\", \"25\", \"26\", \"29\", \"CD\"]', '[\"16\", \"3\", \"6\", \"7\", \"10\", \"DC\"]', '[\"19\", \"10\", \"13\", \"14\", \"17\", \"DC\"]', '[\"22\", \"14\", \"17\", \"18\", \"21\", \"DC\"]', '[\"26\", \"17\", \"20\", \"21\", \"24\", \"DC\"]', '[\"3\", \"9\", \"12\", \"13\", \"16\", \"DE\"]', '[\"17\", \"19\", \"22\", \"23\", \"26\", \"DE\"]', '[\"21\", \"22\", \"25\", \"26\", \"29\", \"DE\"]', '[\"12\", \"1\", \"3\", \"4\", \"7\", \"ED\"]', '[\"16\", \"3\", \"6\", \"7\", \"10\", \"ED\"]', '[\"26\", \"17\", \"20\", \"21\", \"24\", \"ED\"]', '[\"17\", \"19\", \"22\", \"23\", \"26\", \"EF\"]', '[\"21\", \"22\", \"25\", \"26\", \"29\", \"EF\"]', '[\"12\", \"1\", \"2\", \"3\", \"4\", \"FE\"]', '[\"19\", \"10\", \"13\", \"14\", \"17\", \"FE\"]', '[\"22\", \"14\", \"17\", \"18\", \"21\", \"FE\"]', '[\"26\", \"17\", \"20\", \"21\", \"24\", \"FE\"]', '[\"29\", \"21\", \"24\", \"25\", \"28\", \"FE\"]', '[\"3\", \"9\", \"12\", \"13\", \"16\", \"FG\"]', '[\"17\", \"19\", \"22\", \"23\", \"26\", \"FG\"]', '[\"21\", \"22\", \"25\", \"26\", \"29\", \"FG\"]', '[\"16\", \"3\", \"6\", \"7\", \"10\", \"GF\"]', '[\"19\", \"10\", \"13\", \"14\", \"17\", \"GF\"]', '[\"26\", \"17\", \"20\", \"21\", \"24\", \"GF\"]', '[\"29\", \"21\", \"24\", \"25\", \"28\", \"GF\"]', '[\"3\", \"9\", \"12\", \"13\", \"16\", \"GH\"]', '[\"14\", \"15\", \"18\", \"19\", \"22\", \"GH\"]', '[\"17\", \"19\", \"22\", \"23\", \"26\", \"GH\"]', '[\"21\", \"22\", \"25\", \"26\", \"29\", \"GH\"]', '[\"3\", \"9\", \"12\", \"13\", \"16\", \"HA\"]', '[\"17\", \"19\", \"22\", \"23\", \"26\", \"HA\"]', '[\"21\", \"22\", \"25\", \"26\", \"29\", \"HA\"]', '[\"16\", \"3\", \"6\", \"7\", \"10\", \"HG\"]', '[\"19\", \"10\", \"13\", \"14\", \"17\", \"HG\"]', '[\"26\", \"17\", \"20\", \"21\", \"24\", \"HG\"]', '[\"29\", \"21\", \"24\", \"25\", \"28\", \"HG\"]']\n"
     ]
    }
   ],
   "source": [
    "print(get_KIHs(p))"
   ]
  },
  {
   "cell_type": "markdown",
   "metadata": {},
   "source": [
    "**Restrain only charged residues near N/C-terminus**"
   ]
  },
  {
   "cell_type": "code",
   "execution_count": 31,
   "metadata": {
    "ExecuteTime": {
     "end_time": "2019-03-04T15:11:52.464275Z",
     "start_time": "2019-03-04T15:11:52.439628Z"
    },
    "collapsed": true
   },
   "outputs": [],
   "source": [
    "workdir= \"/projects/s21/ba13026/Wza_Modeling/L-structures/rosetta/bg_test/md_relax/\"\n",
    "\n",
    "import string\n",
    "import subprocess\n",
    "\n",
    "def generate_posres_NC(model_path):\n",
    "    N_chains = 8\n",
    "    mutant = model_path.split('/')[0]\n",
    "    Chains = string.ascii_uppercase[:N_chains]\n",
    "    for X in Chains:\n",
    "        # Copy custom restrain files according to mutant identity\n",
    "        cmd1 = [\n",
    "                'cp',\n",
    "                workdir+'posres_files/'+mutant+'_posre_Protein_NC-ter_charged_chain_X.itp',\n",
    "                workdir+model_path+'/complex/'+mutant+'_posre_Protein_NC-ter_charged_chain_'+X+'.itp'\n",
    "                ]\n",
    "        proc1 = subprocess.Popen(cmd1)\n",
    "        proc1.wait()\n",
    "\n",
    "        # Backup original chain topology files\n",
    "        cmd2 = [\n",
    "                'cp',\n",
    "                workdir+model_path+'/complex/'+'topol_Protein_chain_'+X+'.itp',\n",
    "                workdir+model_path+'/complex/'+'topol_Protein_chain_'+X+'.itp.bk'\n",
    "                ]\n",
    "        proc2 = subprocess.Popen(cmd2)\n",
    "        proc2.wait()\n",
    "\n",
    "        # Modify chain topology files to include reference to posres file\n",
    "        posres_lines = (\n",
    "            \"; Position restraint Charged residues near N and C term only\"+\"\\n\"\n",
    "            \"#ifdef POSRES_NC\"+\"\\n\"\n",
    "            '#include '+'\"'+mutant+'_posre_Protein_NC-ter_charged_chain_'+X+'.itp'+'\"'+\"\\n\"\n",
    "            \"#endif\"+\"\\n\"\n",
    "            )\n",
    "        \n",
    "        top_file = workdir+model_path+'/complex/'+'topol_Protein_chain_'+X+'.itp'\n",
    "        with open(top_file,'a') as fp:\n",
    "            fp.write(posres_lines)\n",
    "        fp.close()"
   ]
  },
  {
   "cell_type": "code",
   "execution_count": 32,
   "metadata": {
    "ExecuteTime": {
     "end_time": "2019-03-04T15:12:17.460999Z",
     "start_time": "2019-03-04T15:12:16.496404Z"
    },
    "collapsed": false
   },
   "outputs": [],
   "source": [
    "generate_posres_NC('cWza/conformation0/refined1_0001_INPUT_0736_ignorechain')\n",
    "generate_posres_NC('cWza-S355C/conformation0/refined1_0001_INPUT_0140_ignorechain')\n",
    "generate_posres_NC('cWza-K375C/conformation0/refined1_0001_INPUT_0023_ignorechain')\n",
    "generate_posres_NC('cWza-Y373C/conformation1/refined1_0001_INPUT_0320_ignorechain')"
   ]
  },
  {
   "cell_type": "markdown",
   "metadata": {},
   "source": [
    "PRMD for charged residues\n",
    "```bash\n",
    "for model_dir in cWza/conformation0/refined1_0001_INPUT_0736_ignorechain cWza-S355C/conformation0/refined1_0001_INPUT_0140_ignorechain cWza-K375C/conformation0/refined1_0001_INPUT_0023_ignorechain cWza-Y373C/conformation1/refined1_0001_INPUT_0320_ignorechain ; do\n",
    "gmx_mpi grompp -f /home/ba13026/mpmodeling/protocols/gmx_protocols/templates/prmd_NC-ter_charged_10ns.mdp -c ${model_dir}/complex/mdf/prmd.gro -p ${model_dir}/complex/topol.top -o ${model_dir}/complex/mdf/prmd_NC-ter_charged_10ns.tpr -maxwarn 3 ; done\n",
    "```"
   ]
  },
  {
   "cell_type": "markdown",
   "metadata": {},
   "source": [
    "```bash\n",
    "for model_dir in cWza/conformation0/refined1_0001_INPUT_0736_ignorechain cWza-S355C/conformation0/refined1_0001_INPUT_0140_ignorechain cWza-K375C/conformation0/refined1_0001_INPUT_0023_ignorechain cWza-Y373C/conformation1/refined1_0001_INPUT_0320_ignorechain ; do cp /home/ba13026/mpmodeling/protocols/gmx_protocols/templates/prmd_NC-ter_charged_10ns.bg.slurm ${model_dir}/complex/jobf/ ; done\n",
    "```"
   ]
  },
  {
   "cell_type": "markdown",
   "metadata": {},
   "source": [
    "```\n",
    "for model_dir in cWza/conformation0/refined1_0001_INPUT_0736_ignorechain cWza-S355C/conformation0/refined1_0001_INPUT_0140_ignorechain cWza-K375C/conformation0/refined1_0001_INPUT_0023_ignorechain cWza-Y373C/conformation1/refined1_0001_INPUT_0320_ignorechain ; do python ~/mpmodeling/tools/rmsf_from_traj.py prmd_C-ter_charged_10ns  $model_dir Backbone; done```"
   ]
  },
  {
   "cell_type": "markdown",
   "metadata": {},
   "source": [
    "```bash\n",
    "for model_dir in cWza/conformation0/refined1_0001_INPUT_0736_ignorechain cWza-S355C/conformation0/refined1_0001_INPUT_0140_ignorechain cWza-K375C/conformation0/refined1_0001_INPUT_0023_ignorechain cWza-Y373C/conformation1/refined1_0001_INPUT_0320_ignorechain ; do cd  ${model_dir} ; sbatch complex/jobf/prmd_NC-ter_charged_10ns.bg.slurm ;  cd - ; done\n",
    "```"
   ]
  },
  {
   "cell_type": "markdown",
   "metadata": {},
   "source": [
    "```\n",
    "for model_dir in cWza/conformation0/refined1_0001_INPUT_0736_ignorechain cWza-S355C/conformation0/refined1_0001_INPUT_0140_ignorechain cWza-K375C/conformation0/refined1_0001_INPUT_0023_ignorechain cWza-Y373C/conformation1/refined1_0001_INPUT_0320_ignorechain ; do python ~/mpmodeling/tools/rmsf_from_traj.py prmd_NC-ter_charged_10ns Backbone $model_dir ; done```"
   ]
  },
  {
   "cell_type": "markdown",
   "metadata": {},
   "source": [
    "GROMACS\n",
    "```\n",
    "[ TRP ]\n",
    " [ atoms ]\n",
    "     N    opls_238   -0.500     1\n",
    "     H    opls_241    0.300     1\n",
    "    CA    opls_224B   0.140     1\n",
    "    HA    opls_140    0.060     1\n",
    "    CB    opls_136   -0.120     2\n",
    "   HB1    opls_140    0.060     2\n",
    "   HB2    opls_140    0.060     2\n",
    "    CG    opls_500    0.075     3\n",
    "   CD1    opls_514   -0.115     4\n",
    "   HD1    opls_146    0.115     4\n",
    "   CD2    opls_501   -0.055     5\n",
    "   NE1    opls_503   -0.570     6\n",
    "   HE1    opls_504    0.420     6\n",
    "   CE2    opls_502    0.130     6\n",
    "   CE3    opls_145   -0.115     7\n",
    "   HE3    opls_146    0.115     7\n",
    "   CZ2    opls_145   -0.115     8\n",
    "   HZ2    opls_146    0.115     8\n",
    "   CZ3    opls_145   -0.115     9\n",
    "   HZ3    opls_146    0.115     9\n",
    "   CH2    opls_145   -0.115     10\n",
    "   HH2    opls_146    0.115     10\n",
    "     C    opls_235    0.500     11\n",
    "     O    opls_236   -0.500     11\n",
    "```"
   ]
  },
  {
   "cell_type": "markdown",
   "metadata": {},
   "source": [
    "Rosetta\n",
    "```\n",
    "ATOM    667  N   TRP B   6       3.179 -22.369 -15.830  1.00  0.00           N\n",
    "ATOM    668  CA  TRP B   6       2.570 -22.139 -14.521  1.00  0.00           C\n",
    "ATOM    669  C   TRP B   6       1.851 -20.790 -14.496  1.00  0.00           C\n",
    "ATOM    670  O   TRP B   6       0.716 -20.794 -14.034  1.00  0.00           O\n",
    "ATOM    671  CB  TRP B   6       3.622 -22.223 -13.410  1.00  0.00           C\n",
    "ATOM    672  CG  TRP B   6       3.080 -22.165 -12.011  1.00  0.00           C\n",
    "ATOM    673  CD1 TRP B   6       3.507 -21.270 -11.066  1.00  0.00           C\n",
    "ATOM    674  CD2 TRP B   6       2.123 -23.016 -11.352  1.00  0.00           C\n",
    "ATOM    675  CE2 TRP B   6       2.014 -22.572 -10.027  1.00  0.00           C\n",
    "ATOM    676  CE3 TRP B   6       1.365 -24.131 -11.745  1.00  0.00           C\n",
    "ATOM    677  NE1 TRP B   6       2.925 -21.552  -9.857  1.00  0.00           N\n",
    "ATOM    678  CZ2 TRP B   6       1.129 -23.132  -9.122  1.00  0.00           C\n",
    "ATOM    679  CZ3 TRP B   6       0.440 -24.665 -10.854  1.00  0.00           C\n",
    "ATOM    680  CH2 TRP B   6       0.316 -24.165  -9.584  1.00  0.00           C\n",
    "ATOM    681  H   TRP B   6       4.196 -22.385 -15.859  1.00  0.00           H\n",
    "ATOM    682  HA  TRP B   6       1.842 -22.918 -14.329  1.00  0.00           H\n",
    "ATOM    683 1HB  TRP B   6       4.157 -23.170 -13.507  1.00  0.00           H\n",
    "ATOM    684 2HB  TRP B   6       4.326 -21.410 -13.532  1.00  0.00           H\n",
    "ATOM    685  HD1 TRP B   6       4.219 -20.472 -11.254  1.00  0.00           H\n",
    "ATOM    686  HE1 TRP B   6       3.108 -21.123  -8.963  1.00  0.00           H\n",
    "ATOM    687  HE3 TRP B   6       1.514 -24.574 -12.732  1.00  0.00           H\n",
    "ATOM    688  HZ2 TRP B   6       1.048 -22.797  -8.085  1.00  0.00           H\n",
    "ATOM    689  HZ3 TRP B   6      -0.180 -25.496 -11.203  1.00  0.00           H\n",
    "ATOM    690  HH2 TRP B   6      -0.434 -24.583  -8.909  1.00  0.00           H\n",
    "```"
   ]
  },
  {
   "cell_type": "markdown",
   "metadata": {},
   "source": [
    "PyMOL\n",
    "```\n",
    "ATOM   1118  N   TRP B  33     -16.450   0.679  10.155  1.00  0.00           N\n",
    "ATOM   1119  CA  TRP B  33     -17.259   1.881   9.977  1.00  0.00           C\n",
    "ATOM   1120  C   TRP B  33     -18.302   1.997  11.064  1.00  0.00           C\n",
    "ATOM   1121  O   TRP B  33     -18.519   3.057  11.648  1.00  0.00           O\n",
    "ATOM   1122  CB  TRP B  33     -18.172   2.044   8.719  1.00  0.00           C\n",
    "ATOM   1123  CG  TRP B  33     -17.519   1.577   7.420  1.00  0.00           C\n",
    "ATOM   1124  CD1 TRP B  33     -17.827   0.538   6.587  1.00  0.00           C\n",
    "ATOM   1125  CD2 TRP B  33     -16.326   2.131   6.982  1.00  0.00           C\n",
    "ATOM   1126  CE2 TRP B  33     -15.768   1.154   6.135  1.00  0.00           C\n",
    "ATOM   1127  CE3 TRP B  33     -15.700   3.370   7.312  1.00  0.00           C\n",
    "ATOM   1128  NE1 TRP B  33     -16.724   0.220   5.868  1.00  0.00           N\n",
    "ATOM   1129  CZ2 TRP B  33     -14.384   1.367   5.844  1.00  0.00           C\n",
    "ATOM   1130  CZ3 TRP B  33     -14.446   3.554   6.748  1.00  0.00           C\n",
    "ATOM   1131  CH2 TRP B  33     -13.735   2.502   6.249  1.00  0.00           C\n",
    "ATOM   1132  H   TRP B  33     -16.422  -0.030   9.437  1.00  0.00           H\n",
    "ATOM   1133  HA  TRP B  33     -16.468   2.659   9.958  1.00  0.00           H\n",
    "ATOM   1134 2HB  TRP B  33     -18.502   3.096   8.694  1.00  0.00           H\n",
    "ATOM   1135 3HB  TRP B  33     -19.138   1.490   8.672  1.00  0.00           H\n",
    "ATOM   1136 1HD  TRP B  33     -18.839   0.028   6.746  1.00  0.00           H\n",
    "ATOM   1137 1HE  TRP B  33     -16.714  -0.680   5.270  1.00  0.00           H\n",
    "ATOM   1138 3HE  TRP B  33     -16.146   4.026   7.967  1.00  0.00           H\n",
    "ATOM   1139 2HZ  TRP B  33     -13.740   0.718   5.277  1.00  0.00           H\n",
    "ATOM   1140 3HZ  TRP B  33     -13.834   4.434   6.758  1.00  0.00           H\n",
    "ATOM   1141 2HH  TRP B  33     -12.640   2.766  \n",
    "```"
   ]
  },
  {
   "cell_type": "code",
   "execution_count": null,
   "metadata": {
    "collapsed": true
   },
   "outputs": [],
   "source": [
    "PyMOL>alter resi 33 and name 2HB, name='1HB'\n",
    " Alter: modified 8 atoms.\n",
    "PyMOL>alter resi 33 and name 3HB, name='2HB'\n",
    "alter resi 35 and name 3HB, name='1HB'"
   ]
  },
  {
   "cell_type": "markdown",
   "metadata": {},
   "source": [
    "```bash\n",
    "cmd.remove(\"resi 32 and name OXT\")\n",
    "cmd.alter(\"resi 33 and name 2HB\",\"name='1HB'\")\n",
    "cmd.alter(\"resi 33 and name 3HB\",\"name='2HB'\")\n",
    "cmd.alter(\"resi 35 and name 3HB\",\"name='1HB'\")\n",
    "```\n"
   ]
  },
  {
   "cell_type": "code",
   "execution_count": null,
   "metadata": {
    "collapsed": true
   },
   "outputs": [],
   "source": [
    "var=${path} python3 <<@@\n",
    "import os\n",
    "import numpy, re\n",
    "import isambard_dev\n",
    "@@"
   ]
  },
  {
   "cell_type": "markdown",
   "metadata": {},
   "source": [
    "**WPND models**"
   ]
  },
  {
   "cell_type": "code",
   "execution_count": 35,
   "metadata": {
    "ExecuteTime": {
     "end_time": "2019-03-07T11:58:37.321606Z",
     "start_time": "2019-03-07T11:58:37.297180Z"
    },
    "collapsed": true
   },
   "outputs": [],
   "source": [
    "workdir = \"/projects/s21/ba13026/Wza_Modeling/L-structures/rosetta/bg_test/models_WPN/\"\n",
    "\n",
    "import string\n",
    "import subprocess\n",
    "\n",
    "def generate_posres_NC(model_path):\n",
    "    N_chains = 8\n",
    "    mutant = model_path.split('_')[0]\n",
    "    Chains = string.ascii_uppercase[:N_chains]\n",
    "    for X in Chains:\n",
    "        # Copy custom restrain files according to mutant identity\n",
    "        cmd1 = [\n",
    "                'cp',\n",
    "                workdir+'posres_files/'+mutant+'_posre_Protein_NC-ter_charged_chain_X.itp',\n",
    "                workdir+model_path+'/complex/'+mutant+'_posre_Protein_NC-ter_charged_chain_'+X+'.itp'\n",
    "                ]\n",
    "        proc1 = subprocess.Popen(cmd1)\n",
    "        proc1.wait()\n",
    "\n",
    "        # Backup original chain topology files\n",
    "        cmd2 = [\n",
    "                'cp',\n",
    "                workdir+model_path+'/complex/'+'topol_Protein_chain_'+X+'.itp',\n",
    "                workdir+model_path+'/complex/'+'topol_Protein_chain_'+X+'.itp.bk'\n",
    "                ]\n",
    "        proc2 = subprocess.Popen(cmd2)\n",
    "        proc2.wait()\n",
    "\n",
    "        # Modify chain topology files to include reference to posres file\n",
    "        posres_lines = (\n",
    "            \"; Position restraint Charged residues near N and C term only\"+\"\\n\"\n",
    "            \"#ifdef POSRES_NC\"+\"\\n\"\n",
    "            '#include '+'\"'+mutant+'_posre_Protein_NC-ter_charged_chain_'+X+'.itp'+'\"'+\"\\n\"\n",
    "            \"#endif\"+\"\\n\"\n",
    "            )\n",
    "        \n",
    "        top_file = workdir+model_path+'/complex/'+'topol_Protein_chain_'+X+'.itp'\n",
    "        with open(top_file,'a') as fp:\n",
    "            fp.write(posres_lines)\n",
    "        fp.close()"
   ]
  },
  {
   "cell_type": "code",
   "execution_count": 36,
   "metadata": {
    "ExecuteTime": {
     "end_time": "2019-03-07T11:59:36.623629Z",
     "start_time": "2019-03-07T11:59:36.255110Z"
    },
    "collapsed": false
   },
   "outputs": [],
   "source": [
    "generate_posres_NC('cWza_conformation0_0736_WPN')\n",
    "generate_posres_NC('cWza-K375C_conformation0_0023_WPN')\n",
    "generate_posres_NC('cWza-S355C_conformation0_0140_WPN')"
   ]
  },
  {
   "cell_type": "code",
   "execution_count": null,
   "metadata": {
    "collapsed": true
   },
   "outputs": [],
   "source": [
    "cWza_posre_Protein_NC-ter_charged_chain_H.itp\n"
   ]
  },
  {
   "cell_type": "markdown",
   "metadata": {},
   "source": [
    "```\n",
    "for model_dir in cWza_conformation0_0736_WPN cWza-K375C_conformation0_0023_WPN cWza-S355C_conformation0_0140_WPN ; do gmx_mpi grompp -f posres_files/prmd_NC-ter_charged_100ns.mdp -c ${model_dir}/complex/mdf/prmd.gro -p ${model_dir}/complex/topol.top -o ${model_dir}/complex/mdf/prmd_NC-ter_charged_100ns.tpr -maxwarn 3 ; done\n",
    "\n",
    "for model_dir in cWza_conformation0_0736_WPN cWza-K375C_conformation0_0023_WPN cWza-S355C_conformation0_0140_WPN ; do cd $model_dir ; sbatch complex/jobf/prmd_NC-ter_charged_100ns.bg.slurm ; cd - ; done\n",
    "\n",
    "```"
   ]
  },
  {
   "cell_type": "markdown",
   "metadata": {
    "collapsed": true
   },
   "source": [
    "# Position Restrains of Atomic Groups of Residue Range"
   ]
  },
  {
   "cell_type": "raw",
   "metadata": {},
   "source": [
    "seq = 'APLVRWNRVISQLVPTITGVHDLTETVRYIKTWPN'\n",
    "\n",
    "three_letter ={'V':'VAL', 'I':'ILE', 'L':'LEU', 'E':'GLU', 'Q':'GLN', \\\n",
    "'D':'ASP', 'N':'ASN', 'H':'HIS', 'W':'TRP', 'F':'PHE', 'Y':'TYR',    \\\n",
    "'R':'ARG', 'K':'LYS', 'S':'SER', 'T':'THR', 'M':'MET', 'A':'ALA',    \\\n",
    "'G':'GLY', 'P':'PRO', 'C':'CYS'}\n",
    "\n",
    "top_file = path0+'cWza_conformation0_0736_WPN/complex/topol_Protein_chain_A.itp'"
   ]
  },
  {
   "cell_type": "raw",
   "metadata": {},
   "source": [
    "#########################################\n",
    "#     res_lines = [x.strip().split() for x in open(top_file,'r').readlines() if re.search(\"^; residue\", x)]\n",
    "#     sequence = [x[2]+'-'+x[3] for x in res_lines]"
   ]
  },
  {
   "cell_type": "markdown",
   "metadata": {},
   "source": [
    "## Generation of restrains per residue list, per atomic group"
   ]
  },
  {
   "cell_type": "code",
   "execution_count": 133,
   "metadata": {
    "ExecuteTime": {
     "end_time": "2019-03-17T13:56:56.905235Z",
     "start_time": "2019-03-17T13:56:56.837039Z"
    },
    "collapsed": false
   },
   "outputs": [],
   "source": [
    "import re\n",
    "from operator import itemgetter\n",
    "\n",
    "def CheckHeavyAtom(atom_name):\n",
    "    # Search according to regex list\n",
    "    HeavyAtoms = ['^N','^C','^O']\n",
    "    HeavyAtoms_regex = \"(\" + \")|(\".join(HeavyAtoms) + \")\"\n",
    "    if re.search(HeavyAtoms_regex, atom_name) != None:\n",
    "        return True\n",
    "\n",
    "def get_Indices4restrain(top_file, residue_list, group):\n",
    "    # Get all lines from Chain Topology file\n",
    "    atom_lines = [x.strip() for x in open(top_file,'r').readlines() if 'qtot' in x]\n",
    "    # Extract indices for atoms per group and residue in list\n",
    "    output_indices = []\n",
    "    if group == 'Backbone':\n",
    "        Backbone = ['N','C','CA','O']\n",
    "        for resn in residue_list:\n",
    "            for line in atom_lines:\n",
    "                if int(line.split()[2]) == resn:\n",
    "                    atom_name = line.split()[4]\n",
    "                    if atom_name in Backbone:\n",
    "                        index = int(line.split()[0])\n",
    "                        output_indices.append(index)\n",
    "\n",
    "    elif group == 'HeavyAtoms':\n",
    "        for resn in residue_list:\n",
    "            for line in atom_lines:\n",
    "                if int(line.split()[2]) == resn:\n",
    "                    atom_name = line.split()[4]\n",
    "                    if CheckHeavyAtom(atom_name):\n",
    "                        index = int(line.split()[0])\n",
    "                        output_indices.append(index)\n",
    "\n",
    "    return output_indices\n",
    "\n",
    "def posres_format(index, force):\n",
    "    line = ' '*2+str(index).rjust(4)+' '*5+str(1)+(' '*2+str(force))*3+\"\\n\"\n",
    "    return line\n",
    "\n",
    "def generate_posres(outfile, indices, force):\n",
    "    heading = (\n",
    "    \"; Customised position restrains for residue list\\n\"\n",
    "    \"[ position_restraints ]\\n\"\n",
    "    \"; atom  type      fx      fy      fz\\n\"\n",
    "    )\n",
    "    # Write posres lines into file\n",
    "    with open(outfile, 'w') as fp:\n",
    "        fp.write(heading)\n",
    "        for idx in indices:\n",
    "            line = posres_format(idx, force)\n",
    "            fp.write(line)\n",
    "    fp.close()"
   ]
  },
  {
   "cell_type": "markdown",
   "metadata": {},
   "source": [
    "**TEST**"
   ]
  },
  {
   "cell_type": "code",
   "execution_count": 169,
   "metadata": {
    "ExecuteTime": {
     "end_time": "2019-03-17T15:47:21.008577Z",
     "start_time": "2019-03-17T15:47:21.005310Z"
    },
    "collapsed": true
   },
   "outputs": [],
   "source": [
    "workdir = '/projects/s21/ba13026/Wza_Modeling/L-structures/rosetta/bg_test/md_relax/'\n",
    "\n",
    "modeldir = 'cWza/conformation0/refined1_0001_INPUT_0736_ignorechain'\n",
    "\n",
    "top_file = workdir + modeldir + '/complex/' + 'topol_Protein_chain_A.itp'\n",
    "residue_list = [31,32]\n",
    "group = 'Backbone'\n",
    "##########################################\n",
    "indices = get_Indices4restrain(top_file, residue_list, group)\n",
    "\n",
    "filename = 'posres_test.itp'\n",
    "posres_file = workdir + modeldir + '/complex/' + filename\n",
    "force = 9000\n",
    "##########################################\n",
    "generate_posres(posres_file, indices, force)"
   ]
  },
  {
   "cell_type": "markdown",
   "metadata": {},
   "source": [
    "**OUTCOME**: Generated posres file successfully!"
   ]
  },
  {
   "cell_type": "markdown",
   "metadata": {},
   "source": [
    "## Modification of chain topology files"
   ]
  },
  {
   "cell_type": "code",
   "execution_count": 159,
   "metadata": {
    "ExecuteTime": {
     "end_time": "2019-03-17T15:19:13.299209Z",
     "start_time": "2019-03-17T15:19:13.287577Z"
    },
    "collapsed": true
   },
   "outputs": [],
   "source": [
    "import os\n",
    "import subprocess\n",
    "\n",
    "def modify_chain_topology(top_file, posres_file, posres_tag):\n",
    "    # Append to chain topology\n",
    "    posres_lines = (\n",
    "    \"\\n\"\n",
    "    \"; Position restrain \"+posres_tag+\"\\n\"\n",
    "    \"#ifdef POSRES_\"+posres_tag.upper()+\"\\n\"\n",
    "    '#include '+'\"'+os.path.basename(posres_file)+'\"'+\"\\n\"\n",
    "    \"#endif\"+\"\\n\"\n",
    "    )\n",
    "    \n",
    "    # Backup original chain topology files\n",
    "    cmd = ['cp', top_file, top_file+'.bak']\n",
    "    proc = subprocess.Popen(cmd)\n",
    "    proc.wait()\n",
    "    \n",
    "    # Modify chain topology to include reference to posres       \n",
    "    with open(top_file, 'a') as fp:\n",
    "        fp.write(posres_lines)\n",
    "    fp.close()"
   ]
  },
  {
   "cell_type": "code",
   "execution_count": 161,
   "metadata": {
    "ExecuteTime": {
     "end_time": "2019-03-17T15:20:23.088404Z",
     "start_time": "2019-03-17T15:20:23.077340Z"
    },
    "collapsed": false
   },
   "outputs": [],
   "source": [
    "posres_tag = 'mytest0'\n",
    "modify_chain_topology(top_file, posres_file, posres_tag)"
   ]
  },
  {
   "cell_type": "markdown",
   "metadata": {},
   "source": [
    "**NOTE**: Make sure topology and posres files are in the same directory for the above to work"
   ]
  },
  {
   "cell_type": "markdown",
   "metadata": {},
   "source": [
    "**TEST**"
   ]
  },
  {
   "cell_type": "code",
   "execution_count": 151,
   "metadata": {
    "ExecuteTime": {
     "end_time": "2019-03-17T15:17:34.185321Z",
     "start_time": "2019-03-17T15:17:34.182360Z"
    },
    "collapsed": true
   },
   "outputs": [],
   "source": [
    "workdir = '/projects/s21/ba13026/Wza_Modeling/L-structures/rosetta/bg_test/md_relax/'\n",
    "\n",
    "modeldir = 'cWza/conformation0/refined1_0001_INPUT_0736_ignorechain'\n",
    "\n",
    "import string\n",
    "N_chains = 8\n",
    "Chains = string.ascii_uppercase[:N_chains]\n",
    "\n",
    "posres_tag = 'mytest0'\n",
    "\n",
    "for X in Chains:\n",
    "    top_file = workdir + modeldir + '/complex/' + 'topol_Protein_chain_'+X+'.itp'\n",
    "    modify_chain_topology(top_file, posres_file, posres_tag)"
   ]
  },
  {
   "cell_type": "markdown",
   "metadata": {},
   "source": [
    "## Generation of parameter and SLURM submission files"
   ]
  },
  {
   "cell_type": "markdown",
   "metadata": {},
   "source": [
    "Use template files for `.mdp` "
   ]
  },
  {
   "cell_type": "code",
   "execution_count": 196,
   "metadata": {
    "ExecuteTime": {
     "end_time": "2019-03-17T16:19:58.767108Z",
     "start_time": "2019-03-17T16:19:58.762560Z"
    },
    "collapsed": true
   },
   "outputs": [],
   "source": [
    "posres_tag = 'mytest0'\n",
    "\n",
    "posres_mdp_line = (\n",
    "            \"define              =  \"\n",
    "            \"-DPOSRES_\"+posres_tag.upper()+\n",
    "            \" ; Restraint atoms accoridng to custom-restraint\\n\"\n",
    "            )\n",
    "\n",
    "template_name = \"md_10ns_pr-residue_range_group.mdp.template\"\n",
    "template_dir = \"/home/ba13026/mpmodeling/protocols/gmx_protocols/templates/\"\n",
    "template_path = template_dir + template_name"
   ]
  },
  {
   "cell_type": "code",
   "execution_count": 197,
   "metadata": {
    "ExecuteTime": {
     "end_time": "2019-03-17T16:20:00.268183Z",
     "start_time": "2019-03-17T16:20:00.248688Z"
    },
    "collapsed": true
   },
   "outputs": [],
   "source": [
    "# Define path for template copy \n",
    "workdir = '/projects/s21/ba13026/Wza_Modeling/L-structures/rosetta/bg_test/md_relax/'\n",
    "modeldir = 'cWza/conformation0/refined1_0001_INPUT_0736_ignorechain'\n",
    "edited_template_path = workdir+modeldir+'/complex/mdpf/'+template_name.split('.')[0]+'_'+posres_tag+'.mdp'\n",
    "\n",
    "# Copy template to new file to edit\n",
    "cmd = ['cp', template_path, edited_template_path]\n",
    "proc = subprocess.Popen(cmd)\n",
    "proc.wait()\n",
    "\n",
    "# Append mdp line for posres\n",
    "with open(edited_template_path, 'a') as fp:\n",
    "    fp.write(posres_mdp_line)\n",
    "fp.close()"
   ]
  },
  {
   "cell_type": "markdown",
   "metadata": {},
   "source": [
    "Generate GROMACS initiation files (`.tpr`)"
   ]
  },
  {
   "cell_type": "code",
   "execution_count": 212,
   "metadata": {
    "ExecuteTime": {
     "end_time": "2019-03-17T16:36:32.399555Z",
     "start_time": "2019-03-17T16:36:32.377943Z"
    },
    "collapsed": false
   },
   "outputs": [
    {
     "data": {
      "text/plain": [
       "-13"
      ]
     },
     "execution_count": 212,
     "metadata": {},
     "output_type": "execute_result"
    }
   ],
   "source": [
    "prev_name = 'prmd'\n",
    "name = template_name.split('.')[0]+'_'+posres_tag\n",
    "\n",
    "cmd = [\n",
    "    'gmx_mpi','grompp',\n",
    "    '-f', edited_template_path,\n",
    "    '-c', workdir+modeldir+'/complex/mdf/'+prev_name+'.gro',\n",
    "    '-p', workdir+modeldir+'/complex/topol.top',\n",
    "    '-o', workdir+modeldir+'/complex/mdf/'+name+'.tpr',\n",
    "    '-maxwarn','3'\n",
    "]\n",
    "\n",
    "proc = subprocess.Popen(cmd,shell=False)\n",
    "proc.wait()"
   ]
  },
  {
   "cell_type": "code",
   "execution_count": 208,
   "metadata": {
    "ExecuteTime": {
     "end_time": "2019-03-17T16:27:41.719989Z",
     "start_time": "2019-03-17T16:27:41.716134Z"
    },
    "collapsed": false
   },
   "outputs": [
    {
     "data": {
      "text/plain": [
       "'gmx_mpi grompp -f /projects/s21/ba13026/Wza_Modeling/L-structures/rosetta/bg_test/md_relax/cWza/conformation0/refined1_0001_INPUT_0736_ignorechain/complex/mdpf/md_10ns_pr-residue_range_group_mytest0.mdp -c /projects/s21/ba13026/Wza_Modeling/L-structures/rosetta/bg_test/md_relax/cWza/conformation0/refined1_0001_INPUT_0736_ignorechain/complex/mdf/prmd.gro -p /projects/s21/ba13026/Wza_Modeling/L-structures/rosetta/bg_test/md_relax/cWza/conformation0/refined1_0001_INPUT_0736_ignorechain/complex/topol.top -o /projects/s21/ba13026/Wza_Modeling/L-structures/rosetta/bg_test/md_relax/cWza/conformation0/refined1_0001_INPUT_0736_ignorechain/complex/mdf/md_10ns_pr-residue_range_group_mytest0.tpr -maxwarn 3'"
      ]
     },
     "execution_count": 208,
     "metadata": {},
     "output_type": "execute_result"
    }
   ],
   "source": [
    "\" \".join(cmd)"
   ]
  },
  {
   "cell_type": "markdown",
   "metadata": {},
   "source": [
    "Use template files for `.slurm` "
   ]
  },
  {
   "cell_type": "markdown",
   "metadata": {},
   "source": [
    "## **SCRIPTS**"
   ]
  },
  {
   "cell_type": "markdown",
   "metadata": {},
   "source": [
    "### Library "
   ]
  },
  {
   "cell_type": "code",
   "execution_count": 213,
   "metadata": {
    "ExecuteTime": {
     "end_time": "2019-03-17T16:57:14.638452Z",
     "start_time": "2019-03-17T16:57:14.632701Z"
    },
    "collapsed": false
   },
   "outputs": [
    {
     "name": "stdout",
     "output_type": "stream",
     "text": [
      "Writing /home/ba13026/mpmodeling/protocols/custom_posres.py\n"
     ]
    }
   ],
   "source": [
    "%%writefile /home/ba13026/mpmodeling/protocols/custom_posres.py\n",
    "import re\n",
    "import os\n",
    "import subprocess\n",
    "from operator import itemgetter\n",
    "\n",
    "def CheckHeavyAtom(atom_name):\n",
    "    # Search according to regex list\n",
    "    HeavyAtoms = ['^N','^C','^O']\n",
    "    HeavyAtoms_regex = \"(\" + \")|(\".join(HeavyAtoms) + \")\"\n",
    "    if re.search(HeavyAtoms_regex, atom_name) != None:\n",
    "        return True\n",
    "\n",
    "def get_Indices4restrain(top_file, residue_list, group):\n",
    "    # Get all lines from Chain Topology file\n",
    "    atom_lines = [x.strip() for x in open(top_file,'r').readlines() if 'qtot' in x]\n",
    "    # Extract indices for atoms per group and residue in list\n",
    "    output_indices = []\n",
    "    if group == 'Backbone':\n",
    "        Backbone = ['N','C','CA','O']\n",
    "        for resn in residue_list:\n",
    "            for line in atom_lines:\n",
    "                if int(line.split()[2]) == resn:\n",
    "                    atom_name = line.split()[4]\n",
    "                    if atom_name in Backbone:\n",
    "                        index = int(line.split()[0])\n",
    "                        output_indices.append(index)\n",
    "\n",
    "    elif group == 'HeavyAtoms':\n",
    "        for resn in residue_list:\n",
    "            for line in atom_lines:\n",
    "                if int(line.split()[2]) == resn:\n",
    "                    atom_name = line.split()[4]\n",
    "                    if CheckHeavyAtom(atom_name):\n",
    "                        index = int(line.split()[0])\n",
    "                        output_indices.append(index)\n",
    "\n",
    "    return output_indices\n",
    "\n",
    "def posres_format(index, force):\n",
    "    line = ' '*2+str(index).rjust(4)+' '*5+str(1)+(' '*2+str(force))*3+\"\\n\"\n",
    "    return line\n",
    "\n",
    "def generate_posres(outfile, indices, force):\n",
    "    heading = (\n",
    "    \"; Customised position restrains for residue list\\n\"\n",
    "    \"[ position_restraints ]\\n\"\n",
    "    \"; atom  type      fx      fy      fz\\n\"\n",
    "    )\n",
    "    # Write posres lines into file\n",
    "    with open(outfile, 'w') as fp:\n",
    "        fp.write(heading)\n",
    "        for idx in indices:\n",
    "            line = posres_format(idx, force)\n",
    "            fp.write(line)\n",
    "    fp.close()\n",
    "\n",
    "def modify_chain_topology(top_file, posres_file, posres_tag):\n",
    "    # Append to chain topology\n",
    "    posres_lines = (\n",
    "    \"\\n\"\n",
    "    \"; Position restrain \"+posres_tag+\"\\n\"\n",
    "    \"#ifdef POSRES_\"+posres_tag.upper()+\"\\n\"\n",
    "    '#include '+'\"'+os.path.basename(posres_file)+'\"'+\"\\n\"\n",
    "    \"#endif\"+\"\\n\"\n",
    "    )\n",
    "    \n",
    "    # Backup original chain topology files\n",
    "    cmd = ['cp', top_file, top_file+'.bak']\n",
    "    proc = subprocess.Popen(cmd)\n",
    "    proc.wait()\n",
    "    \n",
    "    # Modify chain topology to include reference to posres       \n",
    "    with open(top_file, 'a') as fp:\n",
    "        fp.write(posres_lines)\n",
    "    fp.close()"
   ]
  },
  {
   "cell_type": "markdown",
   "metadata": {},
   "source": [
    "### MASTER SCRIPT"
   ]
  },
  {
   "cell_type": "code",
   "execution_count": 252,
   "metadata": {
    "ExecuteTime": {
     "end_time": "2019-03-17T18:29:31.785548Z",
     "start_time": "2019-03-17T18:29:31.776822Z"
    },
    "collapsed": false
   },
   "outputs": [
    {
     "name": "stdout",
     "output_type": "stream",
     "text": [
      "Overwriting /projects/s21/ba13026/Wza_Modeling/L-structures/rosetta/bg_test/md_relax/test.py\n"
     ]
    }
   ],
   "source": [
    "%%writefile /projects/s21/ba13026/Wza_Modeling/L-structures/rosetta/bg_test/md_relax/test.py\n",
    "import sys\n",
    "import string\n",
    "import subprocess\n",
    "\n",
    "# Import modules from folder\n",
    "modules_path = \"/home/ba13026/mpmodeling/protocols/\"\n",
    "if modules_path not in sys.path:\n",
    "    sys.path.append(modules_path)\n",
    "\n",
    "from custom_posres import get_Indices4restrain\n",
    "from custom_posres import generate_posres\n",
    "from custom_posres import modify_chain_topology\n",
    "##########################################\n",
    "# INPUTS for posres\n",
    "##########################################\n",
    "workdir = '/projects/s21/ba13026/Wza_Modeling/L-structures/rosetta/bg_test/md_relax/'\n",
    "modeldir = 'cWza/conformation0/refined1_0001_INPUT_0736_ignorechain'\n",
    "residue_list = [30,31,32]\n",
    "group = 'Backbone'\n",
    "force = 1000\n",
    "posres_tag = 'mytest1'\n",
    "##########################################\n",
    "# INPUTS for MD setup\n",
    "##########################################\n",
    "prev_md_name = 'prmd'\n",
    "template_dir = \"/home/ba13026/mpmodeling/protocols/gmx_protocols/templates/\"\n",
    "mdp_template_name = \"md_10ns_pr-residue_range_group.mdp.template\"\n",
    "n_nodes = 2\n",
    "##########################################\n",
    "# Extract atomic indices for posres according to residue list and group\n",
    "top_file = workdir + modeldir + '/complex/' + 'topol_Protein_chain_A.itp'\n",
    "indices = get_Indices4restrain(top_file, residue_list, group)\n",
    "\n",
    "# Generate posres file\n",
    "posres_filename = 'posres_'+posres_tag+'.itp'\n",
    "posres_file = workdir + modeldir + '/complex/' + posres_filename\n",
    "generate_posres(posres_file, indices, force)\n",
    "\n",
    "# Modify chain topology files accordingly\n",
    "N_chains = 8\n",
    "Chains = string.ascii_uppercase[:N_chains]\n",
    "for X in Chains:\n",
    "    top_file = workdir + modeldir + '/complex/' + 'topol_Protein_chain_'+X+'.itp'\n",
    "    modify_chain_topology(top_file, posres_file, posres_tag)\n",
    "##########################################\n",
    "posres_mdp_line = (\n",
    "            \"define              =  \"\n",
    "            \"-DPOSRES_\"+posres_tag.upper()+\n",
    "            \" ; Restraint atoms accoridng to custom-restraint\\n\"\n",
    "            )\n",
    "mdp_template_path = template_dir + mdp_template_name\n",
    "\n",
    "# Define path for template copy \n",
    "edited_template_path = workdir+modeldir+'/complex/mdpf/'+\\\n",
    "        mdp_template_name.split('.')[0]+'_'+posres_tag+'.mdp'\n",
    "\n",
    "# Copy template to new file to edit\n",
    "cmd = ['cp', mdp_template_path, edited_template_path]\n",
    "proc = subprocess.Popen(cmd)\n",
    "proc.wait()\n",
    "\n",
    "# Append mdp line for posres\n",
    "with open(edited_template_path, 'a') as fp:\n",
    "    fp.write(posres_mdp_line)\n",
    "fp.close()\n",
    "##########################################\n",
    "# Generate GROMACS .tpr files\n",
    "##########################################\n",
    "md_name = mdp_template_name.split('.')[0]+'_'+posres_tag\n",
    "cmd = [\n",
    "    'gmx_mpi','grompp',\n",
    "    '-f', edited_template_path,\n",
    "    '-c', workdir+modeldir+'/complex/mdf/'+prev_md_name+'.gro',\n",
    "    '-p', workdir+modeldir+'/complex/topol.top',\n",
    "    '-o', workdir+modeldir+'/complex/mdf/'+md_name+'.tpr',\n",
    "    '-maxwarn','3'\n",
    "    ]\n",
    "proc = subprocess.Popen(cmd)\n",
    "proc.wait()\n",
    "##########################################\n",
    "# Generate SLURM submission file\n",
    "slurm_lines = (\n",
    "\"#!/bin/bash -login\"+\"\\n\"\n",
    "\"#SBATCH -p cpu\" +\"\\n\" \n",
    "\"#SBATCH --ntasks-per-node=16\"+\"\\n\"\n",
    "\"#SBATCH -N \"+str(n_nodes)+\"\\n\"\n",
    "\"#SBATCH -t 0-12:30\"+\"\\n\"\n",
    "\"#SBATCH -A S2.1\"+\"\\n\"\n",
    "\"#SBATCH -o complex/jobf/\"+md_name+\".log\"+\"\\n\"\n",
    "\"#SBATCH -e complex/jobf/\"+md_name+\".error\"+\"\\n\"\n",
    "\"\\n\"\n",
    "\"# Load GROMACS module\"+\"\\n\"\n",
    "\"module load apps/gromacs-5.0.6\"+\"\\n\"\n",
    "\"\\n\"\n",
    "\"mpiexec.hydra -psm -bootstrap slurm gmx_mpi mdrun\"+\" \"\n",
    "\"-s complex/mdf/\"+md_name+\".tpr\"+\" \"\n",
    "\"-deffnm complex/mdf/\"+md_name+\"\\n\"\n",
    ")\n",
    "\n",
    "slurm_file = workdir+modeldir+\"/complex/jobf/\"+md_name+\".bg.slurm\"\n",
    "\n",
    "with open(slurm_file,'w') as fp:\n",
    "    fp.write(slurm_lines)\n",
    "fp.close()"
   ]
  },
  {
   "cell_type": "code",
   "execution_count": 257,
   "metadata": {
    "ExecuteTime": {
     "end_time": "2019-03-18T14:07:56.934035Z",
     "start_time": "2019-03-18T14:07:56.928237Z"
    },
    "collapsed": false
   },
   "outputs": [
    {
     "name": "stdout",
     "output_type": "stream",
     "text": [
      "Overwriting /projects/s21/ba13026/Wza_Modeling/L-structures/rosetta/bg_test/md_relax/md_10ns_pr_rrg_RUN_ALL.py\n"
     ]
    }
   ],
   "source": [
    "%%writefile /projects/s21/ba13026/Wza_Modeling/L-structures/rosetta/bg_test/md_relax/md_10ns_pr_rrg_RUN_ALL.py\n",
    "import sys\n",
    "import string\n",
    "import json\n",
    "import subprocess\n",
    "\n",
    "# Import modules from folder\n",
    "modules_path = \"/home/ba13026/mpmodeling/protocols/\"\n",
    "if modules_path not in sys.path:\n",
    "    sys.path.append(modules_path)\n",
    "\n",
    "from custom_posres import get_Indices4restrain\n",
    "from custom_posres import generate_posres\n",
    "from custom_posres import modify_chain_topology\n",
    "##########################################\n",
    "# Global vars\n",
    "##########################################\n",
    "workdir = '/projects/s21/ba13026/Wza_Modeling/L-structures/rosetta/bg_test/md_relax/'\n",
    "# INPUTS for MD setup\n",
    "prev_md_name = 'prmd'\n",
    "template_dir = \"/home/ba13026/mpmodeling/protocols/gmx_protocols/templates/\"\n",
    "mdp_template_name = \"md_10ns_pr-residue_range_group.mdp.template\"\n",
    "n_nodes = 2\n",
    "##########################################\n",
    "\n",
    "def run_all(input_dic):\n",
    "    ##########################################\n",
    "    # INPUTS for posres\n",
    "    ##########################################\n",
    "    modeldir = input_dic[\"modeldir\"]\n",
    "    residue_list = input_dic[\"residue_list\"]\n",
    "    group = input_dic[\"group\"]\n",
    "    force = input_dic[\"force\"]\n",
    "    posres_tag = input_dic[\"posres_tag\"]\n",
    "    ##########################################\n",
    "    # Extract atomic indices for posres according to residue list and group\n",
    "    top_file = workdir + modeldir + '/complex/' + 'topol_Protein_chain_A.itp'\n",
    "    indices = get_Indices4restrain(top_file, residue_list, group)\n",
    "\n",
    "    # Generate posres file\n",
    "    posres_filename = 'posres_'+posres_tag+'.itp'\n",
    "    posres_file = workdir + modeldir + '/complex/' + posres_filename\n",
    "    generate_posres(posres_file, indices, force)\n",
    "\n",
    "    # Modify chain topology files accordingly\n",
    "    N_chains = 8\n",
    "    Chains = string.ascii_uppercase[:N_chains]\n",
    "    for X in Chains:\n",
    "        top_file = workdir + modeldir + '/complex/' + 'topol_Protein_chain_'+X+'.itp'\n",
    "        modify_chain_topology(top_file, posres_file, posres_tag)\n",
    "    ##########################################\n",
    "    posres_mdp_line = (\n",
    "                \"define              =  \"\n",
    "                \"-DPOSRES_\"+posres_tag.upper()+\n",
    "                \" ; Restraint atoms accoridng to custom-restraint\\n\"\n",
    "                )\n",
    "    mdp_template_path = template_dir + mdp_template_name\n",
    "\n",
    "    # Define path for template copy \n",
    "    edited_template_path = workdir+modeldir+'/complex/mdpf/'+\\\n",
    "            mdp_template_name.split('.')[0]+'_'+posres_tag+'.mdp'\n",
    "\n",
    "    # Copy template to new file to edit\n",
    "    cmd = ['cp', mdp_template_path, edited_template_path]\n",
    "    proc = subprocess.Popen(cmd)\n",
    "    proc.wait()\n",
    "\n",
    "    # Append mdp line for posres\n",
    "    with open(edited_template_path, 'a') as fp:\n",
    "        fp.write(posres_mdp_line)\n",
    "    fp.close()\n",
    "    ##########################################\n",
    "    # Generate GROMACS .tpr files\n",
    "    ##########################################\n",
    "    md_name = mdp_template_name.split('.')[0]+'_'+posres_tag\n",
    "    cmd = [\n",
    "        'gmx_mpi','grompp',\n",
    "        '-f', edited_template_path,\n",
    "        '-c', workdir+modeldir+'/complex/mdf/'+prev_md_name+'.gro',\n",
    "        '-p', workdir+modeldir+'/complex/topol.top',\n",
    "        '-o', workdir+modeldir+'/complex/mdf/'+md_name+'.tpr',\n",
    "        '-maxwarn','3'\n",
    "        ]\n",
    "    proc = subprocess.Popen(cmd)\n",
    "    proc.wait()\n",
    "    ##########################################\n",
    "    # Generate SLURM submission file\n",
    "    ##########################################\n",
    "    slurm_lines = (\n",
    "    \"#!/bin/bash -login\"+\"\\n\"\n",
    "    \"#SBATCH -p cpu\" +\"\\n\" \n",
    "    \"#SBATCH --ntasks-per-node=16\"+\"\\n\"\n",
    "    \"#SBATCH -N \"+str(n_nodes)+\"\\n\"\n",
    "    \"#SBATCH -t 0-12:30\"+\"\\n\"\n",
    "    \"#SBATCH -A S2.1\"+\"\\n\"\n",
    "    \"#SBATCH -o complex/jobf/\"+md_name+\".log\"+\"\\n\"\n",
    "    \"#SBATCH -e complex/jobf/\"+md_name+\".error\"+\"\\n\"\n",
    "    \"\\n\"\n",
    "    \"# Load GROMACS module\"+\"\\n\"\n",
    "    \"module load apps/gromacs-5.0.6\"+\"\\n\"\n",
    "    \"\\n\"\n",
    "    \"mpiexec.hydra -psm -bootstrap slurm gmx_mpi mdrun\"+\" \"\n",
    "    \"-s complex/mdf/\"+md_name+\".tpr\"+\" \"\n",
    "    \"-deffnm complex/mdf/\"+md_name+\"\\n\"\n",
    "    )\n",
    "\n",
    "    slurm_file = workdir+modeldir+\"/complex/jobf/\"+md_name+\".bg.slurm\"\n",
    "\n",
    "    with open(slurm_file,'w') as fp:\n",
    "        fp.write(slurm_lines)\n",
    "    fp.close()\n",
    "##########################################\n",
    "if __name__ == '__main__':\n",
    "    json_input = sys.argv[1]\n",
    "    ##########################################\n",
    "    # Extract list of input dics to iterate\n",
    "    with open(json_input, 'r') as fp:\n",
    "        DicsList = json.load(fp)\n",
    "    ##########################################\n",
    "    for input_dic in DicsList:\n",
    "        run_all(input_dic)"
   ]
  },
  {
   "cell_type": "markdown",
   "metadata": {},
   "source": [
    "### Generate JSON input"
   ]
  },
  {
   "cell_type": "markdown",
   "metadata": {},
   "source": [
    "#### First assays"
   ]
  },
  {
   "cell_type": "code",
   "execution_count": 2,
   "metadata": {
    "ExecuteTime": {
     "end_time": "2019-03-18T08:10:27.080635Z",
     "start_time": "2019-03-18T08:10:27.074345Z"
    },
    "collapsed": true
   },
   "outputs": [],
   "source": [
    "import json\n",
    "\n",
    "# Sample of selected models\n",
    "ModelDir = [\n",
    "    'cWza/conformation0/refined1_0001_INPUT_0736_ignorechain',\n",
    "    'cWza-S355C/conformation0/refined1_0001_INPUT_0140_ignorechain',\n",
    "    'cWza-K375C/conformation1/refined1_0001_INPUT_0121_ignorechain',\n",
    "    'cWza-Y373C/conformation1/refined1_0001_INPUT_0320_ignorechain'\n",
    "]\n",
    "\n",
    "Groups = ['Backbone', 'HeavyAtoms']\n",
    "\n",
    "Force = [1000]\n",
    "\n",
    "ResidueLists = [\n",
    "    [1],\n",
    "    [32],\n",
    "    [1,4],\n",
    "    [31,32],\n",
    "    [1,4,31,32],\n",
    "    [5,8],\n",
    "    [28,31],\n",
    "    [5,31],\n",
    "    [8,28],\n",
    "    [5,8,28,31]\n",
    "]\n",
    "##########################################\n",
    "DicsList = []\n",
    "for modeldir in ModelDir:\n",
    "    counter = 0\n",
    "    input_dic = {}\n",
    "    for group in Groups:\n",
    "        for residue_list in ResidueLists:\n",
    "            for force in Force:\n",
    "                input_dic = {\n",
    "                    \"modeldir\" : modeldir,\n",
    "                    \"residue_list\" : residue_list,\n",
    "                    \"group\" : group,\n",
    "                    \"force\" : force,\n",
    "                    \"posres_tag\" : 'prmd_id_'+str(counter)\n",
    "                    }\n",
    "                counter +=1\n",
    "                DicsList.append(input_dic)\n",
    "\n",
    "workdir = '/projects/s21/ba13026/Wza_Modeling/L-structures/rosetta/bg_test/md_relax/'\n",
    "json_input = workdir+'md_10ns_pr_residue_range_group_ALL_INPUTS.json'\n",
    "\n",
    "with open(json_input, 'w') as fp:\n",
    "    json.dump(DicsList, fp, indent=4)"
   ]
  },
  {
   "cell_type": "markdown",
   "metadata": {},
   "source": [
    "#### Second assays"
   ]
  },
  {
   "cell_type": "markdown",
   "metadata": {},
   "source": [
    "List of models choosen to compare results for alternate or single conformations."
   ]
  },
  {
   "cell_type": "code",
   "execution_count": 68,
   "metadata": {
    "ExecuteTime": {
     "end_time": "2019-03-21T10:52:12.481075Z",
     "start_time": "2019-03-21T10:52:12.448695Z"
    },
    "collapsed": true
   },
   "outputs": [],
   "source": [
    "import json\n",
    "\n",
    "# Sample of selected models\n",
    "ModelDir = [\n",
    "    'cWza/conformation1/refined1_0001_INPUT_0324_ignorechain',\n",
    "    'cWza-S355C/conformation1/refined1_0001_INPUT_0677_ignorechain',\n",
    "    'cWza-K375C/conformation0/refined1_0001_INPUT_0600_ignorechain',\n",
    "    'cWza-Y373C/conformation1/refined1_0001_INPUT_0935_ignorechain'\n",
    "]\n",
    "\n",
    "Groups = ['Backbone', 'HeavyAtoms']\n",
    "\n",
    "Force = [1000]\n",
    "\n",
    "ResidueLists = [\n",
    "    [1],\n",
    "    [32],\n",
    "    [1,4],\n",
    "    [31,32],\n",
    "    [1,4,31,32],\n",
    "    [5,8],\n",
    "    [28,31],\n",
    "    [5,31],\n",
    "    [8,28],\n",
    "    [5,8,28,31]\n",
    "]\n",
    "##########################################\n",
    "DicsList = []\n",
    "for modeldir in ModelDir:\n",
    "    counter = 0\n",
    "    input_dic = {}\n",
    "    for group in Groups:\n",
    "        for residue_list in ResidueLists:\n",
    "            for force in Force:\n",
    "                input_dic = {\n",
    "                    \"modeldir\" : modeldir,\n",
    "                    \"residue_list\" : residue_list,\n",
    "                    \"group\" : group,\n",
    "                    \"force\" : force,\n",
    "                    \"posres_tag\" : 'prmd_id_'+str(counter)\n",
    "                    }\n",
    "                counter +=1\n",
    "                DicsList.append(input_dic)\n",
    "\n",
    "workdir = '/projects/s21/ba13026/Wza_Modeling/L-structures/rosetta/bg_test/md_relax/'\n",
    "json_input = workdir+'md_10ns_pr_residue_range_group_ALL_INPUTS2.json'\n",
    "\n",
    "with open(json_input, 'w') as fp:\n",
    "    json.dump(DicsList, fp, indent=4)"
   ]
  },
  {
   "cell_type": "markdown",
   "metadata": {},
   "source": [
    "#### Third assays"
   ]
  },
  {
   "cell_type": "code",
   "execution_count": 3,
   "metadata": {
    "ExecuteTime": {
     "end_time": "2019-03-25T10:44:50.510482Z",
     "start_time": "2019-03-25T10:44:50.481533Z"
    },
    "collapsed": false
   },
   "outputs": [],
   "source": [
    "import json\n",
    "\n",
    "# Sample of selected models\n",
    "\n",
    "ModelDir = [\n",
    "    'cWza/conformation0/refined1_0001_INPUT_0736_ignorechain',\n",
    "    'cWza/conformation1/refined1_0001_INPUT_0324_ignorechain',\n",
    "    'cWza-K375C/conformation0/refined1_0001_INPUT_0600_ignorechain',\n",
    "    'cWza-K375C/conformation1/refined1_0001_INPUT_0121_ignorechain',\n",
    "    'cWza-S355C/conformation0/refined1_0001_INPUT_0140_ignorechain',\n",
    "    'cWza-S355C/conformation1/refined1_0001_INPUT_0677_ignorechain',\n",
    "    'cWza-Y373C/conformation1/refined1_0001_INPUT_0320_ignorechain',\n",
    "    'cWza-Y373C/conformation1/refined1_0001_INPUT_0935_ignorechain'\n",
    "]\n",
    "\n",
    "Groups = ['Backbone', 'HeavyAtoms']\n",
    "\n",
    "Force = [1000]\n",
    "\n",
    "ResidueLists = [\n",
    "    [4],\n",
    "    [5],\n",
    "    [7],\n",
    "    [8],\n",
    "    [16],\n",
    "    [27],\n",
    "    [28],\n",
    "    [30],\n",
    "    [31]\n",
    "]\n",
    "##########################################\n",
    "DicsList = []\n",
    "for modeldir in ModelDir:\n",
    "    counter = 0\n",
    "    input_dic = {}\n",
    "    for group in Groups:\n",
    "        for residue_list in ResidueLists:\n",
    "            for force in Force:\n",
    "                input_dic = {\n",
    "                    \"modeldir\" : modeldir,\n",
    "                    \"residue_list\" : residue_list,\n",
    "                    \"group\" : group,\n",
    "                    \"force\" : force,\n",
    "                    \"posres_tag\" : 'prmd_res_'+str(residue_list[0])+'_id_'+str(counter)\n",
    "                    }\n",
    "                counter +=1\n",
    "                DicsList.append(input_dic)\n",
    "\n",
    "workdir = '/projects/s21/ba13026/Wza_Modeling/L-structures/rosetta/bg_test/md_relax/'\n",
    "json_input = workdir+'md_10ns_pr_residue_range_group_ALL_INPUTS3.json'\n",
    "\n",
    "with open(json_input, 'w') as fp:\n",
    "    json.dump(DicsList, fp, indent=4)"
   ]
  },
  {
   "cell_type": "code",
   "execution_count": null,
   "metadata": {
    "collapsed": true
   },
   "outputs": [],
   "source": []
  },
  {
   "cell_type": "markdown",
   "metadata": {},
   "source": [
    "# Data Analysis pipeline for interaction protbability distirbutions per trajectory"
   ]
  },
  {
   "cell_type": "markdown",
   "metadata": {},
   "source": [
    "## Parallel extraction of protein structures per frame in trajectory"
   ]
  },
  {
   "cell_type": "markdown",
   "metadata": {},
   "source": [
    "**SLAVE script**\n",
    "\n",
    "`protein_frame_extractor.py`\n",
    "\n",
    "Features:\n",
    "\n",
    "* Creates folder (same name as basename of trajectory) containing all protein frames, provided model directory\n",
    "* Rate of extraction is fixed (1 frame per nanosec)"
   ]
  },
  {
   "cell_type": "markdown",
   "metadata": {},
   "source": [
    "PROPOSED IMPROVED VERSION"
   ]
  },
  {
   "cell_type": "markdown",
   "metadata": {},
   "source": [
    "Features:\n",
    "\n",
    "* Pass input parameters of slave script in the form of a dictionary"
   ]
  },
  {
   "cell_type": "markdown",
   "metadata": {
    "ExecuteTime": {
     "end_time": "2019-03-16T11:33:13.510383Z",
     "start_time": "2019-03-16T11:33:13.453875Z"
    }
   },
   "source": [
    "Example of input dictionary\n",
    "\n",
    "```python\n",
    "input_dic = {\n",
    "    'workdir' : '/projects/s21/ba13026/Wza_Modeling/L-structures/rosetta/bg_test/md_relax/',\n",
    "    'name' : 'md_100ns',\n",
    "    'model_path' : 'cWza/conformation0/refined1_0001_INPUT_0636_ignorechain',\n",
    "    't_init' : 0,\n",
    "    't_final' : 10000,\n",
    "    'dt' : 1000\n",
    "}\n",
    "```"
   ]
  },
  {
   "cell_type": "markdown",
   "metadata": {},
   "source": [
    "**New SLAVE script**"
   ]
  },
  {
   "cell_type": "code",
   "execution_count": 113,
   "metadata": {
    "ExecuteTime": {
     "end_time": "2019-03-16T11:57:34.078504Z",
     "start_time": "2019-03-16T11:57:34.072695Z"
    },
    "collapsed": false
   },
   "outputs": [
    {
     "name": "stdout",
     "output_type": "stream",
     "text": [
      "Overwriting /home/ba13026/mpmodeling/tools/protein_frame_extractor_API.py\n"
     ]
    }
   ],
   "source": [
    "%%writefile /home/ba13026/mpmodeling/tools/protein_frame_extractor_API.py\n",
    "import sys\n",
    "import os\n",
    "import subprocess\n",
    "import concurrent.futures\n",
    "\n",
    "# Import modules from folder\n",
    "modules_path = \"/home/ba13026/mpmodeling/protocols/\"\n",
    "if modules_path not in sys.path:\n",
    "    sys.path.append(modules_path)\n",
    "\n",
    "def execute_extractor(input_dict):\n",
    "    #############################################\n",
    "    # Extract relevant values from input dict\n",
    "    workdir = input_dict['workdir']\n",
    "    name = input_dict['name']\n",
    "    model_path = input_dict['model_path']\n",
    "    t_init = input_dict['t_init']\n",
    "    t_final = input_dict['t_final']\n",
    "    dt = input_dict['dt']\n",
    "    #############################################\n",
    "    if os.path.isdir(model_path):\n",
    "        pass\n",
    "    else:\n",
    "        try:\n",
    "            model_path = workdir + model_path\n",
    "            if os.path.isdir(model_path):\n",
    "                pass\n",
    "        except:\n",
    "            print(\"Not a valid dir path for model\")\n",
    "\n",
    "    extension = '.xtc'\n",
    "    filename = model_path+'/complex/mdf/' + name\n",
    "\n",
    "    # Generate index file\n",
    "    cmd = [\n",
    "            'gmx_mpi','make_ndx',\n",
    "            '-f',filename+'.tpr',\n",
    "            '-o',filename+'.ndx'\n",
    "            ]\n",
    "    proc = subprocess.Popen(cmd, stdin = subprocess.PIPE)\n",
    "    proc.communicate(b\"q\\n\")\n",
    "    proc.wait()\n",
    "\n",
    "    # Make directory to store frames\n",
    "    cmd = ['mkdir', filename]\n",
    "    proc = subprocess.Popen(cmd)\n",
    "    proc.wait()\n",
    "\n",
    "    # Extract frames\n",
    "    outdir = filename\n",
    "    cmd = [\n",
    "            'gmx_mpi','trjconv',\n",
    "            '-f',filename+'.xtc',\n",
    "            '-s',filename+'.tpr',\n",
    "            '-n',filename+'.ndx',\n",
    "            '-b',str(t_init),\n",
    "            '-e',str(t_final),\n",
    "            '-dt',str(dt),\n",
    "            '-sep',\n",
    "            '-o',outdir+'/'+'Protein_.pdb'\n",
    "        ]\n",
    "    proc = subprocess.Popen(cmd, stdin = subprocess.PIPE)\n",
    "    proc.communicate(b\"Protein\\n\")\n",
    "    proc.wait()\n",
    "\n",
    "    # Alter frames fro Isambard\n",
    "    def fix_pdb(pdb_path):\n",
    "        script_path = '/home/ba13026/mpmodeling/tools/fix_pdb.py'\n",
    "        cmd = [\n",
    "            'pymol','-qc',\n",
    "            script_path,'--',\n",
    "            pdb_path\n",
    "            ]\n",
    "        try:\n",
    "            proc = subprocess.Popen(cmd)\n",
    "            proc.wait()\n",
    "        except:\n",
    "            print(\"There was an error. Perhaps the PDB has already been altered!\")\n",
    "\n",
    "    Protein_frames = os.listdir(outdir)\n",
    "    param_list = [outdir+'/'+pdb_frame for pdb_frame in Protein_frames]\n",
    "    n_threads = 4\n",
    "    with concurrent.futures.ThreadPoolExecutor(max_workers = n_threads) as executor:\n",
    "        executor.map(fix_pdb, param_list)"
   ]
  },
  {
   "cell_type": "markdown",
   "metadata": {},
   "source": [
    "**MASTER script**"
   ]
  },
  {
   "cell_type": "markdown",
   "metadata": {},
   "source": [
    "Features: \n",
    "\n",
    "* Extract frames for (JSON) list of trajectory files, provided a model directory\n",
    "* Assumes that all trajectory files have the same basename"
   ]
  },
  {
   "cell_type": "markdown",
   "metadata": {},
   "source": [
    "Current Version:\n",
    "\n",
    "```python\n",
    "import sys\n",
    "import os\n",
    "import json\n",
    "import subprocess\n",
    "import concurrent.futures\n",
    "\n",
    "ncores = int(sys.argv[1])\n",
    "json_input = sys.argv[2]\n",
    "\n",
    "with open(json_input,'r') as fp:\n",
    "    param_list = json.load(fp)\n",
    "\n",
    "modules_path = \"/home/ba13026/mpmodeling/protocols/\"\n",
    "if modules_path not in sys.path:\n",
    "    sys.path.append(modules_path)\n",
    "\n",
    "from cluster_transfer import BG\n",
    "\n",
    "name = 'md_100ns'\n",
    "refined_param_list = []\n",
    "for x in param_list:\n",
    "    model_dir = BG.workdir+x\n",
    "    frames_dir = model_dir+'/complex/mdf/'+name\n",
    "    if not os.path.isdir(frames_dir):\n",
    "        refined_param_list.append(x)\n",
    "\n",
    "param_list = refined_param_list\n",
    "\n",
    "def extract_proteins(r_model_dir):\n",
    "    script_path = '/home/ba13026/mpmodeling/tools/protein_frame_extractor.py'\n",
    "    cmd = ['python',script_path,name,r_model_dir]\n",
    "    proc = subprocess.Popen(cmd)\n",
    "    proc.wait()\n",
    "\n",
    "def main():\n",
    "    with concurrent.futures.ProcessPoolExecutor(max_workers = ncores) as executor:\n",
    "        executor.map(extract_proteins, param_list)\n",
    "\n",
    "if __name__ == '__main__':\n",
    "        main()\n",
    "```"
   ]
  },
  {
   "cell_type": "markdown",
   "metadata": {},
   "source": [
    "**New MASTER script**"
   ]
  },
  {
   "cell_type": "code",
   "execution_count": 123,
   "metadata": {
    "ExecuteTime": {
     "end_time": "2019-03-16T12:43:07.616854Z",
     "start_time": "2019-03-16T12:43:07.611698Z"
    },
    "collapsed": false
   },
   "outputs": [
    {
     "name": "stdout",
     "output_type": "stream",
     "text": [
      "Writing /home/ba13026/mpmodeling/tools/parallel_protein_frame_extraction.py\n"
     ]
    }
   ],
   "source": [
    "%%writefile /home/ba13026/mpmodeling/tools/parallel_protein_frame_extraction.py\n",
    "import sys\n",
    "import os\n",
    "import json\n",
    "import subprocess\n",
    "import concurrent.futures\n",
    "\n",
    "ncores = int(sys.argv[1])\n",
    "json_input = sys.argv[2]\n",
    "\n",
    "with open(json_input,'r') as fp:\n",
    "    param_list = json.load(fp)\n",
    "\n",
    "modules_path = \"/home/ba13026/mpmodeling/tools/\"\n",
    "if modules_path not in sys.path:\n",
    "    sys.path.append(modules_path)\n",
    "\n",
    "from protein_frame_extractor_API import execute_extractor\n",
    "\n",
    "def main():\n",
    "    with concurrent.futures.ProcessPoolExecutor(max_workers = ncores) as executor:\n",
    "        executor.map(execute_extractor, param_list)\n",
    "\n",
    "if __name__ == '__main__':\n",
    "        main()"
   ]
  },
  {
   "cell_type": "markdown",
   "metadata": {},
   "source": [
    "### FIRST ASSAY: **Generate  *Input* JSON file for *Master script***"
   ]
  },
  {
   "cell_type": "code",
   "execution_count": 159,
   "metadata": {
    "ExecuteTime": {
     "end_time": "2019-03-16T14:13:04.901219Z",
     "start_time": "2019-03-16T14:13:04.872742Z"
    },
    "collapsed": true
   },
   "outputs": [],
   "source": [
    "# Make list of trajectory filename\n",
    "NAMES = [\n",
    "    'prmd_C-ter_charged_10ns',\n",
    "    'prmd_NC-ter_charged_10ns',\n",
    "    'prmd_N-ter_C-ter_charged_10ns',\n",
    "    'prmd_res20-32_10ns',\n",
    "    'prmd_res32_10ns',\n",
    "]\n",
    "\n",
    "workdir = '/projects/s21/ba13026/Wza_Modeling/L-structures/rosetta/bg_test/md_relax/'\n",
    "model_dir = 'cWza/conformation0/refined1_0001_INPUT_0736_ignorechain'\n",
    "\n",
    "# Make list of parameters with input dics\n",
    "param_list = []\n",
    "for name in NAMES:\n",
    "    input_dic = {}\n",
    "    input_dic = {\n",
    "        'workdir' : workdir,\n",
    "        'name' : name,\n",
    "        'model_path' : model_dir,\n",
    "        't_init' : 0,\n",
    "        't_final' : 10000,\n",
    "        'dt' : 100\n",
    "    }\n",
    "    param_list.append(input_dic)\n",
    "\n",
    "# Save list as JSON seriable file\n",
    "workdir = '/projects/s21/ba13026/Wza_Modeling/L-structures/rosetta/bg_test/md_relax/'\n",
    "filename = 'prmd_assays_frame-extractor-input.json'\n",
    "with open(workdir+filename,'w') as fp:\n",
    "    json.dump(param_list, fp, indent=4)"
   ]
  },
  {
   "cell_type": "markdown",
   "metadata": {},
   "source": [
    "### SECOND ASSAY: **Generate  *Input* JSON file for *Master script***"
   ]
  },
  {
   "cell_type": "code",
   "execution_count": 5,
   "metadata": {
    "ExecuteTime": {
     "end_time": "2019-03-25T11:00:32.865351Z",
     "start_time": "2019-03-25T11:00:32.840182Z"
    },
    "collapsed": true
   },
   "outputs": [],
   "source": [
    "# Make list of trajectory filename\n",
    "NAMES = []\n",
    "for num in range(20):\n",
    "    name = 'md_10ns_pr-residue_range_group_prmd_id_'+str(num)\n",
    "    NAMES.append(name)\n",
    "\n",
    "ModelDir = [\n",
    "    'cWza/conformation0/refined1_0001_INPUT_0736_ignorechain',\n",
    "    'cWza/conformation1/refined1_0001_INPUT_0324_ignorechain',\n",
    "    'cWza-K375C/conformation0/refined1_0001_INPUT_0600_ignorechain',\n",
    "    'cWza-K375C/conformation1/refined1_0001_INPUT_0121_ignorechain',\n",
    "    'cWza-S355C/conformation0/refined1_0001_INPUT_0140_ignorechain',\n",
    "    'cWza-S355C/conformation1/refined1_0001_INPUT_0677_ignorechain',\n",
    "    'cWza-Y373C/conformation1/refined1_0001_INPUT_0320_ignorechain',\n",
    "    'cWza-Y373C/conformation1/refined1_0001_INPUT_0935_ignorechain'\n",
    "]    \n",
    "    \n",
    "workdir = '/projects/s21/ba13026/Wza_Modeling/L-structures/rosetta/bg_test/md_relax/'\n",
    "\n",
    "# Make list of parameters with input dics\n",
    "\n",
    "param_list = []\n",
    "for model_dir in ModelDir:\n",
    "    for name in NAMES:\n",
    "        input_dic = {}\n",
    "        input_dic = {\n",
    "            'workdir' : workdir,\n",
    "            'name' : name,\n",
    "            'model_path' : model_dir,\n",
    "            't_init' : 0,\n",
    "            't_final' : 10000,\n",
    "            'dt' : 100\n",
    "        }\n",
    "        param_list.append(input_dic)\n",
    "\n",
    "# Save list as JSON seriable file\n",
    "workdir = '/projects/s21/ba13026/Wza_Modeling/L-structures/rosetta/bg_test/md_relax/'\n",
    "filename = 'prmd_assays_frame-extractor-input2.json'\n",
    "with open(workdir+filename,'w') as fp:\n",
    "    json.dump(param_list, fp, indent=4)"
   ]
  },
  {
   "cell_type": "markdown",
   "metadata": {},
   "source": [
    "Execution:\n",
    "```\n",
    "nohup python ~/mpmodeling/tools/parallel_protein_frame_extraction.py 10 prmd_assays_frame-extractor-input2.json > prmd_assays_frame-extractor-input2.out &\n",
    "```"
   ]
  },
  {
   "cell_type": "code",
   "execution_count": null,
   "metadata": {
    "collapsed": true
   },
   "outputs": [],
   "source": []
  },
  {
   "cell_type": "markdown",
   "metadata": {},
   "source": [
    "##  DB setup"
   ]
  },
  {
   "cell_type": "markdown",
   "metadata": {},
   "source": [
    "Set up DB per model dir"
   ]
  },
  {
   "cell_type": "markdown",
   "metadata": {},
   "source": [
    "``` bash\n",
    "python ~/mpmodeling/analysis/setup_geometry_interactions_db.py cWza/conformation0/refined1_0001_INPUT_0736_ignorechain/prmd_assays.db\n",
    "```"
   ]
  },
  {
   "cell_type": "markdown",
   "metadata": {},
   "source": [
    "**Generate DBs for all mutants**"
   ]
  },
  {
   "cell_type": "code",
   "execution_count": 11,
   "metadata": {
    "ExecuteTime": {
     "end_time": "2019-03-25T11:24:24.370697Z",
     "start_time": "2019-03-25T11:24:24.367770Z"
    },
    "collapsed": true
   },
   "outputs": [],
   "source": [
    "ModelDir = [\n",
    "    'cWza/conformation0/refined1_0001_INPUT_0736_ignorechain',\n",
    "    'cWza/conformation1/refined1_0001_INPUT_0324_ignorechain',\n",
    "    'cWza-K375C/conformation0/refined1_0001_INPUT_0600_ignorechain',\n",
    "    'cWza-K375C/conformation1/refined1_0001_INPUT_0121_ignorechain',\n",
    "    'cWza-S355C/conformation0/refined1_0001_INPUT_0140_ignorechain',\n",
    "    'cWza-S355C/conformation1/refined1_0001_INPUT_0677_ignorechain',\n",
    "    'cWza-Y373C/conformation1/refined1_0001_INPUT_0320_ignorechain',\n",
    "    'cWza-Y373C/conformation1/refined1_0001_INPUT_0935_ignorechain'\n",
    "]    "
   ]
  },
  {
   "cell_type": "code",
   "execution_count": 12,
   "metadata": {
    "ExecuteTime": {
     "end_time": "2019-03-25T11:24:24.871443Z",
     "start_time": "2019-03-25T11:24:24.869519Z"
    },
    "collapsed": true
   },
   "outputs": [],
   "source": [
    "import subprocess"
   ]
  },
  {
   "cell_type": "code",
   "execution_count": 18,
   "metadata": {
    "ExecuteTime": {
     "end_time": "2019-03-25T11:29:59.027958Z",
     "start_time": "2019-03-25T11:29:59.001003Z"
    },
    "collapsed": true
   },
   "outputs": [],
   "source": [
    "for modeldir in ModelDir:\n",
    "    dbname = workdir+modeldir+'/'+'prmd_residue-groups_assays.db'\n",
    "    cmd = [\n",
    "        'python',\n",
    "        '/home/ba13026/mpmodeling/analysis/setup_geometry_interactions_db.py',\n",
    "        dbname\n",
    "    ]\n",
    "    subprocess.Popen(cmd)"
   ]
  },
  {
   "cell_type": "markdown",
   "metadata": {},
   "source": [
    "**Generate JSON input for DB insertion script**"
   ]
  },
  {
   "cell_type": "code",
   "execution_count": 149,
   "metadata": {
    "ExecuteTime": {
     "end_time": "2019-03-16T13:55:46.657390Z",
     "start_time": "2019-03-16T13:55:46.623268Z"
    },
    "collapsed": false
   },
   "outputs": [],
   "source": [
    "# Generic parameters \n",
    "workdir = '/projects/s21/ba13026/Wza_Modeling/L-structures/rosetta/bg_test/md_relax/'\n",
    "model_dir = 'cWza/conformation0/refined1_0001_INPUT_0736_ignorechain'\n",
    "mutant, conformation, pdb_name = model_dir.split('/')\n",
    "t_init = 0; t_final = 10000; dt = 100; N_frames = int(t_final/dt)\n",
    "\n",
    "# List of MD sim names\n",
    "NAMES = [\n",
    "    'prmd_C-ter_charged_10ns',\n",
    "    'prmd_NC-ter_charged_10ns',\n",
    "    'prmd_N-ter_C-ter_charged_10ns',\n",
    "    'prmd_res20-32_10ns',\n",
    "    'prmd_res32_10ns',\n",
    "]\n",
    "\n",
    "param_list_db = []\n",
    "for name in NAMES:\n",
    "    for n in range(N_frames):\n",
    "        group = conformation+':'+name+':'+str(n)\n",
    "        pdb_path = workdir+model_dir+'/complex/mdf/'+name+'/'+'Protein_'+str(n)+'.pdb'\n",
    "        tags = [mutant, group, pdb_name]\n",
    "        info = [tags, pdb_path]\n",
    "        param_list_db.append(info)\n",
    "\n",
    "filename = 'prmd_assays_db-input.json'\n",
    "with open(workdir+filename,'w') as fp:\n",
    "    json.dump(param_list_db, fp, indent=4)"
   ]
  },
  {
   "cell_type": "markdown",
   "metadata": {},
   "source": [
    "Database data insertion"
   ]
  },
  {
   "cell_type": "markdown",
   "metadata": {},
   "source": [
    "```\n",
    "python ~/mpmodeling/analysis/insert2db_geometry_interactions.py cWza/conformation0/refined1_0001_INPUT_0736_ignorechain/prmd_assays.db prmd_assays_db-input.json 10 > prmd_assays_db-input.out &\n",
    "```"
   ]
  },
  {
   "cell_type": "markdown",
   "metadata": {},
   "source": [
    "SECOND ASSAYS: **Generate JSON input for DB insertion script**"
   ]
  },
  {
   "cell_type": "code",
   "execution_count": 19,
   "metadata": {
    "ExecuteTime": {
     "end_time": "2019-03-25T11:36:57.855454Z",
     "start_time": "2019-03-25T11:36:57.630737Z"
    },
    "collapsed": false
   },
   "outputs": [],
   "source": [
    "# Generic parameters \n",
    "\n",
    "NAMES = []\n",
    "for num in range(20):\n",
    "    name = 'md_10ns_pr-residue_range_group_prmd_id_'+str(num)\n",
    "    NAMES.append(name)\n",
    "\n",
    "ModelDir = [\n",
    "    'cWza/conformation0/refined1_0001_INPUT_0736_ignorechain',\n",
    "    'cWza/conformation1/refined1_0001_INPUT_0324_ignorechain',\n",
    "    'cWza-K375C/conformation0/refined1_0001_INPUT_0600_ignorechain',\n",
    "    'cWza-K375C/conformation1/refined1_0001_INPUT_0121_ignorechain',\n",
    "    'cWza-S355C/conformation0/refined1_0001_INPUT_0140_ignorechain',\n",
    "    'cWza-S355C/conformation1/refined1_0001_INPUT_0677_ignorechain',\n",
    "    'cWza-Y373C/conformation1/refined1_0001_INPUT_0320_ignorechain',\n",
    "    'cWza-Y373C/conformation1/refined1_0001_INPUT_0935_ignorechain'\n",
    "]    \n",
    "    \n",
    "workdir = '/projects/s21/ba13026/Wza_Modeling/L-structures/rosetta/bg_test/md_relax/'\n",
    "\n",
    "for model_dir in ModelDir:\n",
    "    mutant, conformation, pdb_name = model_dir.split('/')\n",
    "    t_init = 0; t_final = 10000; dt = 100; N_frames = int(t_final/dt)\n",
    "\n",
    "    param_list_db = []\n",
    "    for name in NAMES:\n",
    "        for n in range(N_frames):\n",
    "            group = conformation+':'+name+':'+str(n)\n",
    "            pdb_path = workdir+model_dir+'/complex/mdf/'+name+'/'+'Protein_'+str(n)+'.pdb'\n",
    "            tags = [mutant, group, pdb_name]\n",
    "            info = [tags, pdb_path]\n",
    "            param_list_db.append(info)\n",
    "\n",
    "    filename = 'prmd_residue-groups_assays_db-input.json'\n",
    "    with open(workdir+model_dir+'/'+filename,'w') as fp:\n",
    "        json.dump(param_list_db, fp, indent=4)"
   ]
  },
  {
   "cell_type": "markdown",
   "metadata": {},
   "source": [
    "## Reading DB"
   ]
  },
  {
   "cell_type": "code",
   "execution_count": 4,
   "metadata": {
    "ExecuteTime": {
     "end_time": "2019-03-19T19:05:57.392126Z",
     "start_time": "2019-03-19T19:05:57.390063Z"
    },
    "collapsed": true
   },
   "outputs": [],
   "source": [
    "import json\n",
    "import sys"
   ]
  },
  {
   "cell_type": "code",
   "execution_count": 5,
   "metadata": {
    "ExecuteTime": {
     "end_time": "2019-03-19T19:06:04.592763Z",
     "start_time": "2019-03-19T19:05:58.088956Z"
    },
    "collapsed": false
   },
   "outputs": [],
   "source": [
    "modules_paths = [\n",
    "    \"/home/ba13026/mpmodeling/analysis\"\n",
    "]\n",
    "\n",
    "for path in modules_paths:\n",
    "    if path not in sys.path:\n",
    "        sys.path.append(path)\n",
    "\n",
    "from geometry_interactions import start_session\n",
    "\n",
    "from setup_geometry_interactions_db import \\\n",
    "    Json,Tags,RigidBody,RadialProfiles,Miscellaneous,Interhelix_Interactions, Base"
   ]
  },
  {
   "cell_type": "raw",
   "metadata": {
    "ExecuteTime": {
     "end_time": "2019-03-18T14:58:05.048847Z",
     "start_time": "2019-03-18T14:58:03.545609Z"
    },
    "collapsed": false
   },
   "source": [
    "name = 'prmd_res20-32_10ns'\n",
    "regex = 'conformation0:'+name+':%'\n",
    "data = [x[0] for x in session.query(Interhelix_Interactions.hbonds).filter(Tags.group.like(regex)).all()]"
   ]
  },
  {
   "cell_type": "code",
   "execution_count": 14,
   "metadata": {
    "ExecuteTime": {
     "end_time": "2019-03-19T19:08:05.514854Z",
     "start_time": "2019-03-19T19:08:05.501425Z"
    },
    "collapsed": true
   },
   "outputs": [],
   "source": [
    "from insert2db_geometry_interactions import interaction_direction\n",
    "\n",
    "def get_superbase(data):\n",
    "    N_residues = 32\n",
    "    S_inter = set()\n",
    "    for j in range(len(data)):\n",
    "        S_inter = S_inter.union(set(data[j]))\n",
    "    # Sort base by residue number    \n",
    "    X = list(S_inter)\n",
    "    Y = [json.dumps(x[:-1]+[interaction_direction(x[-1])]) for x in [json.loads(x) for x in X]]\n",
    "    S_inter_sorted = []\n",
    "    for resn in range(1,N_residues+1):\n",
    "        for y in set(Y):\n",
    "            x = json.loads(y)\n",
    "            if int(x[0]) == resn:\n",
    "                S_inter_sorted.append(json.dumps(x))\n",
    "    return S_inter_sorted"
   ]
  },
  {
   "cell_type": "markdown",
   "metadata": {},
   "source": [
    "**NOTES** \n",
    "\n",
    "Since interactions per assay, are obtained with a fixed model. Get interactions for docked model, then compute interaction probabilities per assay, and compare with respect to docked model."
   ]
  },
  {
   "cell_type": "markdown",
   "metadata": {
    "collapsed": true
   },
   "source": [
    "**FIRST**, get interactions per original docked model. Make panel of 4 subplots, per interaction type (H-bonds and KIHs)"
   ]
  },
  {
   "cell_type": "code",
   "execution_count": 8,
   "metadata": {
    "ExecuteTime": {
     "end_time": "2019-03-19T19:07:37.874649Z",
     "start_time": "2019-03-19T19:07:37.869488Z"
    },
    "collapsed": false
   },
   "outputs": [],
   "source": [
    "# Generic parameters \n",
    "workdir = '/projects/s21/ba13026/Wza_Modeling/L-structures/rosetta/bg_test/md_relax/'\n",
    "\n",
    "NAMES = [\n",
    "    'prmd_C-ter_charged_10ns',\n",
    "    'prmd_NC-ter_charged_10ns',\n",
    "    'prmd_N-ter_C-ter_charged_10ns',\n",
    "    'prmd_res20-32_10ns',\n",
    "    'prmd_res32_10ns',\n",
    "]\n",
    "\n",
    "ModelDir = [\n",
    "    'cWza/conformation0/refined1_0001_INPUT_0736_ignorechain'\n",
    "]\n",
    "\n",
    "InterTag = {\n",
    "    'hbonds' : Interhelix_Interactions.hbonds,\n",
    "    'kihs' : Interhelix_Interactions.kihs\n",
    "}"
   ]
  },
  {
   "cell_type": "code",
   "execution_count": 49,
   "metadata": {
    "ExecuteTime": {
     "end_time": "2019-03-20T12:19:20.160959Z",
     "start_time": "2019-03-20T12:19:20.155740Z"
    },
    "collapsed": false
   },
   "outputs": [],
   "source": [
    "import isambard_dev\n",
    "import pandas as pd\n",
    "import matplotlib.pyplot as plt\n",
    "from operator import itemgetter\n",
    "from insert2db_geometry_interactions import get_OH_atoms\n",
    "from insert2db_geometry_interactions import get_KIHs\n",
    "from geometry_interactions import Analyse_Interactions\n",
    "from geometry_interactions import Models, Analyse_Interactions, Tools, start_session, sort_superbase"
   ]
  },
  {
   "cell_type": "code",
   "execution_count": 36,
   "metadata": {
    "ExecuteTime": {
     "end_time": "2019-03-20T12:05:44.846661Z",
     "start_time": "2019-03-20T12:05:44.844438Z"
    },
    "collapsed": true
   },
   "outputs": [],
   "source": [
    "inter = 'hbonds'\n",
    "\n",
    "Superbases = {}\n",
    "Superbases = {'cWza':[]}\n",
    "InteractionData = {}\n",
    "\n",
    "for modeldir in ModelDir:\n",
    "    dbfile = workdir+modeldir+'/'+'prmd_assays.db'\n",
    "    session = start_session(dbfile)\n",
    "    mutant, conformation, pdb_name = modeldir.split('/')\n",
    "    docked_path = workdir+modeldir+'/'+pdb_name+'.pdb'\n",
    "    ampal = isambard_dev.ampal.convert_pdb_to_ampal(docked_path)\n",
    "    if inter == 'hbonds':\n",
    "        atoms = get_OH_atoms(ampal)\n",
    "    elif inter == 'kihs':\n",
    "        atoms = get_KIHs(ampal)\n",
    "    InteractionData['docked'] = atoms\n",
    "    Superbases['cWza'].append(get_superbase([atoms]))\n",
    "\n",
    "for name in NAMES :\n",
    "    InteractionData[name] = []\n",
    "    regex = conformation+':'+name+':%'\n",
    "    traj_ids = [x[0] for x in session.query(Tags.id).filter(mutant=='cWza',Tags.group.like(regex)).all()]\n",
    "    for frame_id in traj_ids:\n",
    "        try:\n",
    "            data = session.query(InterTag[inter]).filter_by(id=frame_id).all()[0][0]\n",
    "            InteractionData[name].append(data)\n",
    "        except:\n",
    "            pass\n",
    "    sbase = get_superbase(InteractionData[name])\n",
    "    Superbases['cWza'].append(sbase)"
   ]
  },
  {
   "cell_type": "code",
   "execution_count": 18,
   "metadata": {
    "ExecuteTime": {
     "end_time": "2019-03-19T19:08:31.256256Z",
     "start_time": "2019-03-19T19:08:31.248319Z"
    },
    "collapsed": false
   },
   "outputs": [],
   "source": [
    "unified_sbase = set()\n",
    "for sb in list(Superbases['cWza']):\n",
    "    unified_sbase = unified_sbase.union(set(sb))\n",
    "\n",
    "sbase = list(unified_sbase)\n",
    "sbase0 = sort_superbase(list(sbase), N_residues=32)\n",
    "\n",
    "Probs = {}\n",
    "name = 'docked'\n",
    "model = Models('')\n",
    "analysis = Analyse_Interactions(model)\n",
    "Dic = {0:InteractionData['docked']}\n",
    "stats = analysis.get_interaction_stats(sbase0,Dic)\n",
    "prob = analysis.get_interaction_probability(sbase0, stats)\n",
    "Probs[name] = prob\n",
    "\n",
    "for name in NAMES :\n",
    "    model = Models('')\n",
    "    analysis = Analyse_Interactions(model)\n",
    "    Dic = {i:InteractionData[name][i] for i in range(len(InteractionData[name]))}\n",
    "    stats = analysis.get_interaction_stats(sbase0,Dic)\n",
    "    prob = analysis.get_interaction_probability(sbase0, stats)\n",
    "    Probs[name] = prob\n",
    "\n",
    "tools = Tools()\n",
    "Labels = tools.labels_df(sbase0,inter)"
   ]
  },
  {
   "cell_type": "code",
   "execution_count": 63,
   "metadata": {
    "ExecuteTime": {
     "end_time": "2019-03-20T12:27:28.110444Z",
     "start_time": "2019-03-20T12:27:27.552870Z"
    },
    "collapsed": false,
    "scrolled": false
   },
   "outputs": [
    {
     "data": {
      "image/png": "[encoded data removed]",
      "text/plain": [
       "<matplotlib.figure.Figure at 0x2aaaec791c88>"
      ]
     },
     "metadata": {},
     "output_type": "display_data"
    }
   ],
   "source": [
    "fig, ax = plt.subplots(1,1,figsize=(10,14))\n",
    "\n",
    "df = pd.DataFrame(Probs)\n",
    "\n",
    "tolerance = 0.05\n",
    "df = df[df > tolerance]\n",
    "df = df[df.notnull().any(axis=1)]\n",
    "df.plot(kind='barh',ax=ax)\n",
    "\n",
    "ax.set_yticklabels(itemgetter(*list(df.index))(Labels), fontsize=15)\n",
    "ax.set_title(\"Hydrogen bonds\",fontsize=20)\n",
    "\n",
    "ax.set_xlabel(\"interaction probability\",fontsize=25)\n",
    "\n",
    "ax.set_ylabel(\"HO-atoms\",fontsize=25)\n",
    "ax.yaxis.set_label_position(\"right\")\n",
    "\n",
    "fig.tight_layout()\n",
    "plt.show()"
   ]
  },
  {
   "cell_type": "markdown",
   "metadata": {},
   "source": [
    "## KIHS"
   ]
  },
  {
   "cell_type": "code",
   "execution_count": 64,
   "metadata": {
    "ExecuteTime": {
     "end_time": "2019-03-20T12:34:13.758520Z",
     "start_time": "2019-03-20T12:34:12.262279Z"
    },
    "collapsed": true
   },
   "outputs": [],
   "source": [
    "inter = 'kihs'\n",
    "\n",
    "Superbases = {}\n",
    "Superbases = {'cWza':[]}\n",
    "InteractionData = {}\n",
    "\n",
    "for modeldir in ModelDir:\n",
    "    dbfile = workdir+modeldir+'/'+'prmd_assays.db'\n",
    "    session = start_session(dbfile)\n",
    "    mutant, conformation, pdb_name = modeldir.split('/')\n",
    "    docked_path = workdir+modeldir+'/'+pdb_name+'.pdb'\n",
    "    ampal = isambard_dev.ampal.convert_pdb_to_ampal(docked_path)\n",
    "    if inter == 'hbonds':\n",
    "        atoms = get_OH_atoms(ampal)\n",
    "    elif inter == 'kihs':\n",
    "        atoms = get_KIHs(ampal)\n",
    "    InteractionData['docked'] = atoms\n",
    "    Superbases['cWza'].append(get_superbase([atoms]))\n",
    "\n",
    "for name in NAMES :\n",
    "    InteractionData[name] = []\n",
    "    regex = conformation+':'+name+':%'\n",
    "    traj_ids = [x[0] for x in session.query(Tags.id).filter(mutant=='cWza',Tags.group.like(regex)).all()]\n",
    "    for frame_id in traj_ids:\n",
    "        try:\n",
    "            data = session.query(InterTag[inter]).filter_by(id=frame_id).all()[0][0]\n",
    "            InteractionData[name].append(data)\n",
    "        except:\n",
    "            pass\n",
    "    sbase = get_superbase(InteractionData[name])\n",
    "    Superbases['cWza'].append(sbase)"
   ]
  },
  {
   "cell_type": "code",
   "execution_count": 65,
   "metadata": {
    "ExecuteTime": {
     "end_time": "2019-03-20T12:34:35.896489Z",
     "start_time": "2019-03-20T12:34:28.612735Z"
    },
    "collapsed": false
   },
   "outputs": [],
   "source": [
    "unified_sbase = set()\n",
    "for sb in list(Superbases['cWza']):\n",
    "    unified_sbase = unified_sbase.union(set(sb))\n",
    "\n",
    "sbase = list(unified_sbase)\n",
    "sbase0 = sort_superbase(list(sbase), N_residues=32)\n",
    "\n",
    "Probs = {}\n",
    "name = 'docked'\n",
    "model = Models('')\n",
    "analysis = Analyse_Interactions(model)\n",
    "Dic = {0:InteractionData['docked']}\n",
    "stats = analysis.get_interaction_stats(sbase0,Dic)\n",
    "prob = analysis.get_interaction_probability(sbase0, stats)\n",
    "Probs[name] = prob\n",
    "\n",
    "for name in NAMES :\n",
    "    model = Models('')\n",
    "    analysis = Analyse_Interactions(model)\n",
    "    Dic = {i:InteractionData[name][i] for i in range(len(InteractionData[name]))}\n",
    "    stats = analysis.get_interaction_stats(sbase0,Dic)\n",
    "    prob = analysis.get_interaction_probability(sbase0, stats)\n",
    "    Probs[name] = prob\n",
    "\n",
    "tools = Tools()\n",
    "Labels = tools.labels_df(sbase0,inter)"
   ]
  },
  {
   "cell_type": "code",
   "execution_count": 67,
   "metadata": {
    "ExecuteTime": {
     "end_time": "2019-03-20T13:01:15.260343Z",
     "start_time": "2019-03-20T13:01:14.696781Z"
    },
    "collapsed": false,
    "scrolled": false
   },
   "outputs": [
    {
     "data": {
      "image/png": "[encoded data removed]",
      "text/plain": [
       "<matplotlib.figure.Figure at 0x2aaaec5e0ba8>"
      ]
     },
     "metadata": {},
     "output_type": "display_data"
    }
   ],
   "source": [
    "fig, ax = plt.subplots(1,1,figsize=(10,14))\n",
    "\n",
    "df = pd.DataFrame(Probs)\n",
    "\n",
    "tolerance = 0.05\n",
    "df = df[df > tolerance]\n",
    "df = df[df.notnull().any(axis=1)]\n",
    "df.plot(kind='barh',ax=ax)\n",
    "\n",
    "ax.set_yticklabels(itemgetter(*list(df.index))(Labels), fontsize=15)\n",
    "ax.set_title(\"KIHs\",fontsize=20)\n",
    "\n",
    "ax.set_xlabel(\"interaction probability\",fontsize=25)\n",
    "\n",
    "ax.set_ylabel(\"KIH-atoms\",fontsize=25)\n",
    "ax.yaxis.set_label_position(\"right\")\n",
    "\n",
    "fig.tight_layout()\n",
    "plt.show()"
   ]
  },
  {
   "cell_type": "markdown",
   "metadata": {},
   "source": [
    "SECOND, extract interaction data for all assays, per model, and place data side-by-side if suitable."
   ]
  },
  {
   "cell_type": "markdown",
   "metadata": {},
   "source": [
    "**UNIFIED**"
   ]
  },
  {
   "cell_type": "code",
   "execution_count": 21,
   "metadata": {
    "ExecuteTime": {
     "end_time": "2019-03-25T12:52:03.395525Z",
     "start_time": "2019-03-25T12:51:55.890014Z"
    },
    "collapsed": true
   },
   "outputs": [],
   "source": [
    "import sys\n",
    "import json\n",
    "import isambard_dev\n",
    "import pandas as pd\n",
    "import matplotlib.pyplot as plt\n",
    "from operator import itemgetter\n",
    "\n",
    "modules_paths = [\n",
    "    \"/home/ba13026/mpmodeling/analysis\"\n",
    "]\n",
    "\n",
    "for path in modules_paths:\n",
    "    if path not in sys.path:\n",
    "        sys.path.append(path)\n",
    "\n",
    "from geometry_interactions import start_session\n",
    "\n",
    "from setup_geometry_interactions_db import \\\n",
    "    Json,Tags,RigidBody,RadialProfiles,Miscellaneous,Interhelix_Interactions, Base\n",
    "\n",
    "from insert2db_geometry_interactions import get_OH_atoms\n",
    "from insert2db_geometry_interactions import get_KIHs\n",
    "from geometry_interactions import Analyse_Interactions\n",
    "from geometry_interactions import Models, Analyse_Interactions, Tools, start_session, sort_superbase"
   ]
  },
  {
   "cell_type": "code",
   "execution_count": 22,
   "metadata": {
    "ExecuteTime": {
     "end_time": "2019-03-25T12:52:03.404737Z",
     "start_time": "2019-03-25T12:52:03.397395Z"
    },
    "collapsed": false
   },
   "outputs": [],
   "source": [
    "# Generic parameters \n",
    "workdir = '/projects/s21/ba13026/Wza_Modeling/L-structures/rosetta/bg_test/md_relax/'\n",
    "\n",
    "NAMES = []\n",
    "for num in range(20):\n",
    "    name = 'md_10ns_pr-residue_range_group_prmd_id_'+str(num)\n",
    "    NAMES.append(name)\n",
    "\n",
    "ModelDir = [\n",
    "    'cWza/conformation0/refined1_0001_INPUT_0736_ignorechain',\n",
    "    'cWza/conformation1/refined1_0001_INPUT_0324_ignorechain',\n",
    "    'cWza-K375C/conformation0/refined1_0001_INPUT_0600_ignorechain',\n",
    "    'cWza-K375C/conformation1/refined1_0001_INPUT_0121_ignorechain',\n",
    "    'cWza-S355C/conformation0/refined1_0001_INPUT_0140_ignorechain',\n",
    "    'cWza-S355C/conformation1/refined1_0001_INPUT_0677_ignorechain',\n",
    "    'cWza-Y373C/conformation1/refined1_0001_INPUT_0320_ignorechain',\n",
    "    'cWza-Y373C/conformation1/refined1_0001_INPUT_0935_ignorechain'\n",
    "]\n",
    "\n",
    "InterTag = {\n",
    "    'hbonds' : Interhelix_Interactions.hbonds,\n",
    "    'kihs' : Interhelix_Interactions.kihs\n",
    "}"
   ]
  },
  {
   "cell_type": "code",
   "execution_count": 36,
   "metadata": {
    "ExecuteTime": {
     "end_time": "2019-03-20T12:05:44.846661Z",
     "start_time": "2019-03-20T12:05:44.844438Z"
    },
    "collapsed": true
   },
   "outputs": [],
   "source": [
    "inter = 'hbonds'\n",
    "mutant = 'cWza'\n",
    "\n",
    "Superbases = {}\n",
    "Superbases = {mutant:[]}\n",
    "InteractionData = {}\n",
    "\n",
    "dbname = 'prmd_residue-groups_assays.db'\n",
    "\n",
    "for modeldir in ModelDir[:1]:\n",
    "    dbfile = workdir+modeldir+'/'+dbname\n",
    "    session = start_session(dbfile)\n",
    "    mutant, conformation, pdb_name = modeldir.split('/')\n",
    "    docked_path = workdir+modeldir+'/'+pdb_name+'.pdb'\n",
    "    ampal = isambard_dev.ampal.convert_pdb_to_ampal(docked_path)\n",
    "    if inter == 'hbonds':\n",
    "        atoms = get_OH_atoms(ampal)\n",
    "    elif inter == 'kihs':\n",
    "        atoms = get_KIHs(ampal)\n",
    "    InteractionData['docked'] = atoms\n",
    "    Superbases[mutant].append(get_superbase([atoms]))\n",
    "\n",
    "for name in NAMES :\n",
    "    InteractionData[name] = []\n",
    "    regex = conformation+':'+name+':%'\n",
    "    traj_ids = [x[0] for x in session.query(Tags.id).filter(mutant==mutant,Tags.group.like(regex)).all()]\n",
    "    for frame_id in traj_ids:\n",
    "        try:\n",
    "            data = session.query(InterTag[inter]).filter_by(id=frame_id).all()[0][0]\n",
    "            InteractionData[name].append(data)\n",
    "        except:\n",
    "            pass\n",
    "    sbase = get_superbase(InteractionData[name])\n",
    "    Superbases[mutant].append(sbase)"
   ]
  },
  {
   "cell_type": "code",
   "execution_count": 18,
   "metadata": {
    "ExecuteTime": {
     "end_time": "2019-03-19T19:08:31.256256Z",
     "start_time": "2019-03-19T19:08:31.248319Z"
    },
    "collapsed": false
   },
   "outputs": [],
   "source": [
    "unified_sbase = set()\n",
    "for sb in list(Superbases[mutant]):\n",
    "    unified_sbase = unified_sbase.union(set(sb))\n",
    "\n",
    "sbase = list(unified_sbase)\n",
    "sbase0 = sort_superbase(list(sbase), N_residues=32)\n",
    "\n",
    "Probs = {}\n",
    "name = 'docked'\n",
    "model = Models('')\n",
    "analysis = Analyse_Interactions(model)\n",
    "Dic = {0:InteractionData['docked']}\n",
    "stats = analysis.get_interaction_stats(sbase0,Dic)\n",
    "prob = analysis.get_interaction_probability(sbase0, stats)\n",
    "Probs[name] = prob\n",
    "\n",
    "for name in NAMES :\n",
    "    model = Models('')\n",
    "    analysis = Analyse_Interactions(model)\n",
    "    Dic = {i:InteractionData[name][i] for i in range(len(InteractionData[name]))}\n",
    "    stats = analysis.get_interaction_stats(sbase0,Dic)\n",
    "    prob = analysis.get_interaction_probability(sbase0, stats)\n",
    "    Probs[name] = prob\n",
    "\n",
    "tools = Tools()\n",
    "Labels = tools.labels_df(sbase0,inter)"
   ]
  },
  {
   "cell_type": "code",
   "execution_count": 63,
   "metadata": {
    "ExecuteTime": {
     "end_time": "2019-03-20T12:27:28.110444Z",
     "start_time": "2019-03-20T12:27:27.552870Z"
    },
    "collapsed": false,
    "scrolled": false
   },
   "outputs": [
    {
     "data": {
      "image/png": "[encoded data removed]",
      "text/plain": [
       "<matplotlib.figure.Figure at 0x2aaaec791c88>"
      ]
     },
     "metadata": {},
     "output_type": "display_data"
    }
   ],
   "source": [
    "fig, ax = plt.subplots(1,1,figsize=(10,14))\n",
    "\n",
    "df = pd.DataFrame(Probs)\n",
    "\n",
    "tolerance = 0.05\n",
    "df = df[df > tolerance]\n",
    "df = df[df.notnull().any(axis=1)]\n",
    "df.plot(kind='barh',ax=ax)\n",
    "\n",
    "ax.set_yticklabels(itemgetter(*list(df.index))(Labels), fontsize=15)\n",
    "ax.set_title(\"Hydrogen bonds\",fontsize=20)\n",
    "\n",
    "ax.set_xlabel(\"interaction probability\",fontsize=25)\n",
    "\n",
    "ax.set_ylabel(\"HO-atoms\",fontsize=25)\n",
    "ax.yaxis.set_label_position(\"right\")\n",
    "\n",
    "fig.tight_layout()\n",
    "plt.show()"
   ]
  }
 ],
 "metadata": {
  "kernelspec": {
   "display_name": "Python 3",
   "language": "python",
   "name": "python3"
  },
  "language_info": {
   "codemirror_mode": {
    "name": "ipython",
    "version": 3
   },
   "file_extension": ".py",
   "mimetype": "text/x-python",
   "name": "python",
   "nbconvert_exporter": "python",
   "pygments_lexer": "ipython3",
   "version": "3.5.6"
  },
  "toc": {
   "base_numbering": 1,
   "nav_menu": {},
   "number_sections": true,
   "sideBar": true,
   "skip_h1_title": false,
   "title_cell": "Table of Contents",
   "title_sidebar": "Contents",
   "toc_cell": false,
   "toc_position": {
    "height": "calc(100% - 180px)",
    "left": "10px",
    "top": "150px",
    "width": "299px"
   },
   "toc_section_display": true,
   "toc_window_display": true
  }
 },
 "nbformat": 4,
 "nbformat_minor": 2
}
