{
 "cells": [
  {
   "cell_type": "markdown",
   "metadata": {},
   "source": [
    "# Posing the Problem"
   ]
  },
  {
   "cell_type": "markdown",
   "metadata": {},
   "source": [
    "We have set of docked models for a range of sequences, classified according to a particular conformation. Each model has its own folder for simulation, with a common folder structure for saving a range of different files for MD preparation and submission ."
   ]
  },
  {
   "cell_type": "markdown",
   "metadata": {},
   "source": [
    "**GOALS**\n",
    "\n",
    "* Identify what models I can submit for emmd/prmd/urmd for a particular mutant and conformation\n",
    "* Submit simulations while keeping track of these"
   ]
  },
  {
   "cell_type": "markdown",
   "metadata": {},
   "source": [
    "**SIMULATION SUBMISSION** : Want to submit simulations up to a final stage. Here, MD 100ns simulations.\n",
    "\n",
    "* __If__ `.gro` and `.xtc` files for URMD stage are present, no need for submission\n",
    "* __Else__, determine what is the last MD stage simulated (prmd or emmd) -  check `.gro` and `.xtc` files for this stage, with PRMD simulations having priority over EMMD\n",
    "* Next, __If__ `.gro` and `.xtc` files for PRMD stage are present, then check for AND/OR prepare submission files for URMD stage\n",
    "* __Else__ check for `.gro` (at least) and `.xtc` files for EMMD stage are present, then check for AND/OR prepare submission files for PRMD stage"
   ]
  },
  {
   "cell_type": "markdown",
   "metadata": {},
   "source": [
    "**POSSIBLE SCENARIOS**\n",
    "\n",
    "Pre-submission stage\n",
    "\n",
    "* Submission files AVAILABLE, and coordinates and trajectory UNAVAILABLE. Then, CAN submit. Preparation NO.\n",
    "* Submission files UNAVAILABLE, and coordinates and trajectory AVAILABLE. Then, CANNOT submit. Preparation NO.\n",
    "* Submission files UNAVAILABLE, and coordinates and trajectory UNAVAILABLE. Then, CANNOT submit. Preparation YES.\n",
    "\n",
    "\n",
    "Post-preparation stage\n",
    "\n",
    "* Submission files AVAILABLE, and coordinates and trajectory UNAVAILABLE. Then, CAN submit. Preparation NO."
   ]
  },
  {
   "cell_type": "markdown",
   "metadata": {},
   "source": [
    "# Modules for Testing"
   ]
  },
  {
   "cell_type": "code",
   "execution_count": 27,
   "metadata": {
    "ExecuteTime": {
     "end_time": "2019-06-19T16:02:41.729832Z",
     "start_time": "2019-06-19T16:02:41.726729Z"
    },
    "collapsed": true
   },
   "outputs": [],
   "source": [
    "import os\n",
    "import glob\n",
    "import json\n",
    "import subprocess"
   ]
  },
  {
   "cell_type": "markdown",
   "metadata": {},
   "source": [
    "Methods to check existence of key files for submission and to determine last MD stage simulated"
   ]
  },
  {
   "cell_type": "code",
   "execution_count": 28,
   "metadata": {
    "ExecuteTime": {
     "end_time": "2019-06-19T16:02:42.956198Z",
     "start_time": "2019-06-19T16:02:42.918054Z"
    },
    "collapsed": true
   },
   "outputs": [],
   "source": [
    "# Sorted by Priority for Submission\n",
    "MD_STAGES = [\n",
    "    ('urmd','md_100ns'),\n",
    "    ('prmd','prmd'),\n",
    "    ('emmd','em_20000stps')\n",
    "]\n",
    "\n",
    "def check_for_md_files(model_dir, sname_main):\n",
    "    \"\"\"Check if range of file types with common name found in folder \"\"\"\n",
    "    out = {}\n",
    "    # GROMACS file extensions\n",
    "    FILETYPES = ['.gro', '.xtc']\n",
    "    path_suffix = 'complex/mdf'\n",
    "    for extension in FILETYPES:\n",
    "        file_path = os.path.join(model_dir, path_suffix, sname_main + extension)\n",
    "        out[extension] = os.path.isfile(file_path)\n",
    "    \n",
    "    return out\n",
    "\n",
    "def check_for_submission_files(model_dir, sname_main):\n",
    "    FILETYPES = ['.tpr' ,'.slurm']\n",
    "    SUFFICES = ['complex/mdf', 'complex/jobf']\n",
    "    out = {}\n",
    "    for i in range(len(FILETYPES)):\n",
    "        path_suffix = SUFFICES[i]\n",
    "        extension = FILETYPES[i]\n",
    "        file_path = os.path.join(model_dir, path_suffix, sname_main + extension)\n",
    "        out[extension] = os.path.isfile(file_path)\n",
    "    \n",
    "    return out\n",
    "\n",
    "def determine_last_md_stage(model_dir):\n",
    "    for i in range(len(MD_STAGES)):\n",
    "        stage, filename = MD_STAGES[i]\n",
    "        if all(check_for_md_files(model_dir, filename).values()):\n",
    "            break\n",
    "        elif stage == 'emmd' and check_for_md_files(model_dir, filename)['.gro']:\n",
    "            pass\n",
    "    return stage"
   ]
  },
  {
   "cell_type": "markdown",
   "metadata": {},
   "source": [
    "Methods for generation of submission files:  SBATCH file (`.slurm`) and GROMAC initiation file (`.tpr`)"
   ]
  },
  {
   "cell_type": "code",
   "execution_count": 29,
   "metadata": {
    "ExecuteTime": {
     "end_time": "2019-06-19T16:02:44.550944Z",
     "start_time": "2019-06-19T16:02:44.350653Z"
    },
    "collapsed": true
   },
   "outputs": [],
   "source": [
    "def generate_slurm(model_dir, sname_main, stage):\n",
    "    #######################################\n",
    "    # Default params per MD stage: BlueGem SLURM format\n",
    "    #######################################\n",
    "    path_prefix_slurm = \"complex/jobf\"\n",
    "    path_prefix_md = \"complex/mdf\"\n",
    "\n",
    "    if stage == 'urmd':\n",
    "        n_nodes = 2\n",
    "        sim_time = \"5-12:30\"\n",
    "\n",
    "    elif stage == 'prmd':\n",
    "        n_nodes = 1\n",
    "        sim_time = \"1-12:30\"\n",
    "\n",
    "    elif stage == 'emmd':\n",
    "        n_nodes = 1\n",
    "        sim_time = \"12:30\"        \n",
    "    #######################################\n",
    "    # Script content\n",
    "    #######################################\n",
    "    slurm_template = (\n",
    "        \"#!/bin/bash -login \\n\"\n",
    "        \"#SBATCH -p cpu \\n\"\n",
    "        \"#SBATCH --ntasks-per-node=16 \\n\"\n",
    "        \"#SBATCH -N \"+str(n_nodes)+\" \\n\"\n",
    "        \"#SBATCH -t \"+sim_time+\" \\n\"\n",
    "        \"#SBATCH -A S2.1 \\n\"\n",
    "        \"#SBATCH -o \"+path_prefix_slurm+\"/\"+sname_main+\"_slurm.log \\n\"\n",
    "        \"#SBATCH -e \"+path_prefix_slurm+\"/\"+sname_main+\"_slurm.error \\n\"\n",
    "        \"\\n\"\n",
    "        \"# Load GROMACS module \\n\"\n",
    "        \"module load apps/gromacs-5.0.6 \\n\"\n",
    "        \"\\n\"\n",
    "        \"mpiexec.hydra -psm -bootstrap slurm gmx_mpi mdrun \"\n",
    "        \"-s \"+path_prefix_md+\"/\"+sname_main+\".tpr \"\n",
    "        \"-deffnm \"+path_prefix_md+\"/\"+sname_main+\" \\n\"\n",
    "    )\n",
    "    #######################################\n",
    "    # Write submission file for BG\n",
    "    #######################################\n",
    "    path_output = os.path.join(model_dir, path_prefix_slurm, sname_main+'.bg.slurm')\n",
    "    with open(path_output, 'w') as fp:\n",
    "        fp.write(slurm_template)\n",
    "    fp.close()\n",
    "\n",
    "def generate_tpr(model_dir, sname_main, sname_prev):\n",
    "    \"\"\"Generate GROMACS run input file\"\"\"\n",
    "    #######################################\n",
    "    # GROMACS command with input parameters\n",
    "    #######################################\n",
    "    if check_for_md_files(model_dir, sname_prev)['.gro']:\n",
    "        cmd = [\n",
    "            'gmx_mpi','grompp',\n",
    "            '-f','/home/ba13026/mpmodeling/protocols/gmx_protocols/templates/'+sname_main+'.mdp',\n",
    "            '-c',model_dir+'/complex/mdf/'+sname_prev+'.gro',\n",
    "            '-p',model_dir+'/complex/'+'topol.top',\n",
    "            '-o',model_dir+'/complex/mdf/'+sname_main+'.tpr',\n",
    "            '-maxwarn','3',\n",
    "        ]\n",
    "        #######################################\n",
    "        # Run GROMACS command \n",
    "        #######################################\n",
    "        p = subprocess.Popen(cmd)\n",
    "        p.wait()\n",
    "        #######################################\n",
    "        # Clean backup files to reduce storage\n",
    "        #######################################\n",
    "        files2remove = glob.glob('./'+'#mdout.mdp.*')\n",
    "        for f in files2remove:\n",
    "            os.remove(f)\n",
    "    else:\n",
    "        mssg = \"ERROR: Coordinates from previous MD stage missing!\"\n",
    "        print(mssg)\n",
    "        \n",
    "def prepare_submission_files(model_dir, sname_main, stage_last, stage_next):\n",
    "    out_check = check_for_submission_files(model_dir, sname_main)\n",
    "    if out_check['.tpr']:\n",
    "        generate_tpr(model_dir, sname_main, stage_last)\n",
    "    elif out_check['.slurm']:\n",
    "        generate_slurm(model_dir, sname_main, stage_next)"
   ]
  },
  {
   "cell_type": "markdown",
   "metadata": {},
   "source": [
    "# Input Cases"
   ]
  },
  {
   "cell_type": "markdown",
   "metadata": {},
   "source": [
    "## All docked models"
   ]
  },
  {
   "cell_type": "markdown",
   "metadata": {},
   "source": [
    "**INPUT, CASE 1** Make list of all available docked model directories. ALL MUTANTS, ALL CONFORMATIONS, ALL MODELS."
   ]
  },
  {
   "cell_type": "code",
   "execution_count": 4,
   "metadata": {
    "ExecuteTime": {
     "end_time": "2019-06-16T14:27:10.835037Z",
     "start_time": "2019-06-16T14:27:10.821852Z"
    },
    "collapsed": true
   },
   "outputs": [],
   "source": [
    "# List of cWza Cys-mutant sequence names\n",
    "MUTANTS = ['cWza','cWza-K375C','cWza-S355C','cWza-Y373C']\n",
    "\n",
    "# Dict of Conformation names per sequence name\n",
    "CONFORMATIONS = {\n",
    "    'cWza':['conformation0', 'conformation1'],\n",
    "    'cWza-K375C':['conformation0', 'conformation1'],\n",
    "    'cWza-S355C':['conformation0', 'conformation1'],\n",
    "    'cWza-Y373C':['conformation1']\n",
    "}\n",
    "\n",
    "wdir = '/projects/s21/ba13026/Wza_Modeling/L-structures/rosetta/bg_test/md_relax'\n",
    "path_suffix = 'complex/mdf'\n",
    "\n",
    "MODELS_DIRS = []\n",
    "for mutant in MUTANTS:\n",
    "    for conformation in CONFORMATIONS[mutant]:\n",
    "        mutant_dir = os.path.join(wdir, mutant, conformation)\n",
    "        for model_dir in [os.path.join(mutant_dir, pdbname) for pdbname in os.listdir(mutant_dir)]:\n",
    "            MODELS_DIRS.append(model_dir)"
   ]
  },
  {
   "cell_type": "markdown",
   "metadata": {},
   "source": [
    "## All Models per Conformation"
   ]
  },
  {
   "cell_type": "markdown",
   "metadata": {},
   "source": [
    "**INPUT, CASE 2** Make list of all available docked model directories only for `cWza-K375C` models."
   ]
  },
  {
   "cell_type": "code",
   "execution_count": 15,
   "metadata": {
    "ExecuteTime": {
     "end_time": "2019-06-16T15:13:19.201741Z",
     "start_time": "2019-06-16T15:13:19.191048Z"
    },
    "collapsed": true
   },
   "outputs": [],
   "source": [
    "# List of cWza Cys-mutant sequence names\n",
    "MUTANTS = ['cWza-K375C']\n",
    "\n",
    "# Dict of Conformation names per sequence name\n",
    "CONFORMATIONS = {\n",
    "    'cWza-K375C':['conformation0', 'conformation1']\n",
    "}\n",
    "\n",
    "wdir = '/projects/s21/ba13026/Wza_Modeling/L-structures/rosetta/bg_test/md_relax'\n",
    "path_suffix = 'complex/mdf'\n",
    "\n",
    "MODELS_DIRS = []\n",
    "for mutant in MUTANTS:\n",
    "    for conformation in CONFORMATIONS[mutant]:\n",
    "        mutant_dir = os.path.join(wdir, mutant, conformation)\n",
    "        for model_dir in [os.path.join(mutant_dir, pdbname) for pdbname in os.listdir(mutant_dir)]:\n",
    "            MODELS_DIRS.append(model_dir)"
   ]
  },
  {
   "cell_type": "markdown",
   "metadata": {},
   "source": [
    "## All Models per Interaction Partition"
   ]
  },
  {
   "cell_type": "code",
   "execution_count": 2,
   "metadata": {
    "ExecuteTime": {
     "end_time": "2019-06-19T15:07:24.104679Z",
     "start_time": "2019-06-19T15:07:18.725892Z"
    },
    "collapsed": true
   },
   "outputs": [],
   "source": [
    "import os\n",
    "import sys\n",
    "import numpy\n",
    "import json\n",
    "import subprocess\n",
    "import isambard_dev\n",
    "import operator\n",
    "from operator import itemgetter\n",
    "import matplotlib.pyplot as plt\n",
    "import seaborn as sns\n",
    "import pandas as pd\n",
    "sns.set_style('darkgrid')\n",
    "%matplotlib notebook"
   ]
  },
  {
   "cell_type": "code",
   "execution_count": 3,
   "metadata": {
    "ExecuteTime": {
     "end_time": "2019-06-19T15:07:24.210563Z",
     "start_time": "2019-06-19T15:07:24.106390Z"
    },
    "collapsed": false
   },
   "outputs": [],
   "source": [
    "from sqlalchemy import create_engine\n",
    "from sqlalchemy.orm import sessionmaker\n",
    "\n",
    "modules_path = \"/home/ba13026/mpmodeling/analysis/\"\n",
    "if modules_path not in sys.path:\n",
    "    sys.path.append(modules_path)\n",
    "\n",
    "import setup_geometry_interactions_db\n",
    "import importlib\n",
    "importlib.reload(setup_geometry_interactions_db)\n",
    "from setup_geometry_interactions_db import \\\n",
    "    Json,Tags,RigidBody,RadialProfiles,Miscellaneous,Interhelix_Interactions, Base\n",
    "from insert2db_geometry_interactions import interaction_direction"
   ]
  },
  {
   "cell_type": "code",
   "execution_count": 4,
   "metadata": {
    "ExecuteTime": {
     "end_time": "2019-06-19T15:07:24.218869Z",
     "start_time": "2019-06-19T15:07:24.212188Z"
    },
    "collapsed": true
   },
   "outputs": [],
   "source": [
    "# path0 = '/home/ba13026/dbs/'\n",
    "path0 = '/projects/s21/ba13026/Wza_Modeling/L-structures/rosetta/bg_test/md_relax/'\n",
    "dbfile = path0 + 'mutants_docked_geometry-interactions.db'\n",
    "engine = create_engine('sqlite:///'+dbfile)\n",
    "Base.metadata.bind = engine\n",
    "DBSession = sessionmaker()\n",
    "DBSession.bind = engine\n",
    "session = DBSession()"
   ]
  },
  {
   "cell_type": "code",
   "execution_count": 5,
   "metadata": {
    "ExecuteTime": {
     "end_time": "2019-06-19T15:07:24.224678Z",
     "start_time": "2019-06-19T15:07:24.220329Z"
    },
    "collapsed": true
   },
   "outputs": [],
   "source": [
    "wd = '/projects/s21/ba13026/Wza_Modeling/L-structures/rosetta/bg_test/md_relax/'\n",
    "filename = wd+'filtered_ids_new.json'\n",
    "\n",
    "with open(filename,'r') as fp:\n",
    "    Filtered_IDs = json.load(fp)"
   ]
  },
  {
   "cell_type": "code",
   "execution_count": 6,
   "metadata": {
    "ExecuteTime": {
     "end_time": "2019-06-19T15:07:24.386427Z",
     "start_time": "2019-06-19T15:07:24.382927Z"
    },
    "collapsed": false
   },
   "outputs": [],
   "source": [
    "wd = '/projects/s21/ba13026/Wza_Modeling/L-structures/rosetta/bg_test/md_relax/'\n",
    "filename = wd+'filtered_ids_interaction_groups.json'\n",
    "with open(filename,'r') as fp:\n",
    "    Models_Out_IDs = json.load(fp)"
   ]
  },
  {
   "cell_type": "code",
   "execution_count": 7,
   "metadata": {
    "ExecuteTime": {
     "end_time": "2019-06-19T15:07:25.625042Z",
     "start_time": "2019-06-19T15:07:25.620712Z"
    },
    "collapsed": true
   },
   "outputs": [],
   "source": [
    "MyTags  = [\n",
    "    json.dumps(['cWza', 'conformation0']),\n",
    "    json.dumps(['cWza', 'conformation1']),\n",
    "    json.dumps(['cWza-K375C', 'conformation0']),\n",
    "    json.dumps(['cWza-K375C', 'conformation1']),\n",
    "    json.dumps(['cWza-S355C', 'conformation0']),\n",
    "    json.dumps(['cWza-S355C', 'conformation1']),\n",
    "    json.dumps(['cWza-Y373C', 'conformation0'])\n",
    "]"
   ]
  },
  {
   "cell_type": "code",
   "execution_count": 8,
   "metadata": {
    "ExecuteTime": {
     "end_time": "2019-06-19T15:07:26.540142Z",
     "start_time": "2019-06-19T15:07:26.524639Z"
    },
    "collapsed": false
   },
   "outputs": [],
   "source": [
    "Models_IDs = {}\n",
    "\n",
    "for tags in MyTags:\n",
    "    Models_IDs[tags]= {}\n",
    "    mutant, C_x = json.loads(tags)\n",
    "    ###############################################\n",
    "    X_all = set(list(Filtered_IDs[mutant][C_x]))\n",
    "    X_hbonds = set(Models_Out_IDs['hbonds'][tags])\n",
    "    X_kihs = set(Models_Out_IDs['kihs'][tags])\n",
    "    X_hbonds_NOT_kihs = set(X_hbonds - X_kihs)\n",
    "    X_kihs_NOT_hbonds = set(X_kihs - X_hbonds)\n",
    "    X_hbonds_AND_kihs = set(X_hbonds & X_kihs)\n",
    "    X_hbonds_NOR_kihs = X_all - set(X_hbonds | X_kihs)\n",
    "    ###############################################\n",
    "    Models_IDs[tags]['hbonds_NOR_kihs'] = list(X_hbonds_NOR_kihs)\n",
    "    Models_IDs[tags]['hbonds_NOT_kihs'] = list(X_hbonds_NOT_kihs)\n",
    "    Models_IDs[tags]['kihs_NOT_hbonds'] = list(X_kihs_NOT_hbonds)\n",
    "    Models_IDs[tags]['hbonds_AND_kihs'] = list(X_hbonds_AND_kihs)"
   ]
  },
  {
   "cell_type": "code",
   "execution_count": 9,
   "metadata": {
    "ExecuteTime": {
     "end_time": "2019-06-19T15:07:31.355594Z",
     "start_time": "2019-06-19T15:07:28.880238Z"
    },
    "collapsed": false
   },
   "outputs": [],
   "source": [
    "Models_PDBs = {}\n",
    "\n",
    "for tags in MyTags:\n",
    "    mutant, C_x = json.loads(tags)\n",
    "    ##################################\n",
    "    # Correct mislabelling\n",
    "    if mutant == 'cWza-Y373C':\n",
    "        C_x = \"conformation1\"\n",
    "    elif mutant == 'cWza-K375C' and C_x == \"conformation0\":\n",
    "        C_x = \"conformation1\"\n",
    "    elif mutant == 'cWza-K375C' and C_x == \"conformation1\":\n",
    "        C_x = \"conformation0\"\n",
    "    ##################################\n",
    "    Models_PDBs[tags] = {}\n",
    "    for partition in list(Models_IDs[tags].keys()):\n",
    "        Models_PDBs[tags][partition] = []\n",
    "        for id in list(map(int,Models_IDs[tags][partition])):\n",
    "            pdbname = session.query(Tags.pdb_name).filter_by(id=id).all()[0][0][:-4]\n",
    "            modeldir = mutant+\"/\"+C_x+\"/\"+pdbname\n",
    "            Models_PDBs[tags][partition].append(modeldir)"
   ]
  },
  {
   "cell_type": "markdown",
   "metadata": {},
   "source": [
    "Get list of PDB folders for models from interaction partions of `cWza-K375C` docked conformations"
   ]
  },
  {
   "cell_type": "code",
   "execution_count": 77,
   "metadata": {
    "ExecuteTime": {
     "end_time": "2019-06-19T16:41:04.403251Z",
     "start_time": "2019-06-19T16:41:04.393051Z"
    },
    "collapsed": false
   },
   "outputs": [
    {
     "name": "stdout",
     "output_type": "stream",
     "text": [
      "[\"cWza-K375C\", \"conformation0\"] kihs_NOT_hbonds 0\n",
      "[\"cWza-K375C\", \"conformation0\"] hbonds_AND_kihs 0\n",
      "[\"cWza-K375C\", \"conformation0\"] hbonds_NOT_kihs 22\n",
      "[\"cWza-K375C\", \"conformation0\"] hbonds_NOR_kihs 38\n"
     ]
    }
   ],
   "source": [
    "Tags_cWzaK375C = [\n",
    "    json.dumps(['cWza-K375C', 'conformation0'])\n",
    "]\n",
    "\n",
    "MODELS_DIRS = []\n",
    "for tag in Tags_cWzaK375C:\n",
    "    S = Models_PDBs[tag]\n",
    "    for key in S.keys():\n",
    "        print( tag, key, len(S[key]) )\n",
    "        if len(S[key]) > 0 and key == 'hbonds_NOT_kihs':\n",
    "            for pdb_dir in S[key]:\n",
    "                MODELS_DIRS.append( os.path.join(wd, pdb_dir) )"
   ]
  },
  {
   "cell_type": "code",
   "execution_count": 69,
   "metadata": {
    "ExecuteTime": {
     "end_time": "2019-06-19T16:39:36.053756Z",
     "start_time": "2019-06-19T16:39:36.044942Z"
    },
    "collapsed": false
   },
   "outputs": [
    {
     "name": "stdout",
     "output_type": "stream",
     "text": [
      "[\"cWza-K375C\", \"conformation1\"] kihs_NOT_hbonds 75\n",
      "[\"cWza-K375C\", \"conformation1\"] hbonds_AND_kihs 9\n",
      "[\"cWza-K375C\", \"conformation1\"] hbonds_NOT_kihs 0\n",
      "[\"cWza-K375C\", \"conformation1\"] hbonds_NOR_kihs 0\n"
     ]
    }
   ],
   "source": [
    "Tags_cWzaK375C = [\n",
    "    json.dumps(['cWza-K375C', 'conformation1'])\n",
    "]\n",
    "\n",
    "MODELS_DIRS = []\n",
    "for tag in Tags_cWzaK375C:\n",
    "    S = Models_PDBs[tag]\n",
    "    for key in S.keys():\n",
    "        print( tag, key, len(S[key]) )\n",
    "        if len(S[key]) > 0 and key == 'hbonds_AND_kihs':\n",
    "            for pdb_dir in S[key]:\n",
    "                MODELS_DIRS.append( os.path.join(wd, pdb_dir) )"
   ]
  },
  {
   "cell_type": "markdown",
   "metadata": {},
   "source": [
    "# Proof of Concept"
   ]
  },
  {
   "cell_type": "markdown",
   "metadata": {},
   "source": [
    "Determine last and next possible stage of MD simulation for every model directory from above\n",
    "\n",
    "**NOTE**: `MODELS_DIRS` can be replaced by any list of arbitrary and valid model directories, e.g., for a sample of models per conformation, or a sample of models according to particular interaction groups."
   ]
  },
  {
   "cell_type": "code",
   "execution_count": 78,
   "metadata": {
    "ExecuteTime": {
     "end_time": "2019-06-19T16:41:09.842850Z",
     "start_time": "2019-06-19T16:41:09.811706Z"
    },
    "collapsed": false,
    "scrolled": true
   },
   "outputs": [
    {
     "name": "stdout",
     "output_type": "stream",
     "text": [
      "cWza-K375C/conformation1/refined1_0001_INPUT_0027_ignorechain urmd\n",
      "cWza-K375C/conformation1/refined1_0001_INPUT_0042_ignorechain urmd\n",
      "cWza-K375C/conformation1/refined1_0001_INPUT_0747_ignorechain urmd\n",
      "cWza-K375C/conformation1/refined1_0001_INPUT_0495_ignorechain urmd\n",
      "cWza-K375C/conformation1/refined1_0001_INPUT_0304_ignorechain urmd\n",
      "cWza-K375C/conformation1/refined1_0001_INPUT_0955_ignorechain urmd\n",
      "cWza-K375C/conformation1/refined1_0001_INPUT_0121_ignorechain urmd\n",
      "cWza-K375C/conformation1/refined1_0001_INPUT_0125_ignorechain urmd\n",
      "cWza-K375C/conformation1/refined1_0001_INPUT_0578_ignorechain urmd\n",
      "Models already simulated:  9\n"
     ]
    }
   ],
   "source": [
    "COUNTER_2submit = 0 \n",
    "for model_dir in MODELS_DIRS:\n",
    "    # Determine LAST MD stage successfully simulated\n",
    "    stage_last = determine_last_md_stage(model_dir)\n",
    "    if stage_last == 'urmd':\n",
    "        print('/'.join(model_dir.split('/')[-3:]), stage_last)\n",
    "        COUNTER_2submit += 1\n",
    "\n",
    "print(\"Models already simulated: \", COUNTER_2submit)"
   ]
  },
  {
   "cell_type": "markdown",
   "metadata": {},
   "source": [
    "**PREPARATION PHASE**: Check for missing submission files for next MD simualtion stage and generate them"
   ]
  },
  {
   "cell_type": "markdown",
   "metadata": {
    "ExecuteTime": {
     "end_time": "2019-06-16T14:38:00.313544Z",
     "start_time": "2019-06-16T14:37:59.356226Z"
    },
    "collapsed": false
   },
   "source": [
    "*LINEAR IMPLEMENTATION* \n",
    "\n",
    "```python\n",
    "for model_dir in MODELS_DIRS:\n",
    "    # Determine LAST MD stage successfully simulated\n",
    "    stage_last = determine_last_md_stage(model_dir)\n",
    "    \n",
    "    # Prepare submission files for NEXT MD stage needed to simulate\n",
    "    if stage_last == 'prmd':\n",
    "        stage_next = 'urmd'\n",
    "        sname_main = 'md_100ns'\n",
    "        prepare_submission_files(model_dir, sname_main, stage_last, stage_next)\n",
    "    \n",
    "    elif stage_last == 'emmd':\n",
    "        stage_next = 'prmd'\n",
    "        sname_main = 'prmd'\n",
    "        prepare_submission_files(model_dir, sname_main, stage_last, stage_next)\n",
    "```"
   ]
  },
  {
   "cell_type": "markdown",
   "metadata": {},
   "source": [
    "*PARALLEL IMPLEMENTATION*"
   ]
  },
  {
   "cell_type": "markdown",
   "metadata": {
    "ExecuteTime": {
     "end_time": "2019-06-16T15:38:13.961461Z",
     "start_time": "2019-06-16T15:38:13.940820Z"
    },
    "collapsed": false
   },
   "source": [
    "* Define input parameters as 1D list\n",
    "\n",
    "``` python\n",
    "params_list = []\n",
    "for model_dir in MODELS_DIRS:\n",
    "    # Determine LAST MD stage successfully simulated\n",
    "    stage_last = determine_last_md_stage(model_dir)\n",
    "    \n",
    "    # Prepare submission files for NEXT MD stage needed to simulate\n",
    "    if stage_last == 'prmd':\n",
    "        stage_next = 'urmd'\n",
    "        sname_main = 'md_100ns'\n",
    "        params = [model_dir, sname_main, stage_last, stage_next]\n",
    "        params_list.append(params)\n",
    "   \n",
    "    elif stage_last == 'emmd':\n",
    "        stage_next = 'prmd'\n",
    "        sname_main = 'prmd'\n",
    "        params = [model_dir, sname_main, stage_last, stage_next]\n",
    "        params_list.append(params)\n",
    "```"
   ]
  },
  {
   "cell_type": "markdown",
   "metadata": {},
   "source": [
    "* Define linear map to parallelise\n",
    "\n",
    "```python\n",
    "def func(params):\n",
    "    model_dir, sname_main, stage_last, stage_next = params\n",
    "    prepare_submission_files(model_dir, sname_main, stage_last, stage_next)\n",
    "```"
   ]
  },
  {
   "cell_type": "markdown",
   "metadata": {},
   "source": [
    "* Define Parallel scheme. Here, Multi-processing.\n",
    "\n",
    "```python\n",
    "import concurrent.futures\n",
    "\n",
    "n_cores = 4\n",
    "with concurrent.futures.ProcessPoolExecutor(max_workers = n_cores) as executor:\n",
    "    executor.map(func, params_list)\n",
    "```"
   ]
  },
  {
   "cell_type": "markdown",
   "metadata": {},
   "source": [
    "**SUBMISSION PHASE**: Given a list of slurm files determined according to MD phases needed, submit to cluster.\n"
   ]
  },
  {
   "cell_type": "markdown",
   "metadata": {},
   "source": [
    "# Python Module and A Script"
   ]
  },
  {
   "cell_type": "code",
   "execution_count": 29,
   "metadata": {
    "ExecuteTime": {
     "end_time": "2019-06-16T16:17:37.302152Z",
     "start_time": "2019-06-16T16:17:37.295618Z"
    },
    "collapsed": false
   },
   "outputs": [
    {
     "name": "stdout",
     "output_type": "stream",
     "text": [
      "Overwriting /home/ba13026/mpmodeling/protocols/md_submission_preparation.py\n"
     ]
    }
   ],
   "source": [
    "%%writefile /home/ba13026/mpmodeling/protocols/md_submission_preparation.py\n",
    "import os\n",
    "import glob\n",
    "import subprocess\n",
    "\n",
    "# Sorted by Priority for Submission\n",
    "MD_STAGES = [\n",
    "    ('urmd','md_100ns'),\n",
    "    ('prmd','prmd'),\n",
    "    ('emmd','em_20000stps')\n",
    "]\n",
    "\n",
    "def check_for_md_files(model_dir, sname_main):\n",
    "    \"\"\"Check if range of file types with common name found in folder \"\"\"\n",
    "    out = {}\n",
    "    # GROMACS file extensions\n",
    "    FILETYPES = ['.gro', '.xtc']\n",
    "    path_suffix = 'complex/mdf'\n",
    "    for extension in FILETYPES:\n",
    "        file_path = os.path.join(model_dir, path_suffix, sname_main + extension)\n",
    "        out[extension] = os.path.isfile(file_path)\n",
    "    \n",
    "    return out\n",
    "\n",
    "def check_for_submission_files(model_dir, sname_main):\n",
    "    FILETYPES = ['.tpr' ,'.slurm']\n",
    "    SUFFICES = ['complex/mdf', 'complex/jobf']\n",
    "    out = {}\n",
    "    for i in range(len(FILETYPES)):\n",
    "        path_suffix = SUFFICES[i]\n",
    "        extension = FILETYPES[i]\n",
    "        file_path = os.path.join(model_dir, path_suffix, sname_main + extension)\n",
    "        out[extension] = os.path.isfile(file_path)\n",
    "    \n",
    "    return out\n",
    "\n",
    "def determine_last_md_stage(model_dir):\n",
    "    for i in range(len(MD_STAGES)):\n",
    "        stage, filename = MD_STAGES[i]\n",
    "        if all(check_for_md_files(model_dir, filename).values()):\n",
    "            break\n",
    "        elif stage == 'emmd' and check_for_md_files(model_dir, filename)['.gro']:\n",
    "            pass\n",
    "    return stage\n",
    "\n",
    "def generate_slurm(model_dir, sname_main, stage):\n",
    "    #######################################\n",
    "    # Default params per MD stage: BlueGem SLURM format\n",
    "    #######################################\n",
    "    path_prefix_slurm = \"complex/jobf\"\n",
    "    path_prefix_md = \"complex/mdf\"\n",
    "\n",
    "    if stage == 'urmd':\n",
    "        n_nodes = 2\n",
    "        sim_time = \"5-12:30\"\n",
    "\n",
    "    elif stage == 'prmd':\n",
    "        n_nodes = 1\n",
    "        sim_time = \"1-12:30\"\n",
    "\n",
    "    elif stage == 'emmd':\n",
    "        n_nodes = 1\n",
    "        sim_time = \"12:30\"        \n",
    "    #######################################\n",
    "    # Script content\n",
    "    #######################################\n",
    "    slurm_template = (\n",
    "        \"#!/bin/bash -login \\n\"\n",
    "        \"#SBATCH -p cpu \\n\"\n",
    "        \"#SBATCH --ntasks-per-node=16 \\n\"\n",
    "        \"#SBATCH -N \"+str(n_nodes)+\" \\n\"\n",
    "        \"#SBATCH -t \"+sim_time+\" \\n\"\n",
    "        \"#SBATCH -A S2.1 \\n\"\n",
    "        \"#SBATCH -o \"+path_prefix_slurm+\"/\"+sname_main+\"_slurm.log \\n\"\n",
    "        \"#SBATCH -e \"+path_prefix_slurm+\"/\"+sname_main+\"_slurm.error \\n\"\n",
    "        \"\\n\"\n",
    "        \"# Load GROMACS module \\n\"\n",
    "        \"module load apps/gromacs-5.0.6 \\n\"\n",
    "        \"\\n\"\n",
    "        \"mpiexec.hydra -psm -bootstrap slurm gmx_mpi mdrun \"\n",
    "        \"-s \"+path_prefix_md+\"/\"+sname_main+\".tpr \"\n",
    "        \"-deffnm \"+path_prefix_md+\"/\"+sname_main+\" \\n\"\n",
    "    )\n",
    "    #######################################\n",
    "    # Write submission file for BG\n",
    "    #######################################\n",
    "    path_output = os.path.join(model_dir, path_prefix_slurm, sname_main+'.bg.slurm')\n",
    "    with open(path_output, 'w') as fp:\n",
    "        fp.write(slurm_template)\n",
    "    fp.close()\n",
    "\n",
    "def generate_tpr(model_dir, sname_main, sname_prev):\n",
    "    \"\"\"Generate GROMACS run input file\"\"\"\n",
    "    #######################################\n",
    "    # GROMACS command with input parameters\n",
    "    #######################################\n",
    "    if check_for_md_files(model_dir, sname_prev)['.gro']:\n",
    "        cmd = [\n",
    "            'gmx_mpi','grompp',\n",
    "            '-f','/home/ba13026/mpmodeling/protocols/gmx_protocols/templates/'+sname_main+'.mdp',\n",
    "            '-c',model_dir+'/complex/mdf/'+sname_prev+'.gro',\n",
    "            '-p',model_dir+'/complex/'+'topol.top',\n",
    "            '-o',model_dir+'/complex/mdf/'+sname_main+'.tpr',\n",
    "            '-maxwarn','3',\n",
    "        ]\n",
    "        #######################################\n",
    "        # Run GROMACS command \n",
    "        #######################################\n",
    "        p = subprocess.Popen(cmd)\n",
    "        p.wait()\n",
    "        #######################################\n",
    "        # Clean backup files to reduce storage\n",
    "        #######################################\n",
    "        files2remove = glob.glob('./'+'#mdout.mdp.*')\n",
    "        for f in files2remove:\n",
    "            os.remove(f)\n",
    "    else:\n",
    "        mssg = \"ERROR: Coordinates from previous MD stage missing!\"\n",
    "        print(mssg)\n",
    "        \n",
    "def prepare_submission_files(model_dir, sname_main, stage_last, stage_next):\n",
    "    out_check = check_for_submission_files(model_dir, sname_main)\n",
    "    if out_check['.tpr']:\n",
    "        generate_tpr(model_dir, sname_main, stage_last)\n",
    "    elif out_check['.slurm']:\n",
    "        generate_slurm(model_dir, sname_main, stage_next)"
   ]
  },
  {
   "cell_type": "code",
   "execution_count": 32,
   "metadata": {
    "ExecuteTime": {
     "end_time": "2019-06-16T16:19:41.318496Z",
     "start_time": "2019-06-16T16:19:41.312722Z"
    },
    "collapsed": false
   },
   "outputs": [
    {
     "name": "stdout",
     "output_type": "stream",
     "text": [
      "Overwriting /projects/s21/ba13026/Wza_Modeling/L-structures/rosetta/bg_test/md_relax/prepare_prmd_submission_cwzak375c_test.py\n"
     ]
    }
   ],
   "source": [
    "%%writefile /projects/s21/ba13026/Wza_Modeling/L-structures/rosetta/bg_test/md_relax/prepare_prmd_submission_cwzak375c_test.py\n",
    "import os\n",
    "import sys\n",
    "import glob\n",
    "import subprocess\n",
    "import concurrent.futures\n",
    "\n",
    "sys.path.append('/home/ba13026/mpmodeling/protocols')\n",
    "from md_submission_preparation import prepare_submission_files, determine_last_md_stage\n",
    "#################################################\n",
    "# Make list of model directories\n",
    "\n",
    "# List of cWza Cys-mutant sequence names\n",
    "MUTANTS = ['cWza-K375C']\n",
    "\n",
    "# Dict of Conformation names per sequence name\n",
    "CONFORMATIONS = {\n",
    "    'cWza-K375C':['conformation0', 'conformation1']\n",
    "}\n",
    "\n",
    "wdir = '/projects/s21/ba13026/Wza_Modeling/L-structures/rosetta/bg_test/md_relax'\n",
    "path_suffix = 'complex/mdf'\n",
    "\n",
    "MODELS_DIRS = []\n",
    "for mutant in MUTANTS:\n",
    "    for conformation in CONFORMATIONS[mutant]:\n",
    "        mutant_dir = os.path.join(wdir, mutant, conformation)\n",
    "        for model_dir in [os.path.join(mutant_dir, pdbname) for pdbname in os.listdir(mutant_dir)]:\n",
    "            MODELS_DIRS.append(model_dir)\n",
    "        \n",
    "#################################################\n",
    "# Define inout parameters as 1D list\n",
    "with open(os.path.join(os.path.dirname(os.path.realpath(__file__)), 'prmd_slurm_list_cwzak375c.txt'), 'w') as fp:\n",
    "    params_list = []\n",
    "    for model_dir in MODELS_DIRS:\n",
    "        # Determine LAST MD stage successfully simulated\n",
    "        stage_last = determine_last_md_stage(model_dir)\n",
    "\n",
    "        # Prepare submission files for NEXT MD stage needed to simulate\n",
    "        if stage_last == 'prmd':\n",
    "            stage_next = 'urmd'\n",
    "            sname_main = 'md_100ns'\n",
    "            params = [model_dir, sname_main, stage_last, stage_next]\n",
    "            params_list.append(params)\n",
    "            fp.write('/'.join(model_dir.split('/')[-3:])+'\\n')\n",
    "fp.close()\n",
    "\n",
    "#################################################\n",
    "# Define linear map for parallelisation\n",
    "\n",
    "def func(params):\n",
    "    model_dir, sname_main, stage_last, stage_next = params\n",
    "    prepare_submission_files(model_dir, sname_main, stage_last, stage_next)\n",
    "    model_dir_list.append('/'.join(model_dir.split('/')[-3:]))\n",
    "    \n",
    "    \n",
    "#################################################\n",
    "# Prepare submission files\n",
    "n_cores = 10\n",
    "with concurrent.futures.ProcessPoolExecutor(max_workers = n_cores) as executor:\n",
    "    executor.map(func, params_list)"
   ]
  },
  {
   "cell_type": "markdown",
   "metadata": {},
   "source": [
    "BASH command line for SLURM submission given lists for models"
   ]
  },
  {
   "cell_type": "markdown",
   "metadata": {},
   "source": [
    "```bash\n",
    "for f in `cat prmd_slurm_list_cwzak375c.txt`; do cd $f; sbatch complex/jobf/md_100ns.bg.slurm ; cd - ; done\n",
    "```"
   ]
  },
  {
   "cell_type": "markdown",
   "metadata": {},
   "source": [
    "# Applications"
   ]
  },
  {
   "cell_type": "markdown",
   "metadata": {},
   "source": [
    "## URMD simulations per Interaction Group"
   ]
  },
  {
   "cell_type": "markdown",
   "metadata": {},
   "source": [
    "**PROBLEM**: From all Interaction Partitions per docked conformation, per sequence, determine how many PDB models have been already URMD simulated, and how many more can be simulated."
   ]
  },
  {
   "cell_type": "code",
   "execution_count": 93,
   "metadata": {
    "ExecuteTime": {
     "end_time": "2019-06-19T16:56:42.824448Z",
     "start_time": "2019-06-19T16:56:42.818929Z"
    },
    "collapsed": true
   },
   "outputs": [],
   "source": [
    "MyTags  = [\n",
    "    json.dumps(['cWza', 'conformation0']),\n",
    "    json.dumps(['cWza', 'conformation1']),\n",
    "    json.dumps(['cWza-K375C', 'conformation0']),\n",
    "    json.dumps(['cWza-K375C', 'conformation1']),\n",
    "    json.dumps(['cWza-S355C', 'conformation0']),\n",
    "    json.dumps(['cWza-S355C', 'conformation1']),\n",
    "    json.dumps(['cWza-Y373C', 'conformation0'])\n",
    "]"
   ]
  },
  {
   "cell_type": "code",
   "execution_count": 102,
   "metadata": {
    "ExecuteTime": {
     "end_time": "2019-06-19T17:12:04.307769Z",
     "start_time": "2019-06-19T17:12:04.184041Z"
    },
    "collapsed": false
   },
   "outputs": [
    {
     "name": "stdout",
     "output_type": "stream",
     "text": [
      "[\"cWza\", \"conformation0\"] kihs_NOT_hbonds urmd-Simulated :  5\n",
      "[\"cWza\", \"conformation0\"] hbonds_AND_kihs urmd-Simulated :  40 Remaining : 246\n",
      "[\"cWza\", \"conformation0\"] hbonds_NOT_kihs urmd-Simulated :  14 Remaining : 100\n",
      "[\"cWza\", \"conformation0\"] hbonds_NOR_kihs urmd-Simulated :  10 Remaining : 21\n",
      "[\"cWza\", \"conformation1\"] kihs_NOT_hbonds urmd-Simulated :  10 Remaining : 65\n",
      "[\"cWza\", \"conformation1\"] hbonds_AND_kihs urmd-Simulated :  10 Remaining : 3\n",
      "[\"cWza\", \"conformation1\"] hbonds_NOT_kihs urmd-Simulated :  9 Remaining : 6\n",
      "[\"cWza\", \"conformation1\"] hbonds_NOR_kihs urmd-Simulated :  11 Remaining : 56\n",
      "[\"cWza-K375C\", \"conformation0\"] hbonds_NOT_kihs urmd-Simulated :  9 Remaining : 13\n",
      "[\"cWza-K375C\", \"conformation0\"] hbonds_NOR_kihs urmd-Simulated :  10 Remaining : 28\n",
      "[\"cWza-K375C\", \"conformation1\"] kihs_NOT_hbonds urmd-Simulated :  10 Remaining : 65\n",
      "[\"cWza-K375C\", \"conformation1\"] hbonds_AND_kihs urmd-Simulated :  9\n",
      "[\"cWza-S355C\", \"conformation0\"] kihs_NOT_hbonds urmd-Simulated :  10 Remaining : 82\n",
      "[\"cWza-S355C\", \"conformation0\"] hbonds_AND_kihs urmd-Simulated :  10 Remaining : 62\n",
      "[\"cWza-S355C\", \"conformation0\"] hbonds_NOT_kihs urmd-Simulated :  9\n",
      "[\"cWza-S355C\", \"conformation0\"] hbonds_NOR_kihs urmd-Simulated :  10\n",
      "[\"cWza-S355C\", \"conformation1\"] hbonds_NOT_kihs urmd-Simulated :  10 Remaining : 22\n",
      "[\"cWza-S355C\", \"conformation1\"] hbonds_NOR_kihs urmd-Simulated :  30 Remaining : 258\n",
      "[\"cWza-Y373C\", \"conformation0\"] kihs_NOT_hbonds urmd-Simulated :  3\n",
      "[\"cWza-Y373C\", \"conformation0\"] hbonds_AND_kihs urmd-Simulated :  1\n",
      "[\"cWza-Y373C\", \"conformation0\"] hbonds_NOT_kihs urmd-Simulated :  15 Remaining : 193\n",
      "[\"cWza-Y373C\", \"conformation0\"] hbonds_NOR_kihs urmd-Simulated :  24 Remaining : 239\n"
     ]
    }
   ],
   "source": [
    "stage_target = 'urmd'\n",
    "\n",
    "for tag in MyTags:\n",
    "    \n",
    "    S = Models_PDBs[tag]\n",
    "    for key in S.keys():\n",
    "        if len(S[key]) > 0:\n",
    "            MODELS_DIRS = []\n",
    "            for pdb_dir in S[key]:\n",
    "                MODELS_DIRS.append( os.path.join(wd, pdb_dir) )\n",
    "\n",
    "            COUNTER_2submit = 0 \n",
    "            for model_dir in MODELS_DIRS:\n",
    "                # Determine LAST MD stage successfully simulated\n",
    "                stage_last = determine_last_md_stage(model_dir)\n",
    "                if stage_last == stage_target:\n",
    "                    COUNTER_2submit += 1\n",
    "            COUNTER_remaining = len(S[key]) - COUNTER_2submit\n",
    "            if COUNTER_remaining > 0:\n",
    "                print(tag, key, stage_target+\"-Simulated : \", COUNTER_2submit, \"Remaining :\", COUNTER_remaining)\n",
    "            else:\n",
    "                print(tag, key, stage_target+\"-Simulated : \", COUNTER_2submit)\n",
    "                pass"
   ]
  },
  {
   "cell_type": "code",
   "execution_count": null,
   "metadata": {
    "collapsed": true
   },
   "outputs": [],
   "source": []
  }
 ],
 "metadata": {
  "kernelspec": {
   "display_name": "Python 3",
   "language": "python",
   "name": "python3"
  },
  "language_info": {
   "codemirror_mode": {
    "name": "ipython",
    "version": 3
   },
   "file_extension": ".py",
   "mimetype": "text/x-python",
   "name": "python",
   "nbconvert_exporter": "python",
   "pygments_lexer": "ipython3",
   "version": "3.5.6"
  },
  "toc": {
   "base_numbering": 1,
   "nav_menu": {},
   "number_sections": true,
   "sideBar": true,
   "skip_h1_title": false,
   "title_cell": "Table of Contents",
   "title_sidebar": "Contents",
   "toc_cell": false,
   "toc_position": {},
   "toc_section_display": true,
   "toc_window_display": true
  }
 },
 "nbformat": 4,
 "nbformat_minor": 2
}
