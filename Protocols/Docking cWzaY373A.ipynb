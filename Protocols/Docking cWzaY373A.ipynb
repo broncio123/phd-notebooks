{
 "cells": [
  {
   "cell_type": "markdown",
   "metadata": {},
   "source": [
    "# Input model generation "
   ]
  },
  {
   "cell_type": "markdown",
   "metadata": {},
   "source": [
    "## Generation of base cWza structure"
   ]
  },
  {
   "cell_type": "markdown",
   "metadata": {},
   "source": [
    "**PyMOL commands**"
   ]
  },
  {
   "cell_type": "markdown",
   "metadata": {},
   "source": [
    "* Get raw PDB coordinates for D4 domain from Wza crystal structure"
   ]
  },
  {
   "cell_type": "markdown",
   "metadata": {},
   "source": [
    "Extracted coordinates of D4 domain of Wza from raw PDB `2j58`. Just selected residues from 345 to 376 with commands in PyMOL console\n",
    "\n",
    "```python\n",
    "fetch 2j58\n",
    "select MyProtein, resi 345-376\n",
    "save wza-d4_raw.pdb, MyProtein\n",
    "```"
   ]
  },
  {
   "cell_type": "markdown",
   "metadata": {},
   "source": [
    "Generate structure D4 (transmembrane) domain of Wza\n",
    "\n",
    "IMPORTANT NOTE 1: This first structure is made with ALA`378, instead of PRO to allow\n",
    "modification of dihedral angle for alpha-helical conformation of missing residues\n",
    "\n",
    "```bash\n",
    "pymol prepare_Wza.py -- wza-d4_raw.pdb wza-d4_No-PRO378.pdb\n",
    "```\n",
    "\n",
    "IMPORTANT NOTE 2: For chain G, a persistent clash appears between the side chain of TYR-373 and TPR-377\n",
    "The only solution to remove this clash is to use PyMOL 'Sculpting'function manually, by selecting TRP sidechain\n",
    "After that, we can save the file in a PDB, re-open it with PyMOL or VMD, and check that the clash, did not make\n",
    "spurious bonds between the TYR and TRP sidechain atoms.\n"
   ]
  },
  {
   "cell_type": "markdown",
   "metadata": {},
   "source": [
    "```bash\n",
    "# We need to mutate PDB above to set PRO`378\n",
    "pymol -qc mutate_Wza.py -- wza-d4_No-PRO378.pdb 'ALA`378' 'PRO' wza-d4.pdb\n",
    "\n",
    "```"
   ]
  },
  {
   "cell_type": "markdown",
   "metadata": {},
   "source": [
    "Generate PDB of concensus Wza-d4 structure\n",
    "\n",
    "Point mutations used to match consensus sequence:\n",
    "\n",
    " * `SER-362 to THR(T)`\n",
    " * `MET-367 to LEU(L)`\n",
    " * `ARG-376 to THR(T)`\n",
    "\n",
    "Generated subsequent PDB with added mutations, running PyMOL script `mutate_Wza.py` in terminal\n",
    "\n",
    "```bash\n",
    "pymol -qc mutate_Wza.py -- wza-d4.pdb 'SER`362' 'THR' wza-d4_S362T.pdb\n",
    "pymol -qc mutate_Wza.py -- wza-d4_S362T.pdb 'MET`367' 'LEU' wza-d4_S362T_M367L.pdb\n",
    "pymol -qc mutate_Wza.py -- wza-d4_S362T_M367L.pdb 'ARG`376' 'THR' cwza.pdb\n",
    "```"
   ]
  },
  {
   "cell_type": "markdown",
   "metadata": {},
   "source": [
    "**<span style=\"color:red\">NOTE</span>**: Talk about removal of C-terminal residues, since conformation unclear. Plus, these may have drastic effects on MD simulations with applied electric voltage."
   ]
  },
  {
   "cell_type": "markdown",
   "metadata": {},
   "source": [
    "**PyMOL script for preparation of PDB**: `prepare_Wza.py`\n",
    "```python\n",
    "#!/usr/bin/env python\n",
    "from pymol import cmd\n",
    "import sys\n",
    "\n",
    "in_protein = sys.argv[1]\n",
    "out_protein = sys.argv[2]\n",
    "to_build = ['trp','ala','asn']\n",
    "to_build = to_build + ['nhh']\n",
    "\n",
    "cmd.load(in_protein, \"MyProtein\")\n",
    "\n",
    "# Alter exceptional selections in PDB\n",
    "cmd.select(\"MSEs\", \"resn MSE\")\n",
    "cmd.alter(\"MSEs\", \"type='ATOM' \")\n",
    "cmd.alter(\"MSEs\", \"resn='MET' \")\n",
    "cmd.delete(\"MSEs\")\n",
    "\n",
    "cmd.select(\"SEs\", \"name SE\")\n",
    "cmd.alter(\"SEs\", \"name='SG' \")\n",
    "cmd.alter(\"SEs\", \"elem='S' \")\n",
    "cmd.delete(\"SEs\")\n",
    "\n",
    "# Get original chain names\n",
    "Chains = cmd.get_chains()\n",
    "\n",
    "# Fix dihedral angles of residues near C-termini\n",
    "for chn in Chains:\n",
    "\n",
    "        # Fix Psi dihedral angle of LYS-375 to alpha-helix\n",
    "        res0 = 375\n",
    "        atom2 = \"/MyProtein//\"+chn+\"/\"+str(res0)+\"/N\"\n",
    "        atom3 = \"/MyProtein//\"+chn+\"/\"+str(res0)+\"/CA\"\n",
    "        atom4 = \"/MyProtein//\"+chn+\"/\"+str(res0)+\"/C\"\n",
    "        atom5 = \"/MyProtein//\"+chn+\"/\"+str(res0+1)+\"/N\"\n",
    "\n",
    "        cmd.set_dihedral(atom2,atom3,atom4,atom5, -45)\n",
    "\n",
    "        # Set Phi dihedral angle of ARG-376 to alpha-helix\n",
    "        res0 = 376\n",
    "        atom1 = \"/MyProtein//\"+chn+\"/\"+str(res0-1)+\"/C\"\n",
    "        atom2 = \"/MyProtein//\"+chn+\"/\"+str(res0)+\"/N\"\n",
    "        atom3 = \"/MyProtein//\"+chn+\"/\"+str(res0)+\"/CA\"\n",
    "        atom4 = \"/MyProtein//\"+chn+\"/\"+str(res0)+\"/C\"\n",
    "\n",
    "        cmd.set_dihedral(atom1,atom2,atom3,atom4, -60)\n",
    "\n",
    "        # Add missing residues to C-termini on ARG-376\n",
    "        # NOTE: Amidate C-termini by default. For the last residue, we need a N to set Psi\n",
    "        # So, this is why we cap peptides from the beginning\n",
    "\n",
    "        cmd.select(\"MyAA\", \"/MyProtein//\"+chn+\"/ARG`376/C\")\n",
    "        cmd.edit(\"MyAA\")\n",
    "\n",
    "        for aa in to_build:\n",
    "                cmd.editor.attach_amino_acid(\"pk1\", aa)\n",
    "        cmd.unpick()\n",
    "\n",
    "        # Set dihedral angles fo new residues to alpha-helix\n",
    "        for res0 in range(376,380):\n",
    "                atom1 = \"/MyProtein//\"+chn+\"/\"+str(res0-1)+\"/C\"\n",
    "                atom2 = \"/MyProtein//\"+chn+\"/\"+str(res0)+\"/N\"\n",
    "                atom3 = \"/MyProtein//\"+chn+\"/\"+str(res0)+\"/CA\"\n",
    "                atom4 = \"/MyProtein//\"+chn+\"/\"+str(res0)+\"/C\"\n",
    "                atom5 = \"/MyProtein//\"+chn+\"/\"+str(res0+1)+\"/N\"\n",
    "\n",
    "                # Set (Phi,Psi) dihedral angles per residue, respectively \n",
    "                cmd.set_dihedral(atom1,atom2,atom3,atom4, -60)\n",
    "                cmd.set_dihedral(atom2,atom3,atom4,atom5, -45)\n",
    "\n",
    "        # Acetylate N-termini on ALA-345 \n",
    "        cmd.select(\"MyAA\", \"/MyProtein//\"+chn+\"/ALA`345/N\")\n",
    "        cmd.edit(\"MyAA\")\n",
    "        cmd.editor.attach_amino_acid(\"pk1\",'ace' )\n",
    "        cmd.unpick()\n",
    "\n",
    "# Rename NHH to NH2 (GROMACS format)  \n",
    "cmd.select(\"NH2s\", \"resn NHH\")\n",
    "cmd.alter(\"NH2s\", \"resn='NH2'\")\n",
    "cmd.delete(\"NH2s\")\n",
    "\n",
    "# Remove steric clashes between sidechains\n",
    "\n",
    "## Select only sidechain of ARG-371 to ASN-379          \n",
    "cmd.select(\"sidechains\", \"resi 370:379 and ! bb.\")\n",
    "\n",
    "## Protect rest of the protein from modifications by sculpting\n",
    "cmd.protect('(not sidechains)')\n",
    "\n",
    "## Carry out Sculpting for 7000 cycles\n",
    "cmd.sculpt_activate('MyProtein')\n",
    "cmd.sculpt_iterate('MyProtein', cycles=7000)\n",
    "cmd.sculpt_deactivate('MyProtein')\n",
    "cmd.deprotect()\n",
    "\n",
    "# Save sculpted structure into output file\n",
    "cmd.save(out_protein, \"MyProtein\")\n",
    "```"
   ]
  },
  {
   "cell_type": "markdown",
   "metadata": {},
   "source": [
    "##  Mutate cWza crystal structure  (PyMOL)"
   ]
  },
  {
   "cell_type": "markdown",
   "metadata": {},
   "source": [
    "`/home/ba13026/research/bg/Wza_Modeling/L-structures/rosetta/bg_test/cwza_NoWPN/1-refine_structure/1-1_preparation/input`"
   ]
  },
  {
   "cell_type": "markdown",
   "metadata": {
    "ExecuteTime": {
     "end_time": "2018-12-01T13:05:17.275759Z",
     "start_time": "2018-12-01T13:05:17.271199Z"
    }
   },
   "source": [
    "```python\n",
    "pymol -qc mutate_Wza.py -- cwza_NoWPN.pdb 'TYR`29' 'ALA' cwzay373a_NoWPN.pdb\n",
    "```"
   ]
  },
  {
   "cell_type": "markdown",
   "metadata": {},
   "source": [
    "> *Input file*: `cwza_NoWPN.pdb`\n",
    "\n",
    "> *Output file*: `cwzay373a_NoWPN.pdb`\n",
    "\n",
    "> *Mutable residue*: Tyrosine 29\n",
    "\n",
    "> *Mutant residue*: Alanine"
   ]
  },
  {
   "cell_type": "markdown",
   "metadata": {},
   "source": [
    "**PyMOL script for mutation of Wza-D4 crystal structure**: `mutate_Wza.py`\n",
    "\n",
    "```python\n",
    "#!/usr/bin/env python \n",
    "\n",
    "from pymol import cmd\n",
    "import sys\n",
    "\n",
    "in_protein   = sys.argv[1] # PDB file of protein\n",
    "to_mutate = sys.argv[2] # Residue to mutate in chain\n",
    "mutate_to = sys.argv[3] # Mutant residue\n",
    "out_protein = sys.argv[4] # PDB file output\n",
    "\n",
    "# Load PDB of protein to mutate\n",
    "cmd.load(in_protein, 'MyProtein')\n",
    "# Extract list of chain names\n",
    "Chains = cmd.get_chains('MyProtein')\n",
    "\n",
    "# Call Mutagenesis function of Wizard\n",
    "cmd.wizard(\"mutagenesis\")\n",
    "cmd.refresh_wizard()\n",
    "# Set name of residue to mutate to\n",
    "cmd.get_wizard().set_mode(mutate_to)\n",
    "cmd.get_wizard().set_hyd(\"none\")\n",
    "\n",
    "for chain in Chains:\n",
    "        # Select residue to mutate in chain\n",
    "        cmd.select(\"to_mutate\",\"/MyProtein//\"+chain+\"/\"+to_mutate)\n",
    "        # Allow Wizard to identify selected residue\n",
    "        cmd.get_wizard().do_select('''to_mutate''')\n",
    "        # Generate mutation \n",
    "        cmd.get_wizard().apply()\n",
    "        # Restart selection for next mutation\n",
    "        cmd.select(\"to_mutate\", 'none')\n",
    "        \n",
    "# Close Wizard\n",
    "cmd.set_wizard()\n",
    "cmd.delete(\"to_mutate\")\n",
    "\n",
    "res = int(to_mutate.split(\"`\")[1])\n",
    "around_res = str(res-1)+\":\"+str(res+1)\n",
    "cmd.select(\"sidechains\", \"resi \"+around_res+\"and ! bb.\")\n",
    "## Protect rest of the protein from modifications by sculpting\n",
    "cmd.protect('(not sidechains)')\n",
    "\n",
    "## Carry out Sculpting for 5000 cycles\n",
    "cmd.sculpt_activate('MyProtein')\n",
    "cmd.sculpt_iterate('MyProtein', cycles=5000)\n",
    "cmd.sculpt_deactivate('MyProtein')\n",
    "cmd.deprotect()\n",
    "\n",
    "# Save mutated protein\n",
    "cmd.save(out_protein, \"MyProtein\")\n",
    "```"
   ]
  },
  {
   "cell_type": "markdown",
   "metadata": {},
   "source": [
    "##  Renumber to Rosetta format"
   ]
  },
  {
   "cell_type": "markdown",
   "metadata": {},
   "source": [
    "```python\n",
    "python2 $ROSETTA38_HOME/tools/protein_tools/scripts/clean_pdb.py input/cwzay373a_NoWPN.pdb ignorechain\n",
    "```"
   ]
  },
  {
   "cell_type": "markdown",
   "metadata": {},
   "source": [
    "> *Output file*: cwzay373a_NoWPN_ignorechain.pdb"
   ]
  },
  {
   "cell_type": "markdown",
   "metadata": {},
   "source": [
    "## Make span file"
   ]
  },
  {
   "cell_type": "markdown",
   "metadata": {},
   "source": [
    "```bash\n",
    "Rosetta-generated spanfile from SpanningTopology object\n",
    "8 256\n",
    "antiparallel\n",
    "n2c\n",
    "        14      31\n",
    "        46      63\n",
    "        78      95\n",
    "        110     127\n",
    "        142     159\n",
    "        174     191\n",
    "        206     223\n",
    "        238     255\n",
    "\n",
    "```"
   ]
  },
  {
   "cell_type": "markdown",
   "metadata": {},
   "source": [
    "## Transform PDB coordinates to lipid coordinates and optimise embedding "
   ]
  },
  {
   "cell_type": "markdown",
   "metadata": {},
   "source": [
    "```python\n",
    "./mpi_mptransform.sh input/cwzay373a_NoWPN_ignorechain.pdb input/cwzay373a_NoWPN_ignorechain.span\n",
    "```"
   ]
  },
  {
   "cell_type": "markdown",
   "metadata": {},
   "source": [
    "> *Output file*: `cwzay373a_NoWPN_ignorechain_0001.pdb`"
   ]
  },
  {
   "cell_type": "markdown",
   "metadata": {},
   "source": [
    "# Relaxation of crystal structure"
   ]
  },
  {
   "cell_type": "markdown",
   "metadata": {},
   "source": [
    "## Use fast relax Rosetta app"
   ]
  },
  {
   "cell_type": "markdown",
   "metadata": {},
   "source": [
    "`sbatch mpi-relax.slurm`"
   ]
  },
  {
   "cell_type": "markdown",
   "metadata": {},
   "source": [
    "> *Input*: `cwzay373a_NoWPN_ignorechain_0001_clean.pdb`, `cwzay373a_NoWPN_ignorechain_0001_tweaked.span`\n",
    "\n",
    "> *Output*: relaxed models stored in `output` folder and score file `.sc`\n",
    "\n",
    "> *Files*: `membrane_relax.xml`, `relax_flags`"
   ]
  },
  {
   "cell_type": "markdown",
   "metadata": {},
   "source": [
    "**Cluster submission script**:  `mpi-relax.slurm`\n",
    "\n",
    "```bash\n",
    "#!/bin/bash -login\n",
    "#SBATCH -p cpu\n",
    "#SBATCH --ntasks-per-node=16\n",
    "#SBATCH -N 2\n",
    "#SBATCH -t 1-12:30\n",
    "#SBATCH -A S2.1\n",
    "#SBATCH -o output/mpi-run_test.log\n",
    "#SBATCH -e output/error_mpi-run_test.log\n",
    "\n",
    "module add apps/rosetta/mpi/3.8\n",
    "\n",
    "mpiexec $ROSETTA38_MPI/rosetta_scripts.mpi.linuxgccrelease -database $ROSETTA38_DB @relax_flags -mpi_tracer_to_file ./logs/run\n",
    "\n",
    "```"
   ]
  },
  {
   "cell_type": "markdown",
   "metadata": {},
   "source": [
    "**Rosetta relax app flags**:  `relax_flags`\n",
    "\n",
    "```bash\n",
    "-parser:protocol membrane_relax.xml\n",
    "-in:file:s ./input/cwzay373a_NoWPN_ignorechain_0001_clean.pdb\n",
    "-ignore_unrecognized_res true\n",
    "-mp:scoring:hbond\n",
    "-mp:setup:spanfiles ./input/cwzay373a_NoWPN_ignorechain_0001_tweaked.span\n",
    "-mp:thickness 20\n",
    "-mp:visualize:thickness 20\n",
    "-nstruct 1000\n",
    "-relax:fast\n",
    "-relax:jump_move true\n",
    "-out:path:pdb ./output\n",
    "-out:file:scorefile relax_merged.sc\n",
    "-out:path:score ./output\n",
    "-packing:pack_missing_sidechains 0\n",
    "```"
   ]
  },
  {
   "cell_type": "markdown",
   "metadata": {},
   "source": [
    "**Rosetta script for relax app**:  `membrane_relax.xml`\n",
    "\n",
    "```bash\n",
    "<ROSETTASCRIPTS>\n",
    "        <SCOREFXNS>\n",
    "                <ScoreFunction name=\"mpframework_smooth_fa_2012\" weights=\"mpframework_smooth_fa_2012.wts\"/>\n",
    "        </SCOREFXNS>\n",
    "        <MOVERS>\n",
    "                <AddMembraneMover name=\"add_memb\"/>\n",
    "                <MembranePositionFromTopologyMover name=\"init_pos\"/>\n",
    "                <FastRelax name=\"fast_relax\" scorefxn=\"mpframework_smooth_fa_2012\" repeats=\"8\"/>\n",
    "        </MOVERS>\n",
    "        <PROTOCOLS>\n",
    "                <Add mover=\"add_memb\"/>\n",
    "                <Add mover=\"init_pos\"/>\n",
    "                <Add mover=\"fast_relax\"/>\n",
    "        </PROTOCOLS>\n",
    "        <OUTPUT scorefxn=\"mpframework_smooth_fa_2012\"/>\n",
    "</ROSETTASCRIPTS>\n",
    "```"
   ]
  },
  {
   "cell_type": "markdown",
   "metadata": {},
   "source": [
    "Rationale:"
   ]
  },
  {
   "cell_type": "markdown",
   "metadata": {
    "collapsed": true
   },
   "source": [
    "## Model selection after Rosetta Fast Relax"
   ]
  },
  {
   "cell_type": "markdown",
   "metadata": {},
   "source": [
    "From output score file, filter out values corresponding to `total score` and `description` columns. Sort these out by total energy in reversed order to identify those with the lowest score (top 5).\n",
    "\n",
    "```bash\n",
    "awk 'NR>2{print $2,$NF}' output/relax_merged.sc | sort -nr | tail -5\n",
    "```\n",
    "\n",
    "Output:\n",
    "\n",
    "```\n",
    "-804.840 cwzay373a_NoWPN_ignorechain_0001_clean_0587\n",
    "-804.847 cwzay373a_NoWPN_ignorechain_0001_clean_0096\n",
    "-805.714 cwzay373a_NoWPN_ignorechain_0001_clean_0406\n",
    "-806.347 cwzay373a_NoWPN_ignorechain_0001_clean_0366\n",
    "-807.011 cwzay373a_NoWPN_ignorechain_0001_clean_0266\n",
    "```"
   ]
  },
  {
   "cell_type": "markdown",
   "metadata": {},
   "source": [
    "Take the last model to clean it, then rename claned file as `refined1.pdb`, and finally transform this back to membrane coordinates optimising embedding. \n",
    "\n",
    "```bash\n",
    "\n",
    "python2 $ROSETTA38_HOME/tools/protein_tools/scripts/clean_pdb.py output/cwzay373a_NoWPN_ignorechain_0001_clean_0266.pdb ignorechain\n",
    "\n",
    "mv cwzay373a_NoWPN_ignorechain_0001_clean_0266_ignorechain.pdb refined1.pdb\n",
    "\n",
    "./mpi_mptransform.sh refined1.pdb input/cwzay373a_NoWPN_ignorechain_0001_tweaked.span\n",
    "```\n",
    "\n",
    "Output: `refined1_0001.pdb`"
   ]
  },
  {
   "cell_type": "markdown",
   "metadata": {},
   "source": [
    "# Symmetric docking"
   ]
  },
  {
   "cell_type": "markdown",
   "metadata": {},
   "source": [
    "## Generate symmetry input files"
   ]
  },
  {
   "cell_type": "markdown",
   "metadata": {},
   "source": [
    "```bash \n",
    "./make_symminputs.sh refined1_0001.pdb output 8\n",
    "```\n",
    "\n",
    "Output:\n",
    "```\n",
    "refined1_0001_symm.pdb\n",
    "refined1_0001_INPUT.pdb\n",
    "refined1_0001_model_AB8.pdb\n",
    "refined1_0001.kin\n",
    "output/refined1_0001.c8.symm\n",
    "```"
   ]
  },
  {
   "cell_type": "markdown",
   "metadata": {},
   "source": [
    "**Script to generate of input files for MPSymDock app**:  `make_symminputs.sh`\n",
    "\n",
    "```bash\n",
    "protein=$1 # PDB file of refined model \n",
    "outputf=$2 # Output folder\n",
    "N=$3 # Symmetry order \n",
    "fname=${protein##*/}\n",
    "fname=${fname%.pdb}\n",
    "$ROSETTA38_HOME/main/source/src/apps/public/symmetry/make_symmdef_file.pl -p $protein  -a A -r 50 -i B:$N > ${outputf}/${fname}.c${N}.symm\n",
    "```"
   ]
  },
  {
   "cell_type": "markdown",
   "metadata": {},
   "source": [
    "## Run symmetric docking: MPSymDock app "
   ]
  },
  {
   "cell_type": "markdown",
   "metadata": {},
   "source": [
    "`sbatch mpi-symdock1_AB-mu.slurm`"
   ]
  },
  {
   "cell_type": "markdown",
   "metadata": {},
   "source": [
    "**Cluster submission script**:  `mpi-symdock1_AB-mu.slurm`\n",
    "\n",
    "```bash\n",
    "#!/bin/bash -login\n",
    "#SBATCH -p cpu\n",
    "#SBATCH --ntasks-per-node=16\n",
    "#SBATCH -N 2\n",
    "#SBATCH -t 2-12:30\n",
    "#SBATCH -A S2.1\n",
    "#SBATCH -o output/mpi-symdock1_AB-mu.log\n",
    "#SBATCH -e output/error_mpi-symdock1_AB-mu.log\n",
    "\n",
    "module add apps/rosetta/mpi/3.8\n",
    "\n",
    "mpiexec $ROSETTA38_MPI/mp_symdock.mpi.linuxgccrelease -database $ROSETTA38_DB @flags_symdock1_AB-mu\n",
    "```"
   ]
  },
  {
   "cell_type": "markdown",
   "metadata": {},
   "source": [
    "**Flags**:  `flags_symdock1_AB-mu`\n",
    "\n",
    "```bash\n",
    "cat flags_symdock1_AB-mu\n",
    "-in:file:s input/refined1_0001_INPUT.pdb\n",
    "-in:file:native input/cwzay373a_NoWPN_ignorechain_0001.pdb\n",
    "-ignore_unrecognized_res true\n",
    "-mp:setup:spanfiles input/chainA.span\n",
    "-mp:scoring:hbond\n",
    "-nstruct 1000\n",
    "-symmetry:symmetry_definition input/refined1_0001.c8.symm\n",
    "-symmetry:initialize_rigid_body_dofs\n",
    "-packing:pack_missing_sidechains 0 \n",
    "-docking:dock_lowres_filter 5.0 10.0\n",
    "-out:path:pdb ./output\n",
    "-out:file:scorefile symdock1.sc\n",
    "-out:path:score ./output\n",
    "```"
   ]
  }
 ],
 "metadata": {
  "kernelspec": {
   "display_name": "Python 3",
   "language": "python",
   "name": "python3"
  },
  "language_info": {
   "codemirror_mode": {
    "name": "ipython",
    "version": 3
   },
   "file_extension": ".py",
   "mimetype": "text/x-python",
   "name": "python",
   "nbconvert_exporter": "python",
   "pygments_lexer": "ipython3",
   "version": "3.5.4"
  },
  "toc": {
   "base_numbering": 1,
   "nav_menu": {},
   "number_sections": true,
   "sideBar": true,
   "skip_h1_title": false,
   "title_cell": "Table of Contents",
   "title_sidebar": "Contents",
   "toc_cell": false,
   "toc_position": {},
   "toc_section_display": true,
   "toc_window_display": true
  }
 },
 "nbformat": 4,
 "nbformat_minor": 2
}
