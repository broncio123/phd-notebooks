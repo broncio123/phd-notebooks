{
 "cells": [
  {
   "cell_type": "markdown",
   "metadata": {},
   "source": [
    "# Proof of concept"
   ]
  },
  {
   "cell_type": "code",
   "execution_count": null,
   "metadata": {
    "ExecuteTime": {
     "end_time": "2019-08-23T18:29:56.938153Z",
     "start_time": "2019-08-23T18:29:56.927854Z"
    },
    "collapsed": false
   },
   "outputs": [],
   "source": [
    "import os\n",
    "import numpy \n",
    "import isambard_dev\n",
    "import pandas\n",
    "import seaborn\n",
    "import MDAnalysis as mda\n",
    "import matplotlib.pyplot as plt\n",
    "from mpl_toolkits.mplot3d import Axes3D  \n",
    "%matplotlib inline"
   ]
  },
  {
   "cell_type": "code",
   "execution_count": null,
   "metadata": {
    "ExecuteTime": {
     "end_time": "2019-08-20T14:13:48.283766Z",
     "start_time": "2019-08-20T14:13:48.281589Z"
    },
    "collapsed": true
   },
   "outputs": [],
   "source": [
    "wd = '/projects/s21/ba13026/Wza_Modeling/L-structures/rosetta/bg_test/md_relax/'"
   ]
  },
  {
   "cell_type": "markdown",
   "metadata": {},
   "source": [
    "# Tests"
   ]
  },
  {
   "cell_type": "markdown",
   "metadata": {},
   "source": [
    "## Comparison $R_g$ calculation"
   ]
  },
  {
   "cell_type": "markdown",
   "metadata": {},
   "source": [
    "`isambard` implementation"
   ]
  },
  {
   "cell_type": "code",
   "execution_count": null,
   "metadata": {
    "ExecuteTime": {
     "end_time": "2019-08-20T15:44:12.081011Z",
     "start_time": "2019-08-20T15:44:12.075949Z"
    },
    "collapsed": false
   },
   "outputs": [],
   "source": [
    "mutant = 'cWza-K375C'\n",
    "C = 'conformation0'\n",
    "model_dir = mutant+'/'+C \n",
    "model_name = 'refined1_0001_INPUT_0900_ignorechain'\n",
    "model_pdb = path0 +model_dir+'/'+model_name+'/'+model_name+'.pdb'"
   ]
  },
  {
   "cell_type": "code",
   "execution_count": null,
   "metadata": {
    "ExecuteTime": {
     "end_time": "2019-08-20T15:44:12.666649Z",
     "start_time": "2019-08-20T15:44:12.663367Z"
    },
    "collapsed": false
   },
   "outputs": [],
   "source": [
    "model_pdb"
   ]
  },
  {
   "cell_type": "code",
   "execution_count": null,
   "metadata": {
    "ExecuteTime": {
     "end_time": "2019-08-20T15:44:16.416015Z",
     "start_time": "2019-08-20T15:44:16.355486Z"
    },
    "collapsed": false
   },
   "outputs": [],
   "source": [
    "p = isambard_dev.ampal.convert_pdb_to_ampal(model_pdb)\n",
    "p.radius_of_gyration"
   ]
  },
  {
   "cell_type": "markdown",
   "metadata": {},
   "source": [
    "`MDAnalysis` implementation"
   ]
  },
  {
   "cell_type": "code",
   "execution_count": null,
   "metadata": {
    "ExecuteTime": {
     "end_time": "2019-08-20T15:44:18.167215Z",
     "start_time": "2019-08-20T15:44:18.123401Z"
    },
    "collapsed": false
   },
   "outputs": [],
   "source": [
    "u = mda.Universe(model_pdb)\n",
    "protein = u.select_atoms(\"protein\")\n",
    "protein.radius_of_gyration()"
   ]
  },
  {
   "cell_type": "markdown",
   "metadata": {},
   "source": [
    "<b><span style=\"color:red\"> NOTE </span></b>\n",
    "\n",
    "* `isambard` does not have a way to compute the components of $R_g$"
   ]
  },
  {
   "cell_type": "markdown",
   "metadata": {},
   "source": [
    "# Radius of gyration  components"
   ]
  },
  {
   "cell_type": "markdown",
   "metadata": {},
   "source": [
    "Proof of concept"
   ]
  },
  {
   "cell_type": "code",
   "execution_count": null,
   "metadata": {
    "ExecuteTime": {
     "end_time": "2019-08-22T14:39:22.260686Z",
     "start_time": "2019-08-22T14:39:22.219090Z"
    },
    "collapsed": false
   },
   "outputs": [],
   "source": [
    "u = mda.Universe(model_pdb)\n",
    "protein = u.select_atoms(\"protein\")\n",
    "protein_mass = numpy.sum(protein.masses)\n",
    "protein_inertia = protein.moment_of_inertia() # tensor of inertia"
   ]
  },
  {
   "cell_type": "markdown",
   "metadata": {},
   "source": [
    "Reference: Moment of Inertia\n",
    "\n",
    "https://en.wikipedia.org/wiki/Moment_of_inertia#Inertia_tensor\n",
    "\n",
    "https://www.mdanalysis.org/MDAnalysisTutorial/atomgroups.html"
   ]
  },
  {
   "cell_type": "code",
   "execution_count": null,
   "metadata": {
    "ExecuteTime": {
     "end_time": "2019-08-22T14:39:38.749772Z",
     "start_time": "2019-08-22T14:39:38.746316Z"
    },
    "collapsed": false
   },
   "outputs": [],
   "source": [
    "protein_inertia"
   ]
  },
  {
   "cell_type": "code",
   "execution_count": null,
   "metadata": {
    "ExecuteTime": {
     "end_time": "2019-08-22T14:39:24.777352Z",
     "start_time": "2019-08-22T14:39:24.774496Z"
    },
    "collapsed": false
   },
   "outputs": [],
   "source": [
    "protein_Rg_n = [numpy.sqrt(protein_inertia[i][i]/float(protein_mass)) for i,j in []]"
   ]
  },
  {
   "cell_type": "code",
   "execution_count": null,
   "metadata": {
    "ExecuteTime": {
     "end_time": "2019-08-22T14:39:25.519637Z",
     "start_time": "2019-08-22T14:39:25.516122Z"
    },
    "collapsed": false
   },
   "outputs": [],
   "source": [
    "protein_Rg_n"
   ]
  },
  {
   "cell_type": "markdown",
   "metadata": {},
   "source": [
    "Implementation"
   ]
  },
  {
   "cell_type": "code",
   "execution_count": null,
   "metadata": {
    "ExecuteTime": {
     "end_time": "2019-08-24T09:59:11.821070Z",
     "start_time": "2019-08-24T09:59:11.812561Z"
    },
    "collapsed": true
   },
   "outputs": [],
   "source": [
    "import MDAnalysis as mda\n",
    "\n",
    "def get_Rg_components(model_pdb):\n",
    "    u = mda.Universe(model_pdb)\n",
    "    protein = u.select_atoms(\"protein\")\n",
    "    protein_mass = numpy.sum(protein.masses)\n",
    "    protein_inertia = protein.moment_of_inertia() # tensor of inertia\n",
    "    f = lambda x : numpy.sqrt(x/float(protein_mass))\n",
    "    protein_Rg_n = [f(protein_inertia[i][i]) for i in range(3)]\n",
    "    Rg_x, Rg_y, Rg_z = protein_Rg_n\n",
    "    return Rg_x, Rg_y, Rg_z"
   ]
  },
  {
   "cell_type": "code",
   "execution_count": null,
   "metadata": {
    "ExecuteTime": {
     "end_time": "2019-08-24T09:59:14.167607Z",
     "start_time": "2019-08-24T09:59:14.124644Z"
    },
    "collapsed": false
   },
   "outputs": [],
   "source": [
    "get_Rg_components(model_pdb)"
   ]
  },
  {
   "cell_type": "markdown",
   "metadata": {},
   "source": [
    "# Docked structures"
   ]
  },
  {
   "cell_type": "markdown",
   "metadata": {},
   "source": [
    "## Conformational Groups: All models"
   ]
  },
  {
   "cell_type": "markdown",
   "metadata": {},
   "source": [
    "### Scatter dataplots"
   ]
  },
  {
   "cell_type": "code",
   "execution_count": null,
   "metadata": {
    "ExecuteTime": {
     "end_time": "2019-08-20T16:35:05.020210Z",
     "start_time": "2019-08-20T16:33:57.084535Z"
    },
    "collapsed": false
   },
   "outputs": [],
   "source": [
    "MUTANTS = ['cWza','cWza-K375C','cWza-S355C','cWza-Y373C']\n",
    "\n",
    "CONFORMATIONS = {\n",
    "    'cWza':['conformation0', 'conformation1'],\n",
    "    'cWza-K375C':['conformation0', 'conformation1'],\n",
    "    'cWza-S355C':['conformation0', 'conformation1'],\n",
    "    'cWza-Y373C':['conformation1'],\n",
    "}\n",
    "\n",
    "fig, ax = plt.subplots(2,2,figsize=(10,10))\n",
    "seaborn.set_style('white')\n",
    "\n",
    "axes = {\n",
    "    'cWza':ax[0,0],\n",
    "    'cWza-K375C':ax[0,1],\n",
    "    'cWza-S355C':ax[1,0],\n",
    "    'cWza-Y373C':ax[1,1]\n",
    "}\n",
    "\n",
    "COLORS = {\n",
    "    'conformation0':'blue',\n",
    "    'conformation1':'green'\n",
    "}\n",
    "\n",
    "for i in range(len(MUTANTS)):\n",
    "    mutant = MUTANTS[i]\n",
    "    for C in CONFORMATIONS[mutant]:\n",
    "        X = []\n",
    "        Z = []\n",
    "        mutant_dir = mutant+'/'+C \n",
    "        for model_dir in [mutant_dir+'/'+model for model in os.listdir(wd+mutant_dir)]:\n",
    "            model_name = model_dir.split('/')[-1]\n",
    "            model_pdb = wd+'/'+model_dir+'/'+model_name+'.pdb'\n",
    "            Rg_x, Rg_y, Rg_z = get_Rg_components(model_pdb)\n",
    "            X.append(Rg_x)\n",
    "            Z.append(Rg_z)\n",
    "        seaborn.scatterplot(X,Z,color=COLORS[C],ax=axes[mutant])\n",
    "\n",
    "plt.show()"
   ]
  },
  {
   "cell_type": "markdown",
   "metadata": {},
   "source": [
    "### Density dataplots"
   ]
  },
  {
   "cell_type": "code",
   "execution_count": null,
   "metadata": {
    "ExecuteTime": {
     "end_time": "2019-08-20T16:41:24.965472Z",
     "start_time": "2019-08-20T16:40:13.306535Z"
    },
    "collapsed": false
   },
   "outputs": [],
   "source": [
    "MUTANTS = ['cWza','cWza-K375C','cWza-S355C','cWza-Y373C']\n",
    "\n",
    "CONFORMATIONS = {\n",
    "    'cWza':['conformation0', 'conformation1'],\n",
    "    'cWza-K375C':['conformation0', 'conformation1'],\n",
    "    'cWza-S355C':['conformation0', 'conformation1'],\n",
    "    'cWza-Y373C':['conformation1'],\n",
    "}\n",
    "\n",
    "fig, ax = plt.subplots(2,2,figsize=(10,10))\n",
    "seaborn.set_style('darkgrid')\n",
    "\n",
    "axes = {\n",
    "    'cWza':ax[0,0],\n",
    "    'cWza-K375C':ax[0,1],\n",
    "    'cWza-S355C':ax[1,0],\n",
    "    'cWza-Y373C':ax[1,1]\n",
    "}\n",
    "\n",
    "CMAPS = {\n",
    "    'conformation0':'Blues',\n",
    "    'conformation1':'Greens'\n",
    "}\n",
    "\n",
    "for i in range(len(MUTANTS)):\n",
    "    mutant = MUTANTS[i]\n",
    "    for C in CONFORMATIONS[mutant]:\n",
    "        X = []\n",
    "        Z = []\n",
    "        mutant_dir = mutant+'/'+C \n",
    "        for model_dir in [mutant_dir+'/'+model for model in os.listdir(wd+mutant_dir)]:\n",
    "            model_name = model_dir.split('/')[-1]\n",
    "            model_pdb = wd+'/'+model_dir+'/'+model_name+'.pdb'\n",
    "            Rg_x, Rg_y, Rg_z = get_Rg_components(model_pdb)\n",
    "            X.append(Rg_x)\n",
    "            Z.append(Rg_z)\n",
    "        seaborn.kdeplot(X,Z,n_levels=20,cmap=CMAPS[C],ax=axes[mutant])\n",
    "\n",
    "plt.show()"
   ]
  },
  {
   "cell_type": "markdown",
   "metadata": {},
   "source": [
    "## Conformational Groups: Sample models"
   ]
  },
  {
   "cell_type": "code",
   "execution_count": null,
   "metadata": {
    "ExecuteTime": {
     "end_time": "2019-08-20T17:12:49.904396Z",
     "start_time": "2019-08-20T17:12:49.900119Z"
    },
    "collapsed": false
   },
   "outputs": [],
   "source": [
    "import json\n",
    "\n",
    "with open(wd+'EMMD_Sample.json','r') as fp:\n",
    "    Sample = json.load(fp)"
   ]
  },
  {
   "cell_type": "code",
   "execution_count": null,
   "metadata": {
    "ExecuteTime": {
     "end_time": "2019-08-20T17:26:18.027242Z",
     "start_time": "2019-08-20T17:26:01.821009Z"
    },
    "collapsed": false
   },
   "outputs": [],
   "source": [
    "MyTags  = [\n",
    "    ['cWza', 'conformation0'],\n",
    "    ['cWza', 'conformation1'],\n",
    "    ['cWza-K375C', 'conformation0'],\n",
    "    ['cWza-K375C', 'conformation1'],\n",
    "    ['cWza-S355C', 'conformation0'],\n",
    "    ['cWza-S355C', 'conformation1'],\n",
    "    ['cWza-Y373C', 'conformation1']\n",
    "]\n",
    "\n",
    "CONFORMATIONS = {\n",
    "    'cWza':['conformation0', 'conformation1'],\n",
    "    'cWza-K375C':['conformation0', 'conformation1'],\n",
    "    'cWza-S355C':['conformation0', 'conformation1'],\n",
    "    'cWza-Y373C':['conformation1'],\n",
    "}\n",
    "\n",
    "fig, ax = plt.subplots(2,2,figsize=(10,10))\n",
    "seaborn.set_style('darkgrid')\n",
    "\n",
    "axes = {\n",
    "    'cWza':ax[0,0],\n",
    "    'cWza-K375C':ax[0,1],\n",
    "    'cWza-S355C':ax[1,0],\n",
    "    'cWza-Y373C':ax[1,1]\n",
    "}\n",
    "\n",
    "CMAPS = {\n",
    "    'conformation0':'Blues',\n",
    "    'conformation1':'Greens'\n",
    "}\n",
    "\n",
    "for tag in MyTags:\n",
    "    mutant, C = tag\n",
    "    X = []; Z = []\n",
    "    for i in range(len(Sample)):\n",
    "        model_dir = Sample[i]\n",
    "        mutant_sample, C_sample, model_name = model_dir.split('/')\n",
    "        comparison = [mutant_sample, C_sample] == tag\n",
    "        if comparison:\n",
    "            model_pdb = wd+model_dir+'/'+model_name+'.pdb'\n",
    "            Rg_x, Rg_y, Rg_z = get_Rg_components(model_pdb)\n",
    "            X.append(Rg_x)\n",
    "            Z.append(Rg_z)\n",
    "    seaborn.kdeplot(X,Z,n_levels=20,cmap=CMAPS[C],ax=axes[mutant])\n",
    "\n",
    "plt.show()"
   ]
  },
  {
   "cell_type": "markdown",
   "metadata": {},
   "source": [
    "### Scatter dataplots"
   ]
  },
  {
   "cell_type": "markdown",
   "metadata": {},
   "source": [
    "### Density plots"
   ]
  },
  {
   "cell_type": "markdown",
   "metadata": {},
   "source": [
    "# MD trajectories for docked structures"
   ]
  },
  {
   "cell_type": "markdown",
   "metadata": {},
   "source": [
    "## Proof of concept"
   ]
  },
  {
   "cell_type": "code",
   "execution_count": null,
   "metadata": {
    "ExecuteTime": {
     "end_time": "2019-08-22T11:29:29.936852Z",
     "start_time": "2019-08-22T11:29:29.934401Z"
    },
    "collapsed": true
   },
   "outputs": [],
   "source": [
    "import os"
   ]
  },
  {
   "cell_type": "code",
   "execution_count": null,
   "metadata": {
    "ExecuteTime": {
     "end_time": "2019-08-22T11:29:30.453380Z",
     "start_time": "2019-08-22T11:29:30.448693Z"
    },
    "collapsed": true
   },
   "outputs": [],
   "source": [
    "mutant = 'cWza-K375C'\n",
    "C = 'conformation0'\n",
    "model_dir = mutant+'/'+C \n",
    "model_name = 'refined1_0001_INPUT_0900_ignorechain'\n",
    "\n",
    "name = \"md_100ns\"\n",
    "tpr_path = wd + model_dir+ '/' +model_name+'/complex/mdf/'+ name + \".tpr\"\n",
    "xtc_path = wd + model_dir+ '/' +model_name+'/complex/mdf/'+ name + \".xtc\""
   ]
  },
  {
   "cell_type": "code",
   "execution_count": null,
   "metadata": {
    "ExecuteTime": {
     "end_time": "2019-08-22T11:30:12.039753Z",
     "start_time": "2019-08-22T11:30:02.423183Z"
    },
    "collapsed": false
   },
   "outputs": [],
   "source": [
    "if all(map(os.path.isfile, [tpr_path,xtc_path])):\n",
    "    u = mda.Universe(tpr_path, xtc_path, in_memory=True)\n",
    "    print(\"Trajectory loaded and ready to analyse!\")\n",
    "else:\n",
    "    print(\"MD traj not available\")"
   ]
  },
  {
   "cell_type": "code",
   "execution_count": null,
   "metadata": {
    "ExecuteTime": {
     "end_time": "2019-08-22T11:29:45.500134Z",
     "start_time": "2019-08-22T11:29:45.496582Z"
    },
    "collapsed": false
   },
   "outputs": [],
   "source": [
    "u.trajectory.dt # Time-step (ps)"
   ]
  },
  {
   "cell_type": "code",
   "execution_count": null,
   "metadata": {
    "ExecuteTime": {
     "end_time": "2019-08-22T11:29:46.479413Z",
     "start_time": "2019-08-22T11:29:46.476426Z"
    },
    "collapsed": false
   },
   "outputs": [],
   "source": [
    "u.trajectory.n_frames"
   ]
  },
  {
   "cell_type": "code",
   "execution_count": null,
   "metadata": {
    "ExecuteTime": {
     "end_time": "2019-08-22T11:30:13.273149Z",
     "start_time": "2019-08-22T11:30:13.205324Z"
    },
    "collapsed": true
   },
   "outputs": [],
   "source": [
    "protein = u.select_atoms(\"protein\", updating=True)"
   ]
  },
  {
   "cell_type": "code",
   "execution_count": null,
   "metadata": {
    "ExecuteTime": {
     "end_time": "2019-08-22T11:30:20.422345Z",
     "start_time": "2019-08-22T11:30:14.284944Z"
    },
    "collapsed": false
   },
   "outputs": [],
   "source": [
    "data = []\n",
    "for ts in u.trajectory[:-1:10]:\n",
    "    protein_mass = numpy.sum(protein.masses)\n",
    "    protein_inertia = protein.moment_of_inertia() # tensor of inertia\n",
    "    protein_mass = numpy.sum(protein.masses)\n",
    "    protein_inertia = protein.moment_of_inertia() # tensor of inertia\n",
    "    f = lambda x : numpy.sqrt(x/float(protein_mass))\n",
    "    protein_Rg_n = [f(protein_inertia[i][i]) for i in range(3)]\n",
    "    Rg_x, Rg_y, Rg_z = protein_Rg_n\n",
    "    data.append([Rg_x, Rg_z])\n",
    "    print(Rg_x, Rg_y, Rg_z)"
   ]
  },
  {
   "cell_type": "code",
   "execution_count": null,
   "metadata": {
    "ExecuteTime": {
     "end_time": "2019-08-21T09:55:30.903805Z",
     "start_time": "2019-08-21T09:55:30.900868Z"
    },
    "collapsed": false
   },
   "outputs": [],
   "source": [
    "df = pandas.DataFrame(data)"
   ]
  },
  {
   "cell_type": "code",
   "execution_count": null,
   "metadata": {
    "ExecuteTime": {
     "end_time": "2019-08-21T09:55:31.637222Z",
     "start_time": "2019-08-21T09:55:31.570003Z"
    },
    "collapsed": false
   },
   "outputs": [],
   "source": [
    "seaborn.scatterplot(df[0],df[1])"
   ]
  },
  {
   "cell_type": "markdown",
   "metadata": {},
   "source": [
    "## Implementation"
   ]
  },
  {
   "cell_type": "code",
   "execution_count": null,
   "metadata": {
    "ExecuteTime": {
     "end_time": "2019-08-21T16:32:15.511087Z",
     "start_time": "2019-08-21T16:32:15.461029Z"
    },
    "collapsed": true
   },
   "outputs": [],
   "source": [
    "import os\n",
    "import MDAnalysis as mda\n",
    "\n",
    "def is_traj_available(dir_path, md_name):\n",
    "    \"\"\"Check whether all trajectory files are available\n",
    "    This indicates whether simulations has finished successfully too\"\"\"\n",
    "    gro_path = dir_path + name + \".gro\"\n",
    "    tpr_path = dir_path + name + \".tpr\"\n",
    "    xtc_path = dir_path + name + \".xtc\"\n",
    "    test_files = [gro_path, tpr_path, xtc_path]\n",
    "    if all(map(os.path.isfile, test_files)):\n",
    "        return True\n",
    "\n",
    "def get_Rg_components_traj(dir_path, md_name):\n",
    "    if is_traj_available(dir_path, md_name):\n",
    "        tpr_path = dir_path + name + \".tpr\"\n",
    "        xtc_path = dir_path + name + \".xtc\"\n",
    "        u = mda.Universe(tpr_path, xtc_path, in_memory=True)\n",
    "        n_frames = u.trajectory.n_frames\n",
    "        dt = u.trajectory.dt\n",
    "        mssg = \"Loaded \"+str(n_frames)+\" frames with timestep \"+str(dt)\n",
    "#         print(mssg)\n",
    "    else:\n",
    "        print(\"MD traj files (.tpr/.xtc) not available\")\n",
    "    try:\n",
    "        protein = u.select_atoms(\"protein\", updating=True)\n",
    "        data = []\n",
    "        for ts in u.trajectory:\n",
    "            protein_mass = numpy.sum(protein.masses)\n",
    "            protein_inertia = protein.moment_of_inertia() # tensor of inertia\n",
    "            protein_mass = numpy.sum(protein.masses)\n",
    "            protein_inertia = protein.moment_of_inertia() # tensor of inertia\n",
    "            f = lambda x : numpy.sqrt(x/float(protein_mass))\n",
    "            protein_Rg_n = [f(protein_inertia[i][i]) for i in range(3)]\n",
    "            Rg_x, Rg_y, Rg_z = protein_Rg_n\n",
    "            data.append([Rg_x, Rg_y, Rg_z])\n",
    "        return data\n",
    "    except:\n",
    "        return []\n",
    "    try:\n",
    "        u.close()\n",
    "    except:\n",
    "        pass"
   ]
  },
  {
   "cell_type": "code",
   "execution_count": null,
   "metadata": {
    "ExecuteTime": {
     "end_time": "2019-08-21T12:47:00.489533Z",
     "start_time": "2019-08-21T12:47:00.485701Z"
    },
    "collapsed": true
   },
   "outputs": [],
   "source": [
    "mutant = 'cWza-K375C'\n",
    "C = 'conformation0'\n",
    "model_dir = mutant+'/'+C \n",
    "model_name = 'refined1_0001_INPUT_0900_ignorechain'\n",
    "\n",
    "name = \"md_100ns\"\n",
    "dir_path = wd + model_dir+ '/' +model_name+'/complex/mdf/'"
   ]
  },
  {
   "cell_type": "code",
   "execution_count": null,
   "metadata": {
    "ExecuteTime": {
     "end_time": "2019-08-21T12:47:02.912975Z",
     "start_time": "2019-08-21T12:47:02.907992Z"
    },
    "collapsed": false
   },
   "outputs": [],
   "source": [
    "is_traj_available(dir_path, name)"
   ]
  },
  {
   "cell_type": "code",
   "execution_count": null,
   "metadata": {
    "ExecuteTime": {
     "end_time": "2019-08-21T12:48:20.578734Z",
     "start_time": "2019-08-21T12:47:08.664627Z"
    },
    "collapsed": false
   },
   "outputs": [],
   "source": [
    "Rg_traj = get_Rg_components_traj(dir_path, name)"
   ]
  },
  {
   "cell_type": "code",
   "execution_count": null,
   "metadata": {
    "ExecuteTime": {
     "end_time": "2019-08-21T12:48:52.079523Z",
     "start_time": "2019-08-21T12:48:52.076284Z"
    },
    "collapsed": false
   },
   "outputs": [],
   "source": [
    "Rg_traj = numpy.array(Rg_traj)"
   ]
  },
  {
   "cell_type": "code",
   "execution_count": null,
   "metadata": {
    "ExecuteTime": {
     "end_time": "2019-08-21T12:48:53.018448Z",
     "start_time": "2019-08-21T12:48:52.957813Z"
    },
    "collapsed": false
   },
   "outputs": [],
   "source": [
    "fig,ax = plt.subplots(1,1)\n",
    "Rg_x, Rg_y, Rg_z = Rg_traj.T\n",
    "\n",
    "seaborn.scatterplot(Rg_x[:100], Rg_z[:100],color='black',ax=ax)\n",
    "seaborn.scatterplot(Rg_x[-100:], Rg_z[-100:],color='red',ax=ax)\n",
    "\n",
    "plt.show()"
   ]
  },
  {
   "cell_type": "markdown",
   "metadata": {},
   "source": [
    "## Alternative Implementation"
   ]
  },
  {
   "cell_type": "markdown",
   "metadata": {},
   "source": [
    "### Proof of concept"
   ]
  },
  {
   "cell_type": "code",
   "execution_count": null,
   "metadata": {
    "ExecuteTime": {
     "end_time": "2019-08-22T14:45:21.705355Z",
     "start_time": "2019-08-22T14:45:21.703107Z"
    },
    "collapsed": true
   },
   "outputs": [],
   "source": [
    "path0 = wd+\"cWza/conformation0/refined1_0001_INPUT_0908_ignorechain/complex/mdf/md_100ns/\""
   ]
  },
  {
   "cell_type": "code",
   "execution_count": null,
   "metadata": {
    "ExecuteTime": {
     "end_time": "2019-08-22T14:45:22.392545Z",
     "start_time": "2019-08-22T14:45:22.259489Z"
    },
    "collapsed": false
   },
   "outputs": [],
   "source": [
    "!ls $path0"
   ]
  },
  {
   "cell_type": "code",
   "execution_count": null,
   "metadata": {
    "ExecuteTime": {
     "end_time": "2019-08-22T11:54:31.183486Z",
     "start_time": "2019-08-22T11:54:31.175636Z"
    },
    "collapsed": false
   },
   "outputs": [],
   "source": [
    "# Compute directory size\n",
    "import os\n",
    "size_frames = sum(os.path.getsize(path0+f) for f in os.listdir(path0) if os.path.isfile(path0+f))"
   ]
  },
  {
   "cell_type": "code",
   "execution_count": null,
   "metadata": {
    "ExecuteTime": {
     "end_time": "2019-08-22T11:55:16.742333Z",
     "start_time": "2019-08-22T11:55:16.726219Z"
    },
    "collapsed": true
   },
   "outputs": [],
   "source": [
    "import json\n",
    "with open(wd+'EMMD_Sample.json','r') as fp:\n",
    "    Sample = json.load(fp)"
   ]
  },
  {
   "cell_type": "code",
   "execution_count": null,
   "metadata": {
    "ExecuteTime": {
     "end_time": "2019-08-22T11:56:38.929286Z",
     "start_time": "2019-08-22T11:56:38.925999Z"
    },
    "collapsed": false
   },
   "outputs": [],
   "source": [
    "# Size of all 100 frames in GBs\n",
    "len(Sample)*size_frames/1e9"
   ]
  },
  {
   "cell_type": "markdown",
   "metadata": {},
   "source": [
    "**Advantages**:\n",
    "\n",
    "* Can be parallelised _unlinke_ MD trajectory analysis (u.trajectory)\n",
    "* Overall time per trajectory 15 secs (9 secs traj loading + 6 secs data analysis)\n",
    "\n",
    "**Caveats**:\n",
    "\n",
    "* Requires frame extraction, which requires time. However, already paralelised (Use  `~/mpmodeling/tools/protein_frame_extractor.py`)\n",
    "* Increased storage "
   ]
  },
  {
   "cell_type": "markdown",
   "metadata": {},
   "source": [
    "Serial implementation"
   ]
  },
  {
   "cell_type": "code",
   "execution_count": null,
   "metadata": {
    "ExecuteTime": {
     "end_time": "2019-08-22T14:45:30.807294Z",
     "start_time": "2019-08-22T14:45:27.239553Z"
    },
    "collapsed": false,
    "scrolled": true
   },
   "outputs": [],
   "source": [
    "for i in range(100):\n",
    "    model_pdb = path0+'Protein_'+str(i)+'.pdb'\n",
    "    Rg_components = get_Rg_components(model_pdb)\n",
    "    print(Rg_components)"
   ]
  },
  {
   "cell_type": "markdown",
   "metadata": {},
   "source": [
    "Parallel implementation"
   ]
  },
  {
   "cell_type": "code",
   "execution_count": null,
   "metadata": {
    "ExecuteTime": {
     "end_time": "2019-08-22T14:45:36.073517Z",
     "start_time": "2019-08-22T14:45:35.264647Z"
    },
    "collapsed": false
   },
   "outputs": [],
   "source": [
    "func = get_Rg_components\n",
    "\n",
    "param_list = []\n",
    "for i in range(100):\n",
    "    model_pdb = path0+'Protein_'+str(i)+'.pdb'\n",
    "    param_list.append(model_pdb)\n",
    "\n",
    "import concurrent.futures     \n",
    "n_threads = 10\n",
    "\n",
    "data = []\n",
    "\n",
    "with concurrent.futures.ProcessPoolExecutor(max_workers = n_threads) as executor:\n",
    "    out = executor.map(func, param_list)\n",
    "    data.append(out)\n",
    "\n",
    "output = list(data[0])\n",
    "\n",
    "output"
   ]
  },
  {
   "cell_type": "markdown",
   "metadata": {},
   "source": [
    "## Sample completeness"
   ]
  },
  {
   "cell_type": "code",
   "execution_count": null,
   "metadata": {
    "ExecuteTime": {
     "end_time": "2019-08-21T11:07:51.462292Z",
     "start_time": "2019-08-21T11:07:50.701831Z"
    },
    "collapsed": false
   },
   "outputs": [],
   "source": [
    "import json\n",
    "\n",
    "with open(wd+'EMMD_Sample.json','r') as fp:\n",
    "    Sample = json.load(fp)"
   ]
  },
  {
   "cell_type": "code",
   "execution_count": null,
   "metadata": {
    "ExecuteTime": {
     "end_time": "2019-08-21T11:16:07.315686Z",
     "start_time": "2019-08-21T11:16:06.993711Z"
    },
    "collapsed": false,
    "scrolled": false
   },
   "outputs": [],
   "source": [
    "md_name = 'md_100ns'\n",
    "for i in range(len(Sample)):\n",
    "    model_dir = Sample[i]\n",
    "    dir_path = wd+model_dir+'/complex/mdf/'\n",
    "    print(model_dir, is_traj_available(dir_path, md_name))"
   ]
  },
  {
   "cell_type": "markdown",
   "metadata": {},
   "source": [
    "## First 10 ns"
   ]
  },
  {
   "cell_type": "markdown",
   "metadata": {},
   "source": [
    "Serial implementation"
   ]
  },
  {
   "cell_type": "code",
   "execution_count": null,
   "metadata": {
    "ExecuteTime": {
     "end_time": "2019-08-21T15:04:58.378540Z",
     "start_time": "2019-08-21T15:02:34.507885Z"
    },
    "collapsed": false
   },
   "outputs": [],
   "source": [
    "MyTags  = [\n",
    "    ['cWza', 'conformation0'],\n",
    "    ['cWza', 'conformation1'],\n",
    "    ['cWza-K375C', 'conformation0'],\n",
    "    ['cWza-K375C', 'conformation1'],\n",
    "    ['cWza-S355C', 'conformation0'],\n",
    "    ['cWza-S355C', 'conformation1'],\n",
    "    ['cWza-Y373C', 'conformation1']\n",
    "]\n",
    "\n",
    "CONFORMATIONS = {\n",
    "    'cWza':['conformation0', 'conformation1'],\n",
    "    'cWza-K375C':['conformation0', 'conformation1'],\n",
    "    'cWza-S355C':['conformation0', 'conformation1'],\n",
    "    'cWza-Y373C':['conformation1'],\n",
    "}\n",
    "\n",
    "fig, ax = plt.subplots(2,2,figsize=(10,10))\n",
    "seaborn.set_style('darkgrid')\n",
    "\n",
    "axes = {\n",
    "    'cWza':ax[0,0],\n",
    "    'cWza-K375C':ax[0,1],\n",
    "    'cWza-S355C':ax[1,0],\n",
    "    'cWza-Y373C':ax[1,1]\n",
    "}\n",
    "\n",
    "CMAPS = {\n",
    "    'conformation0':'Blues',\n",
    "    'conformation1':'Greens'\n",
    "}\n",
    "\n",
    "name = 'md_100ns'\n",
    "for tag in MyTags:\n",
    "    data = []\n",
    "    mutant, C = tag\n",
    "    for i in range(2):\n",
    "        model_dir = Sample[i]\n",
    "        mutant_sample, C_sample, model_name = model_dir.split('/')\n",
    "        comparison = [mutant_sample, C_sample] == tag\n",
    "        if comparison:\n",
    "            dir_path = wd+model_dir+'/complex/mdf/'\n",
    "            Rg_traj = get_Rg_components_traj(dir_path, name)\n",
    "            data = data + Rg_traj[:100]\n",
    "    data = numpy.array(data)\n",
    "    try:\n",
    "        Rg_x, Rg_y, Rg_z = data.T\n",
    "        seaborn.scatterplot(Rg_x, Rg_z,color='black',ax=axes[mutant])\n",
    "    except:\n",
    "        pass\n",
    "    \n",
    "#     seaborn.kdeplot(X,Z,n_levels=20,cmap=CMAPS[C],ax=axes[mutant])\n",
    "\n",
    "plt.show()"
   ]
  },
  {
   "cell_type": "markdown",
   "metadata": {},
   "source": [
    "Parallel implementation"
   ]
  },
  {
   "cell_type": "code",
   "execution_count": null,
   "metadata": {
    "collapsed": true
   },
   "outputs": [],
   "source": [
    "import concurrent.futures     \n",
    "n_threads = 4\n",
    "\n",
    "data = []\n",
    "\n",
    "with concurrent.futures.ThreadPoolExecutor(max_workers = n_threads) as executor:\n",
    "    out = executor.map(func, param_list)\n",
    "    data.append(out)"
   ]
  },
  {
   "cell_type": "code",
   "execution_count": null,
   "metadata": {
    "ExecuteTime": {
     "end_time": "2019-08-21T16:35:30.142868Z",
     "start_time": "2019-08-21T16:35:30.139427Z"
    },
    "collapsed": true
   },
   "outputs": [],
   "source": [
    "def func(dir_path):\n",
    "    name = 'md_100ns'\n",
    "    data = get_Rg_components_traj(dir_path, name)\n",
    "    return data"
   ]
  },
  {
   "cell_type": "code",
   "execution_count": null,
   "metadata": {
    "ExecuteTime": {
     "start_time": "2019-08-21T17:19:36.855Z"
    },
    "collapsed": false
   },
   "outputs": [],
   "source": [
    "n_cores = 20\n",
    "DATA = {}\n",
    "\n",
    "for tag in MyTags:\n",
    "    data = []\n",
    "    param_list = []\n",
    "    mutant, C = tag\n",
    "    for i in range(100):\n",
    "        model_dir = Sample[i]\n",
    "        mutant_sample, C_sample, model_name = model_dir.split('/')\n",
    "        comparison = [mutant_sample, C_sample] == tag\n",
    "        if comparison:\n",
    "            dir_path = wd+model_dir+'/complex/mdf/'\n",
    "            param_list.append( dir_path )\n",
    "    print(len(param_list))\n",
    "    with concurrent.futures.ProcessPoolExecutor(max_workers = n_cores) as executor:\n",
    "        out = executor.map(func, param_list)\n",
    "        data.append(out)\n",
    "    \n",
    "    DATA[json.dumps(tag)] = list(data)"
   ]
  },
  {
   "cell_type": "code",
   "execution_count": null,
   "metadata": {
    "ExecuteTime": {
     "end_time": "2019-08-21T17:17:18.497562Z",
     "start_time": "2019-08-21T17:17:18.493444Z"
    },
    "collapsed": false
   },
   "outputs": [],
   "source": [
    "DATA"
   ]
  },
  {
   "cell_type": "code",
   "execution_count": null,
   "metadata": {
    "ExecuteTime": {
     "end_time": "2019-08-21T17:17:31.434584Z",
     "start_time": "2019-08-21T17:17:31.430358Z"
    },
    "collapsed": false
   },
   "outputs": [],
   "source": [
    "[list(DATA[k][0]) for k in DATA.keys()]"
   ]
  },
  {
   "cell_type": "code",
   "execution_count": null,
   "metadata": {
    "collapsed": true
   },
   "outputs": [],
   "source": []
  },
  {
   "cell_type": "code",
   "execution_count": null,
   "metadata": {
    "ExecuteTime": {
     "end_time": "2019-08-21T15:01:53.769185Z",
     "start_time": "2019-08-21T13:30:46.408497Z"
    },
    "collapsed": false
   },
   "outputs": [],
   "source": [
    "MyTags  = [\n",
    "    ['cWza', 'conformation0'],\n",
    "    ['cWza', 'conformation1'],\n",
    "    ['cWza-K375C', 'conformation0'],\n",
    "    ['cWza-K375C', 'conformation1'],\n",
    "    ['cWza-S355C', 'conformation0'],\n",
    "    ['cWza-S355C', 'conformation1'],\n",
    "    ['cWza-Y373C', 'conformation1']\n",
    "]\n",
    "\n",
    "DATA = {}\n",
    "name = 'md_100ns'\n",
    "\n",
    "for tag in MyTags:\n",
    "    data = []\n",
    "    mutant, C = tag\n",
    "    for i in range(len(Sample)):\n",
    "        model_dir = Sample[i]\n",
    "        mutant_sample, C_sample, model_name = model_dir.split('/')\n",
    "        comparison = [mutant_sample, C_sample] == tag\n",
    "        if comparison:\n",
    "            dir_path = wd+model_dir+'/complex/mdf/'\n",
    "            Rg_traj = get_Rg_components_traj(dir_path, name)\n",
    "            data = data + Rg_traj[:100]\n",
    "    DATA[json.dumps(tag)] = data"
   ]
  },
  {
   "cell_type": "code",
   "execution_count": null,
   "metadata": {
    "ExecuteTime": {
     "end_time": "2019-08-21T15:02:15.492096Z",
     "start_time": "2019-08-21T15:02:15.489618Z"
    },
    "collapsed": true
   },
   "outputs": [],
   "source": [
    "import concurrent.futures     "
   ]
  },
  {
   "cell_type": "code",
   "execution_count": null,
   "metadata": {
    "collapsed": true
   },
   "outputs": [],
   "source": [
    "import concurrent.futures     \n",
    "n_threads = 4\n",
    "\n",
    "data = []\n",
    "\n",
    "with concurrent.futures.ThreadPoolExecutor(max_workers = n_threads) as executor:\n",
    "    out = executor.map(func, param_list)\n",
    "    data.append(out)"
   ]
  },
  {
   "cell_type": "code",
   "execution_count": null,
   "metadata": {
    "collapsed": true
   },
   "outputs": [],
   "source": [
    "import numpy as np\n",
    "import matplotlib.pyplot as plt\n",
    "import matplotlib.animation as animation\n",
    "\n",
    "fig, ax = plt.subplots()\n",
    "\n",
    "x = np.arange(0, 2*np.pi, 0.01)\n",
    "line, = ax.plot(x, np.sin(x))\n",
    "\n",
    "\n",
    "def init():  # only required for blitting to give a clean slate.\n",
    "    line.set_ydata([np.nan] * len(x))\n",
    "    return line,\n",
    "\n",
    "\n",
    "def animate(i):\n",
    "    line.set_ydata(np.sin(x + i / 100))  # update the data.\n",
    "    return line,\n",
    "\n",
    "\n",
    "ani = animation.FuncAnimation(\n",
    "    fig, animate, init_func=init, interval=2, blit=True, save_count=50)\n",
    "\n",
    "# To save the animation, use e.g.\n",
    "#\n",
    "# ani.save(\"movie.mp4\")\n",
    "#\n",
    "# or\n",
    "#\n",
    "# from matplotlib.animation import FFMpegWriter\n",
    "# writer = FFMpegWriter(fps=15, metadata=dict(artist='Me'), bitrate=1800)\n",
    "# ani.save(\"movie.mp4\", writer=writer)\n",
    "\n",
    "plt.show()"
   ]
  },
  {
   "cell_type": "markdown",
   "metadata": {},
   "source": [
    "## Last 10 ns"
   ]
  },
  {
   "cell_type": "code",
   "execution_count": null,
   "metadata": {
    "collapsed": true
   },
   "outputs": [],
   "source": []
  },
  {
   "cell_type": "markdown",
   "metadata": {},
   "source": [
    "# HOLE metrics"
   ]
  },
  {
   "cell_type": "markdown",
   "metadata": {},
   "source": [
    "* HOLE wrapper implemented with `MDAnalysis`\n",
    "* Needs HOLE to be compiled and located in `~/hole2/exe/hole`, although can be modified.\n",
    "\n",
    "https://www.mdanalysis.org/docs/documentation_pages/analysis/hole.html"
   ]
  },
  {
   "cell_type": "markdown",
   "metadata": {},
   "source": [
    "## Single PDB"
   ]
  },
  {
   "cell_type": "code",
   "execution_count": null,
   "metadata": {
    "ExecuteTime": {
     "end_time": "2019-08-21T17:46:52.732675Z",
     "start_time": "2019-08-21T17:46:52.714663Z"
    },
    "collapsed": true
   },
   "outputs": [],
   "source": [
    "%matplotlib notebook"
   ]
  },
  {
   "cell_type": "code",
   "execution_count": null,
   "metadata": {
    "ExecuteTime": {
     "end_time": "2019-08-24T12:27:34.295135Z",
     "start_time": "2019-08-24T12:27:34.200809Z"
    },
    "collapsed": false
   },
   "outputs": [],
   "source": [
    "from MDAnalysis.analysis.hole import HOLE\n",
    "from MDAnalysis.tests.datafiles import PDB_HOLE"
   ]
  },
  {
   "cell_type": "markdown",
   "metadata": {},
   "source": [
    "Test model"
   ]
  },
  {
   "cell_type": "code",
   "execution_count": null,
   "metadata": {
    "ExecuteTime": {
     "end_time": "2019-08-24T14:05:15.614167Z",
     "start_time": "2019-08-24T14:05:15.596246Z"
    },
    "collapsed": false
   },
   "outputs": [],
   "source": [
    "H = HOLE(PDB_HOLE, executable=\"~/hole2/exe/hole\")  # set path to your hole binary\n",
    "H.run()\n",
    "H.collect()\n",
    "H.plot(linewidth=3, color=\"black\", label=False)"
   ]
  },
  {
   "cell_type": "code",
   "execution_count": null,
   "metadata": {
    "ExecuteTime": {
     "end_time": "2019-08-21T17:55:29.915225Z",
     "start_time": "2019-08-21T17:55:29.911697Z"
    },
    "collapsed": false
   },
   "outputs": [],
   "source": [
    "H.min_radius()[0][-1]"
   ]
  },
  {
   "cell_type": "markdown",
   "metadata": {},
   "source": [
    "Docked model"
   ]
  },
  {
   "cell_type": "code",
   "execution_count": null,
   "metadata": {
    "ExecuteTime": {
     "end_time": "2019-08-24T13:49:00.586483Z",
     "start_time": "2019-08-24T13:49:00.583757Z"
    },
    "collapsed": true
   },
   "outputs": [],
   "source": [
    "wd = '/projects/s21/ba13026/Wza_Modeling/L-structures/rosetta/bg_test/md_relax/'"
   ]
  },
  {
   "cell_type": "code",
   "execution_count": null,
   "metadata": {
    "ExecuteTime": {
     "end_time": "2019-08-24T13:49:01.379622Z",
     "start_time": "2019-08-24T13:49:01.376139Z"
    },
    "collapsed": false
   },
   "outputs": [],
   "source": [
    "mutant = 'cWza-K375C'\n",
    "C = 'conformation0'\n",
    "model_dir = mutant+'/'+C \n",
    "model_name = 'refined1_0001_INPUT_0900_ignorechain'\n",
    "model_pdb = wd +model_dir+'/'+model_name+'/'+model_name+'.pdb'"
   ]
  },
  {
   "cell_type": "code",
   "execution_count": null,
   "metadata": {
    "ExecuteTime": {
     "end_time": "2019-08-24T13:49:02.173474Z",
     "start_time": "2019-08-24T13:49:02.169955Z"
    },
    "collapsed": false
   },
   "outputs": [],
   "source": [
    "model_pdb[:-4]+'.hole_out'"
   ]
  },
  {
   "cell_type": "code",
   "execution_count": null,
   "metadata": {
    "ExecuteTime": {
     "end_time": "2019-08-24T13:51:11.437765Z",
     "start_time": "2019-08-24T13:51:11.434517Z"
    },
    "collapsed": false
   },
   "outputs": [],
   "source": [
    "wd"
   ]
  },
  {
   "cell_type": "code",
   "execution_count": null,
   "metadata": {
    "ExecuteTime": {
     "end_time": "2019-08-24T14:32:36.118418Z",
     "start_time": "2019-08-24T14:32:36.114891Z"
    },
    "collapsed": false
   },
   "outputs": [],
   "source": [
    "param_list[0]"
   ]
  },
  {
   "cell_type": "code",
   "execution_count": null,
   "metadata": {
    "ExecuteTime": {
     "end_time": "2019-08-24T14:32:39.827732Z",
     "start_time": "2019-08-24T14:32:39.820581Z"
    },
    "collapsed": false
   },
   "outputs": [],
   "source": [
    "H = HOLE(\n",
    "        model_pdb, \n",
    "        executable=\"~/hole2/exe/hole\",\n",
    "        logfile=model_pdb[:-4]+'.hole_out'\n",
    "        )  \n",
    "\n",
    "H.check_and_fix_long_filename('hi',tmpdir='/home/ba13026/tmp_hole')"
   ]
  },
  {
   "cell_type": "code",
   "execution_count": null,
   "metadata": {
    "ExecuteTime": {
     "end_time": "2019-08-24T14:32:41.569235Z",
     "start_time": "2019-08-24T14:32:41.334666Z"
    },
    "collapsed": false
   },
   "outputs": [],
   "source": [
    "H.run()"
   ]
  },
  {
   "cell_type": "code",
   "execution_count": null,
   "metadata": {
    "ExecuteTime": {
     "end_time": "2019-08-24T14:06:40.222500Z",
     "start_time": "2019-08-24T14:06:40.217284Z"
    },
    "collapsed": false
   },
   "outputs": [],
   "source": [
    "H.min_radius()[0][-1]"
   ]
  },
  {
   "cell_type": "code",
   "execution_count": null,
   "metadata": {
    "ExecuteTime": {
     "end_time": "2019-08-24T14:06:35.178817Z",
     "start_time": "2019-08-24T14:06:35.103532Z"
    },
    "collapsed": false
   },
   "outputs": [],
   "source": [
    "fig=plt.figure()\n",
    "H.collect()\n",
    "H.plot(linewidth=3, color=\"black\")\n",
    "plt.show()"
   ]
  },
  {
   "cell_type": "code",
   "execution_count": null,
   "metadata": {
    "ExecuteTime": {
     "end_time": "2019-08-24T12:34:08.722247Z",
     "start_time": "2019-08-24T12:34:08.717967Z"
    },
    "collapsed": false
   },
   "outputs": [],
   "source": [
    "H.min_radius()[0][-1]"
   ]
  },
  {
   "cell_type": "code",
   "execution_count": null,
   "metadata": {
    "ExecuteTime": {
     "end_time": "2019-08-23T10:09:21.776381Z",
     "start_time": "2019-08-23T10:09:21.771490Z"
    },
    "collapsed": false
   },
   "outputs": [],
   "source": [
    "Z_coords = [x[1] for x in numpy.array(list(H.profiles[0]))]\n",
    "HOLE_L = max(Z_coords) - min(Z_coords)"
   ]
  },
  {
   "cell_type": "code",
   "execution_count": null,
   "metadata": {
    "ExecuteTime": {
     "end_time": "2019-08-23T10:09:22.571043Z",
     "start_time": "2019-08-23T10:09:22.567717Z"
    },
    "collapsed": false
   },
   "outputs": [],
   "source": [
    "HOLE_L"
   ]
  },
  {
   "cell_type": "markdown",
   "metadata": {},
   "source": [
    "##    My own wrapper"
   ]
  },
  {
   "cell_type": "code",
   "execution_count": 1,
   "metadata": {
    "ExecuteTime": {
     "end_time": "2019-08-24T14:56:52.777934Z",
     "start_time": "2019-08-24T14:56:52.773850Z"
    },
    "collapsed": true
   },
   "outputs": [],
   "source": [
    "import os\n",
    "import sys\n",
    "sys.path.append('/home/ba13026/mpmodeling/analysis')\n",
    "import analyse_HOLE"
   ]
  },
  {
   "cell_type": "code",
   "execution_count": 2,
   "metadata": {
    "ExecuteTime": {
     "end_time": "2019-08-24T14:56:54.133484Z",
     "start_time": "2019-08-24T14:56:54.131337Z"
    },
    "collapsed": true
   },
   "outputs": [],
   "source": [
    "model_pdb = '/projects/s21/ba13026/Wza_Modeling/L-structures/rosetta/bg_test/md_relax/cWza/conformation0/refined1_0001_INPUT_0736_ignorechain/complex/mdf/md_100ns/Protein_0.pdb'"
   ]
  },
  {
   "cell_type": "code",
   "execution_count": 3,
   "metadata": {
    "ExecuteTime": {
     "end_time": "2019-08-24T14:56:55.246718Z",
     "start_time": "2019-08-24T14:56:55.242608Z"
    },
    "collapsed": false
   },
   "outputs": [],
   "source": [
    "tmp_wd = os.path.dirname(model_pdb)\n",
    "os.chdir(tmp_wd)\n",
    "\n",
    "analyse_HOLE.hole(os.path.basename(model_pdb))"
   ]
  },
  {
   "cell_type": "code",
   "execution_count": 8,
   "metadata": {
    "ExecuteTime": {
     "end_time": "2019-08-24T15:08:20.436807Z",
     "start_time": "2019-08-24T15:08:20.429121Z"
    },
    "collapsed": true
   },
   "outputs": [],
   "source": [
    "def get_HOLE_Rmin(model_pdb):\n",
    "    tmp_wd = os.path.dirname(model_pdb)\n",
    "    os.chdir(tmp_wd)\n",
    "    try:\n",
    "        HOLE_dimensions,HOLE_conductance_estimates = analyse_HOLE.hole(os.path.basename(model_pdb))\n",
    "        return HOLE_dimensions[0]\n",
    "    except:\n",
    "        return 'Fail'"
   ]
  },
  {
   "cell_type": "code",
   "execution_count": 9,
   "metadata": {
    "ExecuteTime": {
     "end_time": "2019-08-24T15:08:42.772292Z",
     "start_time": "2019-08-24T15:08:31.569926Z"
    },
    "collapsed": false
   },
   "outputs": [
    {
     "data": {
      "text/plain": [
       "6.07572"
      ]
     },
     "execution_count": 9,
     "metadata": {},
     "output_type": "execute_result"
    }
   ],
   "source": [
    "get_HOLE_Rmin(model_pdb)"
   ]
  },
  {
   "cell_type": "markdown",
   "metadata": {},
   "source": [
    "## MD trajectory"
   ]
  },
  {
   "cell_type": "markdown",
   "metadata": {},
   "source": [
    "Test model"
   ]
  },
  {
   "cell_type": "code",
   "execution_count": null,
   "metadata": {
    "collapsed": true
   },
   "outputs": [],
   "source": [
    "import MDAnalysis as mda\n",
    "from MDAnalysis.analysis.hole import HOLEtraj\n",
    "from MDAnalysis.tests.datafiles import MULTIPDB_HOLE\n",
    "\n",
    "u = mda.Universe(MULTIPDB_HOLE)\n",
    "H = HOLEtraj(u, executable=\"~/hole2/exe/hole\")\n",
    "H.run()\n",
    "H.plot3D()"
   ]
  },
  {
   "cell_type": "markdown",
   "metadata": {},
   "source": [
    "Docked model"
   ]
  },
  {
   "cell_type": "code",
   "execution_count": null,
   "metadata": {
    "ExecuteTime": {
     "end_time": "2019-08-21T18:01:09.634376Z",
     "start_time": "2019-08-21T18:01:09.632160Z"
    },
    "collapsed": true
   },
   "outputs": [],
   "source": [
    "import MDAnalysis as mda"
   ]
  },
  {
   "cell_type": "code",
   "execution_count": null,
   "metadata": {
    "ExecuteTime": {
     "end_time": "2019-08-21T18:01:10.778247Z",
     "start_time": "2019-08-21T18:01:10.773783Z"
    },
    "collapsed": true
   },
   "outputs": [],
   "source": [
    "mutant = 'cWza-K375C'\n",
    "C = 'conformation0'\n",
    "model_dir = mutant+'/'+C \n",
    "model_name = 'refined1_0001_INPUT_0900_ignorechain'\n",
    "\n",
    "name = \"md_100ns\"\n",
    "tpr_path = wd + model_dir+ '/' +model_name+'/complex/mdf/'+ name + \".tpr\"\n",
    "xtc_path = wd + model_dir+ '/' +model_name+'/complex/mdf/'+ name + \".xtc\""
   ]
  },
  {
   "cell_type": "code",
   "execution_count": null,
   "metadata": {
    "ExecuteTime": {
     "end_time": "2019-08-21T18:01:21.464814Z",
     "start_time": "2019-08-21T18:01:11.511256Z"
    },
    "collapsed": false
   },
   "outputs": [],
   "source": [
    "u = mda.Universe(tpr_path, xtc_path, in_memory=True)"
   ]
  },
  {
   "cell_type": "markdown",
   "metadata": {},
   "source": [
    "<span style=\"color:red\">Execution: 30 mins</span>"
   ]
  },
  {
   "cell_type": "code",
   "execution_count": null,
   "metadata": {
    "ExecuteTime": {
     "end_time": "2019-08-21T18:29:47.230110Z",
     "start_time": "2019-08-21T18:01:50.641962Z"
    },
    "collapsed": false
   },
   "outputs": [],
   "source": [
    "import MDAnalysis as mda\n",
    "from MDAnalysis.analysis.hole import HOLEtraj\n",
    "# from MDAnalysis.tests.datafiles import MULTIPDB_HOLE\n",
    "\n",
    "# u = mda.Universe(MULTIPDB_HOLE)\n",
    "H = HOLEtraj(u, executable=\"~/hole2/exe/hole\")\n",
    "H.run()\n",
    "H.plot3D()"
   ]
  },
  {
   "cell_type": "code",
   "execution_count": null,
   "metadata": {
    "ExecuteTime": {
     "end_time": "2019-08-22T10:12:16.954786Z",
     "start_time": "2019-08-22T10:12:16.934109Z"
    },
    "collapsed": false
   },
   "outputs": [],
   "source": [
    "x = H.min_radius()"
   ]
  },
  {
   "cell_type": "code",
   "execution_count": null,
   "metadata": {
    "ExecuteTime": {
     "end_time": "2019-08-22T10:12:43.718132Z",
     "start_time": "2019-08-22T10:12:43.715976Z"
    },
    "collapsed": true
   },
   "outputs": [],
   "source": [
    "import numpy"
   ]
  },
  {
   "cell_type": "code",
   "execution_count": null,
   "metadata": {
    "ExecuteTime": {
     "end_time": "2019-08-22T10:14:14.634530Z",
     "start_time": "2019-08-22T10:14:14.464125Z"
    },
    "collapsed": false
   },
   "outputs": [],
   "source": [
    "import matplotlib.pyplot as plt\n",
    "\n",
    "plt.plot(numpy.array(x).T[-1])\n",
    "plt.show()"
   ]
  },
  {
   "cell_type": "markdown",
   "metadata": {},
   "source": [
    "## Alternative Implementation"
   ]
  },
  {
   "cell_type": "markdown",
   "metadata": {},
   "source": [
    "### Proof of concept"
   ]
  },
  {
   "cell_type": "markdown",
   "metadata": {},
   "source": [
    "Single PDB"
   ]
  },
  {
   "cell_type": "code",
   "execution_count": null,
   "metadata": {
    "ExecuteTime": {
     "end_time": "2019-08-24T09:41:10.529936Z",
     "start_time": "2019-08-24T09:41:10.521539Z"
    },
    "collapsed": true
   },
   "outputs": [],
   "source": [
    "import MDAnalysis as mda\n",
    "\n",
    "def get_HOLE_Rmin(model_pdb):\n",
    "    u = mda.Universe(model_pdb)\n",
    "    protein = u.select_atoms(\"protein\")\n",
    "    H = HOLE(model_pdb, executable=\"~/hole2/exe/hole\")  # set path to your hole binary\n",
    "    H.run()\n",
    "    H.collect()\n",
    "    return H.min_radius()[0][-1]\n",
    "    try:\n",
    "        u.close()\n",
    "    except:\n",
    "        pass"
   ]
  },
  {
   "cell_type": "code",
   "execution_count": null,
   "metadata": {
    "ExecuteTime": {
     "end_time": "2019-08-22T13:45:43.606255Z",
     "start_time": "2019-08-22T13:45:43.602867Z"
    },
    "collapsed": true
   },
   "outputs": [],
   "source": [
    "mutant = 'cWza-K375C'\n",
    "C = 'conformation0'\n",
    "model_dir = mutant+'/'+C \n",
    "model_name = 'refined1_0001_INPUT_0900_ignorechain'\n",
    "model_pdb = wd +model_dir+'/'+model_name+'/'+model_name+'.pdb'"
   ]
  },
  {
   "cell_type": "code",
   "execution_count": null,
   "metadata": {
    "ExecuteTime": {
     "end_time": "2019-08-22T14:10:05.145000Z",
     "start_time": "2019-08-22T14:10:05.140941Z"
    },
    "collapsed": false
   },
   "outputs": [],
   "source": [
    "model_pdb"
   ]
  },
  {
   "cell_type": "code",
   "execution_count": null,
   "metadata": {
    "ExecuteTime": {
     "end_time": "2019-08-22T14:09:44.643309Z",
     "start_time": "2019-08-22T14:09:39.785212Z"
    },
    "collapsed": false
   },
   "outputs": [],
   "source": [
    "model_Rmin = get_HOLE_Rmin(model_pdb)"
   ]
  },
  {
   "cell_type": "code",
   "execution_count": null,
   "metadata": {
    "ExecuteTime": {
     "end_time": "2019-08-22T14:06:33.677415Z",
     "start_time": "2019-08-22T14:06:25.079270Z"
    },
    "collapsed": false
   },
   "outputs": [],
   "source": [
    "import sys\n",
    "sys.path.append('/home/ba13026/mpmodeling/')\n",
    "\n",
    "from analyse_HOLE import hole"
   ]
  },
  {
   "cell_type": "code",
   "execution_count": null,
   "metadata": {
    "ExecuteTime": {
     "end_time": "2019-08-22T14:09:35.218470Z",
     "start_time": "2019-08-22T14:09:35.080170Z"
    },
    "collapsed": false
   },
   "outputs": [],
   "source": [
    "HOLE_data = hole(model_pdb)"
   ]
  },
  {
   "cell_type": "markdown",
   "metadata": {},
   "source": [
    "<span style=\"color:red\">ISSUE</span>: \n",
    "* Need to create soft link to PDB to avoid HOLE from crashing due to long path name.\n",
    "* `MDAnalysis` already implements this solution."
   ]
  },
  {
   "cell_type": "markdown",
   "metadata": {},
   "source": [
    "Multiple frames, parallel implementation"
   ]
  },
  {
   "cell_type": "code",
   "execution_count": null,
   "metadata": {
    "ExecuteTime": {
     "end_time": "2019-08-22T13:45:51.678983Z",
     "start_time": "2019-08-22T13:45:51.676425Z"
    },
    "collapsed": true
   },
   "outputs": [],
   "source": [
    "path0 = wd+\"cWza/conformation0/refined1_0001_INPUT_0908_ignorechain/complex/mdf/md_100ns/\""
   ]
  },
  {
   "cell_type": "code",
   "execution_count": null,
   "metadata": {
    "ExecuteTime": {
     "end_time": "2019-08-22T13:54:41.825941Z",
     "start_time": "2019-08-22T13:54:41.823504Z"
    },
    "collapsed": true
   },
   "outputs": [],
   "source": [
    "func = get_HOLE_Rmin"
   ]
  },
  {
   "cell_type": "code",
   "execution_count": null,
   "metadata": {
    "ExecuteTime": {
     "end_time": "2019-08-22T13:54:42.511006Z",
     "start_time": "2019-08-22T13:54:42.507746Z"
    },
    "collapsed": true
   },
   "outputs": [],
   "source": [
    "param_list = []\n",
    "for i in range(100):\n",
    "    model_pdb = path0+'Protein_'+str(i)+'.pdb'\n",
    "    param_list.append(model_pdb)"
   ]
  },
  {
   "cell_type": "markdown",
   "metadata": {},
   "source": [
    "**Serial**"
   ]
  },
  {
   "cell_type": "code",
   "execution_count": null,
   "metadata": {
    "ExecuteTime": {
     "end_time": "2019-08-22T14:15:55.178854Z",
     "start_time": "2019-08-22T14:15:43.882836Z"
    },
    "collapsed": false
   },
   "outputs": [],
   "source": [
    "for i in range(3):\n",
    "    model_pdb = param_list[i]\n",
    "    R_min = func(model_pdb)\n",
    "    print(R_min)"
   ]
  },
  {
   "cell_type": "markdown",
   "metadata": {},
   "source": [
    "**Parallel**"
   ]
  },
  {
   "cell_type": "code",
   "execution_count": null,
   "metadata": {
    "ExecuteTime": {
     "end_time": "2019-08-22T14:15:26.725406Z",
     "start_time": "2019-08-22T14:15:21.603383Z"
    },
    "collapsed": false
   },
   "outputs": [],
   "source": [
    "import concurrent.futures     \n",
    "n_threads = 2\n",
    "\n",
    "data = []\n",
    "\n",
    "with concurrent.futures.ProcessPoolExecutor(max_workers = n_threads) as executor:\n",
    "    out = executor.map(func, param_list[:3])\n",
    "    data.append(out)"
   ]
  },
  {
   "cell_type": "code",
   "execution_count": null,
   "metadata": {
    "ExecuteTime": {
     "end_time": "2019-08-22T14:15:28.220812Z",
     "start_time": "2019-08-22T14:15:28.202225Z"
    },
    "collapsed": false
   },
   "outputs": [],
   "source": [
    "list(data[0])"
   ]
  },
  {
   "cell_type": "code",
   "execution_count": null,
   "metadata": {
    "ExecuteTime": {
     "end_time": "2019-08-22T13:33:34.675862Z",
     "start_time": "2019-08-22T13:33:34.659143Z"
    },
    "collapsed": false
   },
   "outputs": [],
   "source": [
    "output = list(data[0])"
   ]
  },
  {
   "cell_type": "markdown",
   "metadata": {},
   "source": [
    "# Metrics"
   ]
  },
  {
   "cell_type": "code",
   "execution_count": null,
   "metadata": {
    "ExecuteTime": {
     "end_time": "2019-08-22T14:34:46.998206Z",
     "start_time": "2019-08-22T14:34:46.988086Z"
    },
    "collapsed": true
   },
   "outputs": [],
   "source": [
    "import os\n",
    "import numpy \n",
    "import isambard_dev\n",
    "import pandas\n",
    "import seaborn\n",
    "import MDAnalysis as mda\n",
    "import matplotlib.pyplot as plt\n",
    "from mpl_toolkits.mplot3d import Axes3D  \n",
    "%matplotlib notebook"
   ]
  },
  {
   "cell_type": "code",
   "execution_count": null,
   "metadata": {
    "ExecuteTime": {
     "end_time": "2019-08-22T14:34:46.998206Z",
     "start_time": "2019-08-22T14:34:46.988086Z"
    },
    "collapsed": true
   },
   "outputs": [],
   "source": [
    "def get_Rg_components(model_pdb):\n",
    "    u = mda.Universe(model_pdb)\n",
    "    protein = u.select_atoms(\"protein\")\n",
    "    protein_mass = numpy.sum(protein.masses)\n",
    "    protein_inertia = protein.moment_of_inertia() # tensor of inertia\n",
    "    f = lambda x : numpy.sqrt(x/float(protein_mass))\n",
    "    protein_Rg_n = [f(protein_inertia[i][i]) for i in range(3)]\n",
    "    Rg_x, Rg_y, Rg_z = protein_Rg_n\n",
    "    return Rg_x, Rg_y, Rg_z\n",
    "    try:\n",
    "        u.close()\n",
    "    except:\n",
    "        pass"
   ]
  },
  {
   "cell_type": "code",
   "execution_count": null,
   "metadata": {
    "ExecuteTime": {
     "end_time": "2019-08-22T14:35:14.916066Z",
     "start_time": "2019-08-22T14:35:14.913290Z"
    },
    "collapsed": true
   },
   "outputs": [],
   "source": [
    "wd = '/projects/s21/ba13026/Wza_Modeling/L-structures/rosetta/bg_test/md_relax/'"
   ]
  },
  {
   "cell_type": "markdown",
   "metadata": {
    "ExecuteTime": {
     "end_time": "2019-08-22T14:31:46.162760Z",
     "start_time": "2019-08-22T14:31:46.158951Z"
    }
   },
   "source": [
    "## Radius of gyration decomposition"
   ]
  },
  {
   "cell_type": "markdown",
   "metadata": {},
   "source": [
    "## Docked structures: All conformation classified models"
   ]
  },
  {
   "cell_type": "markdown",
   "metadata": {},
   "source": [
    "**STANDARD LAYOUT**"
   ]
  },
  {
   "cell_type": "code",
   "execution_count": null,
   "metadata": {
    "ExecuteTime": {
     "end_time": "2019-08-23T09:44:24.920214Z",
     "start_time": "2019-08-23T09:43:05.767324Z"
    },
    "collapsed": false
   },
   "outputs": [],
   "source": [
    "MUTANTS = ['cWza','cWza-K375C','cWza-S355C','cWza-Y373C']\n",
    "\n",
    "CONFORMATIONS = {\n",
    "    'cWza':['conformation0', 'conformation1'],\n",
    "    'cWza-K375C':['conformation0', 'conformation1'],\n",
    "    'cWza-S355C':['conformation0', 'conformation1'],\n",
    "    'cWza-Y373C':['conformation1'],\n",
    "}\n",
    "\n",
    "fig, ax = plt.subplots(2,2,figsize=(14,12))\n",
    "seaborn.set_style('darkgrid')\n",
    "\n",
    "axes = {\n",
    "    'cWza':ax[0,0],\n",
    "    'cWza-K375C':ax[0,1],\n",
    "    'cWza-S355C':ax[1,0],\n",
    "    'cWza-Y373C':ax[1,1]\n",
    "}\n",
    "\n",
    "CMAPS = {\n",
    "    'conformation0':'Blues',\n",
    "    'conformation1':'Greens'\n",
    "}\n",
    "\n",
    "for i in range(len(MUTANTS)):\n",
    "    mutant = MUTANTS[i]\n",
    "    for C in CONFORMATIONS[mutant]:\n",
    "        X1 = []\n",
    "        X2 = []\n",
    "        mutant_dir = mutant+'/'+C \n",
    "        for model_dir in [mutant_dir+'/'+model for model in os.listdir(wd+mutant_dir)]:\n",
    "            model_name = model_dir.split('/')[-1]\n",
    "            model_pdb = wd+'/'+model_dir+'/'+model_name+'.pdb'\n",
    "            Rg_x, Rg_y, Rg_z = get_Rg_components(model_pdb)\n",
    "            X1.append(Rg_x)\n",
    "            X2.append(Rg_z)\n",
    "        seaborn.kdeplot(X1,X2,n_levels=20,cmap=CMAPS[C],ax=axes[mutant],zorder=0)\n",
    "        for maximum in find_maxima(X1, X2):\n",
    "            x,y = maximum\n",
    "            axes[mutant].scatter(x,y,color='red',zorder=1)\n",
    "    ###############################################                            \n",
    "    # Customise plot\n",
    "    ###############################################\n",
    "    axes[mutant].set_title(\"Docked \"+mutant+\": Whole Conformational Group\", fontsize=15)\n",
    "    axes[mutant].tick_params(axis='both',direction='in',labelsize=20)\n",
    "    axes[mutant].set_xlabel(\"$R_g$\",fontsize=25)\n",
    "    axes[mutant].set_ylabel(\"$R_g$\",fontsize=25)\n",
    "\n",
    "plt.tight_layout()\n",
    "plt.show()"
   ]
  },
  {
   "cell_type": "markdown",
   "metadata": {},
   "source": [
    "**CUSTOMISED LAYOUT**"
   ]
  },
  {
   "cell_type": "code",
   "execution_count": null,
   "metadata": {
    "ExecuteTime": {
     "end_time": "2019-08-23T09:31:54.189336Z",
     "start_time": "2019-08-23T09:31:51.658202Z"
    },
    "collapsed": true
   },
   "outputs": [],
   "source": [
    "import random\n",
    "import pandas as pd\n",
    "import numpy\n",
    "from scipy.stats import gaussian_kde\n",
    "from scipy import ndimage as ndi\n",
    "from skimage.feature import peak_local_max\n",
    "from shapely.geometry.polygon import Polygon\n",
    "from shapely.ops import cascaded_union\n",
    "import matplotlib.pyplot as plt\n",
    "%matplotlib notebook"
   ]
  },
  {
   "cell_type": "code",
   "execution_count": null,
   "metadata": {
    "ExecuteTime": {
     "end_time": "2019-08-23T09:37:15.309980Z",
     "start_time": "2019-08-23T09:37:15.246554Z"
    },
    "collapsed": true
   },
   "outputs": [],
   "source": [
    "def density_estimation(m1,m2):\n",
    "    \"\"\"Estimated data density from a contour map according to a Gaussian Kernel\"\"\"\n",
    "    xmin=min(m1)\n",
    "    xmax=max(m1)\n",
    "    ymin=min(m2)\n",
    "    ymax=max(m2)\n",
    "    X, Y = numpy.mgrid[xmin:xmax:400j, ymin:ymax:400j]                                                     \n",
    "    positions = numpy.vstack([X.ravel(), Y.ravel()])                                                       \n",
    "    values = numpy.vstack([m1, m2])                                                                        \n",
    "    kernel = gaussian_kde(values)                                                                 \n",
    "    Z = numpy.reshape(kernel(positions).T, X.shape)\n",
    "    return X,Y,Z\n",
    "\n",
    "def find_maxima(X1,X2):\n",
    "    \"\"\"Return the coordinates of the peaks of data density from a contour map\"\"\"\n",
    "    X,Y,Z = list(density_estimation(X1,X2))\n",
    "    # Find and filtre peaks by minimum pixel distance and fraction height glob-max\n",
    "    coordinates = peak_local_max(Z, threshold_rel=0.5, min_distance=20)\n",
    "    maxima = []\n",
    "    for k in range(len(coordinates)):\n",
    "        idx_0,idx_1 = coordinates[k]\n",
    "        x_max, y_max = X[idx_0][0], Y[idx_0][idx_1]\n",
    "        maxima.append((x_max, y_max))\n",
    "    \n",
    "    return maxima\n",
    "\n",
    "def find_boundary_coords(contour_plot):\n",
    "    \"\"\"Return the coordinates of the boundary of the union of all closed contour lines\"\"\"\n",
    "    polygons_list = []\n",
    "    for l in range(len(contour_plot.allsegs)):\n",
    "        prob = contour_plot.levels[l]\n",
    "        for k in range(len(contour_plot.allsegs[l])):\n",
    "            contour_plot_coords = contour_plot.allsegs[l][k]\n",
    "            polygons_list.append(Polygon(contour_plot_coords))\n",
    "\n",
    "    polygons_union = cascaded_union(polygons_list)\n",
    "    polygons_union_boundary = numpy.array(list(polygons_union.boundary.coords)).T\n",
    "    contour_plot_boundary = polygons_union_boundary\n",
    "    \n",
    "    return contour_plot_boundary"
   ]
  },
  {
   "cell_type": "code",
   "execution_count": null,
   "metadata": {
    "collapsed": true
   },
   "outputs": [],
   "source": [
    "fig, ax = plt.subplots(1,1)\n",
    "\n",
    "Colours = ['blue','green','red']\n",
    "for i in range(len(DATA)):\n",
    "    XY = DATA[i]\n",
    "    X1,X2 = XY[0],XY[1]\n",
    "    Xc,Yc,Zc = list( density_estimation(X1,X2) )\n",
    "    contour_plot = ax.contour(Xc,Yc,Zc,20,colors='k',alpha=0.05)\n",
    "    contour_plot_boundary = find_boundary_coords(contour_plot)  \n",
    "\n",
    "    ax.fill(*contour_plot_boundary,color=Colours[i],alpha=0.2,zorder=0)\n",
    "\n",
    "    for maximum in find_maxima(X1, X2):\n",
    "        x,y = maximum\n",
    "        ax.scatter(x,y,color=Colours[i],zorder=1)\n",
    "\n",
    "ax.set_title(\"Overlapping Transparent Contour Plots\")\n",
    "ax.set_xlabel(\"X\")\n",
    "ax.set_ylabel(\"Y\")\n",
    "\n",
    "plt.show()"
   ]
  },
  {
   "cell_type": "markdown",
   "metadata": {},
   "source": [
    "## Docked structures: Sample conformation classified models"
   ]
  },
  {
   "cell_type": "code",
   "execution_count": null,
   "metadata": {
    "ExecuteTime": {
     "end_time": "2019-08-22T14:37:36.610173Z",
     "start_time": "2019-08-22T14:37:36.604497Z"
    },
    "collapsed": true
   },
   "outputs": [],
   "source": [
    "import json\n",
    "\n",
    "with open(wd+'EMMD_Sample.json','r') as fp:\n",
    "    Sample = json.load(fp)"
   ]
  },
  {
   "cell_type": "code",
   "execution_count": null,
   "metadata": {
    "ExecuteTime": {
     "end_time": "2019-08-22T14:37:53.280368Z",
     "start_time": "2019-08-22T14:37:38.152435Z"
    },
    "collapsed": false
   },
   "outputs": [],
   "source": [
    "MyTags  = [\n",
    "    ['cWza', 'conformation0'],\n",
    "    ['cWza', 'conformation1'],\n",
    "    ['cWza-K375C', 'conformation0'],\n",
    "    ['cWza-K375C', 'conformation1'],\n",
    "    ['cWza-S355C', 'conformation0'],\n",
    "    ['cWza-S355C', 'conformation1'],\n",
    "    ['cWza-Y373C', 'conformation1']\n",
    "]\n",
    "\n",
    "CONFORMATIONS = {\n",
    "    'cWza':['conformation0', 'conformation1'],\n",
    "    'cWza-K375C':['conformation0', 'conformation1'],\n",
    "    'cWza-S355C':['conformation0', 'conformation1'],\n",
    "    'cWza-Y373C':['conformation1'],\n",
    "}\n",
    "\n",
    "fig, ax = plt.subplots(2,2,figsize=(10,10))\n",
    "seaborn.set_style('darkgrid')\n",
    "\n",
    "axes = {\n",
    "    'cWza':ax[0,0],\n",
    "    'cWza-K375C':ax[0,1],\n",
    "    'cWza-S355C':ax[1,0],\n",
    "    'cWza-Y373C':ax[1,1]\n",
    "}\n",
    "\n",
    "CMAPS = {\n",
    "    'conformation0':'Blues',\n",
    "    'conformation1':'Greens'\n",
    "}\n",
    "\n",
    "for tag in MyTags:\n",
    "    mutant, C = tag\n",
    "    X = []; Z = []\n",
    "    for i in range(len(Sample)):\n",
    "        model_dir = Sample[i]\n",
    "        mutant_sample, C_sample, model_name = model_dir.split('/')\n",
    "        comparison = [mutant_sample, C_sample] == tag\n",
    "        if comparison:\n",
    "            model_pdb = wd+model_dir+'/'+model_name+'.pdb'\n",
    "            Rg_x, Rg_y, Rg_z = get_Rg_components(model_pdb)\n",
    "            X.append(Rg_x)\n",
    "            Z.append(Rg_z)\n",
    "    seaborn.kdeplot(X,Z,n_levels=20,cmap=CMAPS[C],ax=axes[mutant])\n",
    "\n",
    "plt.show()"
   ]
  },
  {
   "cell_type": "markdown",
   "metadata": {},
   "source": [
    "## MD Protein frames: Sample classified models"
   ]
  },
  {
   "cell_type": "markdown",
   "metadata": {},
   "source": [
    "### Generate Protein frames for all Sample MD trajectories"
   ]
  },
  {
   "cell_type": "markdown",
   "metadata": {},
   "source": [
    "NOTES:\n",
    "\n",
    "* Had to modify time length of trajectory to analyse (`0-100000 # (=100ns) ps`)\n",
    "* Also, modified timestep of frames for extraction (`dt=100 # ps`)"
   ]
  },
  {
   "cell_type": "markdown",
   "metadata": {},
   "source": [
    "**FIRST**: Remove old frames folder and back-up files\n",
    "\n",
    "```bash\n",
    "cat EMMD_Sample.txt | awk '{system(\"rm -r \"$1\"/complex/mdf/md_100ns\")}'                               \n",
    "\n",
    "cat EMMD_Sample.txt | awk '{system(\"rm -r \"$1\"/complex/mdf/md_100ns/#Protein*\")}'\n",
    "```"
   ]
  },
  {
   "cell_type": "markdown",
   "metadata": {},
   "source": [
    "**SECOND**: Re-do frame extraction for increase sampling \n",
    "```bash\n",
    "nohup python parallel_protein_extraction_urmd.py 20 EMMD_Sample.json > parallel_protein_extraction_urmd.out &\n",
    "```"
   ]
  },
  {
   "cell_type": "markdown",
   "metadata": {},
   "source": [
    "### Extract Radius of Gyration for frames"
   ]
  },
  {
   "cell_type": "code",
   "execution_count": null,
   "metadata": {
    "ExecuteTime": {
     "end_time": "2019-08-22T14:44:36.231339Z",
     "start_time": "2019-08-22T14:44:36.219038Z"
    },
    "collapsed": false
   },
   "outputs": [],
   "source": [
    "func = get_Rg_components\n",
    "\n",
    "param_list = []\n",
    "for i in range(100):\n",
    "    model_pdb = path0+'Protein_'+str(i)+'.pdb'\n",
    "    param_list.append(model_pdb)"
   ]
  },
  {
   "cell_type": "code",
   "execution_count": null,
   "metadata": {
    "collapsed": true
   },
   "outputs": [],
   "source": [
    "import concurrent.futures     \n",
    "n_threads = 10\n",
    "\n",
    "data = []\n",
    "\n",
    "with concurrent.futures.ProcessPoolExecutor(max_workers = n_threads) as executor:\n",
    "    out = executor.map(func, param_list)\n",
    "    data.append(out)"
   ]
  },
  {
   "cell_type": "code",
   "execution_count": null,
   "metadata": {
    "collapsed": true
   },
   "outputs": [],
   "source": [
    "output = list(data[0])"
   ]
  },
  {
   "cell_type": "markdown",
   "metadata": {
    "collapsed": true
   },
   "source": [
    "### Extract HOLE dimensions "
   ]
  },
  {
   "cell_type": "code",
   "execution_count": null,
   "metadata": {
    "ExecuteTime": {
     "end_time": "2019-08-23T10:10:42.065636Z",
     "start_time": "2019-08-23T10:10:42.051531Z"
    },
    "collapsed": true
   },
   "outputs": [],
   "source": [
    "import MDAnalysis as mda\n",
    "from MDAnalysis.analysis.hole import HOLE\n",
    "\n",
    "def get_HOLE_dimensions(model_pdb):\n",
    "    u = mda.Universe(model_pdb)\n",
    "    protein = u.select_atoms(\"protein\")\n",
    "    H = HOLE(model_pdb, executable=\"~/hole2/exe/hole\")  # set path to your hole binary\n",
    "    H.run()\n",
    "    H.collect()\n",
    "    # HOLE pore length\n",
    "    Z_coords = [x[1] for x in numpy.array(list(H.profiles[0]))]\n",
    "    HOLE_L = max(Z_coords) - min(Z_coords)\n",
    "    # HOLE pore minimum radius\n",
    "    HOLE_Rmin = H.min_radius()[0][-1]\n",
    "    return HOLE_L, HOLE_Rmin\n",
    "    try:\n",
    "        u.close()\n",
    "    except:\n",
    "        pass"
   ]
  },
  {
   "cell_type": "code",
   "execution_count": null,
   "metadata": {
    "ExecuteTime": {
     "end_time": "2019-08-23T10:10:42.785600Z",
     "start_time": "2019-08-23T10:10:42.782716Z"
    },
    "collapsed": true
   },
   "outputs": [],
   "source": [
    "mutant = 'cWza-K375C'\n",
    "C = 'conformation0'\n",
    "model_dir = mutant+'/'+C \n",
    "model_name = 'refined1_0001_INPUT_0900_ignorechain'\n",
    "model_pdb = wd +model_dir+'/'+model_name+'/'+model_name+'.pdb'"
   ]
  },
  {
   "cell_type": "code",
   "execution_count": null,
   "metadata": {
    "ExecuteTime": {
     "end_time": "2019-08-23T10:10:55.895832Z",
     "start_time": "2019-08-23T10:10:51.341314Z"
    },
    "collapsed": false
   },
   "outputs": [],
   "source": [
    "get_HOLE_dimensions(model_pdb)"
   ]
  },
  {
   "cell_type": "markdown",
   "metadata": {},
   "source": [
    "Trajectory"
   ]
  },
  {
   "cell_type": "code",
   "execution_count": null,
   "metadata": {
    "ExecuteTime": {
     "end_time": "2019-08-23T10:15:37.512933Z",
     "start_time": "2019-08-23T10:15:37.510393Z"
    },
    "collapsed": true
   },
   "outputs": [],
   "source": [
    "func = get_HOLE_dimensions"
   ]
  },
  {
   "cell_type": "code",
   "execution_count": null,
   "metadata": {
    "ExecuteTime": {
     "end_time": "2019-08-23T10:15:17.871813Z",
     "start_time": "2019-08-23T10:15:17.868951Z"
    },
    "collapsed": true
   },
   "outputs": [],
   "source": [
    "path0 = wd+\"cWza/conformation0/refined1_0001_INPUT_0908_ignorechain/complex/mdf/md_100ns/\""
   ]
  },
  {
   "cell_type": "code",
   "execution_count": null,
   "metadata": {
    "ExecuteTime": {
     "end_time": "2019-08-23T10:16:32.002782Z",
     "start_time": "2019-08-23T10:16:31.998434Z"
    },
    "collapsed": true
   },
   "outputs": [],
   "source": [
    "param_list = []\n",
    "for i in range(1000):\n",
    "    model_pdb = path0+'Protein_'+str(i)+'.pdb'\n",
    "    param_list.append(model_pdb)"
   ]
  },
  {
   "cell_type": "code",
   "execution_count": null,
   "metadata": {
    "ExecuteTime": {
     "end_time": "2019-08-23T10:19:44.770602Z",
     "start_time": "2019-08-23T10:19:40.382942Z"
    },
    "collapsed": false
   },
   "outputs": [],
   "source": [
    "for i in range(990,1000):\n",
    "    model_pdb = param_list[i]\n",
    "    L, Rmin = func(model_pdb)\n",
    "    print(L, Rmin)"
   ]
  },
  {
   "cell_type": "code",
   "execution_count": null,
   "metadata": {
    "ExecuteTime": {
     "end_time": "2019-08-23T12:20:40.573046Z",
     "start_time": "2019-08-23T11:49:02.672109Z"
    },
    "collapsed": false
   },
   "outputs": [],
   "source": [
    "MyTags  = [\n",
    "    ['cWza', 'conformation0'],\n",
    "    ['cWza', 'conformation1'],\n",
    "    ['cWza-K375C', 'conformation0'],\n",
    "    ['cWza-K375C', 'conformation1'],\n",
    "    ['cWza-S355C', 'conformation0'],\n",
    "    ['cWza-S355C', 'conformation1'],\n",
    "    ['cWza-Y373C', 'conformation1']\n",
    "]\n",
    "\n",
    "CONFORMATIONS = {\n",
    "    'cWza':['conformation0', 'conformation1'],\n",
    "    'cWza-K375C':['conformation0', 'conformation1'],\n",
    "    'cWza-S355C':['conformation0', 'conformation1'],\n",
    "    'cWza-Y373C':['conformation1'],\n",
    "}\n",
    "\n",
    "fig, ax = plt.subplots(2,2,figsize=(10,10),sharex=True)\n",
    "seaborn.set_style('darkgrid')\n",
    "\n",
    "axes = {\n",
    "    'cWza':ax[0,0],\n",
    "    'cWza-K375C':ax[0,1],\n",
    "    'cWza-S355C':ax[1,0],\n",
    "    'cWza-Y373C':ax[1,1]\n",
    "}\n",
    "\n",
    "CMAPS = {\n",
    "    'conformation0':'Blues',\n",
    "    'conformation1':'Greens'\n",
    "}\n",
    "\n",
    "MySample = list(numpy.random.choice(Sample,120))\n",
    "\n",
    "for tag in MyTags:\n",
    "    mutant, C = tag\n",
    "    X1 = []; X2 = []\n",
    "    for i in range(len(MySample)):\n",
    "        model_dir = MySample[i]\n",
    "        mutant_sample, C_sample, model_name = model_dir.split('/')\n",
    "        comparison = [mutant_sample, C_sample] == tag\n",
    "        if comparison:\n",
    "            path0 = wd+model_dir+'/complex/mdf/md_100ns/'\n",
    "            if len(os.listdir(path0)) > 900:\n",
    "                ################\n",
    "                param_list = []\n",
    "                for i in range(900,1000):\n",
    "                    model_pdb = path0+'Protein_'+str(i)+'.pdb'\n",
    "                    param_list.append(model_pdb)\n",
    "                ################\n",
    "                for i in range(len(param_list)):\n",
    "                    model_pdb = param_list[i]\n",
    "                    L, Rmin = get_HOLE_dimensions(model_pdb)\n",
    "                    X1.append(L)\n",
    "                    X2.append(Rmin)\n",
    "            else:\n",
    "                pass\n",
    "    try: \n",
    "        seaborn.kdeplot(X1,X2,n_levels=20,cmap=CMAPS[C],ax=axes[mutant])\n",
    "        axes[mutant].set_title(mutant+\": HOLE (Last 10ns)\", fontsize=15)\n",
    "    except:\n",
    "        pass\n",
    "    axes[mutant].set_xlim(65,85)\n",
    "\n",
    "plt.show()"
   ]
  },
  {
   "cell_type": "markdown",
   "metadata": {
    "collapsed": true
   },
   "source": [
    "# Comparison of Pore Profiles"
   ]
  },
  {
   "cell_type": "markdown",
   "metadata": {
    "collapsed": true
   },
   "source": [
    "**Main profiles to compare**\n",
    "\n",
    "* Isambard-based VdW profiles (own method)\n",
    "* HOLE hydrodynamic profiles (suspected to overestimate length)\n",
    "\n",
    "**Objective**\n",
    "Determine difference between profiles for pore minimum radius and lenght dimensions\n",
    "\n",
    "**Datasets**\n",
    "\n",
    "* All conformation-classified docked structures\n",
    "* Conformaion-classified docked structures from Sample for MD\n",
    "* Protein frames from First 10ns of MD (Sample)\n",
    "* Protein frames from Last 10ns of MD (Sample)"
   ]
  },
  {
   "cell_type": "markdown",
   "metadata": {
    "collapsed": true
   },
   "source": [
    "## Define Datasets"
   ]
  },
  {
   "cell_type": "markdown",
   "metadata": {},
   "source": [
    "### All conformation-classified docked structures"
   ]
  },
  {
   "cell_type": "code",
   "execution_count": null,
   "metadata": {
    "ExecuteTime": {
     "end_time": "2019-08-23T15:25:32.963198Z",
     "start_time": "2019-08-23T15:25:32.945081Z"
    },
    "collapsed": true
   },
   "outputs": [],
   "source": [
    "MUTANTS = ['cWza','cWza-K375C','cWza-S355C','cWza-Y373C']\n",
    "\n",
    "CONFORMATIONS = {\n",
    "    'cWza':['conformation0', 'conformation1'],\n",
    "    'cWza-K375C':['conformation0', 'conformation1'],\n",
    "    'cWza-S355C':['conformation0', 'conformation1'],\n",
    "    'cWza-Y373C':['conformation1'],\n",
    "}\n",
    "\n",
    "param_list = []\n",
    "for i in range(len(MUTANTS)):\n",
    "    mutant = MUTANTS[i]\n",
    "    for C in CONFORMATIONS[mutant]:\n",
    "        mutant_dir = mutant+'/'+C \n",
    "        for model_dir in [mutant_dir+'/'+model for model in os.listdir(wd+mutant_dir)]:\n",
    "            model_name = model_dir.split('/')[-1]\n",
    "            model_pdb = wd+model_dir+'/'+model_name+'.pdb'\n",
    "            param_list.append(model_pdb)"
   ]
  },
  {
   "cell_type": "markdown",
   "metadata": {},
   "source": [
    "### Conformation-classified docked structures from Sample for MD"
   ]
  },
  {
   "cell_type": "code",
   "execution_count": null,
   "metadata": {
    "ExecuteTime": {
     "end_time": "2019-08-23T13:43:48.448416Z",
     "start_time": "2019-08-23T13:43:48.423459Z"
    },
    "collapsed": true
   },
   "outputs": [],
   "source": [
    "import json\n",
    "\n",
    "with open(wd+'EMMD_Sample.json','r') as fp:\n",
    "    Sample = json.load(fp)\n",
    "\n",
    "for i in range(len(Sample)):\n",
    "    model_dir = Sample[i]\n",
    "    model_name = model_dir.split('/')[-1]\n",
    "    model_pdb = wd+model_dir+'/'+model_name+'.pdb'\n",
    "    param_list.append(model_pdb)"
   ]
  },
  {
   "cell_type": "markdown",
   "metadata": {
    "collapsed": true
   },
   "source": [
    "### Protein frames from First 10ns of MD (Sample)"
   ]
  },
  {
   "cell_type": "code",
   "execution_count": 62,
   "metadata": {
    "ExecuteTime": {
     "end_time": "2019-08-24T16:14:00.360853Z",
     "start_time": "2019-08-24T16:13:59.942734Z"
    },
    "collapsed": false
   },
   "outputs": [],
   "source": [
    "import json\n",
    "\n",
    "with open(wd+'EMMD_Sample.json','r') as fp:\n",
    "    Sample = json.load(fp)\n",
    "\n",
    "frame_init = 0 # 0 ns\n",
    "frame_final = 100 # 10 ns\n",
    "\n",
    "param_list = []\n",
    "for i in range(len(Sample)):\n",
    "    model_dir = Sample[i]\n",
    "    model_name = model_dir.split('/')[-1]\n",
    "    frames_dir = wd+model_dir+'/complex/mdf/md_100ns/'\n",
    "    if os.path.isdir(frames_dir) and len(os.listdir(frames_dir))>900:\n",
    "        for j in range(frame_init, frame_final):\n",
    "            model_pdb = frames_dir+'Protein_'+str(j)+'.pdb'\n",
    "            param_list.append(model_pdb)"
   ]
  },
  {
   "cell_type": "markdown",
   "metadata": {
    "collapsed": true
   },
   "source": [
    "### Protein frames from Last 10ns of MD (Sample)"
   ]
  },
  {
   "cell_type": "code",
   "execution_count": null,
   "metadata": {
    "ExecuteTime": {
     "end_time": "2019-08-23T14:00:18.834668Z",
     "start_time": "2019-08-23T14:00:18.620864Z"
    },
    "collapsed": false
   },
   "outputs": [],
   "source": [
    "import json\n",
    "\n",
    "with open(wd+'EMMD_Sample.json','r') as fp:\n",
    "    Sample = json.load(fp)\n",
    "\n",
    "frame_init = 900 # 0 ns\n",
    "frame_final = 1000 # 10 ns\n",
    "\n",
    "param_list = []\n",
    "for i in range(len(Sample)):\n",
    "    model_dir = Sample[i]\n",
    "    model_name = model_dir.split('/')[-1]\n",
    "    frames_dir = wd+model_dir+'/complex/mdf/md_100ns/'\n",
    "    if os.path.isdir(frames_dir) and len(os.listdir(frames_dir))>900:\n",
    "        for j in range(frame_init, frame_final):\n",
    "            model_pdb = frames_dir+'Protein_'+str(j)+'.pdb'\n",
    "            param_list.append(model_pdb)"
   ]
  },
  {
   "cell_type": "markdown",
   "metadata": {},
   "source": [
    "## Define functions for pore profile extraction"
   ]
  },
  {
   "cell_type": "markdown",
   "metadata": {},
   "source": [
    "### HOLE hydrodynamic profile"
   ]
  },
  {
   "cell_type": "code",
   "execution_count": null,
   "metadata": {
    "ExecuteTime": {
     "end_time": "2019-08-24T08:18:15.148398Z",
     "start_time": "2019-08-24T08:18:15.134918Z"
    },
    "collapsed": true
   },
   "outputs": [],
   "source": [
    "import MDAnalysis as mda\n",
    "from MDAnalysis.analysis.hole import HOLE\n",
    "\n",
    "def get_HOLE_profile(model_pdb,endrad):\n",
    "    u = mda.Universe(model_pdb)\n",
    "    H = HOLE(model_pdb, executable=\"~/hole2/exe/hole\",endrad=endrad)  # set path to your hole binary\n",
    "    H.run()\n",
    "    H.collect()\n",
    "    # HOLE pore length\n",
    "    Z_coords = [x[1] for x in numpy.array(list(H.profiles[0]))]\n",
    "    R_coords = [x[2] for x in numpy.array(list(H.profiles[0]))]\n",
    "    # HOLE pore minimum radius\n",
    "    return Z_coords, R_coords\n",
    "    try:\n",
    "        u.close()\n",
    "    except:\n",
    "        pass"
   ]
  },
  {
   "cell_type": "markdown",
   "metadata": {},
   "source": [
    "**EXAMPLE**"
   ]
  },
  {
   "cell_type": "code",
   "execution_count": null,
   "metadata": {
    "ExecuteTime": {
     "end_time": "2019-08-23T20:48:26.045117Z",
     "start_time": "2019-08-23T20:48:23.104253Z"
    },
    "collapsed": false
   },
   "outputs": [],
   "source": [
    "data = numpy.array(get_HOLE_profile(param_list[0],20)).T\n",
    "df_hole = pandas.DataFrame(data, columns=['z','r'])"
   ]
  },
  {
   "cell_type": "code",
   "execution_count": null,
   "metadata": {
    "ExecuteTime": {
     "end_time": "2019-08-23T20:48:28.295254Z",
     "start_time": "2019-08-23T20:48:28.221120Z"
    },
    "collapsed": false
   },
   "outputs": [],
   "source": [
    "df_hole.plot(x='z',y='r')"
   ]
  },
  {
   "cell_type": "markdown",
   "metadata": {},
   "source": [
    "### Isambard-based VdW profile"
   ]
  },
  {
   "cell_type": "code",
   "execution_count": null,
   "metadata": {
    "ExecuteTime": {
     "end_time": "2019-08-23T14:26:39.197081Z",
     "start_time": "2019-08-23T14:26:39.164547Z"
    },
    "collapsed": false
   },
   "outputs": [],
   "source": [
    "import sys\n",
    "sys.path.append('/home/ba13026/mpmodeling/analysis/')\n",
    "import isambard_dev\n",
    "import radial_profile"
   ]
  },
  {
   "cell_type": "markdown",
   "metadata": {},
   "source": [
    "**EXAMPLE**"
   ]
  },
  {
   "cell_type": "code",
   "execution_count": null,
   "metadata": {
    "ExecuteTime": {
     "end_time": "2019-08-23T19:03:10.629784Z",
     "start_time": "2019-08-23T19:03:10.097795Z"
    },
    "collapsed": false
   },
   "outputs": [],
   "source": [
    "p = isambard_dev.ampal.convert_pdb_to_ampal(param_list[0])\n",
    "p_rad = radial_profile.RadialProfile(p)\n",
    "data = p_rad.vdw('simple').T\n",
    "\n",
    "df_isambard = pandas.DataFrame(data, columns=['z','r'])"
   ]
  },
  {
   "cell_type": "code",
   "execution_count": null,
   "metadata": {
    "ExecuteTime": {
     "end_time": "2019-08-23T19:03:10.930196Z",
     "start_time": "2019-08-23T19:03:10.776377Z"
    },
    "collapsed": false
   },
   "outputs": [],
   "source": [
    "df_isambard.plot(x='z',y='r')"
   ]
  },
  {
   "cell_type": "markdown",
   "metadata": {},
   "source": [
    "### Comparison between profiles"
   ]
  },
  {
   "cell_type": "markdown",
   "metadata": {},
   "source": [
    "**SIMPLE**"
   ]
  },
  {
   "cell_type": "code",
   "execution_count": null,
   "metadata": {
    "ExecuteTime": {
     "end_time": "2019-08-23T19:25:04.477140Z",
     "start_time": "2019-08-23T19:25:04.471445Z"
    },
    "collapsed": true
   },
   "outputs": [],
   "source": [
    "%matplotlib notebook"
   ]
  },
  {
   "cell_type": "code",
   "execution_count": null,
   "metadata": {
    "ExecuteTime": {
     "end_time": "2019-08-23T19:25:14.436910Z",
     "start_time": "2019-08-23T19:25:05.456139Z"
    },
    "collapsed": false
   },
   "outputs": [],
   "source": [
    "fig,ax = plt.subplots(1,1)\n",
    "\n",
    "profiles_HOLE = []\n",
    "for endrad in numpy.linspace(15,22,3):\n",
    "    data = numpy.array(get_HOLE_profile(param_list[0],endrad)).T\n",
    "    profiles_HOLE.append(data)\n",
    "    \n",
    "for data in profiles_HOLE:\n",
    "    X,Y = data.T\n",
    "    ax.plot(X,Y)\n",
    "    \n",
    "    \n",
    "#     print(data)\n",
    "#     df_hole = pandas.DataFrame(data, columns=['z','r'])\n",
    "#     df_hole.plot(x='z',y='r',ax=ax,label='HOLE',legend=False)\n",
    "\n",
    "# df_isambard.plot(x='z',y='r',ax=ax, label='Isambard')\n",
    "\n",
    "# ax.set_title(\"Pore Profiles: Comparison\", fontsize=20)\n",
    "# ax.set_xlabel(\"Pore axis ($\\AA$)\", fontsize=15)\n",
    "# ax.set_ylabel(\"Radial distance ($\\AA$)\", fontsize=15)\n",
    "\n",
    "# ax.set_aspect('equal')\n",
    "# plt.tight_layout()\n",
    "ax.set_ylim(0,35)\n",
    "plt.show()"
   ]
  },
  {
   "cell_type": "code",
   "execution_count": null,
   "metadata": {
    "ExecuteTime": {
     "end_time": "2019-08-23T19:24:48.306992Z",
     "start_time": "2019-08-23T19:24:48.154853Z"
    },
    "collapsed": false
   },
   "outputs": [],
   "source": [
    "X,Y = profiles_HOLE[2].T\n",
    "plt.plot(X,Y)"
   ]
  },
  {
   "cell_type": "code",
   "execution_count": null,
   "metadata": {
    "collapsed": true
   },
   "outputs": [],
   "source": []
  },
  {
   "cell_type": "code",
   "execution_count": null,
   "metadata": {
    "collapsed": true
   },
   "outputs": [],
   "source": []
  },
  {
   "cell_type": "code",
   "execution_count": null,
   "metadata": {
    "ExecuteTime": {
     "end_time": "2019-08-23T20:49:18.907839Z",
     "start_time": "2019-08-23T20:49:15.314871Z"
    },
    "collapsed": false
   },
   "outputs": [],
   "source": [
    "fig,ax = plt.subplots(1,1,dpi=200)\n",
    "\n",
    "#################################\n",
    "data = numpy.array(get_HOLE_profile(param_list[0],40)).T\n",
    "df_hole = pandas.DataFrame(data, columns=['z','r'])\n",
    "\n",
    "df_hole.plot(x='z',y='r',ax=ax,color='green',label='HOLE')\n",
    "df_hole_reverse = pd.DataFrame({\n",
    "        'z':df_hole['z'],\n",
    "        'r':df_hole['r'].apply(lambda x: x*-1)\n",
    "        }\n",
    "    )\n",
    "df_hole_reverse.plot(x='z',y='r',color='green',ax=ax,legend=False)\n",
    "#################################\n",
    "df_isambard.plot(x='z',y='r',ax=ax,color='blue',label='Isambard')\n",
    "df_isambard_reverse = pd.DataFrame({\n",
    "        'z':df_isambard['z'],\n",
    "        'r':df_isambard['r'].apply(lambda x: x*-1)\n",
    "        }\n",
    "    )\n",
    "df_isambard_reverse.plot(x='z',y='r',color='blue',ax=ax,legend=False)\n",
    "#################################\n",
    "ax.set_title(\"Pore Profiles: Comparison\", fontsize=15, y=1.05)\n",
    "ax.set_xlabel(\"Pore axis ($\\AA$)\", fontsize=15)\n",
    "ax.set_ylabel(\"Radial distance ($\\AA$)\", fontsize=15)\n",
    "\n",
    "\n",
    "# for i in range(0,len(df_hole),30):\n",
    "#     circle = plt.Circle((df_hole.z[i], 0), df_hole.r[i], color='r',fill=False,alpha=0.3)\n",
    "#     ax.add_artist(circle)\n",
    "    \n",
    "# for i in range(0,len(df_hole),30):\n",
    "#     circle = plt.Circle((df_hole.z[i], 0), df_hole.r[i], color='black',fill=False)\n",
    "#     ax.add_artist(circle)\n",
    "\n",
    "ax.set_aspect('equal')\n",
    "ax.set_ylim(-40,40)\n",
    "ax.legend(fontsize=5,loc='lower right')\n",
    "plt.tight_layout()\n",
    "plt.show()"
   ]
  },
  {
   "cell_type": "raw",
   "metadata": {
    "ExecuteTime": {
     "end_time": "2019-08-23T20:22:21.257532Z",
     "start_time": "2019-08-23T20:22:20.516047Z"
    }
   },
   "source": [
    "fig,ax = plt.subplots(1,1)\n",
    "\n",
    "s = 0\n",
    "r0 = numpy.array([s,0])\n",
    "for i in range(100):\n",
    "    profile_isambard = numpy.array(df_isambard)\n",
    "    d = numpy.linalg.norm(profile_isambard - r0, axis=-1)\n",
    "    d_min = min(d)\n",
    "    d_min_idx = list(d).index(d_min)\n",
    "\n",
    "    x,y = profile_isambard[d_min_idx]\n",
    "    ax.scatter(x,y,color='red')\n",
    "    ax.scatter(x,-y,color='red')\n",
    "\n",
    "    circle = plt.Circle((x,0), y, color='r',fill=False,alpha=0.3)\n",
    "    ax.add_artist(circle)\n",
    "    \n",
    "    s += 0.5\n",
    "    r0 = numpy.array([s,0])\n",
    "    \n",
    "\n",
    "    \n",
    "s = 0\n",
    "r0 = numpy.array([s,0])\n",
    "for i in range(100):\n",
    "    profile_isambard = numpy.array(df_isambard)\n",
    "    d = numpy.linalg.norm(profile_isambard - r0, axis=-1)\n",
    "    d_min = min(d)\n",
    "    d_min_idx = list(d).index(d_min)\n",
    "\n",
    "    x,y = profile_isambard[d_min_idx]\n",
    "    ax.scatter(x,y,color='red')\n",
    "    ax.scatter(x,-y,color='red')\n",
    "\n",
    "    circle = plt.Circle((x,0), y, color='r',fill=False,alpha=0.3)\n",
    "    ax.add_artist(circle)\n",
    "    \n",
    "    s -= 0.5\n",
    "    r0 = numpy.array([s,0])\n",
    "    \n",
    "    \n",
    "df_isambard.plot(x='z',y='r',ax=ax,color='blue',label='Isambard')\n",
    "# df_isambard_reverse = pd.DataFrame({\n",
    "#         'z':df_isambard['z'],\n",
    "#         'r':df_isambard['r'].apply(lambda x: x*-1)\n",
    "#         }\n",
    "#     )\n",
    "# df_isambard_reverse.plot(x='z',y='r',color='blue',ax=ax,legend=False)\n",
    "#################################\n",
    "ax.set_ylim(0,35)\n",
    "# ax.set_aspect('equal')\n",
    "plt.show()"
   ]
  },
  {
   "cell_type": "code",
   "execution_count": null,
   "metadata": {
    "ExecuteTime": {
     "end_time": "2019-08-23T20:12:52.693459Z",
     "start_time": "2019-08-23T20:12:52.690941Z"
    },
    "collapsed": false
   },
   "outputs": [],
   "source": []
  },
  {
   "cell_type": "markdown",
   "metadata": {},
   "source": [
    "**DOCKED MODELS**"
   ]
  },
  {
   "cell_type": "markdown",
   "metadata": {},
   "source": [
    "Compare $R_{min}$ estimates"
   ]
  },
  {
   "cell_type": "code",
   "execution_count": null,
   "metadata": {
    "ExecuteTime": {
     "end_time": "2019-08-23T18:46:10.819994Z",
     "start_time": "2019-08-23T18:31:47.606166Z"
    },
    "collapsed": false
   },
   "outputs": [],
   "source": [
    "compare = []\n",
    "for i in range(200):\n",
    "    model_pdb = param_list[i]\n",
    "    ##################################\n",
    "    p = isambard_dev.ampal.convert_pdb_to_ampal(model_pdb)\n",
    "    p_rad = radial_profile.RadialProfile(p)\n",
    "    data = p_rad.vdw('simple')\n",
    "    Rmin_isambard = (min(data[1]))\n",
    "    ##################################\n",
    "    data = numpy.array(get_HOLE_profile(model_pdb))\n",
    "    Rmin_hole = (min(data[1]))\n",
    "    compare.append([Rmin_isambard, Rmin_hole])"
   ]
  },
  {
   "cell_type": "code",
   "execution_count": null,
   "metadata": {
    "ExecuteTime": {
     "end_time": "2019-08-23T18:46:11.297240Z",
     "start_time": "2019-08-23T18:46:10.821749Z"
    },
    "collapsed": false
   },
   "outputs": [],
   "source": [
    "fig = plt.figure(dpi=150)\n",
    "X,Y = numpy.array(compare).T\n",
    "p_coeff = numpy.polyfit(X,Y, 1)\n",
    "line_fit = numpy.poly1d(p_coeff)\n",
    "\n",
    "plt.scatter(X,Y,label=\"100 Docked PDBs\")\n",
    "plt.plot(X,line_fit(X),label=\"Fitting (m=\"+str(round(p_coeff[0],2))+\")\")\n",
    "\n",
    "plt.title(\"Pore Profiles: Comparison\",fontsize=20,y=1.05)\n",
    "plt.xlabel(\"$R_{min}$ Isambard ($\\AA$)\", fontsize=15)\n",
    "plt.ylabel(\"$R_{min}$ HOLE ($\\AA$)\", fontsize=15)\n",
    "\n",
    "plt.axes().set_aspect('equal')\n",
    "plt.legend(loc='best')\n",
    "plt.tight_layout()\n",
    "\n",
    "plt.show()"
   ]
  },
  {
   "cell_type": "markdown",
   "metadata": {},
   "source": [
    "Compare $L$ estimates"
   ]
  },
  {
   "cell_type": "code",
   "execution_count": null,
   "metadata": {
    "ExecuteTime": {
     "end_time": "2019-08-23T19:00:34.102150Z",
     "start_time": "2019-08-23T18:46:11.298563Z"
    },
    "collapsed": true
   },
   "outputs": [],
   "source": [
    "compare = []\n",
    "for i in range(200):\n",
    "    model_pdb = param_list[i]\n",
    "    ##################################\n",
    "    p = isambard_dev.ampal.convert_pdb_to_ampal(model_pdb)\n",
    "    p_rad = radial_profile.RadialProfile(p)\n",
    "    data = p_rad.vdw('simple')\n",
    "    L_isambard = (max(data[0]) - min(data[0]))\n",
    "    ##################################\n",
    "    data = numpy.array(get_HOLE_profile(model_pdb))\n",
    "    L_hole = (max(data[0]) - min(data[0]))\n",
    "    compare.append([L_isambard, L_hole])"
   ]
  },
  {
   "cell_type": "code",
   "execution_count": null,
   "metadata": {
    "ExecuteTime": {
     "end_time": "2019-08-23T19:00:34.399795Z",
     "start_time": "2019-08-23T19:00:34.104819Z"
    },
    "collapsed": false
   },
   "outputs": [],
   "source": [
    "fig = plt.figure(dpi=150)\n",
    "\n",
    "X,Y = numpy.array(compare).T\n",
    "p_coeff = numpy.polyfit(X,Y, 1)\n",
    "line_fit = numpy.poly1d(p_coeff)\n",
    "\n",
    "plt.scatter(X,Y,label=\"100 Docked PDBs\")\n",
    "plt.plot(X,line_fit(X),label=\"Fitting (m=\"+str(round(p_coeff[0],2))+\")\")\n",
    "\n",
    "plt.title(\"Pore Profiles: Comparison\",fontsize=20,y=1.05)\n",
    "plt.xlabel(\"$L$ Isambard ($\\AA$)\", fontsize=15)\n",
    "plt.ylabel(\"$L$ HOLE ($\\AA$)\", fontsize=15)\n",
    "\n",
    "plt.xticks(range(37,40))\n",
    "plt.axes().set_aspect('equal')\n",
    "plt.legend(loc='best',fontsize=10)\n",
    "plt.tight_layout()\n",
    "\n",
    "plt.show()"
   ]
  },
  {
   "cell_type": "markdown",
   "metadata": {},
   "source": [
    "NEXT\n",
    "\n",
    "Use own method to compute pore lengths"
   ]
  },
  {
   "cell_type": "markdown",
   "metadata": {},
   "source": [
    "## TEST"
   ]
  },
  {
   "cell_type": "code",
   "execution_count": null,
   "metadata": {
    "ExecuteTime": {
     "end_time": "2019-08-24T09:39:15.836673Z",
     "start_time": "2019-08-24T09:39:15.834276Z"
    },
    "collapsed": true
   },
   "outputs": [],
   "source": [
    "model_pdb = param_list[0]"
   ]
  },
  {
   "cell_type": "code",
   "execution_count": null,
   "metadata": {
    "ExecuteTime": {
     "end_time": "2019-08-24T10:34:26.778730Z",
     "start_time": "2019-08-24T10:34:23.381301Z"
    },
    "collapsed": false
   },
   "outputs": [],
   "source": [
    "Rmin_hole = get_HOLE_Rmin(model_pdb)"
   ]
  },
  {
   "cell_type": "code",
   "execution_count": null,
   "metadata": {
    "ExecuteTime": {
     "end_time": "2019-08-24T10:34:27.524908Z",
     "start_time": "2019-08-24T10:34:27.521132Z"
    },
    "collapsed": false
   },
   "outputs": [],
   "source": [
    "Rmin_hole"
   ]
  },
  {
   "cell_type": "markdown",
   "metadata": {},
   "source": [
    "Get length"
   ]
  },
  {
   "cell_type": "code",
   "execution_count": null,
   "metadata": {
    "ExecuteTime": {
     "end_time": "2019-08-24T10:14:39.230201Z",
     "start_time": "2019-08-24T10:14:39.224387Z"
    },
    "collapsed": false
   },
   "outputs": [],
   "source": [
    "def get_channel_length(model_pdb):\n",
    "    make_ampal = isambard_dev.ampal.convert_pdb_to_ampal\n",
    "    get_chain_Zcoords = lambda chain : [atom.z for atom in chain.get_atoms()]\n",
    "    get_length = lambda chain : max(get_chain_Zcoords(chain)) - min(get_chain_Zcoords(chain))\n",
    "    chains_lengths = list(map(get_length, model_ampal))\n",
    "    return numpy.mean(get_chains_lengths(make_ampal(model_pdb)))"
   ]
  },
  {
   "cell_type": "code",
   "execution_count": null,
   "metadata": {
    "ExecuteTime": {
     "end_time": "2019-08-24T10:14:51.884791Z",
     "start_time": "2019-08-24T10:14:51.827758Z"
    },
    "collapsed": false
   },
   "outputs": [],
   "source": [
    "get_channel_length(model_pdb)"
   ]
  },
  {
   "cell_type": "code",
   "execution_count": null,
   "metadata": {
    "ExecuteTime": {
     "end_time": "2019-08-24T09:38:53.743143Z",
     "start_time": "2019-08-24T09:38:53.739913Z"
    },
    "collapsed": false
   },
   "outputs": [],
   "source": [
    "(len(param_list)*54*1e-3)/60"
   ]
  },
  {
   "cell_type": "code",
   "execution_count": 65,
   "metadata": {
    "ExecuteTime": {
     "end_time": "2019-08-24T16:15:00.868669Z",
     "start_time": "2019-08-24T16:15:00.806320Z"
    },
    "collapsed": false
   },
   "outputs": [],
   "source": [
    "with open(wd+\"param_list_metrics.json\",\"w\") as fp:\n",
    "    json.dump(param_list,fp,indent=4)"
   ]
  },
  {
   "cell_type": "code",
   "execution_count": null,
   "metadata": {
    "ExecuteTime": {
     "end_time": "2019-08-24T13:37:20.233834Z",
     "start_time": "2019-08-24T13:37:20.225645Z"
    },
    "collapsed": false
   },
   "outputs": [],
   "source": [
    "%%writefile /home/ba13026/mpmodeling/analysis/setup_db_metrics.py\n",
    "import os\n",
    "import sys\n",
    "import json\n",
    "from sqlalchemy import Column, ForeignKey, Integer, String, Float\n",
    "from sqlalchemy.ext.declarative import declarative_base\n",
    "from sqlalchemy.orm import relationship\n",
    "from sqlalchemy import create_engine\n",
    "\n",
    "Base = declarative_base()\n",
    "\n",
    "class Tags(Base):\n",
    "    __tablename__ = 'tag'\n",
    "    id = Column(Integer, primary_key=True) # SQL id \n",
    "    mutant = Column(String(250), nullable=False)\n",
    "    group = Column(String(250), nullable=False)\n",
    "    pdb_name = Column(String(250), nullable=False)\n",
    "    frame = Column(String(250), nullable=False)\n",
    "\n",
    "class Pore_Dimensions(Base):\n",
    "    # Pore dimensions using HOLE and Isambard\n",
    "    __tablename__ = 'pore_dimensions'\n",
    "    id = Column(Integer, primary_key=True)\n",
    "    #######################################\n",
    "    pore_Rmin = Column(Float) # From HOLE\n",
    "    pore_length = Column(Float) # From Isambard\n",
    "    #######################################\n",
    "    # Foreign key \n",
    "    tag_id = Column(Integer, ForeignKey('tag.id'))\n",
    "    tag = relationship(Tags)\n",
    "    \n",
    "class Radii_of_Gyration(Base):\n",
    "    # Pore dimensions using HOLE and Isambard\n",
    "    __tablename__ = 'radii_of_gyration'\n",
    "    id = Column(Integer, primary_key=True)\n",
    "    #######################################\n",
    "    Rg_x = Column(Float)\n",
    "    Rg_y = Column(Float)\n",
    "    Rg_z = Column(Float)\n",
    "    #######################################\n",
    "    # Foreign key \n",
    "    tag_id = Column(Integer, ForeignKey('tag.id'))\n",
    "    tag = relationship(Tags)\n",
    "\n",
    "if __name__ == \"__main__\":\n",
    "    outdb = sys.argv[1] # Output name of database (.db)\n",
    "    engine = create_engine('sqlite:///'+outdb)\n",
    "    Base.metadata.create_all(engine)"
   ]
  },
  {
   "cell_type": "code",
   "execution_count": 25,
   "metadata": {
    "ExecuteTime": {
     "end_time": "2019-08-24T16:02:58.783027Z",
     "start_time": "2019-08-24T16:02:58.777750Z"
    },
    "collapsed": false
   },
   "outputs": [
    {
     "name": "stdout",
     "output_type": "stream",
     "text": [
      "Overwriting /home/ba13026/mpmodeling/analysis/insert2db_metrics.py\n"
     ]
    }
   ],
   "source": [
    "%%writefile /home/ba13026/mpmodeling/analysis/insert2db_metrics.py\n",
    "import sys\n",
    "import os\n",
    "import numpy\n",
    "import operator\n",
    "import subprocess\n",
    "import json\n",
    "import isambard_dev\n",
    "import MDAnalysis as mda\n",
    "import concurrent.futures\n",
    "from sqlalchemy import create_engine\n",
    "from sqlalchemy.orm import sessionmaker\n",
    "\n",
    "# Import modules from folder\n",
    "modules_path = \"/home/ba13026/mpmodeling/analysis/\"\n",
    "if modules_path not in sys.path:\n",
    "    sys.path.append(modules_path)\n",
    "\n",
    "import analyse_HOLE\n",
    "from setup_db_metrics import Base, Tags, Pore_Dimensions, Radii_of_Gyration\n",
    "\n",
    "def get_tags(model_pdb):\n",
    "    idents = operator.itemgetter(*[0,1,2,-1])(model_pdb.split('/')[9:])\n",
    "    mutant, group, model_name, frame = idents\n",
    "    frame = frame[:-4]\n",
    "    return mutant, group, model_name, frame\n",
    "     \n",
    "def get_Rg_components(model_pdb):\n",
    "    try:\n",
    "        u = mda.Universe(model_pdb)\n",
    "        protein = u.select_atoms(\"protein\")\n",
    "        protein_mass = numpy.sum(protein.masses)\n",
    "        protein_inertia = protein.moment_of_inertia() # tensor of inertia\n",
    "        f = lambda x : numpy.sqrt(x/float(protein_mass))\n",
    "        protein_Rg_n = [f(protein_inertia[i][i]) for i in range(3)]\n",
    "        Rg_x, Rg_y, Rg_z = protein_Rg_n\n",
    "        return Rg_x, Rg_y, Rg_z\n",
    "    except:\n",
    "        return 'Fail'\n",
    "\n",
    "def get_HOLE_Rmin(model_pdb):\n",
    "    dir_path = os.getcwd()\n",
    "    tmp_wd = os.path.dirname(model_pdb)\n",
    "    os.chdir(tmp_wd)\n",
    "    try:\n",
    "        HOLE_dimensions,HOLE_conductance_estimates = analyse_HOLE.hole(os.path.basename(model_pdb))\n",
    "        os.chdir(dir_path)\n",
    "        return HOLE_dimensions[0]\n",
    "    except:\n",
    "        os.chdir(dir_path)\n",
    "        return 'Fail'\n",
    "        \n",
    "def get_channel_length(model_pdb):\n",
    "    try:\n",
    "        model_ampal = isambard_dev.ampal.convert_pdb_to_ampal(model_pdb)\n",
    "        get_chain_Zcoords = lambda chain : [atom.z for atom in chain.get_atoms()]\n",
    "        get_length = lambda chain : max(get_chain_Zcoords(chain)) - min(get_chain_Zcoords(chain))\n",
    "        chains_lengths = list(map(get_length, model_ampal))\n",
    "        return numpy.mean(chains_lengths)\n",
    "    except:\n",
    "        return 'Fail'\n",
    "\n",
    "def process_model(n):\n",
    "    model_pdb = param_list[n]\n",
    "    #####################################\n",
    "    # Model identifiers\n",
    "    mutant, group, model_name, frame = get_tags(model_pdb)\n",
    "    model_tags  = Tags(\n",
    "                        mutant = mutant, \n",
    "                        group = group, \n",
    "                        pdb_name = model_name,\n",
    "                        frame = frame\n",
    "                        )\n",
    "    session.add(model_tags)    \n",
    "    #####################################\n",
    "    # Radius of gyration decomposition\n",
    "    data = get_Rg_components(model_pdb)\n",
    "    model_Rgs = Radii_of_Gyration(\n",
    "        Rg_x = data[0],\n",
    "        Rg_y = data[1],\n",
    "        Rg_z = data[2],\n",
    "        tag  = model_tags\n",
    "        )\n",
    "    session.add(model_Rgs)\n",
    "    #####################################\n",
    "#     # Pore dimensions\n",
    "    pore_Rmin = get_HOLE_Rmin(model_pdb)\n",
    "    pore_length = get_channel_length(model_pdb)\n",
    "    model_pore_dimensions = Pore_Dimensions(\n",
    "        pore_Rmin = pore_Rmin,\n",
    "        pore_length = pore_length,\n",
    "        tag = model_tags\n",
    "        )\n",
    "    session.add(model_pore_dimensions)\n",
    "    #####################################\n",
    "    # COMMIT CHANGES TO DATABASE  \n",
    "    session.commit()\n",
    "\n",
    "#####################################\n",
    "# Parallel Process Execution\n",
    "def main():\n",
    "    model_n = list(range(len(param_list)))\n",
    "    with concurrent.futures.ProcessPoolExecutor(max_workers = ncores) as executor:\n",
    "        executor.map(process_model, model_n)\n",
    "\n",
    "if __name__ == '__main__':\n",
    "    dbfile  = sys.argv[1] # Database filename\n",
    "    param_json = sys.argv[2] # Dictionary with mutant structures info\n",
    "    ncores = int(sys.argv[3]) # Number of cores\n",
    "\n",
    "    # Extract info from dictionary\n",
    "    with open(param_json, 'r') as fp:\n",
    "        param_list = json.load(fp)\n",
    "\n",
    "    # Create engine and bind it to current session\n",
    "    engine = create_engine('sqlite:///'+dbfile)\n",
    "    Base.metadata.bind = engine\n",
    "    DBSession = sessionmaker(bind=engine)\n",
    "    session = DBSession()\n",
    "\n",
    "    main()"
   ]
  },
  {
   "cell_type": "markdown",
   "metadata": {},
   "source": [
    "```bash\n",
    "python ~/mpmodeling/analysis/setup_db_metrics.py conf_metrics.db\n",
    "\n",
    "nohup python ~/mpmodeling/analysis/insert2db_metrics.py conf_metrics.db param_list_metrics.json 20 > conf_metrics.out &\n",
    "```"
   ]
  },
  {
   "cell_type": "code",
   "execution_count": 2,
   "metadata": {
    "ExecuteTime": {
     "end_time": "2019-08-24T15:58:04.330825Z",
     "start_time": "2019-08-24T15:58:04.328569Z"
    },
    "collapsed": false
   },
   "outputs": [],
   "source": [
    "import json\n",
    "wd='/projects/s21/ba13026/Wza_Modeling/L-structures/rosetta/bg_test/md_relax/'"
   ]
  },
  {
   "cell_type": "code",
   "execution_count": 3,
   "metadata": {
    "ExecuteTime": {
     "end_time": "2019-08-24T15:58:04.338193Z",
     "start_time": "2019-08-24T15:58:04.332592Z"
    },
    "collapsed": false
   },
   "outputs": [],
   "source": [
    "with open(wd+'param_list_metrics.json', 'r') as fp:\n",
    "    param_list = json.load(fp)"
   ]
  },
  {
   "cell_type": "code",
   "execution_count": 4,
   "metadata": {
    "ExecuteTime": {
     "end_time": "2019-08-24T15:58:04.344328Z",
     "start_time": "2019-08-24T15:58:04.339963Z"
    },
    "collapsed": true
   },
   "outputs": [],
   "source": [
    "n=0"
   ]
  },
  {
   "cell_type": "code",
   "execution_count": 5,
   "metadata": {
    "ExecuteTime": {
     "end_time": "2019-08-24T15:58:04.348856Z",
     "start_time": "2019-08-24T15:58:04.346036Z"
    },
    "collapsed": false
   },
   "outputs": [],
   "source": [
    "model_pdb = param_list[n]\n",
    "#####################################\n",
    "# Model identifiers\n",
    "mutant, group, model_name, frame = get_tags(model_pdb)"
   ]
  },
  {
   "cell_type": "code",
   "execution_count": 6,
   "metadata": {
    "ExecuteTime": {
     "end_time": "2019-08-24T15:58:07.057796Z",
     "start_time": "2019-08-24T15:58:07.053430Z"
    },
    "collapsed": false
   },
   "outputs": [
    {
     "data": {
      "text/plain": [
       "('cWza', 'conformation0', 'refined1_0001_INPUT_0736_ignorechain', 'Protein_0')"
      ]
     },
     "execution_count": 6,
     "metadata": {},
     "output_type": "execute_result"
    }
   ],
   "source": [
    "mutant, group, model_name, frame"
   ]
  },
  {
   "cell_type": "code",
   "execution_count": 7,
   "metadata": {
    "ExecuteTime": {
     "end_time": "2019-08-24T15:58:07.799237Z",
     "start_time": "2019-08-24T15:58:07.756715Z"
    },
    "collapsed": true
   },
   "outputs": [],
   "source": [
    "data = get_Rg_components(model_pdb)"
   ]
  },
  {
   "cell_type": "code",
   "execution_count": 8,
   "metadata": {
    "ExecuteTime": {
     "end_time": "2019-08-24T15:58:08.536681Z",
     "start_time": "2019-08-24T15:58:08.533623Z"
    },
    "collapsed": false
   },
   "outputs": [
    {
     "data": {
      "text/plain": [
       "(15.984882804674134, 16.016707699104412, 18.390021687929075)"
      ]
     },
     "execution_count": 8,
     "metadata": {},
     "output_type": "execute_result"
    }
   ],
   "source": [
    "data"
   ]
  },
  {
   "cell_type": "code",
   "execution_count": 20,
   "metadata": {
    "ExecuteTime": {
     "end_time": "2019-08-24T15:59:39.812134Z",
     "start_time": "2019-08-24T15:59:39.809495Z"
    },
    "collapsed": false
   },
   "outputs": [
    {
     "name": "stdout",
     "output_type": "stream",
     "text": [
      "Fail\n"
     ]
    }
   ],
   "source": [
    "# pore_Rmin = get_HOLE_Rmin(model_pdb)\n",
    "pore_length = get_channel_length(model_pdb)\n",
    "print(pore_length)"
   ]
  },
  {
   "cell_type": "code",
   "execution_count": 22,
   "metadata": {
    "ExecuteTime": {
     "end_time": "2019-08-24T16:02:09.863108Z",
     "start_time": "2019-08-24T16:02:09.856697Z"
    },
    "collapsed": false
   },
   "outputs": [],
   "source": []
  },
  {
   "cell_type": "code",
   "execution_count": 23,
   "metadata": {
    "ExecuteTime": {
     "end_time": "2019-08-24T16:02:14.989976Z",
     "start_time": "2019-08-24T16:02:14.933738Z"
    },
    "collapsed": false
   },
   "outputs": [
    {
     "data": {
      "text/plain": [
       "34.636250000000004"
      ]
     },
     "execution_count": 23,
     "metadata": {},
     "output_type": "execute_result"
    }
   ],
   "source": [
    "get_channel_length(model_pdb)"
   ]
  },
  {
   "cell_type": "code",
   "execution_count": 10,
   "metadata": {
    "ExecuteTime": {
     "end_time": "2019-08-24T15:55:21.410344Z",
     "start_time": "2019-08-24T15:55:21.406565Z"
    },
    "collapsed": false
   },
   "outputs": [
    {
     "data": {
      "text/plain": [
       "'/projects/s21/ba13026/Wza_Modeling/L-structures/rosetta/bg_test/md_relax/cWza/conformation0/refined1_0001_INPUT_0736_ignorechain/complex/mdf/md_100ns'"
      ]
     },
     "execution_count": 10,
     "metadata": {},
     "output_type": "execute_result"
    }
   ],
   "source": [
    "pwd"
   ]
  },
  {
   "cell_type": "code",
   "execution_count": null,
   "metadata": {
    "collapsed": true
   },
   "outputs": [],
   "source": []
  },
  {
   "cell_type": "code",
   "execution_count": null,
   "metadata": {
    "collapsed": true
   },
   "outputs": [],
   "source": []
  },
  {
   "cell_type": "code",
   "execution_count": 66,
   "metadata": {
    "ExecuteTime": {
     "end_time": "2019-08-24T16:25:33.724096Z",
     "start_time": "2019-08-24T16:25:33.721215Z"
    },
    "collapsed": true
   },
   "outputs": [],
   "source": [
    "dbfile = wd+'conf_metrics.db'\n",
    "ncores = 20"
   ]
  },
  {
   "cell_type": "code",
   "execution_count": 67,
   "metadata": {
    "ExecuteTime": {
     "end_time": "2019-08-24T16:25:35.797561Z",
     "start_time": "2019-08-24T16:25:35.788927Z"
    },
    "collapsed": true
   },
   "outputs": [],
   "source": [
    "# Create engine and bind it to current session\n",
    "engine = create_engine('sqlite:///'+dbfile)\n",
    "Base.metadata.bind = engine\n",
    "DBSession = sessionmaker(bind=engine)\n",
    "session = DBSession()"
   ]
  },
  {
   "cell_type": "code",
   "execution_count": 77,
   "metadata": {
    "ExecuteTime": {
     "end_time": "2019-08-24T16:34:21.287830Z",
     "start_time": "2019-08-24T16:34:21.284497Z"
    },
    "collapsed": false
   },
   "outputs": [
    {
     "data": {
      "text/plain": [
       "28600"
      ]
     },
     "execution_count": 77,
     "metadata": {},
     "output_type": "execute_result"
    }
   ],
   "source": [
    "len(param_list)"
   ]
  },
  {
   "cell_type": "code",
   "execution_count": 93,
   "metadata": {
    "ExecuteTime": {
     "end_time": "2019-08-24T17:22:26.642239Z",
     "start_time": "2019-08-24T17:22:26.632038Z"
    },
    "collapsed": false
   },
   "outputs": [
    {
     "data": {
      "text/plain": [
       "3775"
      ]
     },
     "execution_count": 93,
     "metadata": {},
     "output_type": "execute_result"
    }
   ],
   "source": [
    "len(session.query(Radii_of_Gyration.Rg_z).all())"
   ]
  },
  {
   "cell_type": "code",
   "execution_count": 68,
   "metadata": {
    "ExecuteTime": {
     "end_time": "2019-08-24T16:25:41.356827Z",
     "start_time": "2019-08-24T16:25:41.336237Z"
    },
    "collapsed": false
   },
   "outputs": [
    {
     "data": {
      "text/plain": [
       "[(8.31274),\n",
       " (7.98163),\n",
       " (7.78876),\n",
       " (8.04232),\n",
       " (7.60966),\n",
       " (6.07101),\n",
       " (7.85828),\n",
       " (7.9984),\n",
       " (8.5949),\n",
       " (7.56816),\n",
       " (6.00312),\n",
       " (7.28793),\n",
       " (7.21704),\n",
       " (7.58639),\n",
       " (7.88076),\n",
       " (7.24224),\n",
       " (7.28421),\n",
       " (7.04518),\n",
       " (7.01694),\n",
       " (7.89157),\n",
       " (7.7533),\n",
       " (8.18201),\n",
       " (7.64123),\n",
       " (7.62407),\n",
       " (8.05123),\n",
       " (7.88005),\n",
       " (7.85325),\n",
       " (8.16547),\n",
       " (7.74944),\n",
       " (7.96447),\n",
       " (7.86847),\n",
       " (8.01381),\n",
       " (8.34889),\n",
       " (7.89963),\n",
       " (8.26295),\n",
       " (7.846),\n",
       " (7.52168),\n",
       " (7.97542),\n",
       " (8.51523),\n",
       " (7.90142),\n",
       " (8.18963),\n",
       " (7.71966),\n",
       " (8.26823),\n",
       " (8.2167),\n",
       " (7.92152),\n",
       " (8.27487),\n",
       " (8.01268),\n",
       " (7.95422),\n",
       " (8.03316),\n",
       " (7.93224),\n",
       " (8.02857),\n",
       " (8.15103),\n",
       " (7.91488),\n",
       " (7.7513),\n",
       " (7.5444),\n",
       " (8.0686),\n",
       " (8.05306),\n",
       " (7.54442),\n",
       " (8.15533),\n",
       " (8.25503),\n",
       " (7.87122),\n",
       " (8.36938),\n",
       " (7.66252),\n",
       " (7.93893),\n",
       " (7.85157),\n",
       " (8.10263),\n",
       " (7.97287),\n",
       " (7.83011),\n",
       " (8.10705),\n",
       " (7.98437),\n",
       " (8.08117),\n",
       " (5.77749),\n",
       " (5.38724),\n",
       " (7.50712),\n",
       " (7.76273),\n",
       " (8.2402),\n",
       " (6.82284),\n",
       " (7.39971),\n",
       " (7.0216),\n",
       " (7.88834),\n",
       " (6.75217),\n",
       " (8.26218),\n",
       " (8.4736),\n",
       " (8.10235),\n",
       " (8.3118),\n",
       " (7.86858),\n",
       " (7.84319),\n",
       " (8.70679),\n",
       " (8.16992),\n",
       " (8.37038),\n",
       " (8.15711),\n",
       " (8.26895),\n",
       " (8.49304),\n",
       " (8.41848),\n",
       " (8.75326),\n",
       " (8.76891),\n",
       " (7.96649),\n",
       " (8.3742),\n",
       " (8.1992),\n",
       " (8.54933),\n",
       " (8.20789),\n",
       " (8.46661),\n",
       " (8.69194),\n",
       " (8.04158),\n",
       " (8.22654),\n",
       " (8.41458),\n",
       " (8.40075),\n",
       " (8.47078),\n",
       " (8.14564),\n",
       " (8.12278),\n",
       " (8.07742),\n",
       " (8.70423),\n",
       " (8.50269),\n",
       " (7.58852),\n",
       " (7.89158),\n",
       " (8.44238),\n",
       " (8.14712),\n",
       " (7.72012),\n",
       " (8.75131),\n",
       " (8.02303),\n",
       " (8.83083),\n",
       " (8.53168),\n",
       " (8.20054),\n",
       " (8.45174),\n",
       " (8.64065),\n",
       " (8.63343),\n",
       " (8.63341),\n",
       " (8.69894),\n",
       " (8.43756),\n",
       " (8.50889),\n",
       " (8.13817),\n",
       " (8.35298),\n",
       " (8.21798),\n",
       " (8.25729),\n",
       " (8.3839),\n",
       " (8.64151),\n",
       " (8.73517),\n",
       " (8.81083),\n",
       " (8.91812),\n",
       " (9.14182),\n",
       " (8.88895),\n",
       " (8.95396),\n",
       " (8.68311),\n",
       " (8.97052),\n",
       " (9.01807),\n",
       " (6.34294),\n",
       " (9.18129),\n",
       " (9.064),\n",
       " (8.9609),\n",
       " (8.7719),\n",
       " (9.06866),\n",
       " (6.36491),\n",
       " (6.35868),\n",
       " (6.63933),\n",
       " (5.43416),\n",
       " (6.5322),\n",
       " (5.42674),\n",
       " (6.52813),\n",
       " (7.15132),\n",
       " (6.87106),\n",
       " (6.66366),\n",
       " (7.25865),\n",
       " (7.06391),\n",
       " (7.09996),\n",
       " (7.13411),\n",
       " (7.23647),\n",
       " (7.00501),\n",
       " (7.18419),\n",
       " (7.12133),\n",
       " (7.18055),\n",
       " (7.34056),\n",
       " (7.01589),\n",
       " (7.23396),\n",
       " (7.05719),\n",
       " (7.36),\n",
       " (8.53432),\n",
       " (7.67279),\n",
       " (7.83015),\n",
       " (8.23453),\n",
       " (7.64467),\n",
       " (8.28087),\n",
       " (8.14215),\n",
       " (8.43431),\n",
       " (8.24523),\n",
       " (8.62897),\n",
       " (8.1888),\n",
       " (8.19686),\n",
       " (8.19641),\n",
       " (8.52036),\n",
       " (8.14576),\n",
       " (8.37854),\n",
       " (8.17638),\n",
       " (8.20076),\n",
       " (7.91859),\n",
       " (8.33711),\n",
       " (8.21635),\n",
       " (8.4016),\n",
       " (7.69949),\n",
       " (8.14437),\n",
       " (8.39486),\n",
       " (8.36251),\n",
       " (8.33998),\n",
       " (8.14286),\n",
       " (7.68677),\n",
       " (8.50859),\n",
       " (8.15011),\n",
       " (8.43484),\n",
       " (7.88481),\n",
       " (8.16657),\n",
       " (8.42524),\n",
       " (8.67328),\n",
       " (8.43304),\n",
       " (8.99956),\n",
       " (8.55001),\n",
       " (8.98957),\n",
       " (8.60664),\n",
       " (8.77359),\n",
       " (8.68481),\n",
       " (8.32395),\n",
       " (7.89764),\n",
       " (8.89345),\n",
       " (8.30178),\n",
       " (5.21411),\n",
       " (5.20094),\n",
       " (9.20195),\n",
       " (5.17751),\n",
       " (8.74802),\n",
       " (6.09341),\n",
       " (5.29639),\n",
       " (6.30859),\n",
       " (6.85675),\n",
       " (5.93131),\n",
       " (5.7267),\n",
       " (6.03046),\n",
       " (6.94414),\n",
       " (6.78845),\n",
       " (7.00116),\n",
       " (6.90747),\n",
       " (7.25374),\n",
       " (7.48159),\n",
       " (6.72272),\n",
       " (7.14304),\n",
       " (7.67538),\n",
       " (7.45848),\n",
       " (7.39851),\n",
       " (7.71539),\n",
       " (7.5112),\n",
       " (7.29544),\n",
       " (7.36402),\n",
       " (7.15132),\n",
       " (7.59527),\n",
       " (7.25848),\n",
       " (7.49341),\n",
       " (7.54013),\n",
       " (7.35232),\n",
       " (7.59471),\n",
       " (7.60483),\n",
       " (7.73804),\n",
       " (7.17344),\n",
       " (7.34583),\n",
       " (7.57883),\n",
       " (7.42602),\n",
       " (7.44325),\n",
       " (7.58223),\n",
       " (7.22914),\n",
       " (7.39032),\n",
       " (7.66917),\n",
       " (7.38493),\n",
       " (7.85058),\n",
       " (7.31563),\n",
       " (7.56157),\n",
       " (7.66292),\n",
       " (7.6581),\n",
       " (7.90373),\n",
       " (7.66134),\n",
       " (7.77109),\n",
       " (7.82522),\n",
       " (8.16341),\n",
       " (8.04837),\n",
       " (7.43223),\n",
       " (7.86361),\n",
       " (8.06696),\n",
       " (7.67884),\n",
       " (7.86371),\n",
       " (7.93566),\n",
       " (7.74262),\n",
       " (8.01426),\n",
       " (8.09937),\n",
       " (8.23818),\n",
       " (8.07258),\n",
       " (7.53218),\n",
       " (8.02524),\n",
       " (7.95217),\n",
       " (8.05712),\n",
       " (8.24163),\n",
       " (8.09573),\n",
       " (8.0678),\n",
       " (8.193),\n",
       " (8.20471),\n",
       " (6.93569),\n",
       " (8.29764),\n",
       " (6.41502),\n",
       " (6.53417),\n",
       " (7.74865),\n",
       " (6.55491),\n",
       " (7.19418),\n",
       " (6.554),\n",
       " (6.85249),\n",
       " (6.96412),\n",
       " (7.05363),\n",
       " (6.95615),\n",
       " (6.59858),\n",
       " (7.24332),\n",
       " (7.02557),\n",
       " (6.82421),\n",
       " (7.0193),\n",
       " (6.58815),\n",
       " (7.07267),\n",
       " (7.15155),\n",
       " (7.07934),\n",
       " (7.63483),\n",
       " (7.07863),\n",
       " (6.73329),\n",
       " (6.56735),\n",
       " (7.40064),\n",
       " (7.2926),\n",
       " (6.72673),\n",
       " (6.92121),\n",
       " (6.38324),\n",
       " (7.00946),\n",
       " (6.65487),\n",
       " (6.88982),\n",
       " (6.83506),\n",
       " (7.00329),\n",
       " (7.54786),\n",
       " (7.16424),\n",
       " (7.78205),\n",
       " (7.55754),\n",
       " (6.97913),\n",
       " (7.34399),\n",
       " (7.65177),\n",
       " (7.34664),\n",
       " (7.20068),\n",
       " (7.47706),\n",
       " (7.56875),\n",
       " (7.36117),\n",
       " (8.12827),\n",
       " (8.39986),\n",
       " (7.76506),\n",
       " (8.15846),\n",
       " (8.07098),\n",
       " (7.7152),\n",
       " (8.40119),\n",
       " (8.23519),\n",
       " (8.41665),\n",
       " (8.1617),\n",
       " (8.17999),\n",
       " (7.86023),\n",
       " (8.41011),\n",
       " (8.17957),\n",
       " (8.03562),\n",
       " (8.21691),\n",
       " (8.16248),\n",
       " (8.19181),\n",
       " (8.11735),\n",
       " (8.13465),\n",
       " (8.28474),\n",
       " (8.08271),\n",
       " (8.4063),\n",
       " (8.57524),\n",
       " (8.2412),\n",
       " (8.50215),\n",
       " (8.25741),\n",
       " (8.21963),\n",
       " (8.40377),\n",
       " (5.34681),\n",
       " (5.26342),\n",
       " (8.31305),\n",
       " (5.14341),\n",
       " (5.09896),\n",
       " (5.18372),\n",
       " (4.80749),\n",
       " (5.46222),\n",
       " (4.95979),\n",
       " (5.29099),\n",
       " (5.01424),\n",
       " (5.28585),\n",
       " (5.20041),\n",
       " (5.79457),\n",
       " (6.04634),\n",
       " (5.23491),\n",
       " (5.26402),\n",
       " (4.96626),\n",
       " (5.40354),\n",
       " (5.45174),\n",
       " (5.33828),\n",
       " (5.60129),\n",
       " (6.19466),\n",
       " (6.97369),\n",
       " (5.36654),\n",
       " (6.48661),\n",
       " (6.39824),\n",
       " (5.81709),\n",
       " (5.5701),\n",
       " (6.52264),\n",
       " (5.97128),\n",
       " (6.28832),\n",
       " (6.35401),\n",
       " (5.72563),\n",
       " (6.71741),\n",
       " (6.40727),\n",
       " (6.42488),\n",
       " (6.32536),\n",
       " (6.163),\n",
       " (6.36054),\n",
       " (6.37585),\n",
       " (6.91364),\n",
       " (6.16431),\n",
       " (6.79244),\n",
       " (6.80067),\n",
       " (6.78987),\n",
       " (6.60293),\n",
       " (6.83072),\n",
       " (6.98652),\n",
       " (7.11796),\n",
       " (6.57451),\n",
       " (6.60127),\n",
       " (6.69383),\n",
       " (7.31773),\n",
       " (7.66139),\n",
       " (7.20854),\n",
       " (6.72088),\n",
       " (7.17793),\n",
       " (7.4315),\n",
       " (8.18141),\n",
       " (7.37464),\n",
       " (7.86008),\n",
       " (7.83142),\n",
       " (7.42497),\n",
       " (7.95213),\n",
       " (7.78634),\n",
       " (8.10934),\n",
       " (8.07574),\n",
       " (8.06714),\n",
       " (7.55395),\n",
       " (7.82114),\n",
       " (7.98364),\n",
       " (7.17165),\n",
       " (7.71901),\n",
       " (7.80856),\n",
       " (6.52759),\n",
       " (8.37414),\n",
       " (6.99587),\n",
       " (6.25954),\n",
       " (6.56477),\n",
       " (7.35102),\n",
       " (6.57769),\n",
       " (6.92201),\n",
       " (7.12367),\n",
       " (7.87459),\n",
       " (7.69893),\n",
       " (7.67687),\n",
       " (7.92606),\n",
       " (8.13768),\n",
       " (8.10811),\n",
       " (7.78067),\n",
       " (7.95536),\n",
       " (8.4006),\n",
       " (7.5897),\n",
       " (8.37758),\n",
       " (7.88531),\n",
       " (8.39674),\n",
       " (8.17712),\n",
       " (7.86224),\n",
       " (7.91173),\n",
       " (8.15963),\n",
       " (8.16528),\n",
       " (8.20564),\n",
       " (8.0414),\n",
       " (8.00907),\n",
       " (8.0314),\n",
       " (7.85521),\n",
       " (8.32089),\n",
       " (8.29037),\n",
       " (8.25944),\n",
       " (7.97587),\n",
       " (7.85733),\n",
       " (8.10771),\n",
       " (8.16454),\n",
       " (8.23579),\n",
       " (8.09491),\n",
       " (7.79339),\n",
       " (7.8823),\n",
       " (7.60721),\n",
       " (8.16074),\n",
       " (8.14577),\n",
       " (8.09471),\n",
       " (8.12994),\n",
       " (8.00369),\n",
       " (8.1996),\n",
       " (8.14461),\n",
       " (8.10143),\n",
       " (8.39411),\n",
       " (8.16458),\n",
       " (7.8287),\n",
       " (7.81597),\n",
       " (8.16021),\n",
       " (7.8794),\n",
       " (8.15799),\n",
       " (7.63276),\n",
       " (7.81509),\n",
       " (8.55492),\n",
       " (8.31161),\n",
       " (8.39093),\n",
       " (7.75197),\n",
       " (8.20699),\n",
       " (8.06824),\n",
       " (8.51244),\n",
       " (8.29898),\n",
       " (8.59734),\n",
       " (8.35478),\n",
       " (8.07122),\n",
       " (4.95498),\n",
       " (5.05411),\n",
       " (5.19321),\n",
       " (5.66746),\n",
       " (5.15524),\n",
       " (5.49198),\n",
       " (4.84771),\n",
       " (5.38842),\n",
       " (5.5177),\n",
       " (4.8219),\n",
       " (5.98109),\n",
       " (6.21835),\n",
       " (6.08011),\n",
       " (5.41035),\n",
       " (6.30788),\n",
       " (6.48254),\n",
       " (6.10471),\n",
       " (6.28204),\n",
       " (5.83699),\n",
       " (6.23523),\n",
       " (6.58851),\n",
       " (6.56104),\n",
       " (7.14392),\n",
       " (7.10921),\n",
       " (6.68782),\n",
       " (7.24695),\n",
       " (7.15854),\n",
       " (6.73268),\n",
       " (6.96175),\n",
       " (7.01148),\n",
       " (6.96517),\n",
       " (7.20655),\n",
       " (7.06675),\n",
       " (7.12996),\n",
       " (7.19281),\n",
       " (6.74847),\n",
       " (7.00916),\n",
       " (7.14113),\n",
       " (7.17358),\n",
       " (7.11095),\n",
       " (7.03879),\n",
       " (7.13712),\n",
       " (6.67988),\n",
       " (7.11032),\n",
       " (7.15557),\n",
       " (7.13986),\n",
       " (6.91222),\n",
       " (6.81492),\n",
       " (7.30505),\n",
       " (7.1282),\n",
       " (6.94607),\n",
       " (6.94973),\n",
       " (7.25619),\n",
       " (7.29384),\n",
       " (7.21554),\n",
       " (7.53902),\n",
       " (7.42536),\n",
       " (7.09999),\n",
       " (7.3957),\n",
       " (7.27285),\n",
       " (7.23026),\n",
       " (7.25844),\n",
       " (7.69428),\n",
       " (7.48845),\n",
       " (7.43887),\n",
       " (7.1983),\n",
       " (7.07987),\n",
       " (7.33297),\n",
       " (7.49912),\n",
       " (7.49119),\n",
       " (7.54486),\n",
       " (5.08163),\n",
       " (5.4914),\n",
       " (6.99796),\n",
       " (7.3965),\n",
       " (6.08357),\n",
       " (5.82178),\n",
       " (5.87846),\n",
       " (6.53981),\n",
       " (6.93164),\n",
       " (6.54),\n",
       " (6.71486),\n",
       " (7.11926),\n",
       " (6.55072),\n",
       " (6.69421),\n",
       " (6.76765),\n",
       " (6.8425),\n",
       " (7.12836),\n",
       " (6.48152),\n",
       " (6.7846),\n",
       " (7.09113),\n",
       " (6.90131),\n",
       " (7.49082),\n",
       " (6.91981),\n",
       " (6.59448),\n",
       " (7.6145),\n",
       " (7.10926),\n",
       " (7.29121),\n",
       " (7.16874),\n",
       " (7.52486),\n",
       " (7.25127),\n",
       " (7.69252),\n",
       " (7.72626),\n",
       " (7.03606),\n",
       " (7.91955),\n",
       " (7.84393),\n",
       " (7.91575),\n",
       " (8.03153),\n",
       " (7.83536),\n",
       " (7.89605),\n",
       " (7.14899),\n",
       " (7.66142),\n",
       " (8.01151),\n",
       " (8.07431),\n",
       " (7.93803),\n",
       " (8.30923),\n",
       " (8.18176),\n",
       " (8.19823),\n",
       " (8.27631),\n",
       " (7.96124),\n",
       " (8.43502),\n",
       " (7.64141)]"
      ]
     },
     "execution_count": 68,
     "metadata": {},
     "output_type": "execute_result"
    }
   ],
   "source": [
    "session.query(Pore_Dimensions.pore_Rmin).all()"
   ]
  },
  {
   "cell_type": "code",
   "execution_count": 105,
   "metadata": {
    "ExecuteTime": {
     "end_time": "2019-08-24T17:30:45.819103Z",
     "start_time": "2019-08-24T17:30:45.809398Z"
    },
    "collapsed": false
   },
   "outputs": [
    {
     "data": {
      "text/plain": [
       "[('Protein_23'),\n",
       " ('Protein_21'),\n",
       " ('Protein_28'),\n",
       " ('Protein_18'),\n",
       " ('Protein_15'),\n",
       " ('Protein_0'),\n",
       " ('Protein_19'),\n",
       " ('Protein_27'),\n",
       " ('Protein_29'),\n",
       " ('Protein_11'),\n",
       " ('Protein_1'),\n",
       " ('Protein_7'),\n",
       " ('Protein_9'),\n",
       " ('Protein_13'),\n",
       " ('Protein_12'),\n",
       " ('Protein_6'),\n",
       " ('Protein_8'),\n",
       " ('Protein_4'),\n",
       " ('Protein_3'),\n",
       " ('Protein_26'),\n",
       " ('Protein_16'),\n",
       " ('Protein_25'),\n",
       " ('Protein_22'),\n",
       " ('Protein_38'),\n",
       " ('Protein_37'),\n",
       " ('Protein_47'),\n",
       " ('Protein_40'),\n",
       " ('Protein_50'),\n",
       " ('Protein_46'),\n",
       " ('Protein_59'),\n",
       " ('Protein_55'),\n",
       " ('Protein_53'),\n",
       " ('Protein_42'),\n",
       " ('Protein_39'),\n",
       " ('Protein_58'),\n",
       " ('Protein_48'),\n",
       " ('Protein_44'),\n",
       " ('Protein_49'),\n",
       " ('Protein_56'),\n",
       " ('Protein_60'),\n",
       " ('Protein_57'),\n",
       " ('Protein_43'),\n",
       " ('Protein_61'),\n",
       " ('Protein_63'),\n",
       " ('Protein_51'),\n",
       " ('Protein_65'),\n",
       " ('Protein_70'),\n",
       " ('Protein_69'),\n",
       " ('Protein_67'),\n",
       " ('Protein_72'),\n",
       " ('Protein_80'),\n",
       " ('Protein_68'),\n",
       " ('Protein_71'),\n",
       " ('Protein_76'),\n",
       " ('Protein_73'),\n",
       " ('Protein_88'),\n",
       " ('Protein_81'),\n",
       " ('Protein_86'),\n",
       " ('Protein_75'),\n",
       " ('Protein_93'),\n",
       " ('Protein_74'),\n",
       " ('Protein_89'),\n",
       " ('Protein_87'),\n",
       " ('Protein_96'),\n",
       " ('Protein_82'),\n",
       " ('Protein_90'),\n",
       " ('Protein_92'),\n",
       " ('Protein_84'),\n",
       " ('Protein_94'),\n",
       " ('Protein_97'),\n",
       " ('Protein_98'),\n",
       " ('Protein_99')]"
      ]
     },
     "execution_count": 105,
     "metadata": {},
     "output_type": "execute_result"
    }
   ],
   "source": [
    "session.query(Tags.frame).filter_by(mutant='cWza',group='conformation0',pdb_name='refined1_0001_INPUT_0736_ignorechain').all()"
   ]
  },
  {
   "cell_type": "code",
   "execution_count": 58,
   "metadata": {
    "ExecuteTime": {
     "end_time": "2019-08-24T16:11:22.027986Z",
     "start_time": "2019-08-24T16:11:22.021782Z"
    },
    "collapsed": false
   },
   "outputs": [
    {
     "data": {
      "text/plain": [
       "[(37.65875000000001), (38.51375), (38.091249999999995), (38.45375), (37.64875)]"
      ]
     },
     "execution_count": 58,
     "metadata": {},
     "output_type": "execute_result"
    }
   ],
   "source": [
    "session.query(Pore_Dimensions.pore_length).all()"
   ]
  },
  {
   "cell_type": "code",
   "execution_count": 61,
   "metadata": {
    "ExecuteTime": {
     "end_time": "2019-08-24T16:12:57.107664Z",
     "start_time": "2019-08-24T16:12:57.103361Z"
    },
    "collapsed": true
   },
   "outputs": [],
   "source": [
    "session.close_all()"
   ]
  },
  {
   "cell_type": "code",
   "execution_count": null,
   "metadata": {
    "collapsed": true
   },
   "outputs": [],
   "source": []
  }
 ],
 "metadata": {
  "kernelspec": {
   "display_name": "Python 3",
   "language": "python",
   "name": "python3"
  },
  "language_info": {
   "codemirror_mode": {
    "name": "ipython",
    "version": 3
   },
   "file_extension": ".py",
   "mimetype": "text/x-python",
   "name": "python",
   "nbconvert_exporter": "python",
   "pygments_lexer": "ipython3",
   "version": "3.5.6"
  },
  "toc": {
   "base_numbering": 1,
   "nav_menu": {},
   "number_sections": true,
   "sideBar": true,
   "skip_h1_title": false,
   "title_cell": "Table of Contents",
   "title_sidebar": "Contents",
   "toc_cell": false,
   "toc_position": {
    "height": "calc(100% - 180px)",
    "left": "10px",
    "top": "150px",
    "width": "333px"
   },
   "toc_section_display": true,
   "toc_window_display": true
  }
 },
 "nbformat": 4,
 "nbformat_minor": 2
}
