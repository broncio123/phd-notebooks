{
 "cells": [
  {
   "cell_type": "markdown",
   "metadata": {},
   "source": [
    "# Proof of concept"
   ]
  },
  {
   "cell_type": "code",
   "execution_count": null,
   "metadata": {
    "ExecuteTime": {
     "end_time": "2019-08-20T14:31:18.851915Z",
     "start_time": "2019-08-20T14:31:17.408847Z"
    },
    "collapsed": false
   },
   "outputs": [],
   "source": [
    "import os\n",
    "import numpy \n",
    "import isambard_dev\n",
    "import pandas\n",
    "import seaborn\n",
    "import MDAnalysis as mda\n",
    "import matplotlib.pyplot as plt\n",
    "from mpl_toolkits.mplot3d import Axes3D  \n",
    "%matplotlib notebook"
   ]
  },
  {
   "cell_type": "code",
   "execution_count": null,
   "metadata": {
    "ExecuteTime": {
     "end_time": "2019-08-20T14:13:48.283766Z",
     "start_time": "2019-08-20T14:13:48.281589Z"
    },
    "collapsed": true
   },
   "outputs": [],
   "source": [
    "wd = '/projects/s21/ba13026/Wza_Modeling/L-structures/rosetta/bg_test/md_relax/'"
   ]
  },
  {
   "cell_type": "markdown",
   "metadata": {},
   "source": [
    "# Tests"
   ]
  },
  {
   "cell_type": "markdown",
   "metadata": {},
   "source": [
    "## Comparison $R_g$ calculation"
   ]
  },
  {
   "cell_type": "markdown",
   "metadata": {},
   "source": [
    "`isambard` implementation"
   ]
  },
  {
   "cell_type": "code",
   "execution_count": null,
   "metadata": {
    "ExecuteTime": {
     "end_time": "2019-08-20T15:44:12.081011Z",
     "start_time": "2019-08-20T15:44:12.075949Z"
    },
    "collapsed": false
   },
   "outputs": [],
   "source": [
    "mutant = 'cWza-K375C'\n",
    "C = 'conformation0'\n",
    "model_dir = mutant+'/'+C \n",
    "model_name = 'refined1_0001_INPUT_0900_ignorechain'\n",
    "model_pdb = path0 +model_dir+'/'+model_name+'/'+model_name+'.pdb'"
   ]
  },
  {
   "cell_type": "code",
   "execution_count": null,
   "metadata": {
    "ExecuteTime": {
     "end_time": "2019-08-20T15:44:12.666649Z",
     "start_time": "2019-08-20T15:44:12.663367Z"
    },
    "collapsed": false
   },
   "outputs": [],
   "source": [
    "model_pdb"
   ]
  },
  {
   "cell_type": "code",
   "execution_count": null,
   "metadata": {
    "ExecuteTime": {
     "end_time": "2019-08-20T15:44:16.416015Z",
     "start_time": "2019-08-20T15:44:16.355486Z"
    },
    "collapsed": false
   },
   "outputs": [],
   "source": [
    "p = isambard_dev.ampal.convert_pdb_to_ampal(model_pdb)\n",
    "p.radius_of_gyration"
   ]
  },
  {
   "cell_type": "markdown",
   "metadata": {},
   "source": [
    "`MDAnalysis` implementation"
   ]
  },
  {
   "cell_type": "code",
   "execution_count": null,
   "metadata": {
    "ExecuteTime": {
     "end_time": "2019-08-20T15:44:18.167215Z",
     "start_time": "2019-08-20T15:44:18.123401Z"
    },
    "collapsed": false
   },
   "outputs": [],
   "source": [
    "u = mda.Universe(model_pdb)\n",
    "protein = u.select_atoms(\"protein\")\n",
    "protein.radius_of_gyration()"
   ]
  },
  {
   "cell_type": "markdown",
   "metadata": {},
   "source": [
    "<b><span style=\"color:red\"> NOTE </span></b>\n",
    "\n",
    "* `isambard` does not have a way to compute the components of $R_g$"
   ]
  },
  {
   "cell_type": "markdown",
   "metadata": {},
   "source": [
    "# Radius of gyration  components"
   ]
  },
  {
   "cell_type": "markdown",
   "metadata": {},
   "source": [
    "Proof of concept"
   ]
  },
  {
   "cell_type": "code",
   "execution_count": 8,
   "metadata": {
    "ExecuteTime": {
     "end_time": "2019-08-22T14:39:22.260686Z",
     "start_time": "2019-08-22T14:39:22.219090Z"
    },
    "collapsed": false
   },
   "outputs": [],
   "source": [
    "u = mda.Universe(model_pdb)\n",
    "protein = u.select_atoms(\"protein\")\n",
    "protein_mass = numpy.sum(protein.masses)\n",
    "protein_inertia = protein.moment_of_inertia() # tensor of inertia"
   ]
  },
  {
   "cell_type": "markdown",
   "metadata": {},
   "source": [
    "Reference: Moment of Inertia\n",
    "\n",
    "https://en.wikipedia.org/wiki/Moment_of_inertia#Inertia_tensor\n",
    "\n",
    "https://www.mdanalysis.org/MDAnalysisTutorial/atomgroups.html"
   ]
  },
  {
   "cell_type": "code",
   "execution_count": 11,
   "metadata": {
    "ExecuteTime": {
     "end_time": "2019-08-22T14:39:38.749772Z",
     "start_time": "2019-08-22T14:39:38.746316Z"
    },
    "collapsed": false
   },
   "outputs": [
    {
     "data": {
      "text/plain": [
       "array([[  7.90036173e+06,   2.87007467e+02,  -4.27859473e+03],\n",
       "       [  2.87007467e+02,   7.90061300e+06,   2.80542764e+03],\n",
       "       [ -4.27859473e+03,   2.80542764e+03,   7.85873515e+06]])"
      ]
     },
     "execution_count": 11,
     "metadata": {},
     "output_type": "execute_result"
    }
   ],
   "source": [
    "protein_inertia"
   ]
  },
  {
   "cell_type": "code",
   "execution_count": 9,
   "metadata": {
    "ExecuteTime": {
     "end_time": "2019-08-22T14:39:24.777352Z",
     "start_time": "2019-08-22T14:39:24.774496Z"
    },
    "collapsed": false
   },
   "outputs": [],
   "source": [
    "protein_Rg_n = [numpy.sqrt(protein_inertia[i][i]/float(protein_mass)) for i,j in []]"
   ]
  },
  {
   "cell_type": "code",
   "execution_count": 10,
   "metadata": {
    "ExecuteTime": {
     "end_time": "2019-08-22T14:39:25.519637Z",
     "start_time": "2019-08-22T14:39:25.516122Z"
    },
    "collapsed": false
   },
   "outputs": [
    {
     "data": {
      "text/plain": [
       "[16.51833476161525, 16.518597439925461, 16.47476018050266]"
      ]
     },
     "execution_count": 10,
     "metadata": {},
     "output_type": "execute_result"
    }
   ],
   "source": [
    "protein_Rg_n"
   ]
  },
  {
   "cell_type": "markdown",
   "metadata": {},
   "source": [
    "Implementation"
   ]
  },
  {
   "cell_type": "code",
   "execution_count": null,
   "metadata": {
    "ExecuteTime": {
     "end_time": "2019-08-22T11:24:37.428950Z",
     "start_time": "2019-08-22T11:24:37.420297Z"
    },
    "collapsed": true
   },
   "outputs": [],
   "source": [
    "import MDAnalysis as mda\n",
    "\n",
    "def get_Rg_components(model_pdb):\n",
    "    u = mda.Universe(model_pdb)\n",
    "    protein = u.select_atoms(\"protein\")\n",
    "    protein_mass = numpy.sum(protein.masses)\n",
    "    protein_inertia = protein.moment_of_inertia() # tensor of inertia\n",
    "    f = lambda x : numpy.sqrt(x/float(protein_mass))\n",
    "    protein_Rg_n = [f(protein_inertia[i][i]) for i in range(3)]\n",
    "    Rg_x, Rg_y, Rg_z = protein_Rg_n\n",
    "    return Rg_x, Rg_y, Rg_z"
   ]
  },
  {
   "cell_type": "code",
   "execution_count": null,
   "metadata": {
    "ExecuteTime": {
     "end_time": "2019-08-22T11:24:43.798550Z",
     "start_time": "2019-08-22T11:24:43.753093Z"
    },
    "collapsed": false
   },
   "outputs": [],
   "source": [
    "get_Rg_components(model_pdb)"
   ]
  },
  {
   "cell_type": "markdown",
   "metadata": {},
   "source": [
    "# Docked structures"
   ]
  },
  {
   "cell_type": "markdown",
   "metadata": {},
   "source": [
    "## Conformational Groups: All models"
   ]
  },
  {
   "cell_type": "markdown",
   "metadata": {},
   "source": [
    "### Scatter dataplots"
   ]
  },
  {
   "cell_type": "code",
   "execution_count": null,
   "metadata": {
    "ExecuteTime": {
     "end_time": "2019-08-20T16:35:05.020210Z",
     "start_time": "2019-08-20T16:33:57.084535Z"
    },
    "collapsed": false
   },
   "outputs": [],
   "source": [
    "MUTANTS = ['cWza','cWza-K375C','cWza-S355C','cWza-Y373C']\n",
    "\n",
    "CONFORMATIONS = {\n",
    "    'cWza':['conformation0', 'conformation1'],\n",
    "    'cWza-K375C':['conformation0', 'conformation1'],\n",
    "    'cWza-S355C':['conformation0', 'conformation1'],\n",
    "    'cWza-Y373C':['conformation1'],\n",
    "}\n",
    "\n",
    "fig, ax = plt.subplots(2,2,figsize=(10,10))\n",
    "seaborn.set_style('white')\n",
    "\n",
    "axes = {\n",
    "    'cWza':ax[0,0],\n",
    "    'cWza-K375C':ax[0,1],\n",
    "    'cWza-S355C':ax[1,0],\n",
    "    'cWza-Y373C':ax[1,1]\n",
    "}\n",
    "\n",
    "COLORS = {\n",
    "    'conformation0':'blue',\n",
    "    'conformation1':'green'\n",
    "}\n",
    "\n",
    "for i in range(len(MUTANTS)):\n",
    "    mutant = MUTANTS[i]\n",
    "    for C in CONFORMATIONS[mutant]:\n",
    "        X = []\n",
    "        Z = []\n",
    "        mutant_dir = mutant+'/'+C \n",
    "        for model_dir in [mutant_dir+'/'+model for model in os.listdir(wd+mutant_dir)]:\n",
    "            model_name = model_dir.split('/')[-1]\n",
    "            model_pdb = wd+'/'+model_dir+'/'+model_name+'.pdb'\n",
    "            Rg_x, Rg_y, Rg_z = get_Rg_components(model_pdb)\n",
    "            X.append(Rg_x)\n",
    "            Z.append(Rg_z)\n",
    "        seaborn.scatterplot(X,Z,color=COLORS[C],ax=axes[mutant])\n",
    "\n",
    "plt.show()"
   ]
  },
  {
   "cell_type": "markdown",
   "metadata": {},
   "source": [
    "### Density dataplots"
   ]
  },
  {
   "cell_type": "code",
   "execution_count": null,
   "metadata": {
    "ExecuteTime": {
     "end_time": "2019-08-20T16:41:24.965472Z",
     "start_time": "2019-08-20T16:40:13.306535Z"
    },
    "collapsed": false
   },
   "outputs": [],
   "source": [
    "MUTANTS = ['cWza','cWza-K375C','cWza-S355C','cWza-Y373C']\n",
    "\n",
    "CONFORMATIONS = {\n",
    "    'cWza':['conformation0', 'conformation1'],\n",
    "    'cWza-K375C':['conformation0', 'conformation1'],\n",
    "    'cWza-S355C':['conformation0', 'conformation1'],\n",
    "    'cWza-Y373C':['conformation1'],\n",
    "}\n",
    "\n",
    "fig, ax = plt.subplots(2,2,figsize=(10,10))\n",
    "seaborn.set_style('darkgrid')\n",
    "\n",
    "axes = {\n",
    "    'cWza':ax[0,0],\n",
    "    'cWza-K375C':ax[0,1],\n",
    "    'cWza-S355C':ax[1,0],\n",
    "    'cWza-Y373C':ax[1,1]\n",
    "}\n",
    "\n",
    "CMAPS = {\n",
    "    'conformation0':'Blues',\n",
    "    'conformation1':'Greens'\n",
    "}\n",
    "\n",
    "for i in range(len(MUTANTS)):\n",
    "    mutant = MUTANTS[i]\n",
    "    for C in CONFORMATIONS[mutant]:\n",
    "        X = []\n",
    "        Z = []\n",
    "        mutant_dir = mutant+'/'+C \n",
    "        for model_dir in [mutant_dir+'/'+model for model in os.listdir(wd+mutant_dir)]:\n",
    "            model_name = model_dir.split('/')[-1]\n",
    "            model_pdb = wd+'/'+model_dir+'/'+model_name+'.pdb'\n",
    "            Rg_x, Rg_y, Rg_z = get_Rg_components(model_pdb)\n",
    "            X.append(Rg_x)\n",
    "            Z.append(Rg_z)\n",
    "        seaborn.kdeplot(X,Z,n_levels=20,cmap=CMAPS[C],ax=axes[mutant])\n",
    "\n",
    "plt.show()"
   ]
  },
  {
   "cell_type": "markdown",
   "metadata": {},
   "source": [
    "## Conformational Groups: Sample models"
   ]
  },
  {
   "cell_type": "code",
   "execution_count": null,
   "metadata": {
    "ExecuteTime": {
     "end_time": "2019-08-20T17:12:49.904396Z",
     "start_time": "2019-08-20T17:12:49.900119Z"
    },
    "collapsed": false
   },
   "outputs": [],
   "source": [
    "import json\n",
    "\n",
    "with open(wd+'EMMD_Sample.json','r') as fp:\n",
    "    Sample = json.load(fp)"
   ]
  },
  {
   "cell_type": "code",
   "execution_count": null,
   "metadata": {
    "ExecuteTime": {
     "end_time": "2019-08-20T17:26:18.027242Z",
     "start_time": "2019-08-20T17:26:01.821009Z"
    },
    "collapsed": false
   },
   "outputs": [],
   "source": [
    "MyTags  = [\n",
    "    ['cWza', 'conformation0'],\n",
    "    ['cWza', 'conformation1'],\n",
    "    ['cWza-K375C', 'conformation0'],\n",
    "    ['cWza-K375C', 'conformation1'],\n",
    "    ['cWza-S355C', 'conformation0'],\n",
    "    ['cWza-S355C', 'conformation1'],\n",
    "    ['cWza-Y373C', 'conformation1']\n",
    "]\n",
    "\n",
    "CONFORMATIONS = {\n",
    "    'cWza':['conformation0', 'conformation1'],\n",
    "    'cWza-K375C':['conformation0', 'conformation1'],\n",
    "    'cWza-S355C':['conformation0', 'conformation1'],\n",
    "    'cWza-Y373C':['conformation1'],\n",
    "}\n",
    "\n",
    "fig, ax = plt.subplots(2,2,figsize=(10,10))\n",
    "seaborn.set_style('darkgrid')\n",
    "\n",
    "axes = {\n",
    "    'cWza':ax[0,0],\n",
    "    'cWza-K375C':ax[0,1],\n",
    "    'cWza-S355C':ax[1,0],\n",
    "    'cWza-Y373C':ax[1,1]\n",
    "}\n",
    "\n",
    "CMAPS = {\n",
    "    'conformation0':'Blues',\n",
    "    'conformation1':'Greens'\n",
    "}\n",
    "\n",
    "for tag in MyTags:\n",
    "    mutant, C = tag\n",
    "    X = []; Z = []\n",
    "    for i in range(len(Sample)):\n",
    "        model_dir = Sample[i]\n",
    "        mutant_sample, C_sample, model_name = model_dir.split('/')\n",
    "        comparison = [mutant_sample, C_sample] == tag\n",
    "        if comparison:\n",
    "            model_pdb = wd+model_dir+'/'+model_name+'.pdb'\n",
    "            Rg_x, Rg_y, Rg_z = get_Rg_components(model_pdb)\n",
    "            X.append(Rg_x)\n",
    "            Z.append(Rg_z)\n",
    "    seaborn.kdeplot(X,Z,n_levels=20,cmap=CMAPS[C],ax=axes[mutant])\n",
    "\n",
    "plt.show()"
   ]
  },
  {
   "cell_type": "markdown",
   "metadata": {},
   "source": [
    "### Scatter dataplots"
   ]
  },
  {
   "cell_type": "markdown",
   "metadata": {},
   "source": [
    "### Density plots"
   ]
  },
  {
   "cell_type": "markdown",
   "metadata": {},
   "source": [
    "# MD trajectories for docked structures"
   ]
  },
  {
   "cell_type": "markdown",
   "metadata": {},
   "source": [
    "## Proof of concept"
   ]
  },
  {
   "cell_type": "code",
   "execution_count": null,
   "metadata": {
    "ExecuteTime": {
     "end_time": "2019-08-22T11:29:29.936852Z",
     "start_time": "2019-08-22T11:29:29.934401Z"
    },
    "collapsed": true
   },
   "outputs": [],
   "source": [
    "import os"
   ]
  },
  {
   "cell_type": "code",
   "execution_count": null,
   "metadata": {
    "ExecuteTime": {
     "end_time": "2019-08-22T11:29:30.453380Z",
     "start_time": "2019-08-22T11:29:30.448693Z"
    },
    "collapsed": true
   },
   "outputs": [],
   "source": [
    "mutant = 'cWza-K375C'\n",
    "C = 'conformation0'\n",
    "model_dir = mutant+'/'+C \n",
    "model_name = 'refined1_0001_INPUT_0900_ignorechain'\n",
    "\n",
    "name = \"md_100ns\"\n",
    "tpr_path = wd + model_dir+ '/' +model_name+'/complex/mdf/'+ name + \".tpr\"\n",
    "xtc_path = wd + model_dir+ '/' +model_name+'/complex/mdf/'+ name + \".xtc\""
   ]
  },
  {
   "cell_type": "code",
   "execution_count": null,
   "metadata": {
    "ExecuteTime": {
     "end_time": "2019-08-22T11:30:12.039753Z",
     "start_time": "2019-08-22T11:30:02.423183Z"
    },
    "collapsed": false
   },
   "outputs": [],
   "source": [
    "if all(map(os.path.isfile, [tpr_path,xtc_path])):\n",
    "    u = mda.Universe(tpr_path, xtc_path, in_memory=True)\n",
    "    print(\"Trajectory loaded and ready to analyse!\")\n",
    "else:\n",
    "    print(\"MD traj not available\")"
   ]
  },
  {
   "cell_type": "code",
   "execution_count": null,
   "metadata": {
    "ExecuteTime": {
     "end_time": "2019-08-22T11:29:45.500134Z",
     "start_time": "2019-08-22T11:29:45.496582Z"
    },
    "collapsed": false
   },
   "outputs": [],
   "source": [
    "u.trajectory.dt # Time-step (ps)"
   ]
  },
  {
   "cell_type": "code",
   "execution_count": null,
   "metadata": {
    "ExecuteTime": {
     "end_time": "2019-08-22T11:29:46.479413Z",
     "start_time": "2019-08-22T11:29:46.476426Z"
    },
    "collapsed": false
   },
   "outputs": [],
   "source": [
    "u.trajectory.n_frames"
   ]
  },
  {
   "cell_type": "code",
   "execution_count": null,
   "metadata": {
    "ExecuteTime": {
     "end_time": "2019-08-22T11:30:13.273149Z",
     "start_time": "2019-08-22T11:30:13.205324Z"
    },
    "collapsed": true
   },
   "outputs": [],
   "source": [
    "protein = u.select_atoms(\"protein\", updating=True)"
   ]
  },
  {
   "cell_type": "code",
   "execution_count": null,
   "metadata": {
    "ExecuteTime": {
     "end_time": "2019-08-22T11:30:20.422345Z",
     "start_time": "2019-08-22T11:30:14.284944Z"
    },
    "collapsed": false
   },
   "outputs": [],
   "source": [
    "data = []\n",
    "for ts in u.trajectory[:-1:10]:\n",
    "    protein_mass = numpy.sum(protein.masses)\n",
    "    protein_inertia = protein.moment_of_inertia() # tensor of inertia\n",
    "    protein_mass = numpy.sum(protein.masses)\n",
    "    protein_inertia = protein.moment_of_inertia() # tensor of inertia\n",
    "    f = lambda x : numpy.sqrt(x/float(protein_mass))\n",
    "    protein_Rg_n = [f(protein_inertia[i][i]) for i in range(3)]\n",
    "    Rg_x, Rg_y, Rg_z = protein_Rg_n\n",
    "    data.append([Rg_x, Rg_z])\n",
    "    print(Rg_x, Rg_y, Rg_z)"
   ]
  },
  {
   "cell_type": "code",
   "execution_count": null,
   "metadata": {
    "ExecuteTime": {
     "end_time": "2019-08-21T09:55:30.903805Z",
     "start_time": "2019-08-21T09:55:30.900868Z"
    },
    "collapsed": false
   },
   "outputs": [],
   "source": [
    "df = pandas.DataFrame(data)"
   ]
  },
  {
   "cell_type": "code",
   "execution_count": null,
   "metadata": {
    "ExecuteTime": {
     "end_time": "2019-08-21T09:55:31.637222Z",
     "start_time": "2019-08-21T09:55:31.570003Z"
    },
    "collapsed": false
   },
   "outputs": [],
   "source": [
    "seaborn.scatterplot(df[0],df[1])"
   ]
  },
  {
   "cell_type": "markdown",
   "metadata": {},
   "source": [
    "## Implementation"
   ]
  },
  {
   "cell_type": "code",
   "execution_count": null,
   "metadata": {
    "ExecuteTime": {
     "end_time": "2019-08-21T16:32:15.511087Z",
     "start_time": "2019-08-21T16:32:15.461029Z"
    },
    "collapsed": true
   },
   "outputs": [],
   "source": [
    "import os\n",
    "import MDAnalysis as mda\n",
    "\n",
    "def is_traj_available(dir_path, md_name):\n",
    "    \"\"\"Check whether all trajectory files are available\n",
    "    This indicates whether simulations has finished successfully too\"\"\"\n",
    "    gro_path = dir_path + name + \".gro\"\n",
    "    tpr_path = dir_path + name + \".tpr\"\n",
    "    xtc_path = dir_path + name + \".xtc\"\n",
    "    test_files = [gro_path, tpr_path, xtc_path]\n",
    "    if all(map(os.path.isfile, test_files)):\n",
    "        return True\n",
    "\n",
    "def get_Rg_components_traj(dir_path, md_name):\n",
    "    if is_traj_available(dir_path, md_name):\n",
    "        tpr_path = dir_path + name + \".tpr\"\n",
    "        xtc_path = dir_path + name + \".xtc\"\n",
    "        u = mda.Universe(tpr_path, xtc_path, in_memory=True)\n",
    "        n_frames = u.trajectory.n_frames\n",
    "        dt = u.trajectory.dt\n",
    "        mssg = \"Loaded \"+str(n_frames)+\" frames with timestep \"+str(dt)\n",
    "#         print(mssg)\n",
    "    else:\n",
    "        print(\"MD traj files (.tpr/.xtc) not available\")\n",
    "    try:\n",
    "        protein = u.select_atoms(\"protein\", updating=True)\n",
    "        data = []\n",
    "        for ts in u.trajectory:\n",
    "            protein_mass = numpy.sum(protein.masses)\n",
    "            protein_inertia = protein.moment_of_inertia() # tensor of inertia\n",
    "            protein_mass = numpy.sum(protein.masses)\n",
    "            protein_inertia = protein.moment_of_inertia() # tensor of inertia\n",
    "            f = lambda x : numpy.sqrt(x/float(protein_mass))\n",
    "            protein_Rg_n = [f(protein_inertia[i][i]) for i in range(3)]\n",
    "            Rg_x, Rg_y, Rg_z = protein_Rg_n\n",
    "            data.append([Rg_x, Rg_y, Rg_z])\n",
    "        return data\n",
    "    except:\n",
    "        return []\n",
    "    try:\n",
    "        u.close()\n",
    "    except:\n",
    "        pass"
   ]
  },
  {
   "cell_type": "code",
   "execution_count": null,
   "metadata": {
    "ExecuteTime": {
     "end_time": "2019-08-21T12:47:00.489533Z",
     "start_time": "2019-08-21T12:47:00.485701Z"
    },
    "collapsed": true
   },
   "outputs": [],
   "source": [
    "mutant = 'cWza-K375C'\n",
    "C = 'conformation0'\n",
    "model_dir = mutant+'/'+C \n",
    "model_name = 'refined1_0001_INPUT_0900_ignorechain'\n",
    "\n",
    "name = \"md_100ns\"\n",
    "dir_path = wd + model_dir+ '/' +model_name+'/complex/mdf/'"
   ]
  },
  {
   "cell_type": "code",
   "execution_count": null,
   "metadata": {
    "ExecuteTime": {
     "end_time": "2019-08-21T12:47:02.912975Z",
     "start_time": "2019-08-21T12:47:02.907992Z"
    },
    "collapsed": false
   },
   "outputs": [],
   "source": [
    "is_traj_available(dir_path, name)"
   ]
  },
  {
   "cell_type": "code",
   "execution_count": null,
   "metadata": {
    "ExecuteTime": {
     "end_time": "2019-08-21T12:48:20.578734Z",
     "start_time": "2019-08-21T12:47:08.664627Z"
    },
    "collapsed": false
   },
   "outputs": [],
   "source": [
    "Rg_traj = get_Rg_components_traj(dir_path, name)"
   ]
  },
  {
   "cell_type": "code",
   "execution_count": null,
   "metadata": {
    "ExecuteTime": {
     "end_time": "2019-08-21T12:48:52.079523Z",
     "start_time": "2019-08-21T12:48:52.076284Z"
    },
    "collapsed": false
   },
   "outputs": [],
   "source": [
    "Rg_traj = numpy.array(Rg_traj)"
   ]
  },
  {
   "cell_type": "code",
   "execution_count": null,
   "metadata": {
    "ExecuteTime": {
     "end_time": "2019-08-21T12:48:53.018448Z",
     "start_time": "2019-08-21T12:48:52.957813Z"
    },
    "collapsed": false
   },
   "outputs": [],
   "source": [
    "fig,ax = plt.subplots(1,1)\n",
    "Rg_x, Rg_y, Rg_z = Rg_traj.T\n",
    "\n",
    "seaborn.scatterplot(Rg_x[:100], Rg_z[:100],color='black',ax=ax)\n",
    "seaborn.scatterplot(Rg_x[-100:], Rg_z[-100:],color='red',ax=ax)\n",
    "\n",
    "plt.show()"
   ]
  },
  {
   "cell_type": "markdown",
   "metadata": {},
   "source": [
    "## Alternative Implementation"
   ]
  },
  {
   "cell_type": "markdown",
   "metadata": {},
   "source": [
    "### Proof of concept"
   ]
  },
  {
   "cell_type": "code",
   "execution_count": 18,
   "metadata": {
    "ExecuteTime": {
     "end_time": "2019-08-22T14:45:21.705355Z",
     "start_time": "2019-08-22T14:45:21.703107Z"
    },
    "collapsed": true
   },
   "outputs": [],
   "source": [
    "path0 = wd+\"cWza/conformation0/refined1_0001_INPUT_0908_ignorechain/complex/mdf/md_100ns/\""
   ]
  },
  {
   "cell_type": "code",
   "execution_count": 19,
   "metadata": {
    "ExecuteTime": {
     "end_time": "2019-08-22T14:45:22.392545Z",
     "start_time": "2019-08-22T14:45:22.259489Z"
    },
    "collapsed": false
   },
   "outputs": [
    {
     "name": "stdout",
     "output_type": "stream",
     "text": [
      "Protein_0.pdb\t Protein_28.pdb  Protein_47.pdb  Protein_66.pdb  Protein_85.pdb\r\n",
      "Protein_100.pdb  Protein_29.pdb  Protein_48.pdb  Protein_67.pdb  Protein_86.pdb\r\n",
      "Protein_10.pdb\t Protein_2.pdb\t Protein_49.pdb  Protein_68.pdb  Protein_87.pdb\r\n",
      "Protein_11.pdb\t Protein_30.pdb  Protein_4.pdb\t Protein_69.pdb  Protein_88.pdb\r\n",
      "Protein_12.pdb\t Protein_31.pdb  Protein_50.pdb  Protein_6.pdb\t Protein_89.pdb\r\n",
      "Protein_13.pdb\t Protein_32.pdb  Protein_51.pdb  Protein_70.pdb  Protein_8.pdb\r\n",
      "Protein_14.pdb\t Protein_33.pdb  Protein_52.pdb  Protein_71.pdb  Protein_90.pdb\r\n",
      "Protein_15.pdb\t Protein_34.pdb  Protein_53.pdb  Protein_72.pdb  Protein_91.pdb\r\n",
      "Protein_16.pdb\t Protein_35.pdb  Protein_54.pdb  Protein_73.pdb  Protein_92.pdb\r\n",
      "Protein_17.pdb\t Protein_36.pdb  Protein_55.pdb  Protein_74.pdb  Protein_93.pdb\r\n",
      "Protein_18.pdb\t Protein_37.pdb  Protein_56.pdb  Protein_75.pdb  Protein_94.pdb\r\n",
      "Protein_19.pdb\t Protein_38.pdb  Protein_57.pdb  Protein_76.pdb  Protein_95.pdb\r\n",
      "Protein_1.pdb\t Protein_39.pdb  Protein_58.pdb  Protein_77.pdb  Protein_96.pdb\r\n",
      "Protein_20.pdb\t Protein_3.pdb\t Protein_59.pdb  Protein_78.pdb  Protein_97.pdb\r\n",
      "Protein_21.pdb\t Protein_40.pdb  Protein_5.pdb\t Protein_79.pdb  Protein_98.pdb\r\n",
      "Protein_22.pdb\t Protein_41.pdb  Protein_60.pdb  Protein_7.pdb\t Protein_99.pdb\r\n",
      "Protein_23.pdb\t Protein_42.pdb  Protein_61.pdb  Protein_80.pdb  Protein_9.pdb\r\n",
      "Protein_24.pdb\t Protein_43.pdb  Protein_62.pdb  Protein_81.pdb\r\n",
      "Protein_25.pdb\t Protein_44.pdb  Protein_63.pdb  Protein_82.pdb\r\n",
      "Protein_26.pdb\t Protein_45.pdb  Protein_64.pdb  Protein_83.pdb\r\n",
      "Protein_27.pdb\t Protein_46.pdb  Protein_65.pdb  Protein_84.pdb\r\n"
     ]
    }
   ],
   "source": [
    "!ls $path0"
   ]
  },
  {
   "cell_type": "code",
   "execution_count": null,
   "metadata": {
    "ExecuteTime": {
     "end_time": "2019-08-22T11:54:31.183486Z",
     "start_time": "2019-08-22T11:54:31.175636Z"
    },
    "collapsed": false
   },
   "outputs": [],
   "source": [
    "# Compute directory size\n",
    "import os\n",
    "size_frames = sum(os.path.getsize(path0+f) for f in os.listdir(path0) if os.path.isfile(path0+f))"
   ]
  },
  {
   "cell_type": "code",
   "execution_count": null,
   "metadata": {
    "ExecuteTime": {
     "end_time": "2019-08-22T11:55:16.742333Z",
     "start_time": "2019-08-22T11:55:16.726219Z"
    },
    "collapsed": true
   },
   "outputs": [],
   "source": [
    "import json\n",
    "with open(wd+'EMMD_Sample.json','r') as fp:\n",
    "    Sample = json.load(fp)"
   ]
  },
  {
   "cell_type": "code",
   "execution_count": null,
   "metadata": {
    "ExecuteTime": {
     "end_time": "2019-08-22T11:56:38.929286Z",
     "start_time": "2019-08-22T11:56:38.925999Z"
    },
    "collapsed": false
   },
   "outputs": [],
   "source": [
    "# Size of all 100 frames in GBs\n",
    "len(Sample)*size_frames/1e9"
   ]
  },
  {
   "cell_type": "markdown",
   "metadata": {},
   "source": [
    "**Advantages**:\n",
    "\n",
    "* Can be parallelised _unlinke_ MD trajectory analysis (u.trajectory)\n",
    "* Overall time per trajectory 15 secs (9 secs traj loading + 6 secs data analysis)\n",
    "\n",
    "**Caveats**:\n",
    "\n",
    "* Requires frame extraction, which requires time. However, already paralelised (Use  `~/mpmodeling/tools/protein_frame_extractor.py`)\n",
    "* Increased storage "
   ]
  },
  {
   "cell_type": "markdown",
   "metadata": {},
   "source": [
    "Serial implementation"
   ]
  },
  {
   "cell_type": "code",
   "execution_count": 20,
   "metadata": {
    "ExecuteTime": {
     "end_time": "2019-08-22T14:45:30.807294Z",
     "start_time": "2019-08-22T14:45:27.239553Z"
    },
    "collapsed": false,
    "scrolled": true
   },
   "outputs": [
    {
     "name": "stdout",
     "output_type": "stream",
     "text": [
      "(15.654014093578285, 15.63670754993408, 17.317092274771753)\n",
      "(16.78815928763035, 16.458984032420059, 18.012590864633488)\n",
      "(16.915484527086861, 16.308022870321775, 18.042912640501257)\n",
      "(16.765047530072223, 16.515053913590044, 18.25294237516465)\n",
      "(16.77188965636698, 16.571444950875101, 18.303918606592742)\n",
      "(17.055948492306296, 16.474080798279051, 18.300756010784621)\n",
      "(17.026648507545683, 16.512725397179075, 18.149351578495807)\n",
      "(17.412472819314338, 16.366423736843377, 18.427779486269309)\n",
      "(17.22319245813134, 16.450840068406901, 18.367149654277377)\n",
      "(17.150198838821876, 16.347288775788229, 18.217035823047961)\n",
      "(17.130220753673324, 16.691546506643157, 18.342147667306449)\n",
      "(17.253998208578185, 16.589127041224643, 18.491464308661435)\n",
      "(17.278207125307851, 16.444529529459093, 18.460595221300061)\n",
      "(17.436894413301232, 16.421302337765468, 18.601491211951632)\n",
      "(17.413132441610312, 16.370804152656198, 18.447971623348288)\n",
      "(17.423280628618119, 16.410759307444245, 18.562735163436134)\n",
      "(17.373304090366009, 16.581130053881346, 18.555488426966718)\n",
      "(17.411102734121055, 16.823779856215911, 18.63705232862273)\n",
      "(17.413176105057421, 16.920669919320314, 18.929025624395926)\n",
      "(17.299275706886331, 16.881015622086757, 18.642332709200129)\n",
      "(17.287748300720086, 16.929097246032594, 18.660456003908966)\n",
      "(17.441169154500574, 16.908909491487339, 18.696598382852834)\n",
      "(17.381121551230841, 16.8808941628625, 18.819820685409258)\n",
      "(17.126274973851459, 17.108004164954604, 18.818086005298422)\n",
      "(17.342253211785909, 17.083553073571604, 18.853752385628894)\n",
      "(17.124707905456642, 17.068794959772632, 18.726383708542635)\n",
      "(17.306721140060819, 16.918491434443855, 18.739557331809372)\n",
      "(17.19246183854893, 17.144216328282486, 18.955767738201207)\n",
      "(17.167754259989476, 17.129974917747745, 18.918444453567695)\n",
      "(16.81084152306881, 17.530162346312011, 19.075673980143257)\n",
      "(17.030462546800752, 17.22154504875693, 18.974236335077617)\n",
      "(16.953275274036372, 17.397630470573631, 18.954989213738916)\n",
      "(17.13374486801872, 17.143190671057859, 19.032642368752782)\n",
      "(16.904592888273591, 17.505372162989275, 19.008971361815487)\n",
      "(17.25348615773559, 17.265703632501392, 19.15228091273228)\n",
      "(16.838973197191017, 17.306803971432945, 18.780248534241011)\n",
      "(17.085953945635062, 17.305458918841129, 18.927074708439307)\n",
      "(17.001713594940373, 17.347724395361503, 18.856890391742287)\n",
      "(17.042592879392551, 17.368151013714726, 18.952280017319307)\n",
      "(16.944981064068216, 17.562757265061457, 18.941530555281737)\n",
      "(17.066355877113796, 17.547123283326684, 19.098552085395625)\n",
      "(16.865430044062354, 17.515771903274238, 18.873685365937352)\n",
      "(17.142920545440504, 17.580186819144039, 19.105462440764995)\n",
      "(16.992306039620431, 17.553375962099047, 18.843556310905669)\n",
      "(17.065068615442183, 17.598055674203451, 19.073215373684306)\n",
      "(16.865620692985665, 17.659393407866013, 19.063264850912361)\n",
      "(17.090386196491227, 17.530738331585791, 19.10576961938246)\n",
      "(16.706605464516844, 17.657988324379932, 18.790044516672733)\n",
      "(17.118940187636834, 17.489641269666581, 18.956328450633226)\n",
      "(17.157767542397693, 17.522008526849422, 18.832175940967446)\n",
      "(16.948202117732681, 17.555846161299858, 18.739946833244872)\n",
      "(16.803268159283668, 17.565211050776803, 18.778708068457917)\n",
      "(16.652857038667779, 18.113777554983461, 19.045919262044528)\n",
      "(16.587977614273676, 18.017240302910622, 19.030689490610641)\n",
      "(16.752308490021914, 17.993572501472144, 18.954240041712502)\n",
      "(16.569849057285747, 18.04050625252308, 18.805860374218792)\n",
      "(16.431070834766775, 18.078959558707638, 18.907765341883049)\n",
      "(16.467283295939954, 17.918848626555555, 18.90118346301108)\n",
      "(16.650247383889628, 17.88901769297766, 18.844289411270811)\n",
      "(16.405143762667478, 18.088613660774143, 19.000596151125755)\n",
      "(16.600644122795398, 18.053707281705517, 18.978441230749166)\n",
      "(16.535170006024774, 18.158331545516564, 19.022199496687271)\n",
      "(16.485591424590353, 18.147130900073243, 18.881776278459284)\n",
      "(16.665324243441781, 18.022701566132273, 19.004462177195037)\n",
      "(16.565984394162566, 18.059877124408327, 19.13666855870348)\n",
      "(16.599166521320054, 17.934497357760367, 19.17182871375292)\n",
      "(16.635331625336043, 18.080736421005078, 19.489009682951373)\n",
      "(16.455442186860967, 18.409795377247249, 19.479835476023027)\n",
      "(16.344659068014536, 18.180421836981964, 19.046887608144988)\n",
      "(16.525388798486645, 18.134436502974086, 19.146418360792968)\n",
      "(16.662191769143483, 18.193055230647424, 19.298689648308375)\n",
      "(16.239743555259736, 18.472481720510736, 19.427476816677665)\n",
      "(16.505337276917857, 18.293209421498762, 19.457296367496383)\n",
      "(16.764505524217476, 18.148943409388117, 19.493554620346533)\n",
      "(16.566917281849687, 18.274472637830794, 19.500774983438699)\n",
      "(16.692499955717011, 18.293516158262168, 19.40898968117007)\n",
      "(16.502432754246378, 18.510605116641791, 19.511165335599983)\n",
      "(16.537808057613834, 18.20863344514223, 19.407751092750022)\n",
      "(16.496026228975058, 18.308817971179202, 19.495877069970337)\n",
      "(16.490098409698543, 18.245978711920184, 19.357909024352843)\n",
      "(16.777538789597081, 18.246229827460017, 19.467451323989483)\n",
      "(16.572270283819748, 18.354749588914771, 19.405869374376948)\n",
      "(16.459243001453824, 18.584171409968977, 19.58093918521713)\n",
      "(16.533983252478485, 18.391901493002148, 19.372643486180198)\n",
      "(16.611288539308614, 18.149031323360123, 19.197428873891631)\n",
      "(16.670116470829687, 17.980838183993281, 19.404894495953062)\n",
      "(16.809008725791696, 18.124379065735489, 19.552557453304221)\n",
      "(16.597121244954945, 18.095608056282682, 19.543597982303567)\n",
      "(16.408698762336481, 18.112612727797817, 19.191857121802094)\n",
      "(16.658501848277492, 18.050524326968528, 19.276725726563818)\n",
      "(16.686608541575076, 18.069203869408035, 19.273111299062961)\n",
      "(16.585144756241874, 17.970124772573595, 19.14596515275543)\n",
      "(16.554709375567121, 18.265011365774146, 19.572375587898016)\n",
      "(16.714098916210155, 18.096037009948233, 19.488694534202281)\n",
      "(16.499058366453482, 18.162502339631761, 19.562853853408157)\n",
      "(16.677674498509308, 18.224054345116251, 19.457124709378405)\n",
      "(16.713816355737343, 17.946657785062953, 19.190414811832341)\n",
      "(16.499108070147091, 18.094231884313125, 19.220396507966399)\n",
      "(16.522911132327529, 18.089400051192865, 19.325636773775585)\n",
      "(16.559150417613797, 18.070108916476485, 19.262450216297033)\n"
     ]
    }
   ],
   "source": [
    "for i in range(100):\n",
    "    model_pdb = path0+'Protein_'+str(i)+'.pdb'\n",
    "    Rg_components = get_Rg_components(model_pdb)\n",
    "    print(Rg_components)"
   ]
  },
  {
   "cell_type": "markdown",
   "metadata": {},
   "source": [
    "Parallel implementation"
   ]
  },
  {
   "cell_type": "code",
   "execution_count": 21,
   "metadata": {
    "ExecuteTime": {
     "end_time": "2019-08-22T14:45:36.073517Z",
     "start_time": "2019-08-22T14:45:35.264647Z"
    },
    "collapsed": false
   },
   "outputs": [
    {
     "data": {
      "text/plain": [
       "[(15.654014093578285, 15.63670754993408, 17.317092274771753),\n",
       " (16.78815928763035, 16.458984032420059, 18.012590864633488),\n",
       " (16.915484527086861, 16.308022870321775, 18.042912640501257),\n",
       " (16.765047530072223, 16.515053913590044, 18.25294237516465),\n",
       " (16.77188965636698, 16.571444950875101, 18.303918606592742),\n",
       " (17.055948492306296, 16.474080798279051, 18.300756010784621),\n",
       " (17.026648507545683, 16.512725397179075, 18.149351578495807),\n",
       " (17.412472819314338, 16.366423736843377, 18.427779486269309),\n",
       " (17.22319245813134, 16.450840068406901, 18.367149654277377),\n",
       " (17.150198838821876, 16.347288775788229, 18.217035823047961),\n",
       " (17.130220753673324, 16.691546506643157, 18.342147667306449),\n",
       " (17.253998208578185, 16.589127041224643, 18.491464308661435),\n",
       " (17.278207125307851, 16.444529529459093, 18.460595221300061),\n",
       " (17.436894413301232, 16.421302337765468, 18.601491211951632),\n",
       " (17.413132441610312, 16.370804152656198, 18.447971623348288),\n",
       " (17.423280628618119, 16.410759307444245, 18.562735163436134),\n",
       " (17.373304090366009, 16.581130053881346, 18.555488426966718),\n",
       " (17.411102734121055, 16.823779856215911, 18.63705232862273),\n",
       " (17.413176105057421, 16.920669919320314, 18.929025624395926),\n",
       " (17.299275706886331, 16.881015622086757, 18.642332709200129),\n",
       " (17.287748300720086, 16.929097246032594, 18.660456003908966),\n",
       " (17.441169154500574, 16.908909491487339, 18.696598382852834),\n",
       " (17.381121551230841, 16.8808941628625, 18.819820685409258),\n",
       " (17.126274973851459, 17.108004164954604, 18.818086005298422),\n",
       " (17.342253211785909, 17.083553073571604, 18.853752385628894),\n",
       " (17.124707905456642, 17.068794959772632, 18.726383708542635),\n",
       " (17.306721140060819, 16.918491434443855, 18.739557331809372),\n",
       " (17.19246183854893, 17.144216328282486, 18.955767738201207),\n",
       " (17.167754259989476, 17.129974917747745, 18.918444453567695),\n",
       " (16.81084152306881, 17.530162346312011, 19.075673980143257),\n",
       " (17.030462546800752, 17.22154504875693, 18.974236335077617),\n",
       " (16.953275274036372, 17.397630470573631, 18.954989213738916),\n",
       " (17.13374486801872, 17.143190671057859, 19.032642368752782),\n",
       " (16.904592888273591, 17.505372162989275, 19.008971361815487),\n",
       " (17.25348615773559, 17.265703632501392, 19.15228091273228),\n",
       " (16.838973197191017, 17.306803971432945, 18.780248534241011),\n",
       " (17.085953945635062, 17.305458918841129, 18.927074708439307),\n",
       " (17.001713594940373, 17.347724395361503, 18.856890391742287),\n",
       " (17.042592879392551, 17.368151013714726, 18.952280017319307),\n",
       " (16.944981064068216, 17.562757265061457, 18.941530555281737),\n",
       " (17.066355877113796, 17.547123283326684, 19.098552085395625),\n",
       " (16.865430044062354, 17.515771903274238, 18.873685365937352),\n",
       " (17.142920545440504, 17.580186819144039, 19.105462440764995),\n",
       " (16.992306039620431, 17.553375962099047, 18.843556310905669),\n",
       " (17.065068615442183, 17.598055674203451, 19.073215373684306),\n",
       " (16.865620692985665, 17.659393407866013, 19.063264850912361),\n",
       " (17.090386196491227, 17.530738331585791, 19.10576961938246),\n",
       " (16.706605464516844, 17.657988324379932, 18.790044516672733),\n",
       " (17.118940187636834, 17.489641269666581, 18.956328450633226),\n",
       " (17.157767542397693, 17.522008526849422, 18.832175940967446),\n",
       " (16.948202117732681, 17.555846161299858, 18.739946833244872),\n",
       " (16.803268159283668, 17.565211050776803, 18.778708068457917),\n",
       " (16.652857038667779, 18.113777554983461, 19.045919262044528),\n",
       " (16.587977614273676, 18.017240302910622, 19.030689490610641),\n",
       " (16.752308490021914, 17.993572501472144, 18.954240041712502),\n",
       " (16.569849057285747, 18.04050625252308, 18.805860374218792),\n",
       " (16.431070834766775, 18.078959558707638, 18.907765341883049),\n",
       " (16.467283295939954, 17.918848626555555, 18.90118346301108),\n",
       " (16.650247383889628, 17.88901769297766, 18.844289411270811),\n",
       " (16.405143762667478, 18.088613660774143, 19.000596151125755),\n",
       " (16.600644122795398, 18.053707281705517, 18.978441230749166),\n",
       " (16.535170006024774, 18.158331545516564, 19.022199496687271),\n",
       " (16.485591424590353, 18.147130900073243, 18.881776278459284),\n",
       " (16.665324243441781, 18.022701566132273, 19.004462177195037),\n",
       " (16.565984394162566, 18.059877124408327, 19.13666855870348),\n",
       " (16.599166521320054, 17.934497357760367, 19.17182871375292),\n",
       " (16.635331625336043, 18.080736421005078, 19.489009682951373),\n",
       " (16.455442186860967, 18.409795377247249, 19.479835476023027),\n",
       " (16.344659068014536, 18.180421836981964, 19.046887608144988),\n",
       " (16.525388798486645, 18.134436502974086, 19.146418360792968),\n",
       " (16.662191769143483, 18.193055230647424, 19.298689648308375),\n",
       " (16.239743555259736, 18.472481720510736, 19.427476816677665),\n",
       " (16.505337276917857, 18.293209421498762, 19.457296367496383),\n",
       " (16.764505524217476, 18.148943409388117, 19.493554620346533),\n",
       " (16.566917281849687, 18.274472637830794, 19.500774983438699),\n",
       " (16.692499955717011, 18.293516158262168, 19.40898968117007),\n",
       " (16.502432754246378, 18.510605116641791, 19.511165335599983),\n",
       " (16.537808057613834, 18.20863344514223, 19.407751092750022),\n",
       " (16.496026228975058, 18.308817971179202, 19.495877069970337),\n",
       " (16.490098409698543, 18.245978711920184, 19.357909024352843),\n",
       " (16.777538789597081, 18.246229827460017, 19.467451323989483),\n",
       " (16.572270283819748, 18.354749588914771, 19.405869374376948),\n",
       " (16.459243001453824, 18.584171409968977, 19.58093918521713),\n",
       " (16.533983252478485, 18.391901493002148, 19.372643486180198),\n",
       " (16.611288539308614, 18.149031323360123, 19.197428873891631),\n",
       " (16.670116470829687, 17.980838183993281, 19.404894495953062),\n",
       " (16.809008725791696, 18.124379065735489, 19.552557453304221),\n",
       " (16.597121244954945, 18.095608056282682, 19.543597982303567),\n",
       " (16.408698762336481, 18.112612727797817, 19.191857121802094),\n",
       " (16.658501848277492, 18.050524326968528, 19.276725726563818),\n",
       " (16.686608541575076, 18.069203869408035, 19.273111299062961),\n",
       " (16.585144756241874, 17.970124772573595, 19.14596515275543),\n",
       " (16.554709375567121, 18.265011365774146, 19.572375587898016),\n",
       " (16.714098916210155, 18.096037009948233, 19.488694534202281),\n",
       " (16.499058366453482, 18.162502339631761, 19.562853853408157),\n",
       " (16.677674498509308, 18.224054345116251, 19.457124709378405),\n",
       " (16.713816355737343, 17.946657785062953, 19.190414811832341),\n",
       " (16.499108070147091, 18.094231884313125, 19.220396507966399),\n",
       " (16.522911132327529, 18.089400051192865, 19.325636773775585),\n",
       " (16.559150417613797, 18.070108916476485, 19.262450216297033)]"
      ]
     },
     "execution_count": 21,
     "metadata": {},
     "output_type": "execute_result"
    }
   ],
   "source": [
    "func = get_Rg_components\n",
    "\n",
    "param_list = []\n",
    "for i in range(100):\n",
    "    model_pdb = path0+'Protein_'+str(i)+'.pdb'\n",
    "    param_list.append(model_pdb)\n",
    "\n",
    "import concurrent.futures     \n",
    "n_threads = 10\n",
    "\n",
    "data = []\n",
    "\n",
    "with concurrent.futures.ProcessPoolExecutor(max_workers = n_threads) as executor:\n",
    "    out = executor.map(func, param_list)\n",
    "    data.append(out)\n",
    "\n",
    "output = list(data[0])\n",
    "\n",
    "output"
   ]
  },
  {
   "cell_type": "markdown",
   "metadata": {},
   "source": [
    "## Sample completeness"
   ]
  },
  {
   "cell_type": "code",
   "execution_count": null,
   "metadata": {
    "ExecuteTime": {
     "end_time": "2019-08-21T11:07:51.462292Z",
     "start_time": "2019-08-21T11:07:50.701831Z"
    },
    "collapsed": false
   },
   "outputs": [],
   "source": [
    "import json\n",
    "\n",
    "with open(wd+'EMMD_Sample.json','r') as fp:\n",
    "    Sample = json.load(fp)"
   ]
  },
  {
   "cell_type": "code",
   "execution_count": null,
   "metadata": {
    "ExecuteTime": {
     "end_time": "2019-08-21T11:16:07.315686Z",
     "start_time": "2019-08-21T11:16:06.993711Z"
    },
    "collapsed": false,
    "scrolled": false
   },
   "outputs": [],
   "source": [
    "md_name = 'md_100ns'\n",
    "for i in range(len(Sample)):\n",
    "    model_dir = Sample[i]\n",
    "    dir_path = wd+model_dir+'/complex/mdf/'\n",
    "    print(model_dir, is_traj_available(dir_path, md_name))"
   ]
  },
  {
   "cell_type": "markdown",
   "metadata": {},
   "source": [
    "## First 10 ns"
   ]
  },
  {
   "cell_type": "markdown",
   "metadata": {},
   "source": [
    "Serial implementation"
   ]
  },
  {
   "cell_type": "code",
   "execution_count": null,
   "metadata": {
    "ExecuteTime": {
     "end_time": "2019-08-21T15:04:58.378540Z",
     "start_time": "2019-08-21T15:02:34.507885Z"
    },
    "collapsed": false
   },
   "outputs": [],
   "source": [
    "MyTags  = [\n",
    "    ['cWza', 'conformation0'],\n",
    "    ['cWza', 'conformation1'],\n",
    "    ['cWza-K375C', 'conformation0'],\n",
    "    ['cWza-K375C', 'conformation1'],\n",
    "    ['cWza-S355C', 'conformation0'],\n",
    "    ['cWza-S355C', 'conformation1'],\n",
    "    ['cWza-Y373C', 'conformation1']\n",
    "]\n",
    "\n",
    "CONFORMATIONS = {\n",
    "    'cWza':['conformation0', 'conformation1'],\n",
    "    'cWza-K375C':['conformation0', 'conformation1'],\n",
    "    'cWza-S355C':['conformation0', 'conformation1'],\n",
    "    'cWza-Y373C':['conformation1'],\n",
    "}\n",
    "\n",
    "fig, ax = plt.subplots(2,2,figsize=(10,10))\n",
    "seaborn.set_style('darkgrid')\n",
    "\n",
    "axes = {\n",
    "    'cWza':ax[0,0],\n",
    "    'cWza-K375C':ax[0,1],\n",
    "    'cWza-S355C':ax[1,0],\n",
    "    'cWza-Y373C':ax[1,1]\n",
    "}\n",
    "\n",
    "CMAPS = {\n",
    "    'conformation0':'Blues',\n",
    "    'conformation1':'Greens'\n",
    "}\n",
    "\n",
    "name = 'md_100ns'\n",
    "for tag in MyTags:\n",
    "    data = []\n",
    "    mutant, C = tag\n",
    "    for i in range(2):\n",
    "        model_dir = Sample[i]\n",
    "        mutant_sample, C_sample, model_name = model_dir.split('/')\n",
    "        comparison = [mutant_sample, C_sample] == tag\n",
    "        if comparison:\n",
    "            dir_path = wd+model_dir+'/complex/mdf/'\n",
    "            Rg_traj = get_Rg_components_traj(dir_path, name)\n",
    "            data = data + Rg_traj[:100]\n",
    "    data = numpy.array(data)\n",
    "    try:\n",
    "        Rg_x, Rg_y, Rg_z = data.T\n",
    "        seaborn.scatterplot(Rg_x, Rg_z,color='black',ax=axes[mutant])\n",
    "    except:\n",
    "        pass\n",
    "    \n",
    "#     seaborn.kdeplot(X,Z,n_levels=20,cmap=CMAPS[C],ax=axes[mutant])\n",
    "\n",
    "plt.show()"
   ]
  },
  {
   "cell_type": "markdown",
   "metadata": {},
   "source": [
    "Parallel implementation"
   ]
  },
  {
   "cell_type": "code",
   "execution_count": null,
   "metadata": {
    "collapsed": true
   },
   "outputs": [],
   "source": [
    "import concurrent.futures     \n",
    "n_threads = 4\n",
    "\n",
    "data = []\n",
    "\n",
    "with concurrent.futures.ThreadPoolExecutor(max_workers = n_threads) as executor:\n",
    "    out = executor.map(func, param_list)\n",
    "    data.append(out)"
   ]
  },
  {
   "cell_type": "code",
   "execution_count": null,
   "metadata": {
    "ExecuteTime": {
     "end_time": "2019-08-21T16:35:30.142868Z",
     "start_time": "2019-08-21T16:35:30.139427Z"
    },
    "collapsed": true
   },
   "outputs": [],
   "source": [
    "def func(dir_path):\n",
    "    name = 'md_100ns'\n",
    "    data = get_Rg_components_traj(dir_path, name)\n",
    "    return data"
   ]
  },
  {
   "cell_type": "code",
   "execution_count": null,
   "metadata": {
    "ExecuteTime": {
     "start_time": "2019-08-21T17:19:36.855Z"
    },
    "collapsed": false
   },
   "outputs": [],
   "source": [
    "n_cores = 20\n",
    "DATA = {}\n",
    "\n",
    "for tag in MyTags:\n",
    "    data = []\n",
    "    param_list = []\n",
    "    mutant, C = tag\n",
    "    for i in range(100):\n",
    "        model_dir = Sample[i]\n",
    "        mutant_sample, C_sample, model_name = model_dir.split('/')\n",
    "        comparison = [mutant_sample, C_sample] == tag\n",
    "        if comparison:\n",
    "            dir_path = wd+model_dir+'/complex/mdf/'\n",
    "            param_list.append( dir_path )\n",
    "    print(len(param_list))\n",
    "    with concurrent.futures.ProcessPoolExecutor(max_workers = n_cores) as executor:\n",
    "        out = executor.map(func, param_list)\n",
    "        data.append(out)\n",
    "    \n",
    "    DATA[json.dumps(tag)] = list(data)"
   ]
  },
  {
   "cell_type": "code",
   "execution_count": null,
   "metadata": {
    "ExecuteTime": {
     "end_time": "2019-08-21T17:17:18.497562Z",
     "start_time": "2019-08-21T17:17:18.493444Z"
    },
    "collapsed": false
   },
   "outputs": [],
   "source": [
    "DATA"
   ]
  },
  {
   "cell_type": "code",
   "execution_count": null,
   "metadata": {
    "ExecuteTime": {
     "end_time": "2019-08-21T17:17:31.434584Z",
     "start_time": "2019-08-21T17:17:31.430358Z"
    },
    "collapsed": false
   },
   "outputs": [],
   "source": [
    "[list(DATA[k][0]) for k in DATA.keys()]"
   ]
  },
  {
   "cell_type": "code",
   "execution_count": null,
   "metadata": {
    "collapsed": true
   },
   "outputs": [],
   "source": []
  },
  {
   "cell_type": "code",
   "execution_count": null,
   "metadata": {
    "ExecuteTime": {
     "end_time": "2019-08-21T15:01:53.769185Z",
     "start_time": "2019-08-21T13:30:46.408497Z"
    },
    "collapsed": false
   },
   "outputs": [],
   "source": [
    "MyTags  = [\n",
    "    ['cWza', 'conformation0'],\n",
    "    ['cWza', 'conformation1'],\n",
    "    ['cWza-K375C', 'conformation0'],\n",
    "    ['cWza-K375C', 'conformation1'],\n",
    "    ['cWza-S355C', 'conformation0'],\n",
    "    ['cWza-S355C', 'conformation1'],\n",
    "    ['cWza-Y373C', 'conformation1']\n",
    "]\n",
    "\n",
    "DATA = {}\n",
    "name = 'md_100ns'\n",
    "\n",
    "for tag in MyTags:\n",
    "    data = []\n",
    "    mutant, C = tag\n",
    "    for i in range(len(Sample)):\n",
    "        model_dir = Sample[i]\n",
    "        mutant_sample, C_sample, model_name = model_dir.split('/')\n",
    "        comparison = [mutant_sample, C_sample] == tag\n",
    "        if comparison:\n",
    "            dir_path = wd+model_dir+'/complex/mdf/'\n",
    "            Rg_traj = get_Rg_components_traj(dir_path, name)\n",
    "            data = data + Rg_traj[:100]\n",
    "    DATA[json.dumps(tag)] = data"
   ]
  },
  {
   "cell_type": "code",
   "execution_count": null,
   "metadata": {
    "ExecuteTime": {
     "end_time": "2019-08-21T15:02:15.492096Z",
     "start_time": "2019-08-21T15:02:15.489618Z"
    },
    "collapsed": true
   },
   "outputs": [],
   "source": [
    "import concurrent.futures     "
   ]
  },
  {
   "cell_type": "code",
   "execution_count": null,
   "metadata": {
    "collapsed": true
   },
   "outputs": [],
   "source": [
    "import concurrent.futures     \n",
    "n_threads = 4\n",
    "\n",
    "data = []\n",
    "\n",
    "with concurrent.futures.ThreadPoolExecutor(max_workers = n_threads) as executor:\n",
    "    out = executor.map(func, param_list)\n",
    "    data.append(out)"
   ]
  },
  {
   "cell_type": "code",
   "execution_count": null,
   "metadata": {
    "collapsed": true
   },
   "outputs": [],
   "source": [
    "import numpy as np\n",
    "import matplotlib.pyplot as plt\n",
    "import matplotlib.animation as animation\n",
    "\n",
    "fig, ax = plt.subplots()\n",
    "\n",
    "x = np.arange(0, 2*np.pi, 0.01)\n",
    "line, = ax.plot(x, np.sin(x))\n",
    "\n",
    "\n",
    "def init():  # only required for blitting to give a clean slate.\n",
    "    line.set_ydata([np.nan] * len(x))\n",
    "    return line,\n",
    "\n",
    "\n",
    "def animate(i):\n",
    "    line.set_ydata(np.sin(x + i / 100))  # update the data.\n",
    "    return line,\n",
    "\n",
    "\n",
    "ani = animation.FuncAnimation(\n",
    "    fig, animate, init_func=init, interval=2, blit=True, save_count=50)\n",
    "\n",
    "# To save the animation, use e.g.\n",
    "#\n",
    "# ani.save(\"movie.mp4\")\n",
    "#\n",
    "# or\n",
    "#\n",
    "# from matplotlib.animation import FFMpegWriter\n",
    "# writer = FFMpegWriter(fps=15, metadata=dict(artist='Me'), bitrate=1800)\n",
    "# ani.save(\"movie.mp4\", writer=writer)\n",
    "\n",
    "plt.show()"
   ]
  },
  {
   "cell_type": "markdown",
   "metadata": {},
   "source": [
    "## Last 10 ns"
   ]
  },
  {
   "cell_type": "code",
   "execution_count": null,
   "metadata": {
    "collapsed": true
   },
   "outputs": [],
   "source": []
  },
  {
   "cell_type": "markdown",
   "metadata": {},
   "source": [
    "# HOLE metrics"
   ]
  },
  {
   "cell_type": "markdown",
   "metadata": {},
   "source": [
    "* HOLE wrapper implemented with `MDAnalysis`\n",
    "* Needs HOLE to be compiled and located in `~/hole2/exe/hole`, although can be modified.\n",
    "\n",
    "https://www.mdanalysis.org/docs/documentation_pages/analysis/hole.html"
   ]
  },
  {
   "cell_type": "markdown",
   "metadata": {},
   "source": [
    "## Single PDB"
   ]
  },
  {
   "cell_type": "code",
   "execution_count": null,
   "metadata": {
    "ExecuteTime": {
     "end_time": "2019-08-21T17:46:52.732675Z",
     "start_time": "2019-08-21T17:46:52.714663Z"
    },
    "collapsed": true
   },
   "outputs": [],
   "source": [
    "%matplotlib notebook"
   ]
  },
  {
   "cell_type": "code",
   "execution_count": null,
   "metadata": {
    "ExecuteTime": {
     "end_time": "2019-08-21T17:46:53.513388Z",
     "start_time": "2019-08-21T17:46:53.511060Z"
    },
    "collapsed": false
   },
   "outputs": [],
   "source": [
    "from MDAnalysis.analysis.hole import HOLE\n",
    "from MDAnalysis.tests.datafiles import PDB_HOLE"
   ]
  },
  {
   "cell_type": "markdown",
   "metadata": {},
   "source": [
    "Test model"
   ]
  },
  {
   "cell_type": "code",
   "execution_count": null,
   "metadata": {
    "ExecuteTime": {
     "end_time": "2019-08-21T17:46:54.474318Z",
     "start_time": "2019-08-21T17:46:54.175949Z"
    },
    "collapsed": false
   },
   "outputs": [],
   "source": [
    "H = HOLE(PDB_HOLE, executable=\"~/hole2/exe/hole\")  # set path to your hole binary\n",
    "H.run()\n",
    "H.collect()\n",
    "H.plot(linewidth=3, color=\"black\", label=False)"
   ]
  },
  {
   "cell_type": "code",
   "execution_count": null,
   "metadata": {
    "ExecuteTime": {
     "end_time": "2019-08-21T17:55:29.915225Z",
     "start_time": "2019-08-21T17:55:29.911697Z"
    },
    "collapsed": false
   },
   "outputs": [],
   "source": [
    "H.min_radius()[0][-1]"
   ]
  },
  {
   "cell_type": "markdown",
   "metadata": {},
   "source": [
    "Docked model"
   ]
  },
  {
   "cell_type": "code",
   "execution_count": null,
   "metadata": {
    "ExecuteTime": {
     "end_time": "2019-08-21T17:57:24.594607Z",
     "start_time": "2019-08-21T17:57:24.591584Z"
    },
    "collapsed": true
   },
   "outputs": [],
   "source": [
    "wd = '/projects/s21/ba13026/Wza_Modeling/L-structures/rosetta/bg_test/md_relax/'"
   ]
  },
  {
   "cell_type": "code",
   "execution_count": null,
   "metadata": {
    "ExecuteTime": {
     "end_time": "2019-08-21T17:57:25.075846Z",
     "start_time": "2019-08-21T17:57:25.072346Z"
    },
    "collapsed": false
   },
   "outputs": [],
   "source": [
    "mutant = 'cWza-K375C'\n",
    "C = 'conformation0'\n",
    "model_dir = mutant+'/'+C \n",
    "model_name = 'refined1_0001_INPUT_0900_ignorechain'\n",
    "model_pdb = wd +model_dir+'/'+model_name+'/'+model_name+'.pdb'"
   ]
  },
  {
   "cell_type": "code",
   "execution_count": null,
   "metadata": {
    "ExecuteTime": {
     "end_time": "2019-08-21T17:58:08.006015Z",
     "start_time": "2019-08-21T17:58:03.371703Z"
    },
    "collapsed": false
   },
   "outputs": [],
   "source": [
    "H = HOLE(model_pdb, executable=\"~/hole2/exe/hole\")  # set path to your hole binary\n",
    "H.run()\n",
    "H.collect()\n",
    "H.plot(linewidth=3, color=\"black\", label=False)"
   ]
  },
  {
   "cell_type": "code",
   "execution_count": null,
   "metadata": {
    "ExecuteTime": {
     "end_time": "2019-08-21T17:58:42.123582Z",
     "start_time": "2019-08-21T17:58:42.119928Z"
    },
    "collapsed": false
   },
   "outputs": [],
   "source": [
    "H.min_radius()[0][-1]"
   ]
  },
  {
   "cell_type": "markdown",
   "metadata": {},
   "source": [
    "## MD trajectory"
   ]
  },
  {
   "cell_type": "markdown",
   "metadata": {},
   "source": [
    "Test model"
   ]
  },
  {
   "cell_type": "code",
   "execution_count": null,
   "metadata": {
    "collapsed": true
   },
   "outputs": [],
   "source": [
    "import MDAnalysis as mda\n",
    "from MDAnalysis.analysis.hole import HOLEtraj\n",
    "from MDAnalysis.tests.datafiles import MULTIPDB_HOLE\n",
    "\n",
    "u = mda.Universe(MULTIPDB_HOLE)\n",
    "H = HOLEtraj(u, executable=\"~/hole2/exe/hole\")\n",
    "H.run()\n",
    "H.plot3D()"
   ]
  },
  {
   "cell_type": "markdown",
   "metadata": {},
   "source": [
    "Docked model"
   ]
  },
  {
   "cell_type": "code",
   "execution_count": null,
   "metadata": {
    "ExecuteTime": {
     "end_time": "2019-08-21T18:01:09.634376Z",
     "start_time": "2019-08-21T18:01:09.632160Z"
    },
    "collapsed": true
   },
   "outputs": [],
   "source": [
    "import MDAnalysis as mda"
   ]
  },
  {
   "cell_type": "code",
   "execution_count": null,
   "metadata": {
    "ExecuteTime": {
     "end_time": "2019-08-21T18:01:10.778247Z",
     "start_time": "2019-08-21T18:01:10.773783Z"
    },
    "collapsed": true
   },
   "outputs": [],
   "source": [
    "mutant = 'cWza-K375C'\n",
    "C = 'conformation0'\n",
    "model_dir = mutant+'/'+C \n",
    "model_name = 'refined1_0001_INPUT_0900_ignorechain'\n",
    "\n",
    "name = \"md_100ns\"\n",
    "tpr_path = wd + model_dir+ '/' +model_name+'/complex/mdf/'+ name + \".tpr\"\n",
    "xtc_path = wd + model_dir+ '/' +model_name+'/complex/mdf/'+ name + \".xtc\""
   ]
  },
  {
   "cell_type": "code",
   "execution_count": null,
   "metadata": {
    "ExecuteTime": {
     "end_time": "2019-08-21T18:01:21.464814Z",
     "start_time": "2019-08-21T18:01:11.511256Z"
    },
    "collapsed": false
   },
   "outputs": [],
   "source": [
    "u = mda.Universe(tpr_path, xtc_path, in_memory=True)"
   ]
  },
  {
   "cell_type": "markdown",
   "metadata": {},
   "source": [
    "<span style=\"color:red\">Execution: 30 mins</span>"
   ]
  },
  {
   "cell_type": "code",
   "execution_count": null,
   "metadata": {
    "ExecuteTime": {
     "end_time": "2019-08-21T18:29:47.230110Z",
     "start_time": "2019-08-21T18:01:50.641962Z"
    },
    "collapsed": false
   },
   "outputs": [],
   "source": [
    "import MDAnalysis as mda\n",
    "from MDAnalysis.analysis.hole import HOLEtraj\n",
    "# from MDAnalysis.tests.datafiles import MULTIPDB_HOLE\n",
    "\n",
    "# u = mda.Universe(MULTIPDB_HOLE)\n",
    "H = HOLEtraj(u, executable=\"~/hole2/exe/hole\")\n",
    "H.run()\n",
    "H.plot3D()"
   ]
  },
  {
   "cell_type": "code",
   "execution_count": null,
   "metadata": {
    "ExecuteTime": {
     "end_time": "2019-08-22T10:12:16.954786Z",
     "start_time": "2019-08-22T10:12:16.934109Z"
    },
    "collapsed": false
   },
   "outputs": [],
   "source": [
    "x = H.min_radius()"
   ]
  },
  {
   "cell_type": "code",
   "execution_count": null,
   "metadata": {
    "ExecuteTime": {
     "end_time": "2019-08-22T10:12:43.718132Z",
     "start_time": "2019-08-22T10:12:43.715976Z"
    },
    "collapsed": true
   },
   "outputs": [],
   "source": [
    "import numpy"
   ]
  },
  {
   "cell_type": "code",
   "execution_count": null,
   "metadata": {
    "ExecuteTime": {
     "end_time": "2019-08-22T10:14:14.634530Z",
     "start_time": "2019-08-22T10:14:14.464125Z"
    },
    "collapsed": false
   },
   "outputs": [],
   "source": [
    "import matplotlib.pyplot as plt\n",
    "\n",
    "plt.plot(numpy.array(x).T[-1])\n",
    "plt.show()"
   ]
  },
  {
   "cell_type": "markdown",
   "metadata": {},
   "source": [
    "## Alternative Implementation"
   ]
  },
  {
   "cell_type": "markdown",
   "metadata": {},
   "source": [
    "### Proof of concept"
   ]
  },
  {
   "cell_type": "markdown",
   "metadata": {},
   "source": [
    "Single PDB"
   ]
  },
  {
   "cell_type": "code",
   "execution_count": null,
   "metadata": {
    "ExecuteTime": {
     "end_time": "2019-08-22T13:54:33.312176Z",
     "start_time": "2019-08-22T13:54:33.303336Z"
    },
    "collapsed": true
   },
   "outputs": [],
   "source": [
    "import MDAnalysis as mda\n",
    "\n",
    "def get_HOLE_Rmin(model_pdb):\n",
    "    u = mda.Universe(model_pdb)\n",
    "    protein = u.select_atoms(\"protein\")\n",
    "    H = HOLE(model_pdb, executable=\"~/hole2/exe/hole\")  # set path to your hole binary\n",
    "    H.run()\n",
    "    H.collect()\n",
    "    return H.min_radius()[0][-1]\n",
    "    try:\n",
    "        u.close()\n",
    "    except:\n",
    "        pass"
   ]
  },
  {
   "cell_type": "code",
   "execution_count": null,
   "metadata": {
    "ExecuteTime": {
     "end_time": "2019-08-22T13:45:43.606255Z",
     "start_time": "2019-08-22T13:45:43.602867Z"
    },
    "collapsed": true
   },
   "outputs": [],
   "source": [
    "mutant = 'cWza-K375C'\n",
    "C = 'conformation0'\n",
    "model_dir = mutant+'/'+C \n",
    "model_name = 'refined1_0001_INPUT_0900_ignorechain'\n",
    "model_pdb = wd +model_dir+'/'+model_name+'/'+model_name+'.pdb'"
   ]
  },
  {
   "cell_type": "code",
   "execution_count": null,
   "metadata": {
    "ExecuteTime": {
     "end_time": "2019-08-22T14:10:05.145000Z",
     "start_time": "2019-08-22T14:10:05.140941Z"
    },
    "collapsed": false
   },
   "outputs": [],
   "source": [
    "model_pdb"
   ]
  },
  {
   "cell_type": "code",
   "execution_count": null,
   "metadata": {
    "ExecuteTime": {
     "end_time": "2019-08-22T14:09:44.643309Z",
     "start_time": "2019-08-22T14:09:39.785212Z"
    },
    "collapsed": false
   },
   "outputs": [],
   "source": [
    "model_Rmin = get_HOLE_Rmin(model_pdb)"
   ]
  },
  {
   "cell_type": "code",
   "execution_count": null,
   "metadata": {
    "ExecuteTime": {
     "end_time": "2019-08-22T14:06:33.677415Z",
     "start_time": "2019-08-22T14:06:25.079270Z"
    },
    "collapsed": false
   },
   "outputs": [],
   "source": [
    "import sys\n",
    "sys.path.append('/home/ba13026/mpmodeling/')\n",
    "\n",
    "from analyse_HOLE import hole"
   ]
  },
  {
   "cell_type": "code",
   "execution_count": null,
   "metadata": {
    "ExecuteTime": {
     "end_time": "2019-08-22T14:09:35.218470Z",
     "start_time": "2019-08-22T14:09:35.080170Z"
    },
    "collapsed": false
   },
   "outputs": [],
   "source": [
    "HOLE_data = hole(model_pdb)"
   ]
  },
  {
   "cell_type": "markdown",
   "metadata": {},
   "source": [
    "<span style=\"color:red\">ISSUE</span>: \n",
    "* Need to create soft link to PDB to avoid HOLE from crashing due to long path name.\n",
    "* `MDAnalysis` already implements this solution."
   ]
  },
  {
   "cell_type": "markdown",
   "metadata": {},
   "source": [
    "Multiple frames, parallel implementation"
   ]
  },
  {
   "cell_type": "code",
   "execution_count": null,
   "metadata": {
    "ExecuteTime": {
     "end_time": "2019-08-22T13:45:51.678983Z",
     "start_time": "2019-08-22T13:45:51.676425Z"
    },
    "collapsed": true
   },
   "outputs": [],
   "source": [
    "path0 = wd+\"cWza/conformation0/refined1_0001_INPUT_0908_ignorechain/complex/mdf/md_100ns/\""
   ]
  },
  {
   "cell_type": "code",
   "execution_count": null,
   "metadata": {
    "ExecuteTime": {
     "end_time": "2019-08-22T13:54:41.825941Z",
     "start_time": "2019-08-22T13:54:41.823504Z"
    },
    "collapsed": true
   },
   "outputs": [],
   "source": [
    "func = get_HOLE_Rmin"
   ]
  },
  {
   "cell_type": "code",
   "execution_count": null,
   "metadata": {
    "ExecuteTime": {
     "end_time": "2019-08-22T13:54:42.511006Z",
     "start_time": "2019-08-22T13:54:42.507746Z"
    },
    "collapsed": true
   },
   "outputs": [],
   "source": [
    "param_list = []\n",
    "for i in range(100):\n",
    "    model_pdb = path0+'Protein_'+str(i)+'.pdb'\n",
    "    param_list.append(model_pdb)"
   ]
  },
  {
   "cell_type": "markdown",
   "metadata": {},
   "source": [
    "**Serial**"
   ]
  },
  {
   "cell_type": "code",
   "execution_count": null,
   "metadata": {
    "ExecuteTime": {
     "end_time": "2019-08-22T14:15:55.178854Z",
     "start_time": "2019-08-22T14:15:43.882836Z"
    },
    "collapsed": false
   },
   "outputs": [],
   "source": [
    "for i in range(3):\n",
    "    model_pdb = param_list[i]\n",
    "    R_min = func(model_pdb)\n",
    "    print(R_min)"
   ]
  },
  {
   "cell_type": "markdown",
   "metadata": {},
   "source": [
    "**Parallel**"
   ]
  },
  {
   "cell_type": "code",
   "execution_count": null,
   "metadata": {
    "ExecuteTime": {
     "end_time": "2019-08-22T14:15:26.725406Z",
     "start_time": "2019-08-22T14:15:21.603383Z"
    },
    "collapsed": false
   },
   "outputs": [],
   "source": [
    "import concurrent.futures     \n",
    "n_threads = 2\n",
    "\n",
    "data = []\n",
    "\n",
    "with concurrent.futures.ProcessPoolExecutor(max_workers = n_threads) as executor:\n",
    "    out = executor.map(func, param_list[:3])\n",
    "    data.append(out)"
   ]
  },
  {
   "cell_type": "code",
   "execution_count": null,
   "metadata": {
    "ExecuteTime": {
     "end_time": "2019-08-22T14:15:28.220812Z",
     "start_time": "2019-08-22T14:15:28.202225Z"
    },
    "collapsed": false
   },
   "outputs": [],
   "source": [
    "list(data[0])"
   ]
  },
  {
   "cell_type": "code",
   "execution_count": null,
   "metadata": {
    "ExecuteTime": {
     "end_time": "2019-08-22T13:33:34.675862Z",
     "start_time": "2019-08-22T13:33:34.659143Z"
    },
    "collapsed": false
   },
   "outputs": [],
   "source": [
    "output = list(data[0])"
   ]
  },
  {
   "cell_type": "markdown",
   "metadata": {},
   "source": [
    "# Metrics"
   ]
  },
  {
   "cell_type": "code",
   "execution_count": 1,
   "metadata": {
    "ExecuteTime": {
     "end_time": "2019-08-22T14:34:46.998206Z",
     "start_time": "2019-08-22T14:34:46.988086Z"
    },
    "collapsed": true
   },
   "outputs": [],
   "source": [
    "import os\n",
    "import numpy \n",
    "import isambard_dev\n",
    "import pandas\n",
    "import seaborn\n",
    "import MDAnalysis as mda\n",
    "import matplotlib.pyplot as plt\n",
    "from mpl_toolkits.mplot3d import Axes3D  \n",
    "%matplotlib notebook"
   ]
  },
  {
   "cell_type": "code",
   "execution_count": 2,
   "metadata": {
    "ExecuteTime": {
     "end_time": "2019-08-22T14:34:46.998206Z",
     "start_time": "2019-08-22T14:34:46.988086Z"
    },
    "collapsed": true
   },
   "outputs": [],
   "source": [
    "def get_Rg_components(model_pdb):\n",
    "    u = mda.Universe(model_pdb)\n",
    "    protein = u.select_atoms(\"protein\")\n",
    "    protein_mass = numpy.sum(protein.masses)\n",
    "    protein_inertia = protein.moment_of_inertia() # tensor of inertia\n",
    "    f = lambda x : numpy.sqrt(x/float(protein_mass))\n",
    "    protein_Rg_n = [f(protein_inertia[i][i]) for i in range(3)]\n",
    "    Rg_x, Rg_y, Rg_z = protein_Rg_n\n",
    "    return Rg_x, Rg_y, Rg_z\n",
    "    try:\n",
    "        u.close()\n",
    "    except:\n",
    "        pass"
   ]
  },
  {
   "cell_type": "code",
   "execution_count": 4,
   "metadata": {
    "ExecuteTime": {
     "end_time": "2019-08-22T14:35:14.916066Z",
     "start_time": "2019-08-22T14:35:14.913290Z"
    },
    "collapsed": true
   },
   "outputs": [],
   "source": [
    "wd = '/projects/s21/ba13026/Wza_Modeling/L-structures/rosetta/bg_test/md_relax/'"
   ]
  },
  {
   "cell_type": "markdown",
   "metadata": {
    "ExecuteTime": {
     "end_time": "2019-08-22T14:31:46.162760Z",
     "start_time": "2019-08-22T14:31:46.158951Z"
    }
   },
   "source": [
    "## Radius of gyration decomposition"
   ]
  },
  {
   "cell_type": "markdown",
   "metadata": {},
   "source": [
    "## Docked structures: All conformation classified models"
   ]
  },
  {
   "cell_type": "markdown",
   "metadata": {},
   "source": [
    "**STANDARD LAYOUT**"
   ]
  },
  {
   "cell_type": "code",
   "execution_count": null,
   "metadata": {
    "ExecuteTime": {
     "start_time": "2019-08-22T17:19:14.958Z"
    },
    "collapsed": false
   },
   "outputs": [],
   "source": [
    "MUTANTS = ['cWza','cWza-K375C','cWza-S355C','cWza-Y373C']\n",
    "\n",
    "CONFORMATIONS = {\n",
    "    'cWza':['conformation0', 'conformation1'],\n",
    "    'cWza-K375C':['conformation0', 'conformation1'],\n",
    "    'cWza-S355C':['conformation0', 'conformation1'],\n",
    "    'cWza-Y373C':['conformation1'],\n",
    "}\n",
    "\n",
    "fig, ax = plt.subplots(2,2,figsize=(14,12))\n",
    "seaborn.set_style('darkgrid')\n",
    "\n",
    "axes = {\n",
    "    'cWza':ax[0,0],\n",
    "    'cWza-K375C':ax[0,1],\n",
    "    'cWza-S355C':ax[1,0],\n",
    "    'cWza-Y373C':ax[1,1]\n",
    "}\n",
    "\n",
    "CMAPS = {\n",
    "    'conformation0':'Blues',\n",
    "    'conformation1':'Greens'\n",
    "}\n",
    "\n",
    "for i in range(len(MUTANTS)):\n",
    "    mutant = MUTANTS[i]\n",
    "    for C in CONFORMATIONS[mutant]:\n",
    "        X = []\n",
    "        Z = []\n",
    "        mutant_dir = mutant+'/'+C \n",
    "        for model_dir in [mutant_dir+'/'+model for model in os.listdir(wd+mutant_dir)]:\n",
    "            model_name = model_dir.split('/')[-1]\n",
    "            model_pdb = wd+'/'+model_dir+'/'+model_name+'.pdb'\n",
    "            Rg_x, Rg_y, Rg_z = get_Rg_components(model_pdb)\n",
    "            X.append(Rg_x)\n",
    "            Z.append(Rg_z)\n",
    "        seaborn.kdeplot(X,Z,n_levels=20,cmap=CMAPS[C],ax=axes[mutant])\n",
    "    ###############################################                            \n",
    "    # Customise plot\n",
    "    ###############################################\n",
    "    axes[mutant].set_title(\"Docked \"+mutant+\": Whole Conformational Group\", fontsize=28)\n",
    "    axes[mutant].tick_params(axis='both',direction='in',labelsize=20)\n",
    "    axes[mutant].set_xlabel(\"$R_g$\",fontsize=25)\n",
    "    axes[mutant].set_ylabel(\"$R_g$\",fontsize=25)\n",
    "\n",
    "plt.tight_layout()\n",
    "plt.show()"
   ]
  },
  {
   "cell_type": "markdown",
   "metadata": {},
   "source": [
    "**CUSTOMISED LAYOUT**"
   ]
  },
  {
   "cell_type": "code",
   "execution_count": null,
   "metadata": {
    "collapsed": true
   },
   "outputs": [],
   "source": [
    "import random\n",
    "import pandas as pd\n",
    "import numpy\n",
    "from scipy.stats import gaussian_kde\n",
    "from scipy import ndimage as ndi\n",
    "from skimage.feature import peak_local_max\n",
    "from shapely.geometry.polygon import Polygon\n",
    "from shapely.ops import cascaded_union\n",
    "import matplotlib.pyplot as plt\n",
    "%matplotlib notebook"
   ]
  },
  {
   "cell_type": "code",
   "execution_count": null,
   "metadata": {
    "collapsed": true
   },
   "outputs": [],
   "source": [
    "def density_estimation(m1,m2):\n",
    "    \"\"\"Estimated data density from a contour map according to a Gaussian Kernel\"\"\"\n",
    "    xmin=min(m1)\n",
    "    xmax=max(m1)\n",
    "    ymin=min(m2)\n",
    "    ymax=max(m2)\n",
    "    X, Y = numpy.mgrid[xmin:xmax:400j, ymin:ymax:400j]                                                     \n",
    "    positions = numpy.vstack([X.ravel(), Y.ravel()])                                                       \n",
    "    values = numpy.vstack([m1, m2])                                                                        \n",
    "    kernel = gaussian_kde(values)                                                                 \n",
    "    Z = numpy.reshape(kernel(positions).T, X.shape)\n",
    "    return X,Y,Z\n",
    "\n",
    "def find_maxima(X1,X2):\n",
    "    \"\"\"Return the coordinates of the peaks of data density from a contour map\"\"\"\n",
    "    X,Y,Z = list(density_estimation(X1,X2))\n",
    "    # Find and filtre peaks by minimum pixel distance and fraction height glob-max\n",
    "    coordinates = peak_local_max(Z, threshold_rel=0.5, min_distance=20)\n",
    "    maxima = []\n",
    "    for k in range(len(coordinates)):\n",
    "        idx_0,idx_1 = coordinates[k]\n",
    "        x_max, y_max = X[idx_0][0], Y[idx_0][idx_1]\n",
    "        maxima.append((x_max, y_max))\n",
    "    \n",
    "    return maxima\n",
    "\n",
    "def find_boundary_coords(contour_plot):\n",
    "    \"\"\"Return the coordinates of the boundary of the union of all closed contour lines\"\"\"\n",
    "    polygons_list = []\n",
    "    for l in range(len(contour_plot.allsegs)):\n",
    "        prob = contour_plot.levels[l]\n",
    "        for k in range(len(contour_plot.allsegs[l])):\n",
    "            contour_plot_coords = contour_plot.allsegs[l][k]\n",
    "            polygons_list.append(Polygon(contour_plot_coords))\n",
    "\n",
    "    polygons_union = cascaded_union(polygons_list)\n",
    "    polygons_union_boundary = numpy.array(list(polygons_union.boundary.coords)).T\n",
    "    contour_plot_boundary = polygons_union_boundary\n",
    "    \n",
    "    return contour_plot_boundary"
   ]
  },
  {
   "cell_type": "code",
   "execution_count": null,
   "metadata": {
    "collapsed": true
   },
   "outputs": [],
   "source": [
    "fig, ax = plt.subplots(1,1)\n",
    "\n",
    "Colours = ['blue','green','red']\n",
    "for i in range(len(DATA)):\n",
    "    XY = DATA[i]\n",
    "    X1,X2 = XY[0],XY[1]\n",
    "    Xc,Yc,Zc = list( density_estimation(X1,X2) )\n",
    "    contour_plot = ax.contour(Xc,Yc,Zc,20,colors='k',alpha=0.05)\n",
    "    contour_plot_boundary = find_boundary_coords(contour_plot)  \n",
    "\n",
    "    ax.fill(*contour_plot_boundary,color=Colours[i],alpha=0.2,zorder=0)\n",
    "\n",
    "    for maximum in find_maxima(X1, X2):\n",
    "        x,y = maximum\n",
    "        ax.scatter(x,y,color=Colours[i],zorder=1)\n",
    "\n",
    "ax.set_title(\"Overlapping Transparent Contour Plots\")\n",
    "ax.set_xlabel(\"X\")\n",
    "ax.set_ylabel(\"Y\")\n",
    "\n",
    "plt.show()"
   ]
  },
  {
   "cell_type": "markdown",
   "metadata": {},
   "source": [
    "## Docked structures: Sample conformation classified models"
   ]
  },
  {
   "cell_type": "code",
   "execution_count": 6,
   "metadata": {
    "ExecuteTime": {
     "end_time": "2019-08-22T14:37:36.610173Z",
     "start_time": "2019-08-22T14:37:36.604497Z"
    },
    "collapsed": true
   },
   "outputs": [],
   "source": [
    "import json\n",
    "\n",
    "with open(wd+'EMMD_Sample.json','r') as fp:\n",
    "    Sample = json.load(fp)"
   ]
  },
  {
   "cell_type": "code",
   "execution_count": 7,
   "metadata": {
    "ExecuteTime": {
     "end_time": "2019-08-22T14:37:53.280368Z",
     "start_time": "2019-08-22T14:37:38.152435Z"
    },
    "collapsed": false
   },
   "outputs": [
    {
     "data": {
      "application/javascript": [
       "/* Put everything inside the global mpl namespace */\n",
       "window.mpl = {};\n",
       "\n",
       "mpl.get_websocket_type = function() {\n",
       "    if (typeof(WebSocket) !== 'undefined') {\n",
       "        return WebSocket;\n",
       "    } else if (typeof(MozWebSocket) !== 'undefined') {\n",
       "        return MozWebSocket;\n",
       "    } else {\n",
       "        alert('Your browser does not have WebSocket support.' +\n",
       "              'Please try Chrome, Safari or Firefox ≥ 6. ' +\n",
       "              'Firefox 4 and 5 are also supported but you ' +\n",
       "              'have to enable WebSockets in about:config.');\n",
       "    };\n",
       "}\n",
       "\n",
       "mpl.figure = function(figure_id, websocket, ondownload, parent_element) {\n",
       "    this.id = figure_id;\n",
       "\n",
       "    this.ws = websocket;\n",
       "\n",
       "    this.supports_binary = (this.ws.binaryType != undefined);\n",
       "\n",
       "    if (!this.supports_binary) {\n",
       "        var warnings = document.getElementById(\"mpl-warnings\");\n",
       "        if (warnings) {\n",
       "            warnings.style.display = 'block';\n",
       "            warnings.textContent = (\n",
       "                \"This browser does not support binary websocket messages. \" +\n",
       "                    \"Performance may be slow.\");\n",
       "        }\n",
       "    }\n",
       "\n",
       "    this.imageObj = new Image();\n",
       "\n",
       "    this.context = undefined;\n",
       "    this.message = undefined;\n",
       "    this.canvas = undefined;\n",
       "    this.rubberband_canvas = undefined;\n",
       "    this.rubberband_context = undefined;\n",
       "    this.format_dropdown = undefined;\n",
       "\n",
       "    this.image_mode = 'full';\n",
       "\n",
       "    this.root = $('<div/>');\n",
       "    this._root_extra_style(this.root)\n",
       "    this.root.attr('style', 'display: inline-block');\n",
       "\n",
       "    $(parent_element).append(this.root);\n",
       "\n",
       "    this._init_header(this);\n",
       "    this._init_canvas(this);\n",
       "    this._init_toolbar(this);\n",
       "\n",
       "    var fig = this;\n",
       "\n",
       "    this.waiting = false;\n",
       "\n",
       "    this.ws.onopen =  function () {\n",
       "            fig.send_message(\"supports_binary\", {value: fig.supports_binary});\n",
       "            fig.send_message(\"send_image_mode\", {});\n",
       "            fig.send_message(\"refresh\", {});\n",
       "        }\n",
       "\n",
       "    this.imageObj.onload = function() {\n",
       "            if (fig.image_mode == 'full') {\n",
       "                // Full images could contain transparency (where diff images\n",
       "                // almost always do), so we need to clear the canvas so that\n",
       "                // there is no ghosting.\n",
       "                fig.context.clearRect(0, 0, fig.canvas.width, fig.canvas.height);\n",
       "            }\n",
       "            fig.context.drawImage(fig.imageObj, 0, 0);\n",
       "        };\n",
       "\n",
       "    this.imageObj.onunload = function() {\n",
       "        this.ws.close();\n",
       "    }\n",
       "\n",
       "    this.ws.onmessage = this._make_on_message_function(this);\n",
       "\n",
       "    this.ondownload = ondownload;\n",
       "}\n",
       "\n",
       "mpl.figure.prototype._init_header = function() {\n",
       "    var titlebar = $(\n",
       "        '<div class=\"ui-dialog-titlebar ui-widget-header ui-corner-all ' +\n",
       "        'ui-helper-clearfix\"/>');\n",
       "    var titletext = $(\n",
       "        '<div class=\"ui-dialog-title\" style=\"width: 100%; ' +\n",
       "        'text-align: center; padding: 3px;\"/>');\n",
       "    titlebar.append(titletext)\n",
       "    this.root.append(titlebar);\n",
       "    this.header = titletext[0];\n",
       "}\n",
       "\n",
       "\n",
       "\n",
       "mpl.figure.prototype._canvas_extra_style = function(canvas_div) {\n",
       "\n",
       "}\n",
       "\n",
       "\n",
       "mpl.figure.prototype._root_extra_style = function(canvas_div) {\n",
       "\n",
       "}\n",
       "\n",
       "mpl.figure.prototype._init_canvas = function() {\n",
       "    var fig = this;\n",
       "\n",
       "    var canvas_div = $('<div/>');\n",
       "\n",
       "    canvas_div.attr('style', 'position: relative; clear: both; outline: 0');\n",
       "\n",
       "    function canvas_keyboard_event(event) {\n",
       "        return fig.key_event(event, event['data']);\n",
       "    }\n",
       "\n",
       "    canvas_div.keydown('key_press', canvas_keyboard_event);\n",
       "    canvas_div.keyup('key_release', canvas_keyboard_event);\n",
       "    this.canvas_div = canvas_div\n",
       "    this._canvas_extra_style(canvas_div)\n",
       "    this.root.append(canvas_div);\n",
       "\n",
       "    var canvas = $('<canvas/>');\n",
       "    canvas.addClass('mpl-canvas');\n",
       "    canvas.attr('style', \"left: 0; top: 0; z-index: 0; outline: 0\")\n",
       "\n",
       "    this.canvas = canvas[0];\n",
       "    this.context = canvas[0].getContext(\"2d\");\n",
       "\n",
       "    var rubberband = $('<canvas/>');\n",
       "    rubberband.attr('style', \"position: absolute; left: 0; top: 0; z-index: 1;\")\n",
       "\n",
       "    var pass_mouse_events = true;\n",
       "\n",
       "    canvas_div.resizable({\n",
       "        start: function(event, ui) {\n",
       "            pass_mouse_events = false;\n",
       "        },\n",
       "        resize: function(event, ui) {\n",
       "            fig.request_resize(ui.size.width, ui.size.height);\n",
       "        },\n",
       "        stop: function(event, ui) {\n",
       "            pass_mouse_events = true;\n",
       "            fig.request_resize(ui.size.width, ui.size.height);\n",
       "        },\n",
       "    });\n",
       "\n",
       "    function mouse_event_fn(event) {\n",
       "        if (pass_mouse_events)\n",
       "            return fig.mouse_event(event, event['data']);\n",
       "    }\n",
       "\n",
       "    rubberband.mousedown('button_press', mouse_event_fn);\n",
       "    rubberband.mouseup('button_release', mouse_event_fn);\n",
       "    // Throttle sequential mouse events to 1 every 20ms.\n",
       "    rubberband.mousemove('motion_notify', mouse_event_fn);\n",
       "\n",
       "    rubberband.mouseenter('figure_enter', mouse_event_fn);\n",
       "    rubberband.mouseleave('figure_leave', mouse_event_fn);\n",
       "\n",
       "    canvas_div.on(\"wheel\", function (event) {\n",
       "        event = event.originalEvent;\n",
       "        event['data'] = 'scroll'\n",
       "        if (event.deltaY < 0) {\n",
       "            event.step = 1;\n",
       "        } else {\n",
       "            event.step = -1;\n",
       "        }\n",
       "        mouse_event_fn(event);\n",
       "    });\n",
       "\n",
       "    canvas_div.append(canvas);\n",
       "    canvas_div.append(rubberband);\n",
       "\n",
       "    this.rubberband = rubberband;\n",
       "    this.rubberband_canvas = rubberband[0];\n",
       "    this.rubberband_context = rubberband[0].getContext(\"2d\");\n",
       "    this.rubberband_context.strokeStyle = \"#000000\";\n",
       "\n",
       "    this._resize_canvas = function(width, height) {\n",
       "        // Keep the size of the canvas, canvas container, and rubber band\n",
       "        // canvas in synch.\n",
       "        canvas_div.css('width', width)\n",
       "        canvas_div.css('height', height)\n",
       "\n",
       "        canvas.attr('width', width);\n",
       "        canvas.attr('height', height);\n",
       "\n",
       "        rubberband.attr('width', width);\n",
       "        rubberband.attr('height', height);\n",
       "    }\n",
       "\n",
       "    // Set the figure to an initial 600x600px, this will subsequently be updated\n",
       "    // upon first draw.\n",
       "    this._resize_canvas(600, 600);\n",
       "\n",
       "    // Disable right mouse context menu.\n",
       "    $(this.rubberband_canvas).bind(\"contextmenu\",function(e){\n",
       "        return false;\n",
       "    });\n",
       "\n",
       "    function set_focus () {\n",
       "        canvas.focus();\n",
       "        canvas_div.focus();\n",
       "    }\n",
       "\n",
       "    window.setTimeout(set_focus, 100);\n",
       "}\n",
       "\n",
       "mpl.figure.prototype._init_toolbar = function() {\n",
       "    var fig = this;\n",
       "\n",
       "    var nav_element = $('<div/>')\n",
       "    nav_element.attr('style', 'width: 100%');\n",
       "    this.root.append(nav_element);\n",
       "\n",
       "    // Define a callback function for later on.\n",
       "    function toolbar_event(event) {\n",
       "        return fig.toolbar_button_onclick(event['data']);\n",
       "    }\n",
       "    function toolbar_mouse_event(event) {\n",
       "        return fig.toolbar_button_onmouseover(event['data']);\n",
       "    }\n",
       "\n",
       "    for(var toolbar_ind in mpl.toolbar_items) {\n",
       "        var name = mpl.toolbar_items[toolbar_ind][0];\n",
       "        var tooltip = mpl.toolbar_items[toolbar_ind][1];\n",
       "        var image = mpl.toolbar_items[toolbar_ind][2];\n",
       "        var method_name = mpl.toolbar_items[toolbar_ind][3];\n",
       "\n",
       "        if (!name) {\n",
       "            // put a spacer in here.\n",
       "            continue;\n",
       "        }\n",
       "        var button = $('<button/>');\n",
       "        button.addClass('ui-button ui-widget ui-state-default ui-corner-all ' +\n",
       "                        'ui-button-icon-only');\n",
       "        button.attr('role', 'button');\n",
       "        button.attr('aria-disabled', 'false');\n",
       "        button.click(method_name, toolbar_event);\n",
       "        button.mouseover(tooltip, toolbar_mouse_event);\n",
       "\n",
       "        var icon_img = $('<span/>');\n",
       "        icon_img.addClass('ui-button-icon-primary ui-icon');\n",
       "        icon_img.addClass(image);\n",
       "        icon_img.addClass('ui-corner-all');\n",
       "\n",
       "        var tooltip_span = $('<span/>');\n",
       "        tooltip_span.addClass('ui-button-text');\n",
       "        tooltip_span.html(tooltip);\n",
       "\n",
       "        button.append(icon_img);\n",
       "        button.append(tooltip_span);\n",
       "\n",
       "        nav_element.append(button);\n",
       "    }\n",
       "\n",
       "    var fmt_picker_span = $('<span/>');\n",
       "\n",
       "    var fmt_picker = $('<select/>');\n",
       "    fmt_picker.addClass('mpl-toolbar-option ui-widget ui-widget-content');\n",
       "    fmt_picker_span.append(fmt_picker);\n",
       "    nav_element.append(fmt_picker_span);\n",
       "    this.format_dropdown = fmt_picker[0];\n",
       "\n",
       "    for (var ind in mpl.extensions) {\n",
       "        var fmt = mpl.extensions[ind];\n",
       "        var option = $(\n",
       "            '<option/>', {selected: fmt === mpl.default_extension}).html(fmt);\n",
       "        fmt_picker.append(option)\n",
       "    }\n",
       "\n",
       "    // Add hover states to the ui-buttons\n",
       "    $( \".ui-button\" ).hover(\n",
       "        function() { $(this).addClass(\"ui-state-hover\");},\n",
       "        function() { $(this).removeClass(\"ui-state-hover\");}\n",
       "    );\n",
       "\n",
       "    var status_bar = $('<span class=\"mpl-message\"/>');\n",
       "    nav_element.append(status_bar);\n",
       "    this.message = status_bar[0];\n",
       "}\n",
       "\n",
       "mpl.figure.prototype.request_resize = function(x_pixels, y_pixels) {\n",
       "    // Request matplotlib to resize the figure. Matplotlib will then trigger a resize in the client,\n",
       "    // which will in turn request a refresh of the image.\n",
       "    this.send_message('resize', {'width': x_pixels, 'height': y_pixels});\n",
       "}\n",
       "\n",
       "mpl.figure.prototype.send_message = function(type, properties) {\n",
       "    properties['type'] = type;\n",
       "    properties['figure_id'] = this.id;\n",
       "    this.ws.send(JSON.stringify(properties));\n",
       "}\n",
       "\n",
       "mpl.figure.prototype.send_draw_message = function() {\n",
       "    if (!this.waiting) {\n",
       "        this.waiting = true;\n",
       "        this.ws.send(JSON.stringify({type: \"draw\", figure_id: this.id}));\n",
       "    }\n",
       "}\n",
       "\n",
       "\n",
       "mpl.figure.prototype.handle_save = function(fig, msg) {\n",
       "    var format_dropdown = fig.format_dropdown;\n",
       "    var format = format_dropdown.options[format_dropdown.selectedIndex].value;\n",
       "    fig.ondownload(fig, format);\n",
       "}\n",
       "\n",
       "\n",
       "mpl.figure.prototype.handle_resize = function(fig, msg) {\n",
       "    var size = msg['size'];\n",
       "    if (size[0] != fig.canvas.width || size[1] != fig.canvas.height) {\n",
       "        fig._resize_canvas(size[0], size[1]);\n",
       "        fig.send_message(\"refresh\", {});\n",
       "    };\n",
       "}\n",
       "\n",
       "mpl.figure.prototype.handle_rubberband = function(fig, msg) {\n",
       "    var x0 = msg['x0'];\n",
       "    var y0 = fig.canvas.height - msg['y0'];\n",
       "    var x1 = msg['x1'];\n",
       "    var y1 = fig.canvas.height - msg['y1'];\n",
       "    x0 = Math.floor(x0) + 0.5;\n",
       "    y0 = Math.floor(y0) + 0.5;\n",
       "    x1 = Math.floor(x1) + 0.5;\n",
       "    y1 = Math.floor(y1) + 0.5;\n",
       "    var min_x = Math.min(x0, x1);\n",
       "    var min_y = Math.min(y0, y1);\n",
       "    var width = Math.abs(x1 - x0);\n",
       "    var height = Math.abs(y1 - y0);\n",
       "\n",
       "    fig.rubberband_context.clearRect(\n",
       "        0, 0, fig.canvas.width, fig.canvas.height);\n",
       "\n",
       "    fig.rubberband_context.strokeRect(min_x, min_y, width, height);\n",
       "}\n",
       "\n",
       "mpl.figure.prototype.handle_figure_label = function(fig, msg) {\n",
       "    // Updates the figure title.\n",
       "    fig.header.textContent = msg['label'];\n",
       "}\n",
       "\n",
       "mpl.figure.prototype.handle_cursor = function(fig, msg) {\n",
       "    var cursor = msg['cursor'];\n",
       "    switch(cursor)\n",
       "    {\n",
       "    case 0:\n",
       "        cursor = 'pointer';\n",
       "        break;\n",
       "    case 1:\n",
       "        cursor = 'default';\n",
       "        break;\n",
       "    case 2:\n",
       "        cursor = 'crosshair';\n",
       "        break;\n",
       "    case 3:\n",
       "        cursor = 'move';\n",
       "        break;\n",
       "    }\n",
       "    fig.rubberband_canvas.style.cursor = cursor;\n",
       "}\n",
       "\n",
       "mpl.figure.prototype.handle_message = function(fig, msg) {\n",
       "    fig.message.textContent = msg['message'];\n",
       "}\n",
       "\n",
       "mpl.figure.prototype.handle_draw = function(fig, msg) {\n",
       "    // Request the server to send over a new figure.\n",
       "    fig.send_draw_message();\n",
       "}\n",
       "\n",
       "mpl.figure.prototype.handle_image_mode = function(fig, msg) {\n",
       "    fig.image_mode = msg['mode'];\n",
       "}\n",
       "\n",
       "mpl.figure.prototype.updated_canvas_event = function() {\n",
       "    // Called whenever the canvas gets updated.\n",
       "    this.send_message(\"ack\", {});\n",
       "}\n",
       "\n",
       "// A function to construct a web socket function for onmessage handling.\n",
       "// Called in the figure constructor.\n",
       "mpl.figure.prototype._make_on_message_function = function(fig) {\n",
       "    return function socket_on_message(evt) {\n",
       "        if (evt.data instanceof Blob) {\n",
       "            /* FIXME: We get \"Resource interpreted as Image but\n",
       "             * transferred with MIME type text/plain:\" errors on\n",
       "             * Chrome.  But how to set the MIME type?  It doesn't seem\n",
       "             * to be part of the websocket stream */\n",
       "            evt.data.type = \"image/png\";\n",
       "\n",
       "            /* Free the memory for the previous frames */\n",
       "            if (fig.imageObj.src) {\n",
       "                (window.URL || window.webkitURL).revokeObjectURL(\n",
       "                    fig.imageObj.src);\n",
       "            }\n",
       "\n",
       "            fig.imageObj.src = (window.URL || window.webkitURL).createObjectURL(\n",
       "                evt.data);\n",
       "            fig.updated_canvas_event();\n",
       "            fig.waiting = false;\n",
       "            return;\n",
       "        }\n",
       "        else if (typeof evt.data === 'string' && evt.data.slice(0, 21) == \"data:image/png;base64\") {\n",
       "            fig.imageObj.src = evt.data;\n",
       "            fig.updated_canvas_event();\n",
       "            fig.waiting = false;\n",
       "            return;\n",
       "        }\n",
       "\n",
       "        var msg = JSON.parse(evt.data);\n",
       "        var msg_type = msg['type'];\n",
       "\n",
       "        // Call the  \"handle_{type}\" callback, which takes\n",
       "        // the figure and JSON message as its only arguments.\n",
       "        try {\n",
       "            var callback = fig[\"handle_\" + msg_type];\n",
       "        } catch (e) {\n",
       "            console.log(\"No handler for the '\" + msg_type + \"' message type: \", msg);\n",
       "            return;\n",
       "        }\n",
       "\n",
       "        if (callback) {\n",
       "            try {\n",
       "                // console.log(\"Handling '\" + msg_type + \"' message: \", msg);\n",
       "                callback(fig, msg);\n",
       "            } catch (e) {\n",
       "                console.log(\"Exception inside the 'handler_\" + msg_type + \"' callback:\", e, e.stack, msg);\n",
       "            }\n",
       "        }\n",
       "    };\n",
       "}\n",
       "\n",
       "// from http://stackoverflow.com/questions/1114465/getting-mouse-location-in-canvas\n",
       "mpl.findpos = function(e) {\n",
       "    //this section is from http://www.quirksmode.org/js/events_properties.html\n",
       "    var targ;\n",
       "    if (!e)\n",
       "        e = window.event;\n",
       "    if (e.target)\n",
       "        targ = e.target;\n",
       "    else if (e.srcElement)\n",
       "        targ = e.srcElement;\n",
       "    if (targ.nodeType == 3) // defeat Safari bug\n",
       "        targ = targ.parentNode;\n",
       "\n",
       "    // jQuery normalizes the pageX and pageY\n",
       "    // pageX,Y are the mouse positions relative to the document\n",
       "    // offset() returns the position of the element relative to the document\n",
       "    var x = e.pageX - $(targ).offset().left;\n",
       "    var y = e.pageY - $(targ).offset().top;\n",
       "\n",
       "    return {\"x\": x, \"y\": y};\n",
       "};\n",
       "\n",
       "/*\n",
       " * return a copy of an object with only non-object keys\n",
       " * we need this to avoid circular references\n",
       " * http://stackoverflow.com/a/24161582/3208463\n",
       " */\n",
       "function simpleKeys (original) {\n",
       "  return Object.keys(original).reduce(function (obj, key) {\n",
       "    if (typeof original[key] !== 'object')\n",
       "        obj[key] = original[key]\n",
       "    return obj;\n",
       "  }, {});\n",
       "}\n",
       "\n",
       "mpl.figure.prototype.mouse_event = function(event, name) {\n",
       "    var canvas_pos = mpl.findpos(event)\n",
       "\n",
       "    if (name === 'button_press')\n",
       "    {\n",
       "        this.canvas.focus();\n",
       "        this.canvas_div.focus();\n",
       "    }\n",
       "\n",
       "    var x = canvas_pos.x;\n",
       "    var y = canvas_pos.y;\n",
       "\n",
       "    this.send_message(name, {x: x, y: y, button: event.button,\n",
       "                             step: event.step,\n",
       "                             guiEvent: simpleKeys(event)});\n",
       "\n",
       "    /* This prevents the web browser from automatically changing to\n",
       "     * the text insertion cursor when the button is pressed.  We want\n",
       "     * to control all of the cursor setting manually through the\n",
       "     * 'cursor' event from matplotlib */\n",
       "    event.preventDefault();\n",
       "    return false;\n",
       "}\n",
       "\n",
       "mpl.figure.prototype._key_event_extra = function(event, name) {\n",
       "    // Handle any extra behaviour associated with a key event\n",
       "}\n",
       "\n",
       "mpl.figure.prototype.key_event = function(event, name) {\n",
       "\n",
       "    // Prevent repeat events\n",
       "    if (name == 'key_press')\n",
       "    {\n",
       "        if (event.which === this._key)\n",
       "            return;\n",
       "        else\n",
       "            this._key = event.which;\n",
       "    }\n",
       "    if (name == 'key_release')\n",
       "        this._key = null;\n",
       "\n",
       "    var value = '';\n",
       "    if (event.ctrlKey && event.which != 17)\n",
       "        value += \"ctrl+\";\n",
       "    if (event.altKey && event.which != 18)\n",
       "        value += \"alt+\";\n",
       "    if (event.shiftKey && event.which != 16)\n",
       "        value += \"shift+\";\n",
       "\n",
       "    value += 'k';\n",
       "    value += event.which.toString();\n",
       "\n",
       "    this._key_event_extra(event, name);\n",
       "\n",
       "    this.send_message(name, {key: value,\n",
       "                             guiEvent: simpleKeys(event)});\n",
       "    return false;\n",
       "}\n",
       "\n",
       "mpl.figure.prototype.toolbar_button_onclick = function(name) {\n",
       "    if (name == 'download') {\n",
       "        this.handle_save(this, null);\n",
       "    } else {\n",
       "        this.send_message(\"toolbar_button\", {name: name});\n",
       "    }\n",
       "};\n",
       "\n",
       "mpl.figure.prototype.toolbar_button_onmouseover = function(tooltip) {\n",
       "    this.message.textContent = tooltip;\n",
       "};\n",
       "mpl.toolbar_items = [[\"Home\", \"Reset original view\", \"fa fa-home icon-home\", \"home\"], [\"Back\", \"Back to  previous view\", \"fa fa-arrow-left icon-arrow-left\", \"back\"], [\"Forward\", \"Forward to next view\", \"fa fa-arrow-right icon-arrow-right\", \"forward\"], [\"\", \"\", \"\", \"\"], [\"Pan\", \"Pan axes with left mouse, zoom with right\", \"fa fa-arrows icon-move\", \"pan\"], [\"Zoom\", \"Zoom to rectangle\", \"fa fa-square-o icon-check-empty\", \"zoom\"], [\"\", \"\", \"\", \"\"], [\"Download\", \"Download plot\", \"fa fa-floppy-o icon-save\", \"download\"]];\n",
       "\n",
       "mpl.extensions = [\"eps\", \"pdf\", \"png\", \"ps\", \"raw\", \"svg\"];\n",
       "\n",
       "mpl.default_extension = \"png\";var comm_websocket_adapter = function(comm) {\n",
       "    // Create a \"websocket\"-like object which calls the given IPython comm\n",
       "    // object with the appropriate methods. Currently this is a non binary\n",
       "    // socket, so there is still some room for performance tuning.\n",
       "    var ws = {};\n",
       "\n",
       "    ws.close = function() {\n",
       "        comm.close()\n",
       "    };\n",
       "    ws.send = function(m) {\n",
       "        //console.log('sending', m);\n",
       "        comm.send(m);\n",
       "    };\n",
       "    // Register the callback with on_msg.\n",
       "    comm.on_msg(function(msg) {\n",
       "        //console.log('receiving', msg['content']['data'], msg);\n",
       "        // Pass the mpl event to the overriden (by mpl) onmessage function.\n",
       "        ws.onmessage(msg['content']['data'])\n",
       "    });\n",
       "    return ws;\n",
       "}\n",
       "\n",
       "mpl.mpl_figure_comm = function(comm, msg) {\n",
       "    // This is the function which gets called when the mpl process\n",
       "    // starts-up an IPython Comm through the \"matplotlib\" channel.\n",
       "\n",
       "    var id = msg.content.data.id;\n",
       "    // Get hold of the div created by the display call when the Comm\n",
       "    // socket was opened in Python.\n",
       "    var element = $(\"#\" + id);\n",
       "    var ws_proxy = comm_websocket_adapter(comm)\n",
       "\n",
       "    function ondownload(figure, format) {\n",
       "        window.open(figure.imageObj.src);\n",
       "    }\n",
       "\n",
       "    var fig = new mpl.figure(id, ws_proxy,\n",
       "                           ondownload,\n",
       "                           element.get(0));\n",
       "\n",
       "    // Call onopen now - mpl needs it, as it is assuming we've passed it a real\n",
       "    // web socket which is closed, not our websocket->open comm proxy.\n",
       "    ws_proxy.onopen();\n",
       "\n",
       "    fig.parent_element = element.get(0);\n",
       "    fig.cell_info = mpl.find_output_cell(\"<div id='\" + id + \"'></div>\");\n",
       "    if (!fig.cell_info) {\n",
       "        console.error(\"Failed to find cell for figure\", id, fig);\n",
       "        return;\n",
       "    }\n",
       "\n",
       "    var output_index = fig.cell_info[2]\n",
       "    var cell = fig.cell_info[0];\n",
       "\n",
       "};\n",
       "\n",
       "mpl.figure.prototype.handle_close = function(fig, msg) {\n",
       "    fig.root.unbind('remove')\n",
       "\n",
       "    // Update the output cell to use the data from the current canvas.\n",
       "    fig.push_to_output();\n",
       "    var dataURL = fig.canvas.toDataURL();\n",
       "    // Re-enable the keyboard manager in IPython - without this line, in FF,\n",
       "    // the notebook keyboard shortcuts fail.\n",
       "    IPython.keyboard_manager.enable()\n",
       "    $(fig.parent_element).html('<img src=\"' + dataURL + '\">');\n",
       "    fig.close_ws(fig, msg);\n",
       "}\n",
       "\n",
       "mpl.figure.prototype.close_ws = function(fig, msg){\n",
       "    fig.send_message('closing', msg);\n",
       "    // fig.ws.close()\n",
       "}\n",
       "\n",
       "mpl.figure.prototype.push_to_output = function(remove_interactive) {\n",
       "    // Turn the data on the canvas into data in the output cell.\n",
       "    var dataURL = this.canvas.toDataURL();\n",
       "    this.cell_info[1]['text/html'] = '<img src=\"' + dataURL + '\">';\n",
       "}\n",
       "\n",
       "mpl.figure.prototype.updated_canvas_event = function() {\n",
       "    // Tell IPython that the notebook contents must change.\n",
       "    IPython.notebook.set_dirty(true);\n",
       "    this.send_message(\"ack\", {});\n",
       "    var fig = this;\n",
       "    // Wait a second, then push the new image to the DOM so\n",
       "    // that it is saved nicely (might be nice to debounce this).\n",
       "    setTimeout(function () { fig.push_to_output() }, 1000);\n",
       "}\n",
       "\n",
       "mpl.figure.prototype._init_toolbar = function() {\n",
       "    var fig = this;\n",
       "\n",
       "    var nav_element = $('<div/>')\n",
       "    nav_element.attr('style', 'width: 100%');\n",
       "    this.root.append(nav_element);\n",
       "\n",
       "    // Define a callback function for later on.\n",
       "    function toolbar_event(event) {\n",
       "        return fig.toolbar_button_onclick(event['data']);\n",
       "    }\n",
       "    function toolbar_mouse_event(event) {\n",
       "        return fig.toolbar_button_onmouseover(event['data']);\n",
       "    }\n",
       "\n",
       "    for(var toolbar_ind in mpl.toolbar_items){\n",
       "        var name = mpl.toolbar_items[toolbar_ind][0];\n",
       "        var tooltip = mpl.toolbar_items[toolbar_ind][1];\n",
       "        var image = mpl.toolbar_items[toolbar_ind][2];\n",
       "        var method_name = mpl.toolbar_items[toolbar_ind][3];\n",
       "\n",
       "        if (!name) { continue; };\n",
       "\n",
       "        var button = $('<button class=\"btn btn-default\" href=\"#\" title=\"' + name + '\"><i class=\"fa ' + image + ' fa-lg\"></i></button>');\n",
       "        button.click(method_name, toolbar_event);\n",
       "        button.mouseover(tooltip, toolbar_mouse_event);\n",
       "        nav_element.append(button);\n",
       "    }\n",
       "\n",
       "    // Add the status bar.\n",
       "    var status_bar = $('<span class=\"mpl-message\" style=\"text-align:right; float: right;\"/>');\n",
       "    nav_element.append(status_bar);\n",
       "    this.message = status_bar[0];\n",
       "\n",
       "    // Add the close button to the window.\n",
       "    var buttongrp = $('<div class=\"btn-group inline pull-right\"></div>');\n",
       "    var button = $('<button class=\"btn btn-mini btn-primary\" href=\"#\" title=\"Stop Interaction\"><i class=\"fa fa-power-off icon-remove icon-large\"></i></button>');\n",
       "    button.click(function (evt) { fig.handle_close(fig, {}); } );\n",
       "    button.mouseover('Stop Interaction', toolbar_mouse_event);\n",
       "    buttongrp.append(button);\n",
       "    var titlebar = this.root.find($('.ui-dialog-titlebar'));\n",
       "    titlebar.prepend(buttongrp);\n",
       "}\n",
       "\n",
       "mpl.figure.prototype._root_extra_style = function(el){\n",
       "    var fig = this\n",
       "    el.on(\"remove\", function(){\n",
       "\tfig.close_ws(fig, {});\n",
       "    });\n",
       "}\n",
       "\n",
       "mpl.figure.prototype._canvas_extra_style = function(el){\n",
       "    // this is important to make the div 'focusable\n",
       "    el.attr('tabindex', 0)\n",
       "    // reach out to IPython and tell the keyboard manager to turn it's self\n",
       "    // off when our div gets focus\n",
       "\n",
       "    // location in version 3\n",
       "    if (IPython.notebook.keyboard_manager) {\n",
       "        IPython.notebook.keyboard_manager.register_events(el);\n",
       "    }\n",
       "    else {\n",
       "        // location in version 2\n",
       "        IPython.keyboard_manager.register_events(el);\n",
       "    }\n",
       "\n",
       "}\n",
       "\n",
       "mpl.figure.prototype._key_event_extra = function(event, name) {\n",
       "    var manager = IPython.notebook.keyboard_manager;\n",
       "    if (!manager)\n",
       "        manager = IPython.keyboard_manager;\n",
       "\n",
       "    // Check for shift+enter\n",
       "    if (event.shiftKey && event.which == 13) {\n",
       "        this.canvas_div.blur();\n",
       "        event.shiftKey = false;\n",
       "        // Send a \"J\" for go to next cell\n",
       "        event.which = 74;\n",
       "        event.keyCode = 74;\n",
       "        manager.command_mode();\n",
       "        manager.handle_keydown(event);\n",
       "    }\n",
       "}\n",
       "\n",
       "mpl.figure.prototype.handle_save = function(fig, msg) {\n",
       "    fig.ondownload(fig, null);\n",
       "}\n",
       "\n",
       "\n",
       "mpl.find_output_cell = function(html_output) {\n",
       "    // Return the cell and output element which can be found *uniquely* in the notebook.\n",
       "    // Note - this is a bit hacky, but it is done because the \"notebook_saving.Notebook\"\n",
       "    // IPython event is triggered only after the cells have been serialised, which for\n",
       "    // our purposes (turning an active figure into a static one), is too late.\n",
       "    var cells = IPython.notebook.get_cells();\n",
       "    var ncells = cells.length;\n",
       "    for (var i=0; i<ncells; i++) {\n",
       "        var cell = cells[i];\n",
       "        if (cell.cell_type === 'code'){\n",
       "            for (var j=0; j<cell.output_area.outputs.length; j++) {\n",
       "                var data = cell.output_area.outputs[j];\n",
       "                if (data.data) {\n",
       "                    // IPython >= 3 moved mimebundle to data attribute of output\n",
       "                    data = data.data;\n",
       "                }\n",
       "                if (data['text/html'] == html_output) {\n",
       "                    return [cell, data, j];\n",
       "                }\n",
       "            }\n",
       "        }\n",
       "    }\n",
       "}\n",
       "\n",
       "// Register the function which deals with the matplotlib target/channel.\n",
       "// The kernel may be null if the page has been refreshed.\n",
       "if (IPython.notebook.kernel != null) {\n",
       "    IPython.notebook.kernel.comm_manager.register_target('matplotlib', mpl.mpl_figure_comm);\n",
       "}\n"
      ],
      "text/plain": [
       "<IPython.core.display.Javascript object>"
      ]
     },
     "metadata": {},
     "output_type": "display_data"
    },
    {
     "data": {
      "text/html": [
       "<img src=\"data:image/png;base64,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\">"
      ],
      "text/plain": [
       "<IPython.core.display.HTML object>"
      ]
     },
     "metadata": {},
     "output_type": "display_data"
    }
   ],
   "source": [
    "MyTags  = [\n",
    "    ['cWza', 'conformation0'],\n",
    "    ['cWza', 'conformation1'],\n",
    "    ['cWza-K375C', 'conformation0'],\n",
    "    ['cWza-K375C', 'conformation1'],\n",
    "    ['cWza-S355C', 'conformation0'],\n",
    "    ['cWza-S355C', 'conformation1'],\n",
    "    ['cWza-Y373C', 'conformation1']\n",
    "]\n",
    "\n",
    "CONFORMATIONS = {\n",
    "    'cWza':['conformation0', 'conformation1'],\n",
    "    'cWza-K375C':['conformation0', 'conformation1'],\n",
    "    'cWza-S355C':['conformation0', 'conformation1'],\n",
    "    'cWza-Y373C':['conformation1'],\n",
    "}\n",
    "\n",
    "fig, ax = plt.subplots(2,2,figsize=(10,10))\n",
    "seaborn.set_style('darkgrid')\n",
    "\n",
    "axes = {\n",
    "    'cWza':ax[0,0],\n",
    "    'cWza-K375C':ax[0,1],\n",
    "    'cWza-S355C':ax[1,0],\n",
    "    'cWza-Y373C':ax[1,1]\n",
    "}\n",
    "\n",
    "CMAPS = {\n",
    "    'conformation0':'Blues',\n",
    "    'conformation1':'Greens'\n",
    "}\n",
    "\n",
    "for tag in MyTags:\n",
    "    mutant, C = tag\n",
    "    X = []; Z = []\n",
    "    for i in range(len(Sample)):\n",
    "        model_dir = Sample[i]\n",
    "        mutant_sample, C_sample, model_name = model_dir.split('/')\n",
    "        comparison = [mutant_sample, C_sample] == tag\n",
    "        if comparison:\n",
    "            model_pdb = wd+model_dir+'/'+model_name+'.pdb'\n",
    "            Rg_x, Rg_y, Rg_z = get_Rg_components(model_pdb)\n",
    "            X.append(Rg_x)\n",
    "            Z.append(Rg_z)\n",
    "    seaborn.kdeplot(X,Z,n_levels=20,cmap=CMAPS[C],ax=axes[mutant])\n",
    "\n",
    "plt.show()"
   ]
  },
  {
   "cell_type": "markdown",
   "metadata": {},
   "source": [
    "## MD Protein frames: Sample classified models"
   ]
  },
  {
   "cell_type": "markdown",
   "metadata": {},
   "source": [
    "### Generate Protein frames for all Sample MD trajectories"
   ]
  },
  {
   "cell_type": "markdown",
   "metadata": {},
   "source": [
    "NOTES:\n",
    "\n",
    "* Had to modify time length of trajectory to analyse (`0-100000 # (=100ns) ps`)\n",
    "* Also, modified timestep of frames for extraction (`dt=100 # ps`)"
   ]
  },
  {
   "cell_type": "markdown",
   "metadata": {},
   "source": [
    "**FIRST**: Remove old frames folder and back-up files\n",
    "\n",
    "```bash\n",
    "cat EMMD_Sample.txt | awk '{system(\"rm -r \"$1\"/complex/mdf/md_100ns\")}'                               \n",
    "\n",
    "cat EMMD_Sample.txt | awk '{system(\"rm -r \"$1\"/complex/mdf/md_100ns/#Protein*\")}'\n",
    "```"
   ]
  },
  {
   "cell_type": "markdown",
   "metadata": {},
   "source": [
    "**SECOND**: Re-do frame extraction for increase sampling \n",
    "```bash\n",
    "nohup python parallel_protein_extraction_urmd.py 20 EMMD_Sample.json > parallel_protein_extraction_urmd.out &\n",
    "```"
   ]
  },
  {
   "cell_type": "markdown",
   "metadata": {},
   "source": [
    "### Extract Radius of Gyration for frames"
   ]
  },
  {
   "cell_type": "code",
   "execution_count": 16,
   "metadata": {
    "ExecuteTime": {
     "end_time": "2019-08-22T14:44:36.231339Z",
     "start_time": "2019-08-22T14:44:36.219038Z"
    },
    "collapsed": false
   },
   "outputs": [
    {
     "ename": "NameError",
     "evalue": "name 'path0' is not defined",
     "output_type": "error",
     "traceback": [
      "\u001b[0;31m---------------------------------------------------------------------------\u001b[0m",
      "\u001b[0;31mNameError\u001b[0m                                 Traceback (most recent call last)",
      "\u001b[0;32m<ipython-input-16-91a1de15a941>\u001b[0m in \u001b[0;36m<module>\u001b[0;34m()\u001b[0m\n\u001b[1;32m      3\u001b[0m \u001b[0mparam_list\u001b[0m \u001b[0;34m=\u001b[0m \u001b[0;34m[\u001b[0m\u001b[0;34m]\u001b[0m\u001b[0;34m\u001b[0m\u001b[0m\n\u001b[1;32m      4\u001b[0m \u001b[0;32mfor\u001b[0m \u001b[0mi\u001b[0m \u001b[0;32min\u001b[0m \u001b[0mrange\u001b[0m\u001b[0;34m(\u001b[0m\u001b[0;36m100\u001b[0m\u001b[0;34m)\u001b[0m\u001b[0;34m:\u001b[0m\u001b[0;34m\u001b[0m\u001b[0m\n\u001b[0;32m----> 5\u001b[0;31m     \u001b[0mmodel_pdb\u001b[0m \u001b[0;34m=\u001b[0m \u001b[0mpath0\u001b[0m\u001b[0;34m+\u001b[0m\u001b[0;34m'Protein_'\u001b[0m\u001b[0;34m+\u001b[0m\u001b[0mstr\u001b[0m\u001b[0;34m(\u001b[0m\u001b[0mi\u001b[0m\u001b[0;34m)\u001b[0m\u001b[0;34m+\u001b[0m\u001b[0;34m'.pdb'\u001b[0m\u001b[0;34m\u001b[0m\u001b[0m\n\u001b[0m\u001b[1;32m      6\u001b[0m     \u001b[0mparam_list\u001b[0m\u001b[0;34m.\u001b[0m\u001b[0mappend\u001b[0m\u001b[0;34m(\u001b[0m\u001b[0mmodel_pdb\u001b[0m\u001b[0;34m)\u001b[0m\u001b[0;34m\u001b[0m\u001b[0m\n",
      "\u001b[0;31mNameError\u001b[0m: name 'path0' is not defined"
     ]
    }
   ],
   "source": [
    "func = get_Rg_components\n",
    "\n",
    "param_list = []\n",
    "for i in range(100):\n",
    "    model_pdb = path0+'Protein_'+str(i)+'.pdb'\n",
    "    param_list.append(model_pdb)"
   ]
  },
  {
   "cell_type": "code",
   "execution_count": null,
   "metadata": {
    "collapsed": true
   },
   "outputs": [],
   "source": [
    "import concurrent.futures     \n",
    "n_threads = 10\n",
    "\n",
    "data = []\n",
    "\n",
    "with concurrent.futures.ProcessPoolExecutor(max_workers = n_threads) as executor:\n",
    "    out = executor.map(func, param_list)\n",
    "    data.append(out)"
   ]
  },
  {
   "cell_type": "code",
   "execution_count": null,
   "metadata": {
    "collapsed": true
   },
   "outputs": [],
   "source": [
    "output = list(data[0])"
   ]
  },
  {
   "cell_type": "code",
   "execution_count": null,
   "metadata": {
    "collapsed": true
   },
   "outputs": [],
   "source": []
  },
  {
   "cell_type": "code",
   "execution_count": null,
   "metadata": {
    "collapsed": true
   },
   "outputs": [],
   "source": []
  },
  {
   "cell_type": "code",
   "execution_count": null,
   "metadata": {
    "collapsed": true
   },
   "outputs": [],
   "source": []
  },
  {
   "cell_type": "code",
   "execution_count": null,
   "metadata": {
    "collapsed": true
   },
   "outputs": [],
   "source": []
  },
  {
   "cell_type": "code",
   "execution_count": null,
   "metadata": {
    "collapsed": true
   },
   "outputs": [],
   "source": []
  },
  {
   "cell_type": "code",
   "execution_count": null,
   "metadata": {
    "collapsed": true
   },
   "outputs": [],
   "source": []
  },
  {
   "cell_type": "code",
   "execution_count": null,
   "metadata": {
    "collapsed": true
   },
   "outputs": [],
   "source": []
  },
  {
   "cell_type": "code",
   "execution_count": null,
   "metadata": {
    "collapsed": true
   },
   "outputs": [],
   "source": []
  },
  {
   "cell_type": "code",
   "execution_count": null,
   "metadata": {
    "collapsed": true
   },
   "outputs": [],
   "source": []
  },
  {
   "cell_type": "code",
   "execution_count": null,
   "metadata": {
    "collapsed": true
   },
   "outputs": [],
   "source": []
  },
  {
   "cell_type": "code",
   "execution_count": null,
   "metadata": {
    "collapsed": true
   },
   "outputs": [],
   "source": []
  },
  {
   "cell_type": "code",
   "execution_count": null,
   "metadata": {
    "collapsed": true
   },
   "outputs": [],
   "source": []
  }
 ],
 "metadata": {
  "kernelspec": {
   "display_name": "Python 3",
   "language": "python",
   "name": "python3"
  },
  "language_info": {
   "codemirror_mode": {
    "name": "ipython",
    "version": 3
   },
   "file_extension": ".py",
   "mimetype": "text/x-python",
   "name": "python",
   "nbconvert_exporter": "python",
   "pygments_lexer": "ipython3",
   "version": "3.5.6"
  },
  "toc": {
   "base_numbering": 1,
   "nav_menu": {},
   "number_sections": true,
   "sideBar": true,
   "skip_h1_title": false,
   "title_cell": "Table of Contents",
   "title_sidebar": "Contents",
   "toc_cell": false,
   "toc_position": {
    "height": "calc(100% - 180px)",
    "left": "10px",
    "top": "150px",
    "width": "333px"
   },
   "toc_section_display": true,
   "toc_window_display": true
  }
 },
 "nbformat": 4,
 "nbformat_minor": 2
}
