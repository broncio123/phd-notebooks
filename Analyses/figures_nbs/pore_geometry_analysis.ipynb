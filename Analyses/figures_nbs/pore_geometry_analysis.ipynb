{
 "cells": [
  {
   "cell_type": "markdown",
   "metadata": {},
   "source": [
    "# Notebook setup"
   ]
  },
  {
   "cell_type": "markdown",
   "metadata": {},
   "source": [
    "## Import basic libraries"
   ]
  },
  {
   "cell_type": "code",
   "execution_count": 1,
   "metadata": {
    "ExecuteTime": {
     "end_time": "2021-08-17T11:41:38.399016Z",
     "start_time": "2021-08-17T11:41:37.836263Z"
    }
   },
   "outputs": [],
   "source": [
    "import os\n",
    "import sys\n",
    "import numpy as np\n",
    "import json\n",
    "import subprocess\n",
    "import operator\n",
    "from operator import itemgetter\n",
    "import matplotlib.pyplot as plt\n",
    "import seaborn as sns\n",
    "import pandas as pd\n",
    "\n",
    "from sqlalchemy import create_engine\n",
    "from sqlalchemy.orm import sessionmaker\n",
    "from setup_geometry_interactions_db import \\\n",
    "    Json,Tags,RigidBody,RadialProfiles,Miscellaneous,Interhelix_Interactions, Base"
   ]
  },
  {
   "cell_type": "markdown",
   "metadata": {},
   "source": [
    "> _NOTE_ Make sure that you install `requirements.txt`"
   ]
  },
  {
   "cell_type": "markdown",
   "metadata": {},
   "source": [
    "## Initialise database session"
   ]
  },
  {
   "cell_type": "code",
   "execution_count": null,
   "metadata": {},
   "outputs": [],
   "source": [
    "folder = 'data'\n",
    "dbfile = 'mutants_docked_geometry-interactions.db' # database\n",
    "path   = os.path.join(folder, dbfile)"
   ]
  },
  {
   "cell_type": "code",
   "execution_count": 2,
   "metadata": {
    "ExecuteTime": {
     "end_time": "2021-08-17T11:41:38.880675Z",
     "start_time": "2021-08-17T11:41:38.848923Z"
    }
   },
   "outputs": [],
   "source": [
    "engine = create_engine('sqlite:///'+path)\n",
    "Base.metadata.bind = engine\n",
    "DBSession = sessionmaker()\n",
    "DBSession.bind = engine\n",
    "session = DBSession()"
   ]
  },
  {
   "cell_type": "markdown",
   "metadata": {},
   "source": [
    "# Pore geometry analysis"
   ]
  },
  {
   "cell_type": "markdown",
   "metadata": {},
   "source": [
    "Base function"
   ]
  },
  {
   "cell_type": "code",
   "execution_count": 3,
   "metadata": {
    "ExecuteTime": {
     "end_time": "2021-08-17T11:41:39.950624Z",
     "start_time": "2021-08-17T11:41:39.943237Z"
    }
   },
   "outputs": [],
   "source": [
    "def compute_radial_metrics(profile_Y, metric):\n",
    "    \"\"\"\n",
    "    Function to compute several metrics given a radial profile of a symmetric docking model.\n",
    "    \n",
    "    Parameters\n",
    "    ----------\n",
    "    profile_Y : ndarray, shape(n,)\n",
    "        radial profile.\n",
    "        \n",
    "    metric: string\n",
    "        metric name to be measured from given radial profile.\n",
    "    \n",
    "    Returns\n",
    "    -------\n",
    "        value (float) of selected metric\n",
    "    \"\"\"\n",
    "    if metric == 'length':\n",
    "        return max(profile_Y) - min(profile_Y)\n",
    "    \n",
    "    elif metric == 'mean':\n",
    "        return numpy.mean(profile_Y)\n",
    "    \n",
    "    elif metric == 'std':\n",
    "        return numpy.std(profile_Y)\n",
    "    \n",
    "    elif metric == 'cv':\n",
    "        return numpy.std(profile_Y)/numpy.mean(profile_Y)\n",
    "    \n",
    "    elif metric == 'min':\n",
    "        return min(profile_Y)\n",
    "    \n",
    "    elif metric == 'max':\n",
    "        return max(profile_Y)"
   ]
  },
  {
   "cell_type": "markdown",
   "metadata": {},
   "source": [
    "Measure all average _Euler angles_ and _profile metrics_ for all mutant models, from their primitive and vdW radial profiles."
   ]
  },
  {
   "cell_type": "code",
   "execution_count": 4,
   "metadata": {
    "ExecuteTime": {
     "end_time": "2021-08-17T11:41:40.998265Z",
     "start_time": "2021-08-17T11:41:40.996302Z"
    }
   },
   "outputs": [],
   "source": [
    "mutant_names = ['cWza','cWza-K375C','cWza-S355C','cWza-Y373C']"
   ]
  },
  {
   "cell_type": "code",
   "execution_count": 5,
   "metadata": {
    "ExecuteTime": {
     "end_time": "2021-08-17T11:41:51.743533Z",
     "start_time": "2021-08-17T11:41:41.651495Z"
    }
   },
   "outputs": [
    {
     "name": "stderr",
     "output_type": "stream",
     "text": [
      "/home/ba13026/anaconda3/lib/python3.7/site-packages/ipykernel_launcher.py:17: SAWarning: TypeDecorator Json() will not produce a cache key because the ``cache_ok`` flag is not set to True.  Set this flag to True if this type object's state is safe to use in a cache key, or False to disable this warning.\n",
      "/home/ba13026/anaconda3/lib/python3.7/site-packages/ipykernel_launcher.py:25: SAWarning: TypeDecorator Json() will not produce a cache key because the ``cache_ok`` flag is not set to True.  Set this flag to True if this type object's state is safe to use in a cache key, or False to disable this warning.\n",
      "/home/ba13026/anaconda3/lib/python3.7/site-packages/ipykernel_launcher.py:37: SAWarning: TypeDecorator Json() will not produce a cache key because the ``cache_ok`` flag is not set to True.  Set this flag to True if this type object's state is safe to use in a cache key, or False to disable this warning.\n"
     ]
    }
   ],
   "source": [
    "S_mutants = {} # dict for data storage\n",
    "metrics = ['length','mean','std','cv','min','max']\n",
    "\n",
    "for i in range(len(mutant_names)):\n",
    "    mutant = mutant_names[i]\n",
    "    S_mutants[mutant] = {} \n",
    "    group = 'None' # if model tagged\n",
    "    Theta = []; Psi = []; Phi = [] # Euler angles lists\n",
    "    \n",
    "    model_ids = [x[0] for x in session.query(Tags.id).filter_by(mutant = mutant)]\n",
    "    \n",
    "    # Create lists for radial metrics\n",
    "    for j in range(len(model_ids)):\n",
    "        id = model_ids[j]\n",
    "        \n",
    "        # Euler angles: mean values for all chains\n",
    "        euler_angles_all = session.query(RigidBody.euler_angles).filter_by(id = id).all()[0][0]\n",
    "        euler_angles = {\n",
    "            'tilt' : numpy.mean(euler_angles_all[0]),\n",
    "            'interchain' : numpy.mean(euler_angles_all[1]),\n",
    "            'facing' : numpy.mean(euler_angles_all[2])\n",
    "            }\n",
    "        \n",
    "        # Primitive profiles: radial and length metrics\n",
    "        primitive_profile = session.query(RadialProfiles.primitive).filter_by(id = id).all()[0][0]\n",
    "        X, Y = primitive_profile\n",
    "        primitive_R_metrics = {}\n",
    "        \n",
    "        for key in metrics:\n",
    "            if key != 'length':\n",
    "                S = Y # radial coordinates\n",
    "            else:\n",
    "                S = X # longitudinal coords\n",
    "            primitive_R_metrics[key] = compute_radial_metrics(S, key)\n",
    "        \n",
    "        # VdW profiles: radial and length metrics\n",
    "        vdw_profile = session.query(RadialProfiles.vdw_aa_lower).filter_by(id = id).all()[0][0]\n",
    "        X,Y = vdw_profile\n",
    "        vdw_R_metrics = {} \n",
    "        \n",
    "        for key in metrics:\n",
    "            if key != 'length':\n",
    "                S = Y\n",
    "            else:\n",
    "                S = X\n",
    "            vdw_R_metrics[key] = compute_radial_metrics(S,key)\n",
    "            \n",
    "        # Overall data as single list\n",
    "        model_data = {\n",
    "            'euler angles': euler_angles,\n",
    "            'primitive metrics': primitive_R_metrics,\n",
    "            'vdw metrics': vdw_R_metrics\n",
    "        }\n",
    "        \n",
    "        # Assign data dict according to model ID\n",
    "        S_mutants[mutant][id] = model_data\n",
    "        "
   ]
  },
  {
   "cell_type": "markdown",
   "metadata": {},
   "source": [
    "Save data as JSON file. This file should accompany this Notebook by default. \n",
    "\n",
    "```python\n",
    "folder = 'data'\n",
    "filename = 'mutants_docked_geometry-interactions_post-processed.json'\n",
    "path   = os.path.join(folder, filename)\n",
    "\n",
    "with open(path, 'w') as fp:\n",
    "    json.dump(S_mutants, fp)\n",
    "```"
   ]
  },
  {
   "cell_type": "markdown",
   "metadata": {},
   "source": [
    "Load data from JSON file using \n",
    "\n",
    "```python\n",
    "folder = 'data'\n",
    "filename = 'mutants_docked_geometry-interactions_post-processed.json'\n",
    "path   = os.path.join(folder, filename)\n",
    "\n",
    "with open(file, 'r') as fp:\n",
    "    data = json.load(fp)\n",
    "```"
   ]
  }
 ],
 "metadata": {
  "kernelspec": {
   "display_name": "Python 3",
   "language": "python",
   "name": "python3"
  },
  "language_info": {
   "codemirror_mode": {
    "name": "ipython",
    "version": 3
   },
   "file_extension": ".py",
   "mimetype": "text/x-python",
   "name": "python",
   "nbconvert_exporter": "python",
   "pygments_lexer": "ipython3",
   "version": "3.7.10"
  },
  "toc": {
   "base_numbering": 1,
   "nav_menu": {},
   "number_sections": true,
   "sideBar": true,
   "skip_h1_title": false,
   "title_cell": "Table of Contents",
   "title_sidebar": "Contents",
   "toc_cell": false,
   "toc_position": {
    "height": "calc(100% - 180px)",
    "left": "10px",
    "top": "150px",
    "width": "338px"
   },
   "toc_section_display": true,
   "toc_window_display": true
  }
 },
 "nbformat": 4,
 "nbformat_minor": 2
}
